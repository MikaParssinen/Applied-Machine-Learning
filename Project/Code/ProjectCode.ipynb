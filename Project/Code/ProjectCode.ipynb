{
 "cells": [
  {
   "cell_type": "markdown",
   "source": [
    "# DVA263 project"
   ],
   "metadata": {
    "id": "Iz1_HZ5_QpML"
   },
   "id": "Iz1_HZ5_QpML"
  },
  {
   "cell_type": "markdown",
   "source": [
    "# Libraries\n",
    "\n",
    "Declaring all libraries in use"
   ],
   "metadata": {
    "id": "glwLHuRHxHOg"
   },
   "id": "glwLHuRHxHOg"
  },
  {
   "cell_type": "code",
   "source": [
    "from matplotlib import pyplot as plt\n",
    "from tensorflow.keras.models import Sequential\n",
    "from tensorflow.keras.layers import Conv2D, MaxPooling2D, Flatten, Dense, Dropout\n",
    "from tensorflow.keras.utils import to_categorical\n",
    "from tensorflow.keras.optimizers import Adam\n",
    "from tensorflow.keras.regularizers import L2\n",
    "import os\n",
    "import cnn as cnn\n",
    "import preprocessing as pre\n",
    "import visualization as vis\n",
    "import numpy as np\n",
    "import matplotlib.pyplot as plt\n",
    "import tensorflow as tf\n",
    "import seaborn as sns\n",
    "\n",
    "from Project.Code.preprocessing import convert_to_numpy\n",
    "\n"
   ],
   "metadata": {
    "id": "3D3Svn8oxksw",
    "ExecuteTime": {
     "end_time": "2025-01-20T15:11:43.352672Z",
     "start_time": "2025-01-20T15:11:22.575912Z"
    }
   },
   "id": "3D3Svn8oxksw",
   "outputs": [],
   "execution_count": 1
  },
  {
   "cell_type": "markdown",
   "source": [
    "# Load Dataset"
   ],
   "metadata": {
    "id": "fBAFQo5H0FdD"
   },
   "id": "fBAFQo5H0FdD"
  },
  {
   "cell_type": "code",
   "source": [
    "def load_cnn():\n",
    "    \"\"\"Load the datasets for the CNN input\"\"\"\n",
    "    CNN_train = \"../dataset/CNN_Input/train/\"\n",
    "    CNN_test = \"../dataset/CNN_Input/test/\"\n",
    "    CNN_train = pre.import_images(CNN_train, (150,150),batch_size=16, dataset=True)\n",
    "    CNN_test = pre.import_images(CNN_test, (150,150), batch_size=16,  dataset=True)\n",
    "    return CNN_train, CNN_test"
   ],
   "metadata": {
    "id": "P9EcdLxk0MJT",
    "ExecuteTime": {
     "end_time": "2025-01-20T15:11:43.357492Z",
     "start_time": "2025-01-20T15:11:43.354284Z"
    }
   },
   "id": "P9EcdLxk0MJT",
   "outputs": [],
   "execution_count": 2
  },
  {
   "metadata": {
    "ExecuteTime": {
     "end_time": "2025-01-20T15:11:43.362510Z",
     "start_time": "2025-01-20T15:11:43.358347Z"
    }
   },
   "cell_type": "code",
   "source": [
    "def load(image_size):\n",
    "    train_path = \"../dataset/Project/train/\"\n",
    "    test_path = \"../dataset/Project/test/\"\n",
    "\n",
    "    CNN_train = pre.import_images(train_path, image_size, dataset=True)\n",
    "    ALL_test = pre.import_images(test_path, image_size, dataset=True)\n",
    "    \n",
    "    print(ALL_test)\n",
    "    y_test, X_test = convert_to_numpy(ALL_test)\n",
    "    return y_test, X_test"
   ],
   "id": "83999e1ee463a4f6",
   "outputs": [],
   "execution_count": 3
  },
  {
   "metadata": {
    "ExecuteTime": {
     "end_time": "2025-01-20T15:11:43.929419Z",
     "start_time": "2025-01-20T15:11:43.363440Z"
    }
   },
   "cell_type": "code",
   "source": [
    "image_size = (152, 152)\n",
    "\n",
    "y_test, X_test = load(image_size)\n",
    "\n",
    "print(y_test.shape)\n",
    "print(X_test.shape)\n",
    "\n",
    "#for label in y_test: \n",
    "    #print(label)"
   ],
   "id": "bda632306a173272",
   "outputs": [
    {
     "name": "stdout",
     "output_type": "stream",
     "text": [
      "Found 259 files belonging to 4 classes.\n",
      "Found 33 files belonging to 4 classes.\n",
      "<_PrefetchDataset element_spec=(TensorSpec(shape=(152, 152, 3), dtype=tf.float32, name=None), TensorSpec(shape=(4,), dtype=tf.float32, name=None))>\n",
      "(132,)\n",
      "(5016, 152, 3)\n"
     ]
    },
    {
     "name": "stderr",
     "output_type": "stream",
     "text": [
      "2025-01-20 16:11:43.924635: I tensorflow/core/framework/local_rendezvous.cc:405] Local rendezvous is aborting with status: OUT_OF_RANGE: End of sequence\n"
     ]
    }
   ],
   "execution_count": 4
  },
  {
   "cell_type": "markdown",
   "source": [
    "# Prepare Data"
   ],
   "metadata": {
    "id": "C7JZMmJc1Y4q"
   },
   "id": "C7JZMmJc1Y4q"
  },
  {
   "cell_type": "code",
   "source": [
    "def prep_cnn(cnn_train, cnn_test):\n",
    "    \"\"\"Add noise images to train and test set and normalize\"\"\"\n",
    "    g_noisy_train_data = cnn_train.map(pre.add_gaussian_noise)\n",
    "    snp_noisy_train_data = cnn_train.map(pre.add_salt_and_pepper_noise)\n",
    "    combined_train_data = cnn_train.concatenate(g_noisy_train_data).concatenate(snp_noisy_train_data)\n",
    "\n",
    "    percentage_noisy_images = 0.2\n",
    "    total_test_images = len(CNN_test) * 16  # Total images in test data\n",
    "    num_noisy_images = int(total_test_images * percentage_noisy_images)\n",
    "\n",
    "    g_noisy_test_data = cnn_test.take(num_noisy_images).map(pre.add_gaussian_noise)\n",
    "    snp_noisy_test_data = cnn_test.take(num_noisy_images).map(pre.add_salt_and_pepper_noise)\n",
    "    remaining_test_data = cnn_test.skip(num_noisy_images)\n",
    "\n",
    "    combined_test_data = g_noisy_test_data.concatenate(remaining_test_data)\n",
    "    combined_test_data = combined_test_data.concatenate(snp_noisy_test_data)\n",
    "\n",
    "    test_data_norm, train_data_norm = pre.normalize_dataset(combined_train_data, combined_test_data)\n",
    "    return train_data_norm, test_data_norm\n"
   ],
   "metadata": {
    "id": "C5oxNrJF1dzC",
    "ExecuteTime": {
     "end_time": "2025-01-20T15:11:43.935112Z",
     "start_time": "2025-01-20T15:11:43.930739Z"
    }
   },
   "id": "C5oxNrJF1dzC",
   "outputs": [],
   "execution_count": 5
  },
  {
   "cell_type": "markdown",
   "source": [
    "# Build and Compile Model"
   ],
   "metadata": {
    "id": "QxKIKd961t1a"
   },
   "id": "QxKIKd961t1a"
  },
  {
   "cell_type": "code",
   "source": [
    "def build_cnn():\n",
    "    model = cnn.build_cnn_model()\n",
    "    return model"
   ],
   "metadata": {
    "id": "1IJY7T_a100q",
    "ExecuteTime": {
     "end_time": "2025-01-20T15:11:43.939119Z",
     "start_time": "2025-01-20T15:11:43.936341Z"
    }
   },
   "id": "1IJY7T_a100q",
   "outputs": [],
   "execution_count": 6
  },
  {
   "cell_type": "markdown",
   "source": [
    "#  Train Model"
   ],
   "metadata": {
    "id": "h-BLAVMT19xB"
   },
   "id": "h-BLAVMT19xB"
  },
  {
   "cell_type": "code",
   "source": [
    "def train_cnn(model,cnn_train, cnn_test):\n",
    "    history = cnn.train_model(model, cnn_train, cnn_test)\n",
    "    return history"
   ],
   "metadata": {
    "id": "HKkxhb442AUZ",
    "ExecuteTime": {
     "end_time": "2025-01-20T15:11:43.943150Z",
     "start_time": "2025-01-20T15:11:43.940295Z"
    }
   },
   "id": "HKkxhb442AUZ",
   "outputs": [],
   "execution_count": 7
  },
  {
   "cell_type": "markdown",
   "source": [
    "# Putting everything together\n",
    "\n",
    "Main section putting each part together and running the classification task"
   ],
   "metadata": {
    "id": "nfCocLzz2ISR"
   },
   "id": "nfCocLzz2ISR"
  },
  {
   "cell_type": "code",
   "source": [
    "CNN_train, CNN_test = load_cnn()\n",
    "CNN_train, CNN_test = prep_cnn(CNN_train, CNN_test)\n",
    "\n",
    "CNN_model = build_cnn()\n",
    "CNN_history = train_cnn(CNN_model, CNN_train, CNN_test)\n",
    "CNN_model.predict(CNN_test)\n"
   ],
   "metadata": {
    "id": "u08HtNXI2ZPa",
    "ExecuteTime": {
     "end_time": "2025-01-20T15:13:22.872785Z",
     "start_time": "2025-01-20T15:11:43.946458Z"
    }
   },
   "id": "u08HtNXI2ZPa",
   "outputs": [
    {
     "name": "stdout",
     "output_type": "stream",
     "text": [
      "Found 83 files belonging to 4 classes.\n",
      "Found 62 files belonging to 4 classes.\n",
      "Epoch 1/70\n",
      "\u001B[1m18/18\u001B[0m \u001B[32m━━━━━━━━━━━━━━━━━━━━\u001B[0m\u001B[37m\u001B[0m \u001B[1m3s\u001B[0m 133ms/step - accuracy: 0.2303 - loss: 1.4082 - val_accuracy: 0.3145 - val_loss: 1.3836 - learning_rate: 0.0010\n",
      "Epoch 2/70\n",
      "\u001B[1m18/18\u001B[0m \u001B[32m━━━━━━━━━━━━━━━━━━━━\u001B[0m\u001B[37m\u001B[0m \u001B[1m2s\u001B[0m 135ms/step - accuracy: 0.3379 - loss: 1.3861 - val_accuracy: 0.2581 - val_loss: 1.3812 - learning_rate: 0.0010\n",
      "Epoch 3/70\n",
      "\u001B[1m18/18\u001B[0m \u001B[32m━━━━━━━━━━━━━━━━━━━━\u001B[0m\u001B[37m\u001B[0m \u001B[1m2s\u001B[0m 134ms/step - accuracy: 0.2431 - loss: 1.3850 - val_accuracy: 0.2581 - val_loss: 1.3798 - learning_rate: 0.0010\n",
      "Epoch 4/70\n",
      "\u001B[1m18/18\u001B[0m \u001B[32m━━━━━━━━━━━━━━━━━━━━\u001B[0m\u001B[37m\u001B[0m \u001B[1m3s\u001B[0m 152ms/step - accuracy: 0.2689 - loss: 1.3828 - val_accuracy: 0.4032 - val_loss: 1.3781 - learning_rate: 0.0010\n",
      "Epoch 5/70\n",
      "\u001B[1m18/18\u001B[0m \u001B[32m━━━━━━━━━━━━━━━━━━━━\u001B[0m\u001B[37m\u001B[0m \u001B[1m3s\u001B[0m 183ms/step - accuracy: 0.3455 - loss: 1.3772 - val_accuracy: 0.3468 - val_loss: 1.3715 - learning_rate: 0.0010\n",
      "Epoch 6/70\n",
      "\u001B[1m18/18\u001B[0m \u001B[32m━━━━━━━━━━━━━━━━━━━━\u001B[0m\u001B[37m\u001B[0m \u001B[1m3s\u001B[0m 153ms/step - accuracy: 0.4974 - loss: 1.3701 - val_accuracy: 0.3952 - val_loss: 1.3557 - learning_rate: 0.0010\n",
      "Epoch 7/70\n",
      "\u001B[1m18/18\u001B[0m \u001B[32m━━━━━━━━━━━━━━━━━━━━\u001B[0m\u001B[37m\u001B[0m \u001B[1m3s\u001B[0m 145ms/step - accuracy: 0.4431 - loss: 1.3436 - val_accuracy: 0.3468 - val_loss: 1.3081 - learning_rate: 0.0010\n",
      "Epoch 8/70\n",
      "\u001B[1m18/18\u001B[0m \u001B[32m━━━━━━━━━━━━━━━━━━━━\u001B[0m\u001B[37m\u001B[0m \u001B[1m2s\u001B[0m 132ms/step - accuracy: 0.4306 - loss: 1.2927 - val_accuracy: 0.5806 - val_loss: 1.1726 - learning_rate: 0.0010\n",
      "Epoch 9/70\n",
      "\u001B[1m18/18\u001B[0m \u001B[32m━━━━━━━━━━━━━━━━━━━━\u001B[0m\u001B[37m\u001B[0m \u001B[1m3s\u001B[0m 143ms/step - accuracy: 0.5728 - loss: 1.1292 - val_accuracy: 0.5161 - val_loss: 1.0815 - learning_rate: 0.0010\n",
      "Epoch 10/70\n",
      "\u001B[1m18/18\u001B[0m \u001B[32m━━━━━━━━━━━━━━━━━━━━\u001B[0m\u001B[37m\u001B[0m \u001B[1m3s\u001B[0m 140ms/step - accuracy: 0.6286 - loss: 0.9929 - val_accuracy: 0.7097 - val_loss: 0.8511 - learning_rate: 0.0010\n",
      "Epoch 11/70\n",
      "\u001B[1m18/18\u001B[0m \u001B[32m━━━━━━━━━━━━━━━━━━━━\u001B[0m\u001B[37m\u001B[0m \u001B[1m2s\u001B[0m 138ms/step - accuracy: 0.7351 - loss: 0.7364 - val_accuracy: 0.6532 - val_loss: 0.8300 - learning_rate: 0.0010\n",
      "Epoch 12/70\n",
      "\u001B[1m18/18\u001B[0m \u001B[32m━━━━━━━━━━━━━━━━━━━━\u001B[0m\u001B[37m\u001B[0m \u001B[1m2s\u001B[0m 137ms/step - accuracy: 0.6842 - loss: 0.7374 - val_accuracy: 0.7177 - val_loss: 0.7174 - learning_rate: 0.0010\n",
      "Epoch 13/70\n",
      "\u001B[1m18/18\u001B[0m \u001B[32m━━━━━━━━━━━━━━━━━━━━\u001B[0m\u001B[37m\u001B[0m \u001B[1m2s\u001B[0m 131ms/step - accuracy: 0.7914 - loss: 0.5612 - val_accuracy: 0.8065 - val_loss: 0.5046 - learning_rate: 0.0010\n",
      "Epoch 14/70\n",
      "\u001B[1m18/18\u001B[0m \u001B[32m━━━━━━━━━━━━━━━━━━━━\u001B[0m\u001B[37m\u001B[0m \u001B[1m2s\u001B[0m 132ms/step - accuracy: 0.8027 - loss: 0.4905 - val_accuracy: 0.7823 - val_loss: 0.5529 - learning_rate: 0.0010\n",
      "Epoch 15/70\n",
      "\u001B[1m18/18\u001B[0m \u001B[32m━━━━━━━━━━━━━━━━━━━━\u001B[0m\u001B[37m\u001B[0m \u001B[1m2s\u001B[0m 131ms/step - accuracy: 0.8291 - loss: 0.4375 - val_accuracy: 0.8468 - val_loss: 0.4248 - learning_rate: 0.0010\n",
      "Epoch 16/70\n",
      "\u001B[1m18/18\u001B[0m \u001B[32m━━━━━━━━━━━━━━━━━━━━\u001B[0m\u001B[37m\u001B[0m \u001B[1m2s\u001B[0m 135ms/step - accuracy: 0.8636 - loss: 0.3809 - val_accuracy: 0.9032 - val_loss: 0.2516 - learning_rate: 0.0010\n",
      "Epoch 17/70\n",
      "\u001B[1m18/18\u001B[0m \u001B[32m━━━━━━━━━━━━━━━━━━━━\u001B[0m\u001B[37m\u001B[0m \u001B[1m2s\u001B[0m 122ms/step - accuracy: 0.9189 - loss: 0.1988 - val_accuracy: 0.9355 - val_loss: 0.1915 - learning_rate: 0.0010\n",
      "Epoch 18/70\n",
      "\u001B[1m18/18\u001B[0m \u001B[32m━━━━━━━━━━━━━━━━━━━━\u001B[0m\u001B[37m\u001B[0m \u001B[1m2s\u001B[0m 121ms/step - accuracy: 0.9385 - loss: 0.1958 - val_accuracy: 0.9597 - val_loss: 0.1263 - learning_rate: 0.0010\n",
      "Epoch 19/70\n",
      "\u001B[1m18/18\u001B[0m \u001B[32m━━━━━━━━━━━━━━━━━━━━\u001B[0m\u001B[37m\u001B[0m \u001B[1m2s\u001B[0m 117ms/step - accuracy: 0.9883 - loss: 0.0880 - val_accuracy: 0.9113 - val_loss: 0.1675 - learning_rate: 0.0010\n",
      "Epoch 20/70\n",
      "\u001B[1m18/18\u001B[0m \u001B[32m━━━━━━━━━━━━━━━━━━━━\u001B[0m\u001B[37m\u001B[0m \u001B[1m2s\u001B[0m 121ms/step - accuracy: 0.9510 - loss: 0.1036 - val_accuracy: 0.9919 - val_loss: 0.0787 - learning_rate: 0.0010\n",
      "Epoch 21/70\n",
      "\u001B[1m18/18\u001B[0m \u001B[32m━━━━━━━━━━━━━━━━━━━━\u001B[0m\u001B[37m\u001B[0m \u001B[1m2s\u001B[0m 118ms/step - accuracy: 0.9701 - loss: 0.0617 - val_accuracy: 0.9597 - val_loss: 0.0945 - learning_rate: 0.0010\n",
      "Epoch 22/70\n",
      "\u001B[1m18/18\u001B[0m \u001B[32m━━━━━━━━━━━━━━━━━━━━\u001B[0m\u001B[37m\u001B[0m \u001B[1m2s\u001B[0m 121ms/step - accuracy: 0.9966 - loss: 0.0303 - val_accuracy: 0.9516 - val_loss: 0.1324 - learning_rate: 0.0010\n",
      "Epoch 23/70\n",
      "\u001B[1m18/18\u001B[0m \u001B[32m━━━━━━━━━━━━━━━━━━━━\u001B[0m\u001B[37m\u001B[0m \u001B[1m2s\u001B[0m 117ms/step - accuracy: 0.9842 - loss: 0.0511 - val_accuracy: 0.9516 - val_loss: 0.1025 - learning_rate: 0.0010\n",
      "Epoch 24/70\n",
      "\u001B[1m18/18\u001B[0m \u001B[32m━━━━━━━━━━━━━━━━━━━━\u001B[0m\u001B[37m\u001B[0m \u001B[1m2s\u001B[0m 126ms/step - accuracy: 0.9797 - loss: 0.0448 - val_accuracy: 0.9758 - val_loss: 0.0437 - learning_rate: 2.0000e-04\n",
      "Epoch 25/70\n",
      "\u001B[1m18/18\u001B[0m \u001B[32m━━━━━━━━━━━━━━━━━━━━\u001B[0m\u001B[37m\u001B[0m \u001B[1m2s\u001B[0m 119ms/step - accuracy: 0.9973 - loss: 0.0157 - val_accuracy: 0.9919 - val_loss: 0.0391 - learning_rate: 2.0000e-04\n",
      "Epoch 26/70\n",
      "\u001B[1m18/18\u001B[0m \u001B[32m━━━━━━━━━━━━━━━━━━━━\u001B[0m\u001B[37m\u001B[0m \u001B[1m3s\u001B[0m 139ms/step - accuracy: 0.9881 - loss: 0.0287 - val_accuracy: 0.9919 - val_loss: 0.0347 - learning_rate: 2.0000e-04\n",
      "Epoch 27/70\n",
      "\u001B[1m18/18\u001B[0m \u001B[32m━━━━━━━━━━━━━━━━━━━━\u001B[0m\u001B[37m\u001B[0m \u001B[1m3s\u001B[0m 138ms/step - accuracy: 0.9975 - loss: 0.0177 - val_accuracy: 1.0000 - val_loss: 0.0344 - learning_rate: 2.0000e-04\n",
      "Epoch 28/70\n",
      "\u001B[1m18/18\u001B[0m \u001B[32m━━━━━━━━━━━━━━━━━━━━\u001B[0m\u001B[37m\u001B[0m \u001B[1m3s\u001B[0m 136ms/step - accuracy: 0.9977 - loss: 0.0172 - val_accuracy: 0.9839 - val_loss: 0.0771 - learning_rate: 2.0000e-04\n",
      "Epoch 29/70\n",
      "\u001B[1m18/18\u001B[0m \u001B[32m━━━━━━━━━━━━━━━━━━━━\u001B[0m\u001B[37m\u001B[0m \u001B[1m2s\u001B[0m 130ms/step - accuracy: 0.9994 - loss: 0.0121 - val_accuracy: 0.9919 - val_loss: 0.0325 - learning_rate: 2.0000e-04\n",
      "Epoch 30/70\n",
      "\u001B[1m18/18\u001B[0m \u001B[32m━━━━━━━━━━━━━━━━━━━━\u001B[0m\u001B[37m\u001B[0m \u001B[1m2s\u001B[0m 133ms/step - accuracy: 0.9960 - loss: 0.0131 - val_accuracy: 1.0000 - val_loss: 0.0345 - learning_rate: 2.0000e-04\n",
      "Epoch 31/70\n",
      "\u001B[1m18/18\u001B[0m \u001B[32m━━━━━━━━━━━━━━━━━━━━\u001B[0m\u001B[37m\u001B[0m \u001B[1m2s\u001B[0m 136ms/step - accuracy: 1.0000 - loss: 0.0090 - val_accuracy: 0.9839 - val_loss: 0.0368 - learning_rate: 2.0000e-04\n",
      "Epoch 32/70\n",
      "\u001B[1m18/18\u001B[0m \u001B[32m━━━━━━━━━━━━━━━━━━━━\u001B[0m\u001B[37m\u001B[0m \u001B[1m3s\u001B[0m 135ms/step - accuracy: 0.9991 - loss: 0.0088 - val_accuracy: 1.0000 - val_loss: 0.0238 - learning_rate: 2.0000e-04\n",
      "Epoch 33/70\n",
      "\u001B[1m18/18\u001B[0m \u001B[32m━━━━━━━━━━━━━━━━━━━━\u001B[0m\u001B[37m\u001B[0m \u001B[1m3s\u001B[0m 169ms/step - accuracy: 1.0000 - loss: 0.0120 - val_accuracy: 1.0000 - val_loss: 0.0225 - learning_rate: 2.0000e-04\n",
      "Epoch 34/70\n",
      "\u001B[1m18/18\u001B[0m \u001B[32m━━━━━━━━━━━━━━━━━━━━\u001B[0m\u001B[37m\u001B[0m \u001B[1m3s\u001B[0m 138ms/step - accuracy: 1.0000 - loss: 0.0087 - val_accuracy: 1.0000 - val_loss: 0.0187 - learning_rate: 2.0000e-04\n",
      "Epoch 35/70\n",
      "\u001B[1m18/18\u001B[0m \u001B[32m━━━━━━━━━━━━━━━━━━━━\u001B[0m\u001B[37m\u001B[0m \u001B[1m3s\u001B[0m 152ms/step - accuracy: 1.0000 - loss: 0.0097 - val_accuracy: 1.0000 - val_loss: 0.0193 - learning_rate: 2.0000e-04\n",
      "Epoch 36/70\n",
      "\u001B[1m18/18\u001B[0m \u001B[32m━━━━━━━━━━━━━━━━━━━━\u001B[0m\u001B[37m\u001B[0m \u001B[1m3s\u001B[0m 138ms/step - accuracy: 1.0000 - loss: 0.0081 - val_accuracy: 1.0000 - val_loss: 0.0187 - learning_rate: 2.0000e-04\n",
      "Epoch 37/70\n",
      "\u001B[1m18/18\u001B[0m \u001B[32m━━━━━━━━━━━━━━━━━━━━\u001B[0m\u001B[37m\u001B[0m \u001B[1m2s\u001B[0m 132ms/step - accuracy: 0.9978 - loss: 0.0109 - val_accuracy: 1.0000 - val_loss: 0.0229 - learning_rate: 2.0000e-04\n",
      "Epoch 38/70\n",
      "\u001B[1m18/18\u001B[0m \u001B[32m━━━━━━━━━━━━━━━━━━━━\u001B[0m\u001B[37m\u001B[0m \u001B[1m2s\u001B[0m 130ms/step - accuracy: 0.9991 - loss: 0.0069 - val_accuracy: 1.0000 - val_loss: 0.0218 - learning_rate: 4.0000e-05\n",
      "Epoch 39/70\n",
      "\u001B[1m18/18\u001B[0m \u001B[32m━━━━━━━━━━━━━━━━━━━━\u001B[0m\u001B[37m\u001B[0m \u001B[1m3s\u001B[0m 136ms/step - accuracy: 0.9994 - loss: 0.0064 - val_accuracy: 1.0000 - val_loss: 0.0201 - learning_rate: 4.0000e-05\n",
      "\u001B[1m8/8\u001B[0m \u001B[32m━━━━━━━━━━━━━━━━━━━━\u001B[0m\u001B[37m\u001B[0m \u001B[1m1s\u001B[0m 121ms/step\n"
     ]
    },
    {
     "data": {
      "text/plain": "array([[7.36002925e-10, 9.42955580e-07, 9.99944687e-01, 5.43649039e-05],\n       [1.65185134e-03, 9.97207642e-01, 1.00395096e-06, 1.13952963e-03],\n       [9.99999881e-01, 7.27510781e-08, 1.33138865e-11, 1.91345231e-10],\n       [9.99824405e-01, 1.66868529e-04, 8.65627771e-06, 6.11668014e-08],\n       [3.74177966e-06, 2.29517682e-04, 9.50575829e-01, 4.91909608e-02],\n       [1.57624947e-06, 2.63335587e-05, 5.88083733e-03, 9.94091213e-01],\n       [9.33775300e-05, 2.58478976e-04, 2.54489738e-03, 9.97103333e-01],\n       [3.16587370e-03, 9.96834040e-01, 4.01698314e-10, 2.36292923e-08],\n       [1.00000000e+00, 3.38314265e-08, 1.50796996e-12, 3.11214698e-08],\n       [1.00499536e-04, 9.97347593e-01, 8.48734146e-07, 2.55109323e-03],\n       [6.01498641e-06, 1.43703789e-06, 9.99867439e-01, 1.24974482e-04],\n       [2.88604915e-05, 2.77327839e-04, 2.31757178e-03, 9.97376323e-01],\n       [1.07603114e-06, 7.83293799e-05, 6.13517361e-04, 9.99307096e-01],\n       [1.03580739e-07, 4.25575172e-06, 2.17152364e-03, 9.97824073e-01],\n       [3.31287879e-07, 4.72174870e-05, 4.24932630e-04, 9.99527514e-01],\n       [1.66659211e-05, 9.95259285e-01, 1.91990398e-06, 4.72212816e-03],\n       [6.15077533e-06, 9.99949813e-01, 2.77099048e-07, 4.37056551e-05],\n       [1.10281671e-05, 2.30033475e-04, 6.77456483e-05, 9.99691248e-01],\n       [3.73897929e-05, 8.04787924e-05, 9.09776427e-03, 9.90784466e-01],\n       [1.24240955e-07, 9.99999881e-01, 1.77860839e-17, 1.06199528e-16],\n       [6.44619331e-06, 6.46627857e-04, 5.07177925e-03, 9.94275153e-01],\n       [5.68391670e-07, 3.26498150e-04, 1.39496047e-02, 9.85723317e-01],\n       [2.52759597e-12, 4.62036187e-09, 9.99990463e-01, 9.56974691e-06],\n       [1.95290900e-13, 6.04765660e-08, 9.99999881e-01, 1.76110238e-09],\n       [2.61660595e-03, 9.88754869e-01, 9.19129252e-06, 8.61941837e-03],\n       [9.99817967e-01, 1.78945833e-04, 3.09046800e-06, 2.07929691e-08],\n       [5.13075043e-13, 4.31542126e-08, 9.98022914e-01, 1.97704951e-03],\n       [7.38082267e-03, 9.37627971e-01, 4.65291378e-05, 5.49446978e-02],\n       [8.26247968e-03, 9.73029017e-01, 2.53082380e-05, 1.86831169e-02],\n       [9.99963820e-01, 3.62486971e-05, 9.09969766e-10, 2.95913729e-08],\n       [9.99971330e-01, 1.05734398e-06, 2.32011098e-05, 4.44102625e-06],\n       [1.75151428e-07, 5.20624667e-07, 9.97187138e-01, 2.81218323e-03],\n       [1.33721150e-08, 9.99998331e-01, 1.65946551e-06, 3.22016414e-14],\n       [3.80131769e-06, 9.99550760e-01, 1.09220688e-04, 3.36191995e-04],\n       [5.48344516e-08, 9.76936280e-06, 9.54848621e-03, 9.90441799e-01],\n       [9.99919713e-01, 7.34610585e-05, 3.79172639e-06, 3.15141210e-06],\n       [1.08439654e-05, 1.28381662e-05, 9.18660402e-01, 8.13159272e-02],\n       [5.24336065e-04, 9.92541015e-01, 1.18342960e-07, 6.93454267e-03],\n       [7.75431275e-08, 4.40297823e-04, 9.98746812e-01, 8.12863233e-04],\n       [9.99921858e-01, 7.81693016e-05, 1.45565453e-08, 4.17446984e-08],\n       [1.83339523e-07, 2.69460957e-04, 1.52874261e-03, 9.98201609e-01],\n       [2.26765824e-08, 6.16010709e-07, 9.71835494e-01, 2.81637982e-02],\n       [1.12218969e-02, 9.87448335e-01, 1.30854186e-03, 2.11823935e-05],\n       [9.99843061e-01, 5.06370634e-05, 8.61604462e-07, 1.05410771e-04],\n       [4.90508398e-07, 2.63497168e-05, 1.37519592e-03, 9.98598099e-01],\n       [9.99999642e-01, 3.71127157e-07, 1.01512049e-10, 3.12695541e-08],\n       [2.30980891e-06, 8.24925621e-07, 9.99944806e-01, 5.21314141e-05],\n       [1.34183858e-06, 3.66504682e-04, 1.50219630e-03, 9.98129904e-01],\n       [9.99983370e-01, 1.66723021e-05, 9.93464100e-13, 3.04478005e-11],\n       [6.16004385e-08, 1.56005558e-06, 9.97521043e-01, 2.47732340e-03],\n       [1.83642142e-12, 1.96317469e-08, 9.99970138e-01, 2.99663316e-05],\n       [9.64705760e-05, 9.99903262e-01, 4.07522947e-07, 4.47504866e-10],\n       [3.71255669e-06, 9.99996305e-01, 5.30288577e-15, 1.49932605e-12],\n       [9.96815026e-01, 3.18456604e-03, 1.22605925e-07, 4.10513366e-07],\n       [2.66991577e-07, 7.16565264e-05, 6.46313478e-04, 9.99281645e-01],\n       [1.55808994e-11, 2.46752894e-08, 9.99649227e-01, 3.50826362e-04],\n       [9.99968112e-01, 3.03023917e-05, 1.67554970e-06, 2.22175989e-09],\n       [6.13525277e-04, 9.99380589e-01, 5.72409954e-06, 1.26480657e-07],\n       [9.99807000e-01, 1.78503105e-04, 1.63024353e-07, 1.43130183e-05],\n       [2.18190038e-07, 1.51569424e-07, 9.99998808e-01, 8.89721719e-07],\n       [6.92869816e-03, 9.35829878e-01, 1.91416530e-05, 5.72221577e-02],\n       [8.59558838e-07, 1.64078465e-05, 9.75049794e-01, 2.49329191e-02],\n       [2.64137308e-03, 9.95274544e-01, 2.04936089e-03, 3.46577326e-05],\n       [6.15393859e-04, 9.99367416e-01, 1.71285901e-05, 7.26606970e-08],\n       [2.13427658e-04, 2.17221910e-03, 3.69764008e-02, 9.60637987e-01],\n       [1.38835667e-05, 6.72612532e-06, 9.99974430e-01, 4.95327504e-06],\n       [1.57028888e-04, 9.76562500e-04, 8.97542108e-03, 9.89891052e-01],\n       [9.99736488e-01, 1.87756872e-04, 7.56229128e-05, 2.27772091e-07],\n       [1.69912077e-04, 2.38470719e-04, 9.84528568e-03, 9.89746332e-01],\n       [1.39015965e-05, 2.42035196e-04, 9.31361437e-01, 6.83827624e-02],\n       [2.19741510e-03, 9.97802138e-01, 4.20149775e-07, 1.75290360e-09],\n       [6.61991453e-06, 9.60763078e-04, 1.87597075e-03, 9.97156620e-01],\n       [9.97127891e-01, 2.00263853e-03, 4.68384023e-05, 8.22555157e-04],\n       [9.99999762e-01, 9.74421539e-08, 3.57418400e-11, 1.30781444e-07],\n       [9.84803251e-07, 5.63798822e-04, 9.95172739e-01, 4.26243618e-03],\n       [1.11115759e-03, 7.76492834e-01, 1.25989673e-05, 2.22383440e-01],\n       [6.09787154e-09, 9.99995351e-01, 4.66749088e-06, 1.00899204e-12],\n       [1.04976472e-09, 1.55095037e-07, 9.99033451e-01, 9.66491352e-04],\n       [9.49318334e-03, 9.59463120e-01, 1.52033672e-05, 3.10285203e-02],\n       [1.64244500e-06, 9.53382732e-06, 9.80700195e-01, 1.92885250e-02],\n       [5.09370475e-05, 9.97702360e-01, 1.17369800e-05, 2.23492505e-03],\n       [7.77290125e-12, 8.65647198e-09, 9.99998093e-01, 1.85951433e-06],\n       [1.36619620e-03, 9.97863412e-01, 1.75524983e-05, 7.52739201e-04],\n       [1.05799743e-04, 2.18027690e-03, 4.94279724e-04, 9.97219682e-01],\n       [9.99965370e-01, 3.46813213e-05, 1.74387019e-10, 5.66580116e-09],\n       [1.35297259e-05, 3.57333624e-06, 9.99366462e-01, 6.16383273e-04],\n       [6.80802441e-06, 9.99993205e-01, 2.57285529e-14, 3.57724619e-13],\n       [8.90816955e-06, 9.92496371e-01, 3.35815619e-03, 4.13666153e-03],\n       [1.54853589e-03, 9.92782235e-01, 1.47232149e-05, 5.65438345e-03],\n       [7.68120438e-02, 6.40024424e-01, 6.13748748e-03, 2.77026057e-01],\n       [2.30748537e-06, 1.43701641e-03, 1.04024829e-02, 9.88158107e-01],\n       [1.90485878e-06, 2.67016469e-04, 8.28519929e-03, 9.91445899e-01],\n       [9.99760151e-01, 1.60507523e-04, 7.91635975e-05, 9.72622871e-08],\n       [7.40455880e-06, 2.37252607e-04, 8.10219254e-03, 9.91653085e-01],\n       [1.12627129e-06, 1.43709458e-05, 5.01953781e-01, 4.98030692e-01],\n       [9.98647690e-01, 1.34758814e-03, 7.94100515e-07, 3.79219364e-06],\n       [1.23682314e-11, 5.06414665e-07, 9.93771613e-01, 6.22787885e-03],\n       [5.12872674e-02, 9.48512137e-01, 7.57712542e-07, 1.99852424e-04],\n       [7.72361364e-03, 4.78276968e-01, 6.21376385e-04, 5.13378024e-01],\n       [6.45737455e-04, 1.03953702e-03, 7.17872102e-03, 9.91136014e-01],\n       [1.05045937e-01, 6.97269380e-01, 6.80297497e-04, 1.97004363e-01],\n       [6.12723682e-07, 9.99999404e-01, 2.95853071e-16, 3.83408934e-16],\n       [9.99997616e-01, 2.28490785e-06, 1.33773026e-09, 6.95827254e-08],\n       [7.29440711e-03, 9.83496308e-01, 1.08201821e-04, 9.10105091e-03],\n       [9.99993920e-01, 5.91494108e-06, 1.25464386e-08, 1.33151801e-07],\n       [9.78770971e-01, 2.12250631e-02, 2.04208050e-06, 1.86262571e-06],\n       [8.64143146e-07, 1.43871493e-05, 9.93003130e-01, 6.98162708e-03],\n       [8.64197355e-05, 7.66389985e-06, 9.99660671e-01, 2.45242816e-04],\n       [2.49358254e-06, 3.41358173e-05, 7.99472164e-03, 9.91968632e-01],\n       [2.44344422e-03, 2.01435089e-02, 4.78750706e-04, 9.76934195e-01],\n       [6.67992208e-06, 6.99519660e-05, 9.76233840e-01, 2.36896388e-02],\n       [9.95300472e-01, 2.96733342e-03, 1.84510718e-05, 1.71381771e-03],\n       [1.19300394e-05, 7.42006305e-05, 9.37905833e-02, 9.06123340e-01],\n       [1.31423621e-06, 3.77546693e-03, 9.07326862e-03, 9.87150013e-01],\n       [4.25737006e-12, 1.19916606e-07, 9.99999762e-01, 7.15270616e-08],\n       [5.40544658e-11, 2.47595402e-08, 9.99985099e-01, 1.49469752e-05],\n       [1.57772884e-04, 2.48096796e-04, 9.66675758e-01, 3.29183862e-02],\n       [3.09716015e-05, 7.37553276e-03, 5.83348535e-02, 9.34258640e-01],\n       [9.97511983e-01, 2.39729346e-03, 1.66486152e-05, 7.41020704e-05],\n       [9.99999166e-01, 8.47548449e-07, 1.11874832e-11, 3.38376394e-09],\n       [9.76402462e-01, 2.18808334e-02, 1.70312845e-03, 1.36299395e-05],\n       [6.16281250e-05, 2.00020568e-03, 1.37192979e-01, 8.60745192e-01],\n       [9.99987245e-01, 2.00753857e-06, 9.32687544e-06, 1.44151068e-06],\n       [1.92936732e-05, 2.67594092e-04, 8.91579330e-01, 1.08133741e-01]],\n      dtype=float32)"
     },
     "execution_count": 8,
     "metadata": {},
     "output_type": "execute_result"
    }
   ],
   "execution_count": 8
  }
 ],
 "metadata": {
  "kernelspec": {
   "display_name": "Python 3",
   "language": "python",
   "name": "python3"
  },
  "language_info": {
   "codemirror_mode": {
    "name": "ipython",
    "version": 2
   },
   "file_extension": ".py",
   "mimetype": "text/x-python",
   "name": "python",
   "nbconvert_exporter": "python",
   "pygments_lexer": "ipython2",
   "version": "2.7.6"
  },
  "colab": {
   "provenance": []
  }
 },
 "nbformat": 4,
 "nbformat_minor": 5
}
