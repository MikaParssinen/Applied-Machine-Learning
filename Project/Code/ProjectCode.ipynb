{
 "cells": [
  {
   "cell_type": "markdown",
   "source": [
    "# DVA263 project"
   ],
   "metadata": {
    "id": "Iz1_HZ5_QpML"
   },
   "id": "Iz1_HZ5_QpML"
  },
  {
   "cell_type": "markdown",
   "source": [
    "# Libraries\n",
    "\n",
    "Declaring all libraries in use"
   ],
   "metadata": {
    "id": "glwLHuRHxHOg"
   },
   "id": "glwLHuRHxHOg"
  },
  {
   "cell_type": "code",
   "source": [
    "from tensorflow.keras.models import Sequential\n",
    "from tensorflow.keras.layers import Conv2D, MaxPooling2D, Flatten, Dense, Dropout\n",
    "from tensorflow.keras.utils import to_categorical\n",
    "from tensorflow.keras.optimizers import Adam\n",
    "from tensorflow.keras.regularizers import L2"
   ],
   "metadata": {
    "id": "3D3Svn8oxksw",
    "ExecuteTime": {
     "end_time": "2025-01-10T13:47:55.700953Z",
     "start_time": "2025-01-10T13:47:51.850017Z"
    }
   },
   "id": "3D3Svn8oxksw",
   "execution_count": 1,
   "outputs": []
  },
  {
   "cell_type": "markdown",
   "source": [
    "# Load Dataset"
   ],
   "metadata": {
    "id": "fBAFQo5H0FdD"
   },
   "id": "fBAFQo5H0FdD"
  },
  {
   "cell_type": "code",
   "source": [],
   "metadata": {
    "id": "P9EcdLxk0MJT",
    "ExecuteTime": {
     "end_time": "2025-01-10T13:47:55.703371Z",
     "start_time": "2025-01-10T13:47:55.701858Z"
    }
   },
   "id": "P9EcdLxk0MJT",
   "execution_count": 1,
   "outputs": []
  },
  {
   "cell_type": "markdown",
   "source": [
    "# Prepare Data"
   ],
   "metadata": {
    "id": "C7JZMmJc1Y4q"
   },
   "id": "C7JZMmJc1Y4q"
  },
  {
   "cell_type": "code",
   "source": [],
   "metadata": {
    "id": "C5oxNrJF1dzC",
    "ExecuteTime": {
     "end_time": "2025-01-10T13:47:55.705682Z",
     "start_time": "2025-01-10T13:47:55.704228Z"
    }
   },
   "id": "C5oxNrJF1dzC",
   "execution_count": 1,
   "outputs": []
  },
  {
   "cell_type": "markdown",
   "source": [
    "# Build Model"
   ],
   "metadata": {
    "id": "QxKIKd961t1a"
   },
   "id": "QxKIKd961t1a"
  },
  {
   "cell_type": "code",
   "source": [],
   "metadata": {
    "id": "1IJY7T_a100q",
    "ExecuteTime": {
     "end_time": "2025-01-10T13:47:55.707891Z",
     "start_time": "2025-01-10T13:47:55.706496Z"
    }
   },
   "id": "1IJY7T_a100q",
   "execution_count": 1,
   "outputs": []
  },
  {
   "cell_type": "markdown",
   "source": [
    "# Compile and Train Model"
   ],
   "metadata": {
    "id": "h-BLAVMT19xB"
   },
   "id": "h-BLAVMT19xB"
  },
  {
   "cell_type": "code",
   "source": [],
   "metadata": {
    "id": "HKkxhb442AUZ",
    "ExecuteTime": {
     "end_time": "2025-01-10T13:47:55.710099Z",
     "start_time": "2025-01-10T13:47:55.708501Z"
    }
   },
   "id": "HKkxhb442AUZ",
   "execution_count": 1,
   "outputs": []
  },
  {
   "cell_type": "markdown",
   "source": [
    "# Putting everything together\n",
    "\n",
    "Main section putting each part together and running the classification task"
   ],
   "metadata": {
    "id": "nfCocLzz2ISR"
   },
   "id": "nfCocLzz2ISR"
  },
  {
   "cell_type": "code",
   "source": [],
   "metadata": {
    "id": "u08HtNXI2ZPa",
    "ExecuteTime": {
     "end_time": "2025-01-10T13:47:55.712379Z",
     "start_time": "2025-01-10T13:47:55.710849Z"
    }
   },
   "id": "u08HtNXI2ZPa",
   "execution_count": 1,
   "outputs": []
  }
 ],
 "metadata": {
  "kernelspec": {
   "display_name": "Python 3",
   "language": "python",
   "name": "python3"
  },
  "language_info": {
   "codemirror_mode": {
    "name": "ipython",
    "version": 2
   },
   "file_extension": ".py",
   "mimetype": "text/x-python",
   "name": "python",
   "nbconvert_exporter": "python",
   "pygments_lexer": "ipython2",
   "version": "2.7.6"
  },
  "colab": {
   "provenance": []
  }
 },
 "nbformat": 4,
 "nbformat_minor": 5
}
