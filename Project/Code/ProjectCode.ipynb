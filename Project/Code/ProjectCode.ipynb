{
 "cells": [
  {
   "cell_type": "markdown",
   "source": [
    "# DVA263 project"
   ],
   "metadata": {
    "id": "Iz1_HZ5_QpML"
   },
   "id": "Iz1_HZ5_QpML"
  },
  {
   "cell_type": "markdown",
   "source": [
    "# Libraries\n",
    "\n",
    "Declaring all libraries in use"
   ],
   "metadata": {
    "id": "glwLHuRHxHOg"
   },
   "id": "glwLHuRHxHOg"
  },
  {
   "cell_type": "code",
   "source": [
    "from tensorflow.keras.models import Sequential\n",
    "from tensorflow.keras.layers import Conv2D, MaxPooling2D, Flatten, Dense, Dropout\n",
    "from tensorflow.keras.utils import to_categorical\n",
    "from tensorflow.keras.optimizers import Adam\n",
    "from tensorflow.keras.regularizers import L2\n",
    "import os\n",
    "import cnn as cnn\n",
    "import preprocessing as pre\n",
    "import visualization as vis\n"
   ],
   "metadata": {
    "id": "3D3Svn8oxksw",
    "ExecuteTime": {
     "end_time": "2025-01-12T18:08:01.975359Z",
     "start_time": "2025-01-12T18:07:55.933467Z"
    }
   },
   "id": "3D3Svn8oxksw",
   "outputs": [],
   "execution_count": 1
  },
  {
   "cell_type": "markdown",
   "source": [
    "# Load Dataset"
   ],
   "metadata": {
    "id": "fBAFQo5H0FdD"
   },
   "id": "fBAFQo5H0FdD"
  },
  {
   "cell_type": "code",
   "source": [
    "def load_cnn():\n",
    "    \"\"\"Load the datasets for the CNN input\"\"\"\n",
    "    CNN_train = \"../dataset/CNN_Input/train/\"\n",
    "    CNN_test = \"../dataset/CNN_Input/test/\"\n",
    "    CNN_train = pre.import_images(CNN_train, (150,150),batch_size=16, dataset=True)\n",
    "    CNN_test = pre.import_images(CNN_test, (150,150), batch_size=16,  dataset=True)\n",
    "    return CNN_train, CNN_test"
   ],
   "metadata": {
    "id": "P9EcdLxk0MJT",
    "ExecuteTime": {
     "end_time": "2025-01-12T18:08:02.006482Z",
     "start_time": "2025-01-12T18:08:01.998454Z"
    }
   },
   "id": "P9EcdLxk0MJT",
   "outputs": [],
   "execution_count": 2
  },
  {
   "cell_type": "markdown",
   "source": [
    "# Prepare Data"
   ],
   "metadata": {
    "id": "C7JZMmJc1Y4q"
   },
   "id": "C7JZMmJc1Y4q"
  },
  {
   "cell_type": "code",
   "source": [
    "def prep_cnn(cnn_train, cnn_test):\n",
    "    \"\"\"Add noise images to train and test set and normalize\"\"\"\n",
    "    g_noisy_train_data = cnn_train.map(pre.add_gaussian_noise)\n",
    "    snp_noisy_train_data = cnn_train.map(pre.add_salt_and_pepper_noise)\n",
    "    combined_train_data = cnn_train.concatenate(g_noisy_train_data).concatenate(snp_noisy_train_data)\n",
    "\n",
    "    percentage_noisy_images = 0.2\n",
    "    total_test_images = len(CNN_test) * 16  # Total images in test data\n",
    "    num_noisy_images = int(total_test_images * percentage_noisy_images)\n",
    "\n",
    "    g_noisy_test_data = cnn_test.take(num_noisy_images).map(pre.add_gaussian_noise)\n",
    "    snp_noisy_test_data = cnn_test.take(num_noisy_images).map(pre.add_salt_and_pepper_noise)\n",
    "    remaining_test_data = cnn_test.skip(num_noisy_images)\n",
    "\n",
    "    combined_test_data = g_noisy_test_data.concatenate(remaining_test_data)\n",
    "    combined_test_data = combined_test_data.concatenate(snp_noisy_test_data)\n",
    "\n",
    "    test_data_norm, train_data_norm = pre.normalize_dataset(combined_train_data, combined_test_data)\n",
    "    return train_data_norm, test_data_norm\n"
   ],
   "metadata": {
    "id": "C5oxNrJF1dzC",
    "ExecuteTime": {
     "end_time": "2025-01-12T18:08:02.022008Z",
     "start_time": "2025-01-12T18:08:02.011489Z"
    }
   },
   "id": "C5oxNrJF1dzC",
   "outputs": [],
   "execution_count": 3
  },
  {
   "cell_type": "markdown",
   "source": "# Build and Compile Model",
   "metadata": {
    "id": "QxKIKd961t1a"
   },
   "id": "QxKIKd961t1a"
  },
  {
   "cell_type": "code",
   "source": [
    "def build_cnn():\n",
    "    model = cnn.build_cnn_model()\n",
    "    return model"
   ],
   "metadata": {
    "id": "1IJY7T_a100q",
    "ExecuteTime": {
     "end_time": "2025-01-12T18:08:02.037108Z",
     "start_time": "2025-01-12T18:08:02.026528Z"
    }
   },
   "id": "1IJY7T_a100q",
   "outputs": [],
   "execution_count": 4
  },
  {
   "cell_type": "markdown",
   "source": "#  Train Model",
   "metadata": {
    "id": "h-BLAVMT19xB"
   },
   "id": "h-BLAVMT19xB"
  },
  {
   "cell_type": "code",
   "source": [
    "def train_cnn(model,cnn_train, cnn_test):\n",
    "    history = cnn.train_model(model, cnn_train, cnn_test)\n",
    "    return history"
   ],
   "metadata": {
    "id": "HKkxhb442AUZ",
    "ExecuteTime": {
     "end_time": "2025-01-12T18:08:02.052601Z",
     "start_time": "2025-01-12T18:08:02.042079Z"
    }
   },
   "id": "HKkxhb442AUZ",
   "outputs": [],
   "execution_count": 5
  },
  {
   "cell_type": "markdown",
   "source": [
    "# Putting everything together\n",
    "\n",
    "Main section putting each part together and running the classification task"
   ],
   "metadata": {
    "id": "nfCocLzz2ISR"
   },
   "id": "nfCocLzz2ISR"
  },
  {
   "cell_type": "code",
   "source": [
    "CNN_train, CNN_test = load_cnn()\n",
    "CNN_train, CNN_test = prep_cnn(CNN_train, CNN_test)\n",
    "CNN_model = build_cnn()\n",
    "CNN_history = train_cnn(CNN_model, CNN_train, CNN_test)\n",
    "\n",
    "CNN_model.predict(CNN_test) # here we will use the output from the autoencoder."
   ],
   "metadata": {
    "id": "u08HtNXI2ZPa",
    "ExecuteTime": {
     "end_time": "2025-01-12T18:09:17.843870Z",
     "start_time": "2025-01-12T18:08:02.064128Z"
    }
   },
   "id": "u08HtNXI2ZPa",
   "outputs": [
    {
     "name": "stdout",
     "output_type": "stream",
     "text": [
      "Found 83 files belonging to 4 classes.\n",
      "Found 62 files belonging to 4 classes.\n",
      "Epoch 1/70\n",
      "\u001B[1m18/18\u001B[0m \u001B[32m━━━━━━━━━━━━━━━━━━━━\u001B[0m\u001B[37m\u001B[0m \u001B[1m3s\u001B[0m 93ms/step - accuracy: 0.2839 - loss: 1.4051 - val_accuracy: 0.2500 - val_loss: 1.3829 - learning_rate: 0.0010\n",
      "Epoch 2/70\n",
      "\u001B[1m18/18\u001B[0m \u001B[32m━━━━━━━━━━━━━━━━━━━━\u001B[0m\u001B[37m\u001B[0m \u001B[1m1s\u001B[0m 83ms/step - accuracy: 0.2888 - loss: 1.3826 - val_accuracy: 0.2581 - val_loss: 1.3806 - learning_rate: 0.0010\n",
      "Epoch 3/70\n",
      "\u001B[1m18/18\u001B[0m \u001B[32m━━━━━━━━━━━━━━━━━━━━\u001B[0m\u001B[37m\u001B[0m \u001B[1m2s\u001B[0m 85ms/step - accuracy: 0.2976 - loss: 1.3813 - val_accuracy: 0.3065 - val_loss: 1.3752 - learning_rate: 0.0010\n",
      "Epoch 4/70\n",
      "\u001B[1m18/18\u001B[0m \u001B[32m━━━━━━━━━━━━━━━━━━━━\u001B[0m\u001B[37m\u001B[0m \u001B[1m2s\u001B[0m 87ms/step - accuracy: 0.3149 - loss: 1.3701 - val_accuracy: 0.3065 - val_loss: 1.3651 - learning_rate: 0.0010\n",
      "Epoch 5/70\n",
      "\u001B[1m18/18\u001B[0m \u001B[32m━━━━━━━━━━━━━━━━━━━━\u001B[0m\u001B[37m\u001B[0m \u001B[1m2s\u001B[0m 86ms/step - accuracy: 0.4276 - loss: 1.3658 - val_accuracy: 0.3065 - val_loss: 1.3705 - learning_rate: 0.0010\n",
      "Epoch 6/70\n",
      "\u001B[1m18/18\u001B[0m \u001B[32m━━━━━━━━━━━━━━━━━━━━\u001B[0m\u001B[37m\u001B[0m \u001B[1m2s\u001B[0m 96ms/step - accuracy: 0.4763 - loss: 1.3532 - val_accuracy: 0.3306 - val_loss: 1.3321 - learning_rate: 0.0010\n",
      "Epoch 7/70\n",
      "\u001B[1m18/18\u001B[0m \u001B[32m━━━━━━━━━━━━━━━━━━━━\u001B[0m\u001B[37m\u001B[0m \u001B[1m2s\u001B[0m 105ms/step - accuracy: 0.3816 - loss: 1.3168 - val_accuracy: 0.3145 - val_loss: 1.2877 - learning_rate: 0.0010\n",
      "Epoch 8/70\n",
      "\u001B[1m18/18\u001B[0m \u001B[32m━━━━━━━━━━━━━━━━━━━━\u001B[0m\u001B[37m\u001B[0m \u001B[1m2s\u001B[0m 120ms/step - accuracy: 0.3726 - loss: 1.2622 - val_accuracy: 0.3548 - val_loss: 1.4254 - learning_rate: 0.0010\n",
      "Epoch 9/70\n",
      "\u001B[1m18/18\u001B[0m \u001B[32m━━━━━━━━━━━━━━━━━━━━\u001B[0m\u001B[37m\u001B[0m \u001B[1m2s\u001B[0m 113ms/step - accuracy: 0.5201 - loss: 1.2037 - val_accuracy: 0.5887 - val_loss: 1.0007 - learning_rate: 0.0010\n",
      "Epoch 10/70\n",
      "\u001B[1m18/18\u001B[0m \u001B[32m━━━━━━━━━━━━━━━━━━━━\u001B[0m\u001B[37m\u001B[0m \u001B[1m2s\u001B[0m 94ms/step - accuracy: 0.6710 - loss: 0.8704 - val_accuracy: 0.7177 - val_loss: 0.7889 - learning_rate: 0.0010\n",
      "Epoch 11/70\n",
      "\u001B[1m18/18\u001B[0m \u001B[32m━━━━━━━━━━━━━━━━━━━━\u001B[0m\u001B[37m\u001B[0m \u001B[1m2s\u001B[0m 93ms/step - accuracy: 0.7552 - loss: 0.6823 - val_accuracy: 0.6613 - val_loss: 0.7807 - learning_rate: 0.0010\n",
      "Epoch 12/70\n",
      "\u001B[1m18/18\u001B[0m \u001B[32m━━━━━━━━━━━━━━━━━━━━\u001B[0m\u001B[37m\u001B[0m \u001B[1m2s\u001B[0m 90ms/step - accuracy: 0.6953 - loss: 0.6387 - val_accuracy: 0.7097 - val_loss: 0.7299 - learning_rate: 0.0010\n",
      "Epoch 13/70\n",
      "\u001B[1m18/18\u001B[0m \u001B[32m━━━━━━━━━━━━━━━━━━━━\u001B[0m\u001B[37m\u001B[0m \u001B[1m2s\u001B[0m 91ms/step - accuracy: 0.7520 - loss: 0.6262 - val_accuracy: 0.7258 - val_loss: 0.7054 - learning_rate: 0.0010\n",
      "Epoch 14/70\n",
      "\u001B[1m18/18\u001B[0m \u001B[32m━━━━━━━━━━━━━━━━━━━━\u001B[0m\u001B[37m\u001B[0m \u001B[1m2s\u001B[0m 103ms/step - accuracy: 0.7919 - loss: 0.5917 - val_accuracy: 0.7258 - val_loss: 0.6056 - learning_rate: 0.0010\n",
      "Epoch 15/70\n",
      "\u001B[1m18/18\u001B[0m \u001B[32m━━━━━━━━━━━━━━━━━━━━\u001B[0m\u001B[37m\u001B[0m \u001B[1m2s\u001B[0m 86ms/step - accuracy: 0.8003 - loss: 0.4886 - val_accuracy: 0.8306 - val_loss: 0.4047 - learning_rate: 0.0010\n",
      "Epoch 16/70\n",
      "\u001B[1m18/18\u001B[0m \u001B[32m━━━━━━━━━━━━━━━━━━━━\u001B[0m\u001B[37m\u001B[0m \u001B[1m2s\u001B[0m 133ms/step - accuracy: 0.8609 - loss: 0.3657 - val_accuracy: 0.8226 - val_loss: 0.4801 - learning_rate: 0.0010\n",
      "Epoch 17/70\n",
      "\u001B[1m18/18\u001B[0m \u001B[32m━━━━━━━━━━━━━━━━━━━━\u001B[0m\u001B[37m\u001B[0m \u001B[1m2s\u001B[0m 105ms/step - accuracy: 0.8704 - loss: 0.3447 - val_accuracy: 0.8710 - val_loss: 0.2859 - learning_rate: 0.0010\n",
      "Epoch 18/70\n",
      "\u001B[1m18/18\u001B[0m \u001B[32m━━━━━━━━━━━━━━━━━━━━\u001B[0m\u001B[37m\u001B[0m \u001B[1m2s\u001B[0m 97ms/step - accuracy: 0.9306 - loss: 0.2392 - val_accuracy: 0.9194 - val_loss: 0.2461 - learning_rate: 0.0010\n",
      "Epoch 19/70\n",
      "\u001B[1m18/18\u001B[0m \u001B[32m━━━━━━━━━━━━━━━━━━━━\u001B[0m\u001B[37m\u001B[0m \u001B[1m2s\u001B[0m 101ms/step - accuracy: 0.9505 - loss: 0.1764 - val_accuracy: 0.9516 - val_loss: 0.1548 - learning_rate: 0.0010\n",
      "Epoch 20/70\n",
      "\u001B[1m18/18\u001B[0m \u001B[32m━━━━━━━━━━━━━━━━━━━━\u001B[0m\u001B[37m\u001B[0m \u001B[1m2s\u001B[0m 96ms/step - accuracy: 0.9620 - loss: 0.1250 - val_accuracy: 0.8468 - val_loss: 0.3363 - learning_rate: 0.0010\n",
      "Epoch 21/70\n",
      "\u001B[1m18/18\u001B[0m \u001B[32m━━━━━━━━━━━━━━━━━━━━\u001B[0m\u001B[37m\u001B[0m \u001B[1m2s\u001B[0m 95ms/step - accuracy: 0.9129 - loss: 0.2301 - val_accuracy: 0.9435 - val_loss: 0.1552 - learning_rate: 0.0010\n",
      "Epoch 22/70\n",
      "\u001B[1m18/18\u001B[0m \u001B[32m━━━━━━━━━━━━━━━━━━━━\u001B[0m\u001B[37m\u001B[0m \u001B[1m2s\u001B[0m 95ms/step - accuracy: 0.9740 - loss: 0.1023 - val_accuracy: 0.9677 - val_loss: 0.1192 - learning_rate: 0.0010\n",
      "Epoch 23/70\n",
      "\u001B[1m18/18\u001B[0m \u001B[32m━━━━━━━━━━━━━━━━━━━━\u001B[0m\u001B[37m\u001B[0m \u001B[1m2s\u001B[0m 96ms/step - accuracy: 0.9785 - loss: 0.0830 - val_accuracy: 0.8952 - val_loss: 0.2154 - learning_rate: 0.0010\n",
      "Epoch 24/70\n",
      "\u001B[1m18/18\u001B[0m \u001B[32m━━━━━━━━━━━━━━━━━━━━\u001B[0m\u001B[37m\u001B[0m \u001B[1m2s\u001B[0m 93ms/step - accuracy: 0.9073 - loss: 0.2148 - val_accuracy: 0.9032 - val_loss: 0.2207 - learning_rate: 0.0010\n",
      "Epoch 25/70\n",
      "\u001B[1m18/18\u001B[0m \u001B[32m━━━━━━━━━━━━━━━━━━━━\u001B[0m\u001B[37m\u001B[0m \u001B[1m2s\u001B[0m 95ms/step - accuracy: 0.9687 - loss: 0.1145 - val_accuracy: 0.9677 - val_loss: 0.1009 - learning_rate: 0.0010\n",
      "Epoch 26/70\n",
      "\u001B[1m18/18\u001B[0m \u001B[32m━━━━━━━━━━━━━━━━━━━━\u001B[0m\u001B[37m\u001B[0m \u001B[1m2s\u001B[0m 95ms/step - accuracy: 0.9925 - loss: 0.0316 - val_accuracy: 0.9516 - val_loss: 0.1062 - learning_rate: 0.0010\n",
      "Epoch 27/70\n",
      "\u001B[1m18/18\u001B[0m \u001B[32m━━━━━━━━━━━━━━━━━━━━\u001B[0m\u001B[37m\u001B[0m \u001B[1m2s\u001B[0m 100ms/step - accuracy: 0.9792 - loss: 0.0637 - val_accuracy: 0.8468 - val_loss: 0.3173 - learning_rate: 0.0010\n",
      "Epoch 28/70\n",
      "\u001B[1m18/18\u001B[0m \u001B[32m━━━━━━━━━━━━━━━━━━━━\u001B[0m\u001B[37m\u001B[0m \u001B[1m2s\u001B[0m 88ms/step - accuracy: 0.9327 - loss: 0.1922 - val_accuracy: 0.9597 - val_loss: 0.1681 - learning_rate: 0.0010\n",
      "Epoch 29/70\n",
      "\u001B[1m18/18\u001B[0m \u001B[32m━━━━━━━━━━━━━━━━━━━━\u001B[0m\u001B[37m\u001B[0m \u001B[1m2s\u001B[0m 103ms/step - accuracy: 0.9569 - loss: 0.1195 - val_accuracy: 1.0000 - val_loss: 0.0558 - learning_rate: 2.0000e-04\n",
      "Epoch 30/70\n",
      "\u001B[1m18/18\u001B[0m \u001B[32m━━━━━━━━━━━━━━━━━━━━\u001B[0m\u001B[37m\u001B[0m \u001B[1m2s\u001B[0m 102ms/step - accuracy: 0.9983 - loss: 0.0327 - val_accuracy: 0.9919 - val_loss: 0.0487 - learning_rate: 2.0000e-04\n",
      "Epoch 31/70\n",
      "\u001B[1m18/18\u001B[0m \u001B[32m━━━━━━━━━━━━━━━━━━━━\u001B[0m\u001B[37m\u001B[0m \u001B[1m2s\u001B[0m 92ms/step - accuracy: 0.9994 - loss: 0.0187 - val_accuracy: 0.9839 - val_loss: 0.0636 - learning_rate: 2.0000e-04\n",
      "Epoch 32/70\n",
      "\u001B[1m18/18\u001B[0m \u001B[32m━━━━━━━━━━━━━━━━━━━━\u001B[0m\u001B[37m\u001B[0m \u001B[1m2s\u001B[0m 96ms/step - accuracy: 0.9986 - loss: 0.0144 - val_accuracy: 1.0000 - val_loss: 0.0472 - learning_rate: 2.0000e-04\n",
      "Epoch 33/70\n",
      "\u001B[1m18/18\u001B[0m \u001B[32m━━━━━━━━━━━━━━━━━━━━\u001B[0m\u001B[37m\u001B[0m \u001B[1m2s\u001B[0m 93ms/step - accuracy: 1.0000 - loss: 0.0125 - val_accuracy: 0.9839 - val_loss: 0.0541 - learning_rate: 2.0000e-04\n",
      "Epoch 34/70\n",
      "\u001B[1m18/18\u001B[0m \u001B[32m━━━━━━━━━━━━━━━━━━━━\u001B[0m\u001B[37m\u001B[0m \u001B[1m3s\u001B[0m 98ms/step - accuracy: 1.0000 - loss: 0.0130 - val_accuracy: 1.0000 - val_loss: 0.0316 - learning_rate: 2.0000e-04\n",
      "Epoch 35/70\n",
      "\u001B[1m18/18\u001B[0m \u001B[32m━━━━━━━━━━━━━━━━━━━━\u001B[0m\u001B[37m\u001B[0m \u001B[1m2s\u001B[0m 91ms/step - accuracy: 0.9989 - loss: 0.0147 - val_accuracy: 1.0000 - val_loss: 0.0270 - learning_rate: 2.0000e-04\n",
      "Epoch 36/70\n",
      "\u001B[1m18/18\u001B[0m \u001B[32m━━━━━━━━━━━━━━━━━━━━\u001B[0m\u001B[37m\u001B[0m \u001B[1m2s\u001B[0m 89ms/step - accuracy: 0.9991 - loss: 0.0116 - val_accuracy: 1.0000 - val_loss: 0.0195 - learning_rate: 2.0000e-04\n",
      "Epoch 37/70\n",
      "\u001B[1m18/18\u001B[0m \u001B[32m━━━━━━━━━━━━━━━━━━━━\u001B[0m\u001B[37m\u001B[0m \u001B[1m2s\u001B[0m 92ms/step - accuracy: 0.9989 - loss: 0.0102 - val_accuracy: 0.9758 - val_loss: 0.0444 - learning_rate: 2.0000e-04\n",
      "Epoch 38/70\n",
      "\u001B[1m18/18\u001B[0m \u001B[32m━━━━━━━━━━━━━━━━━━━━\u001B[0m\u001B[37m\u001B[0m \u001B[1m2s\u001B[0m 85ms/step - accuracy: 0.9972 - loss: 0.0102 - val_accuracy: 0.9839 - val_loss: 0.0468 - learning_rate: 2.0000e-04\n",
      "Epoch 39/70\n",
      "\u001B[1m18/18\u001B[0m \u001B[32m━━━━━━━━━━━━━━━━━━━━\u001B[0m\u001B[37m\u001B[0m \u001B[1m2s\u001B[0m 90ms/step - accuracy: 0.9972 - loss: 0.0115 - val_accuracy: 0.9919 - val_loss: 0.0412 - learning_rate: 2.0000e-04\n",
      "Epoch 40/70\n",
      "\u001B[1m18/18\u001B[0m \u001B[32m━━━━━━━━━━━━━━━━━━━━\u001B[0m\u001B[37m\u001B[0m \u001B[1m2s\u001B[0m 85ms/step - accuracy: 1.0000 - loss: 0.0084 - val_accuracy: 1.0000 - val_loss: 0.0217 - learning_rate: 4.0000e-05\n",
      "Epoch 41/70\n",
      "\u001B[1m18/18\u001B[0m \u001B[32m━━━━━━━━━━━━━━━━━━━━\u001B[0m\u001B[37m\u001B[0m \u001B[1m1s\u001B[0m 82ms/step - accuracy: 1.0000 - loss: 0.0090 - val_accuracy: 0.9919 - val_loss: 0.0233 - learning_rate: 4.0000e-05\n",
      "\u001B[1m8/8\u001B[0m \u001B[32m━━━━━━━━━━━━━━━━━━━━\u001B[0m\u001B[37m\u001B[0m \u001B[1m1s\u001B[0m 66ms/step\n"
     ]
    },
    {
     "data": {
      "text/plain": [
       "array([[4.01501689e-04, 9.99405026e-01, 9.39732203e-08, 1.93349493e-04],\n",
       "       [9.97116804e-01, 2.79292115e-03, 9.00011073e-05, 2.98453386e-07],\n",
       "       [4.86821216e-03, 9.82760429e-01, 1.06671200e-06, 1.23703377e-02],\n",
       "       [1.04856406e-06, 9.32216644e-04, 3.46913039e-05, 9.99032021e-01],\n",
       "       [2.81064558e-07, 4.11402361e-05, 1.95980276e-04, 9.99762595e-01],\n",
       "       [1.15318551e-04, 6.90725225e-04, 3.49751674e-03, 9.95696425e-01],\n",
       "       [1.37567826e-04, 1.35134425e-04, 1.47215538e-02, 9.85005677e-01],\n",
       "       [2.46211403e-05, 9.99971390e-01, 7.01422778e-08, 3.87693945e-06],\n",
       "       [2.61141686e-04, 9.99225855e-01, 7.06311198e-07, 5.12357918e-04],\n",
       "       [3.58725742e-08, 1.48907304e-04, 3.54350595e-05, 9.99815643e-01],\n",
       "       [2.93638072e-06, 1.18213084e-05, 9.99938846e-01, 4.62965545e-05],\n",
       "       [9.98542309e-01, 1.45719643e-03, 5.06862932e-07, 4.81535558e-08],\n",
       "       [1.38337628e-05, 9.47452863e-05, 2.89297383e-03, 9.96998549e-01],\n",
       "       [9.98419046e-01, 1.57371047e-03, 4.76206097e-09, 7.30157626e-06],\n",
       "       [2.74639311e-09, 3.29262775e-07, 9.98689473e-01, 1.31021801e-03],\n",
       "       [8.54418613e-03, 9.82380509e-01, 8.98833150e-06, 9.06635262e-03],\n",
       "       [1.32081070e-04, 9.99867320e-01, 5.99738655e-07, 4.29601105e-10],\n",
       "       [1.35882786e-07, 6.62463601e-04, 9.55794676e-05, 9.99241829e-01],\n",
       "       [9.96611536e-01, 3.38639156e-03, 9.22918009e-09, 2.01128364e-06],\n",
       "       [1.87568219e-06, 7.16229959e-04, 8.68892472e-04, 9.98412967e-01],\n",
       "       [9.89453673e-01, 1.01314886e-02, 2.39394794e-05, 3.90917587e-04],\n",
       "       [3.52790044e-03, 9.96469021e-01, 1.02043740e-09, 3.06598440e-06],\n",
       "       [9.99006093e-01, 4.41708944e-05, 9.43969178e-04, 5.88030434e-06],\n",
       "       [6.22074804e-05, 9.99885082e-01, 4.13120944e-07, 5.23839990e-05],\n",
       "       [4.14247359e-10, 1.14984701e-07, 9.99631166e-01, 3.68754991e-04],\n",
       "       [6.32086255e-07, 1.52531200e-07, 9.99993682e-01, 5.60892386e-06],\n",
       "       [3.05919931e-03, 9.95559812e-01, 7.33009074e-04, 6.48017507e-04],\n",
       "       [1.08045488e-05, 9.99846220e-01, 6.04483645e-08, 1.42899895e-04],\n",
       "       [1.42074646e-06, 3.84743355e-04, 1.06376316e-03, 9.98550117e-01],\n",
       "       [7.73155762e-08, 4.61087911e-05, 1.16286124e-03, 9.98791039e-01],\n",
       "       [5.07186360e-06, 3.93846085e-06, 9.94511127e-01, 5.47984289e-03],\n",
       "       [5.17176943e-07, 1.26943814e-06, 9.86367047e-01, 1.36312321e-02],\n",
       "       [1.80815026e-04, 6.35692733e-04, 1.99644407e-03, 9.97186959e-01],\n",
       "       [8.00039899e-03, 9.45048928e-01, 6.07594302e-06, 4.69446518e-02],\n",
       "       [9.94783223e-01, 5.21564530e-03, 1.18117917e-07, 1.06735934e-06],\n",
       "       [9.97060716e-01, 2.82600755e-03, 3.62214109e-07, 1.12912938e-04],\n",
       "       [3.90927289e-06, 5.34228889e-07, 9.99983430e-01, 1.20492978e-05],\n",
       "       [1.51310896e-03, 9.98264492e-01, 9.33238269e-08, 2.22247967e-04],\n",
       "       [9.99963880e-01, 2.54413226e-05, 7.99388727e-06, 2.74276977e-06],\n",
       "       [4.76456262e-06, 2.54555466e-03, 1.46794633e-03, 9.95981693e-01],\n",
       "       [9.31404927e-08, 1.75985988e-07, 9.99724090e-01, 2.75551312e-04],\n",
       "       [5.22458720e-07, 1.96239649e-04, 2.61028181e-04, 9.99542236e-01],\n",
       "       [6.34530319e-12, 1.05045617e-08, 9.99999881e-01, 1.19781745e-07],\n",
       "       [1.13124457e-07, 1.54696783e-04, 2.31681097e-05, 9.99822080e-01],\n",
       "       [8.43816963e-07, 5.53656901e-05, 9.88949656e-01, 1.09941931e-02],\n",
       "       [9.99986768e-01, 1.32026871e-05, 7.67834418e-09, 5.52486323e-09],\n",
       "       [4.99589136e-04, 9.99345124e-01, 1.55311529e-04, 1.77566539e-09],\n",
       "       [1.13976584e-03, 9.98776495e-01, 8.62829168e-08, 8.36753097e-05],\n",
       "       [9.98878896e-01, 1.11587765e-03, 1.86867476e-06, 3.34550714e-06],\n",
       "       [9.21223653e-11, 1.80173760e-08, 9.99228835e-01, 7.71167572e-04],\n",
       "       [3.13007949e-05, 9.99968648e-01, 2.49350399e-13, 4.80138018e-09],\n",
       "       [1.76460912e-06, 1.37867937e-06, 9.99105990e-01, 8.90760915e-04],\n",
       "       [4.72473494e-06, 1.89523818e-03, 6.10484816e-02, 9.37051654e-01],\n",
       "       [1.15719823e-09, 1.02112114e-08, 9.99979615e-01, 2.03444743e-05],\n",
       "       [9.99972939e-01, 2.64511691e-05, 2.64615636e-07, 3.31936576e-07],\n",
       "       [9.94898379e-01, 5.07019414e-03, 3.10098185e-05, 4.66819557e-07],\n",
       "       [7.36978764e-05, 9.99926329e-01, 8.68446702e-15, 1.32006663e-11],\n",
       "       [5.35301585e-03, 9.94638741e-01, 8.05636137e-06, 2.63860045e-07],\n",
       "       [1.15539123e-09, 3.04301437e-07, 9.98189628e-01, 1.81008980e-03],\n",
       "       [9.98748541e-01, 1.10743940e-03, 1.43624857e-04, 3.64399511e-07],\n",
       "       [2.16965873e-06, 9.87488020e-05, 9.69494581e-01, 3.04044373e-02],\n",
       "       [5.14785143e-07, 8.08710029e-05, 9.98441756e-01, 1.47693453e-03],\n",
       "       [1.32107950e-10, 2.18614886e-07, 9.99998569e-01, 1.22801964e-06],\n",
       "       [1.26959450e-04, 8.67571944e-05, 9.99571621e-01, 2.14712389e-04],\n",
       "       [6.53117693e-09, 1.39750625e-07, 9.99987721e-01, 1.20956802e-05],\n",
       "       [8.68178759e-05, 3.59420024e-04, 9.72998679e-01, 2.65550893e-02],\n",
       "       [3.10655404e-03, 9.96730208e-01, 2.86913462e-07, 1.62856028e-04],\n",
       "       [4.72469225e-07, 2.96080198e-05, 9.83581543e-01, 1.63883343e-02],\n",
       "       [2.39791807e-05, 9.91790533e-01, 2.56578878e-05, 8.15983303e-03],\n",
       "       [4.55423258e-03, 1.44311473e-01, 2.34642578e-03, 8.48787785e-01],\n",
       "       [6.91903551e-06, 1.58861850e-03, 1.29080145e-03, 9.97113585e-01],\n",
       "       [6.25492976e-05, 1.30501753e-02, 3.26368541e-01, 6.60518706e-01],\n",
       "       [9.99239326e-01, 7.43072771e-04, 8.97791597e-06, 8.69273663e-06],\n",
       "       [6.46744593e-06, 1.21891091e-03, 6.20370321e-02, 9.36737478e-01],\n",
       "       [9.85557616e-01, 1.44002819e-02, 4.01011857e-05, 2.07351377e-06],\n",
       "       [9.94580805e-01, 5.40145766e-03, 9.43426599e-08, 1.76214126e-05],\n",
       "       [5.48819253e-06, 7.33758634e-06, 9.98893917e-01, 1.09325117e-03],\n",
       "       [1.97664800e-08, 5.64299899e-06, 9.99498844e-01, 4.95523273e-04],\n",
       "       [4.97121271e-03, 9.46222991e-03, 2.73923650e-02, 9.58174169e-01],\n",
       "       [3.29742034e-04, 3.34003940e-04, 9.88416076e-01, 1.09202676e-02],\n",
       "       [2.56594550e-02, 7.14129269e-01, 3.98267264e-04, 2.59812981e-01],\n",
       "       [2.74117832e-04, 2.25934554e-02, 4.82590124e-03, 9.72306430e-01],\n",
       "       [8.82935001e-06, 9.99757946e-01, 4.83576230e-07, 2.32810737e-04],\n",
       "       [1.00650014e-02, 9.14943874e-01, 2.88989890e-04, 7.47020766e-02],\n",
       "       [2.23052052e-06, 8.49831791e-04, 1.47239160e-04, 9.99000728e-01],\n",
       "       [1.36901741e-03, 9.97408688e-01, 6.90575416e-06, 1.21542730e-03],\n",
       "       [9.99987125e-01, 1.19230781e-05, 6.60645412e-07, 2.78337239e-07],\n",
       "       [1.84447999e-04, 9.99815524e-01, 3.80042317e-11, 1.71829164e-08],\n",
       "       [1.92738631e-10, 7.87195731e-08, 9.99275506e-01, 7.24432524e-04],\n",
       "       [7.70006359e-01, 2.29868814e-01, 5.52505935e-06, 1.19318131e-04],\n",
       "       [9.99935985e-01, 6.33321688e-05, 5.23179153e-07, 1.89488361e-07],\n",
       "       [5.68303790e-07, 4.69078077e-05, 9.69061136e-01, 3.08914222e-02],\n",
       "       [7.40212909e-06, 1.21439190e-03, 6.24632975e-03, 9.92531836e-01],\n",
       "       [9.84300044e-04, 9.99007642e-01, 5.84055044e-07, 7.55011888e-06],\n",
       "       [9.80183542e-01, 1.98135264e-02, 2.01518947e-06, 8.66020741e-07],\n",
       "       [6.55677286e-04, 9.98562992e-01, 7.81275681e-04, 6.78839314e-08],\n",
       "       [1.98745838e-05, 1.21980021e-03, 2.34425381e-01, 7.64334977e-01],\n",
       "       [4.06128056e-02, 8.94648314e-01, 3.22314736e-04, 6.44165725e-02],\n",
       "       [1.30215250e-02, 9.86534774e-01, 2.80974578e-04, 1.62621058e-04],\n",
       "       [1.78421813e-03, 9.98215795e-01, 9.05566637e-13, 3.40531527e-11],\n",
       "       [5.06598042e-07, 5.00068963e-05, 9.84860957e-03, 9.90100861e-01],\n",
       "       [3.35256154e-05, 1.32752448e-05, 9.99590933e-01, 3.62279301e-04],\n",
       "       [9.96840119e-01, 3.05657811e-03, 1.02075668e-04, 1.21897665e-06],\n",
       "       [6.16210809e-06, 1.79058497e-05, 9.99956727e-01, 1.91219988e-05],\n",
       "       [9.98712897e-01, 1.25163118e-03, 1.19033257e-06, 3.42859566e-05],\n",
       "       [2.31375806e-02, 9.76660252e-01, 6.88281489e-06, 1.95261338e-04],\n",
       "       [9.98765707e-01, 9.75341769e-04, 2.29022335e-04, 2.99378607e-05],\n",
       "       [9.32601324e-05, 3.72324744e-03, 1.71249527e-02, 9.79058564e-01],\n",
       "       [9.55124795e-01, 4.40976396e-02, 7.47144979e-04, 3.04532368e-05],\n",
       "       [5.23711322e-03, 9.94684637e-01, 2.12545160e-07, 7.80807604e-05],\n",
       "       [5.58326719e-05, 7.19770440e-04, 9.86139536e-01, 1.30848605e-02],\n",
       "       [9.10092058e-06, 2.18327134e-03, 9.68034983e-01, 2.97725592e-02],\n",
       "       [4.62007895e-03, 9.95236099e-01, 7.35627418e-06, 1.36449162e-04],\n",
       "       [5.22019320e-07, 5.10191952e-04, 5.93182631e-04, 9.98896003e-01],\n",
       "       [8.73476386e-01, 1.13690853e-01, 2.30367086e-03, 1.05290096e-02],\n",
       "       [5.50131605e-04, 9.99448955e-01, 9.34056459e-07, 1.41649281e-09],\n",
       "       [2.51411420e-05, 2.14440981e-04, 8.47013116e-01, 1.52747288e-01],\n",
       "       [4.02751857e-06, 5.91378380e-03, 8.53816513e-04, 9.93228376e-01],\n",
       "       [1.89290906e-03, 2.38499828e-02, 5.75159304e-03, 9.68505561e-01],\n",
       "       [9.93181407e-01, 6.80057053e-03, 3.12176695e-07, 1.76081685e-05],\n",
       "       [6.91852020e-03, 8.51136912e-03, 5.25055602e-02, 9.32064533e-01],\n",
       "       [9.50032055e-01, 3.81072983e-02, 4.39173030e-03, 7.46893231e-03],\n",
       "       [4.14786045e-05, 5.91689348e-03, 5.38779539e-04, 9.93502915e-01],\n",
       "       [1.16873498e-03, 9.98542070e-01, 1.10121221e-06, 2.88087176e-04]],\n",
       "      dtype=float32)"
      ]
     },
     "execution_count": 6,
     "metadata": {},
     "output_type": "execute_result"
    }
   ],
   "execution_count": 6
  }
 ],
 "metadata": {
  "kernelspec": {
   "display_name": "Python 3",
   "language": "python",
   "name": "python3"
  },
  "language_info": {
   "codemirror_mode": {
    "name": "ipython",
    "version": 2
   },
   "file_extension": ".py",
   "mimetype": "text/x-python",
   "name": "python",
   "nbconvert_exporter": "python",
   "pygments_lexer": "ipython2",
   "version": "2.7.6"
  },
  "colab": {
   "provenance": []
  }
 },
 "nbformat": 4,
 "nbformat_minor": 5
}
