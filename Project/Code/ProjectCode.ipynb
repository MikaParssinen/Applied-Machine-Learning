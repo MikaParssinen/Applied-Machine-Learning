{
 "cells": [
  {
   "cell_type": "markdown",
   "source": [
    "# DVA263 project"
   ],
   "metadata": {
    "id": "Iz1_HZ5_QpML"
   },
   "id": "Iz1_HZ5_QpML"
  },
  {
   "cell_type": "markdown",
   "source": [
    "# Libraries\n",
    "\n",
    "Declaring all libraries in use"
   ],
   "metadata": {
    "id": "glwLHuRHxHOg"
   },
   "id": "glwLHuRHxHOg"
  },
  {
   "cell_type": "code",
   "source": [
    "from matplotlib import pyplot as plt\n",
    "from tensorflow.keras.models import Sequential\n",
    "from tensorflow.keras.layers import Conv2D, MaxPooling2D, Flatten, Dense, Dropout\n",
    "from tensorflow.keras.utils import to_categorical\n",
    "from tensorflow.keras.optimizers import Adam\n",
    "from tensorflow.keras.regularizers import L2\n",
    "import os\n",
    "import cnn as cnn\n",
    "import preprocessing as pre\n",
    "import visualization as vis\n",
    "import numpy as np\n",
    "import matplotlib.pyplot as plt\n",
    "import tensorflow as tf\n",
    "import seaborn as sns\n",
    "\n",
    "from Project.Code.preprocessing import convert_to_numpy\n",
    "\n"
   ],
   "metadata": {
    "id": "3D3Svn8oxksw",
    "ExecuteTime": {
     "end_time": "2025-01-16T10:57:30.441061Z",
     "start_time": "2025-01-16T10:57:30.409539Z"
    }
   },
   "id": "3D3Svn8oxksw",
   "outputs": [],
   "execution_count": 34
  },
  {
   "cell_type": "markdown",
   "source": [
    "# Load Dataset"
   ],
   "metadata": {
    "id": "fBAFQo5H0FdD"
   },
   "id": "fBAFQo5H0FdD"
  },
  {
   "cell_type": "code",
   "source": [
    "def load_cnn():\n",
    "    \"\"\"Load the datasets for the CNN input\"\"\"\n",
    "    CNN_train = \"../dataset/CNN_Input/train/\"\n",
    "    CNN_test = \"../dataset/CNN_Input/test/\"\n",
    "    CNN_train = pre.import_images(CNN_train, (150,150),batch_size=16, dataset=True)\n",
    "    CNN_test = pre.import_images(CNN_test, (150,150), batch_size=16,  dataset=True)\n",
    "    return CNN_train, CNN_test"
   ],
   "metadata": {
    "id": "P9EcdLxk0MJT",
    "ExecuteTime": {
     "end_time": "2025-01-16T10:57:30.456335Z",
     "start_time": "2025-01-16T10:57:30.445173Z"
    }
   },
   "id": "P9EcdLxk0MJT",
   "outputs": [],
   "execution_count": 35
  },
  {
   "metadata": {
    "ExecuteTime": {
     "end_time": "2025-01-16T10:57:30.490187Z",
     "start_time": "2025-01-16T10:57:30.474471Z"
    }
   },
   "cell_type": "code",
   "source": [
    "def load(image_size):\n",
    "    train_path = \"../dataset/Project/train/\"\n",
    "    test_path = \"../dataset/Project/test/\"\n",
    "\n",
    "    CNN_train = pre.import_images(train_path, image_size, dataset=True)\n",
    "    ALL_test = pre.import_images(test_path, image_size, dataset=True)\n",
    "    \n",
    "    print(ALL_test)\n",
    "    y_test, X_test = convert_to_numpy(ALL_test)\n",
    "    return y_test, X_test"
   ],
   "id": "83999e1ee463a4f6",
   "outputs": [],
   "execution_count": 36
  },
  {
   "metadata": {
    "ExecuteTime": {
     "end_time": "2025-01-16T10:57:30.743109Z",
     "start_time": "2025-01-16T10:57:30.505849Z"
    }
   },
   "cell_type": "code",
   "source": [
    "image_size = (152, 152)\n",
    "\n",
    "y_test, X_test = load(image_size)\n",
    "\n",
    "print(y_test.shape)\n",
    "print(X_test.shape)\n",
    "\n",
    "#for label in y_test: \n",
    "    #print(label)"
   ],
   "id": "bda632306a173272",
   "outputs": [
    {
     "name": "stdout",
     "output_type": "stream",
     "text": [
      "Found 259 files belonging to 4 classes.\n",
      "Found 33 files belonging to 4 classes.\n",
      "<_PrefetchDataset element_spec=(TensorSpec(shape=(152, 152, 3), dtype=tf.float32, name=None), TensorSpec(shape=(4,), dtype=tf.float32, name=None))>\n",
      "(132,)\n",
      "(5016, 152, 3)\n"
     ]
    }
   ],
   "execution_count": 37
  },
  {
   "cell_type": "markdown",
   "source": [
    "# Prepare Data"
   ],
   "metadata": {
    "id": "C7JZMmJc1Y4q"
   },
   "id": "C7JZMmJc1Y4q"
  },
  {
   "cell_type": "code",
   "source": [
    "def prep_cnn(cnn_train, cnn_test):\n",
    "    \"\"\"Add noise images to train and test set and normalize\"\"\"\n",
    "    g_noisy_train_data = cnn_train.map(pre.add_gaussian_noise)\n",
    "    snp_noisy_train_data = cnn_train.map(pre.add_salt_and_pepper_noise)\n",
    "    combined_train_data = cnn_train.concatenate(g_noisy_train_data).concatenate(snp_noisy_train_data)\n",
    "\n",
    "    percentage_noisy_images = 0.2\n",
    "    total_test_images = len(CNN_test) * 16  # Total images in test data\n",
    "    num_noisy_images = int(total_test_images * percentage_noisy_images)\n",
    "\n",
    "    g_noisy_test_data = cnn_test.take(num_noisy_images).map(pre.add_gaussian_noise)\n",
    "    snp_noisy_test_data = cnn_test.take(num_noisy_images).map(pre.add_salt_and_pepper_noise)\n",
    "    remaining_test_data = cnn_test.skip(num_noisy_images)\n",
    "\n",
    "    combined_test_data = g_noisy_test_data.concatenate(remaining_test_data)\n",
    "    combined_test_data = combined_test_data.concatenate(snp_noisy_test_data)\n",
    "\n",
    "    test_data_norm, train_data_norm = pre.normalize_dataset(combined_train_data, combined_test_data)\n",
    "    return train_data_norm, test_data_norm\n"
   ],
   "metadata": {
    "id": "C5oxNrJF1dzC",
    "ExecuteTime": {
     "end_time": "2025-01-16T10:57:30.774816Z",
     "start_time": "2025-01-16T10:57:30.760289Z"
    }
   },
   "id": "C5oxNrJF1dzC",
   "outputs": [],
   "execution_count": 38
  },
  {
   "cell_type": "markdown",
   "source": "# Build and Compile Model",
   "metadata": {
    "id": "QxKIKd961t1a"
   },
   "id": "QxKIKd961t1a"
  },
  {
   "cell_type": "code",
   "source": [
    "def build_cnn():\n",
    "    model = cnn.build_cnn_model()\n",
    "    return model"
   ],
   "metadata": {
    "id": "1IJY7T_a100q",
    "ExecuteTime": {
     "end_time": "2025-01-16T10:57:31.032783Z",
     "start_time": "2025-01-16T10:57:30.790732Z"
    }
   },
   "id": "1IJY7T_a100q",
   "outputs": [],
   "execution_count": 39
  },
  {
   "cell_type": "markdown",
   "source": "#  Train Model",
   "metadata": {
    "id": "h-BLAVMT19xB"
   },
   "id": "h-BLAVMT19xB"
  },
  {
   "cell_type": "code",
   "source": [
    "def train_cnn(model,cnn_train, cnn_test):\n",
    "    history = cnn.train_model(model, cnn_train, cnn_test)\n",
    "    return history"
   ],
   "metadata": {
    "id": "HKkxhb442AUZ",
    "ExecuteTime": {
     "end_time": "2025-01-16T10:57:31.238643Z",
     "start_time": "2025-01-16T10:57:31.049610Z"
    }
   },
   "id": "HKkxhb442AUZ",
   "outputs": [],
   "execution_count": 40
  },
  {
   "cell_type": "markdown",
   "source": [
    "# Putting everything together\n",
    "\n",
    "Main section putting each part together and running the classification task"
   ],
   "metadata": {
    "id": "nfCocLzz2ISR"
   },
   "id": "nfCocLzz2ISR"
  },
  {
   "cell_type": "code",
   "source": [
    "CNN_train, CNN_test = load_cnn()\n",
    "CNN_train, CNN_test = prep_cnn(CNN_train, CNN_test)\n",
    "\n",
    "CNN_model = build_cnn()\n",
    "CNN_history = train_cnn(CNN_model, CNN_train, CNN_test)\n",
    "CNN_model.predict(CNN_test)\n"
   ],
   "metadata": {
    "id": "u08HtNXI2ZPa",
    "ExecuteTime": {
     "end_time": "2025-01-16T10:58:13.958692Z",
     "start_time": "2025-01-16T10:57:31.256535Z"
    }
   },
   "id": "u08HtNXI2ZPa",
   "outputs": [
    {
     "name": "stdout",
     "output_type": "stream",
     "text": [
      "Found 83 files belonging to 4 classes.\n",
      "Found 62 files belonging to 4 classes.\n",
      "Epoch 1/70\n",
      "\u001B[1m18/18\u001B[0m \u001B[32m━━━━━━━━━━━━━━━━━━━━\u001B[0m\u001B[37m\u001B[0m \u001B[1m2s\u001B[0m 69ms/step - accuracy: 0.2582 - loss: 1.4034 - val_accuracy: 0.2742 - val_loss: 1.3853 - learning_rate: 0.0010\n",
      "Epoch 2/70\n",
      "\u001B[1m18/18\u001B[0m \u001B[32m━━━━━━━━━━━━━━━━━━━━\u001B[0m\u001B[37m\u001B[0m \u001B[1m1s\u001B[0m 60ms/step - accuracy: 0.2373 - loss: 1.3864 - val_accuracy: 0.2258 - val_loss: 1.3853 - learning_rate: 0.0010\n",
      "Epoch 3/70\n",
      "\u001B[1m18/18\u001B[0m \u001B[32m━━━━━━━━━━━━━━━━━━━━\u001B[0m\u001B[37m\u001B[0m \u001B[1m1s\u001B[0m 58ms/step - accuracy: 0.3012 - loss: 1.3828 - val_accuracy: 0.2742 - val_loss: 1.3798 - learning_rate: 0.0010\n",
      "Epoch 4/70\n",
      "\u001B[1m18/18\u001B[0m \u001B[32m━━━━━━━━━━━━━━━━━━━━\u001B[0m\u001B[37m\u001B[0m \u001B[1m1s\u001B[0m 60ms/step - accuracy: 0.2761 - loss: 1.3761 - val_accuracy: 0.4032 - val_loss: 1.3776 - learning_rate: 0.0010\n",
      "Epoch 5/70\n",
      "\u001B[1m18/18\u001B[0m \u001B[32m━━━━━━━━━━━━━━━━━━━━\u001B[0m\u001B[37m\u001B[0m \u001B[1m1s\u001B[0m 60ms/step - accuracy: 0.4479 - loss: 1.3726 - val_accuracy: 0.3306 - val_loss: 1.3554 - learning_rate: 0.0010\n",
      "Epoch 6/70\n",
      "\u001B[1m18/18\u001B[0m \u001B[32m━━━━━━━━━━━━━━━━━━━━\u001B[0m\u001B[37m\u001B[0m \u001B[1m1s\u001B[0m 60ms/step - accuracy: 0.4010 - loss: 1.3406 - val_accuracy: 0.3226 - val_loss: 1.3347 - learning_rate: 0.0010\n",
      "Epoch 7/70\n",
      "\u001B[1m18/18\u001B[0m \u001B[32m━━━━━━━━━━━━━━━━━━━━\u001B[0m\u001B[37m\u001B[0m \u001B[1m1s\u001B[0m 60ms/step - accuracy: 0.3759 - loss: 1.2931 - val_accuracy: 0.4194 - val_loss: 1.2093 - learning_rate: 0.0010\n",
      "Epoch 8/70\n",
      "\u001B[1m18/18\u001B[0m \u001B[32m━━━━━━━━━━━━━━━━━━━━\u001B[0m\u001B[37m\u001B[0m \u001B[1m1s\u001B[0m 61ms/step - accuracy: 0.4938 - loss: 1.1519 - val_accuracy: 0.6048 - val_loss: 1.0399 - learning_rate: 0.0010\n",
      "Epoch 9/70\n",
      "\u001B[1m18/18\u001B[0m \u001B[32m━━━━━━━━━━━━━━━━━━━━\u001B[0m\u001B[37m\u001B[0m \u001B[1m1s\u001B[0m 63ms/step - accuracy: 0.4847 - loss: 1.0520 - val_accuracy: 0.5565 - val_loss: 1.0338 - learning_rate: 0.0010\n",
      "Epoch 10/70\n",
      "\u001B[1m18/18\u001B[0m \u001B[32m━━━━━━━━━━━━━━━━━━━━\u001B[0m\u001B[37m\u001B[0m \u001B[1m1s\u001B[0m 60ms/step - accuracy: 0.5818 - loss: 0.9508 - val_accuracy: 0.5081 - val_loss: 0.9998 - learning_rate: 0.0010\n",
      "Epoch 11/70\n",
      "\u001B[1m18/18\u001B[0m \u001B[32m━━━━━━━━━━━━━━━━━━━━\u001B[0m\u001B[37m\u001B[0m \u001B[1m1s\u001B[0m 61ms/step - accuracy: 0.6482 - loss: 0.8263 - val_accuracy: 0.6694 - val_loss: 0.7764 - learning_rate: 0.0010\n",
      "Epoch 12/70\n",
      "\u001B[1m18/18\u001B[0m \u001B[32m━━━━━━━━━━━━━━━━━━━━\u001B[0m\u001B[37m\u001B[0m \u001B[1m1s\u001B[0m 61ms/step - accuracy: 0.7764 - loss: 0.5830 - val_accuracy: 0.7903 - val_loss: 0.5606 - learning_rate: 0.0010\n",
      "Epoch 13/70\n",
      "\u001B[1m18/18\u001B[0m \u001B[32m━━━━━━━━━━━━━━━━━━━━\u001B[0m\u001B[37m\u001B[0m \u001B[1m1s\u001B[0m 62ms/step - accuracy: 0.8382 - loss: 0.4365 - val_accuracy: 0.7742 - val_loss: 0.4844 - learning_rate: 0.0010\n",
      "Epoch 14/70\n",
      "\u001B[1m18/18\u001B[0m \u001B[32m━━━━━━━━━━━━━━━━━━━━\u001B[0m\u001B[37m\u001B[0m \u001B[1m1s\u001B[0m 64ms/step - accuracy: 0.7976 - loss: 0.4584 - val_accuracy: 0.8790 - val_loss: 0.3907 - learning_rate: 0.0010\n",
      "Epoch 15/70\n",
      "\u001B[1m18/18\u001B[0m \u001B[32m━━━━━━━━━━━━━━━━━━━━\u001B[0m\u001B[37m\u001B[0m \u001B[1m1s\u001B[0m 61ms/step - accuracy: 0.8651 - loss: 0.3190 - val_accuracy: 0.8468 - val_loss: 0.3348 - learning_rate: 0.0010\n",
      "Epoch 16/70\n",
      "\u001B[1m18/18\u001B[0m \u001B[32m━━━━━━━━━━━━━━━━━━━━\u001B[0m\u001B[37m\u001B[0m \u001B[1m1s\u001B[0m 63ms/step - accuracy: 0.9155 - loss: 0.2150 - val_accuracy: 0.8145 - val_loss: 0.4959 - learning_rate: 0.0010\n",
      "Epoch 17/70\n",
      "\u001B[1m18/18\u001B[0m \u001B[32m━━━━━━━━━━━━━━━━━━━━\u001B[0m\u001B[37m\u001B[0m \u001B[1m1s\u001B[0m 64ms/step - accuracy: 0.8787 - loss: 0.3778 - val_accuracy: 0.8710 - val_loss: 0.3489 - learning_rate: 0.0010\n",
      "Epoch 18/70\n",
      "\u001B[1m18/18\u001B[0m \u001B[32m━━━━━━━━━━━━━━━━━━━━\u001B[0m\u001B[37m\u001B[0m \u001B[1m1s\u001B[0m 70ms/step - accuracy: 0.8800 - loss: 0.2514 - val_accuracy: 0.9032 - val_loss: 0.2478 - learning_rate: 0.0010\n",
      "Epoch 19/70\n",
      "\u001B[1m18/18\u001B[0m \u001B[32m━━━━━━━━━━━━━━━━━━━━\u001B[0m\u001B[37m\u001B[0m \u001B[1m1s\u001B[0m 66ms/step - accuracy: 0.9257 - loss: 0.1766 - val_accuracy: 0.8952 - val_loss: 0.3344 - learning_rate: 0.0010\n",
      "Epoch 20/70\n",
      "\u001B[1m18/18\u001B[0m \u001B[32m━━━━━━━━━━━━━━━━━━━━\u001B[0m\u001B[37m\u001B[0m \u001B[1m1s\u001B[0m 61ms/step - accuracy: 0.9233 - loss: 0.2097 - val_accuracy: 0.9597 - val_loss: 0.1324 - learning_rate: 0.0010\n",
      "Epoch 21/70\n",
      "\u001B[1m18/18\u001B[0m \u001B[32m━━━━━━━━━━━━━━━━━━━━\u001B[0m\u001B[37m\u001B[0m \u001B[1m1s\u001B[0m 62ms/step - accuracy: 0.9472 - loss: 0.1137 - val_accuracy: 0.9355 - val_loss: 0.1884 - learning_rate: 0.0010\n",
      "Epoch 22/70\n",
      "\u001B[1m18/18\u001B[0m \u001B[32m━━━━━━━━━━━━━━━━━━━━\u001B[0m\u001B[37m\u001B[0m \u001B[1m1s\u001B[0m 61ms/step - accuracy: 0.9339 - loss: 0.1520 - val_accuracy: 0.9113 - val_loss: 0.2956 - learning_rate: 0.0010\n",
      "Epoch 23/70\n",
      "\u001B[1m18/18\u001B[0m \u001B[32m━━━━━━━━━━━━━━━━━━━━\u001B[0m\u001B[37m\u001B[0m \u001B[1m1s\u001B[0m 61ms/step - accuracy: 0.9444 - loss: 0.1280 - val_accuracy: 0.9758 - val_loss: 0.1058 - learning_rate: 0.0010\n",
      "Epoch 24/70\n",
      "\u001B[1m18/18\u001B[0m \u001B[32m━━━━━━━━━━━━━━━━━━━━\u001B[0m\u001B[37m\u001B[0m \u001B[1m1s\u001B[0m 61ms/step - accuracy: 0.9547 - loss: 0.1065 - val_accuracy: 0.9758 - val_loss: 0.0935 - learning_rate: 0.0010\n",
      "Epoch 25/70\n",
      "\u001B[1m18/18\u001B[0m \u001B[32m━━━━━━━━━━━━━━━━━━━━\u001B[0m\u001B[37m\u001B[0m \u001B[1m1s\u001B[0m 61ms/step - accuracy: 0.9952 - loss: 0.0367 - val_accuracy: 0.9839 - val_loss: 0.0432 - learning_rate: 0.0010\n",
      "Epoch 26/70\n",
      "\u001B[1m18/18\u001B[0m \u001B[32m━━━━━━━━━━━━━━━━━━━━\u001B[0m\u001B[37m\u001B[0m \u001B[1m1s\u001B[0m 61ms/step - accuracy: 0.9986 - loss: 0.0160 - val_accuracy: 0.9839 - val_loss: 0.0473 - learning_rate: 0.0010\n",
      "Epoch 27/70\n",
      "\u001B[1m18/18\u001B[0m \u001B[32m━━━━━━━━━━━━━━━━━━━━\u001B[0m\u001B[37m\u001B[0m \u001B[1m1s\u001B[0m 60ms/step - accuracy: 0.9986 - loss: 0.0146 - val_accuracy: 0.9677 - val_loss: 0.0849 - learning_rate: 0.0010\n",
      "Epoch 28/70\n",
      "\u001B[1m18/18\u001B[0m \u001B[32m━━━━━━━━━━━━━━━━━━━━\u001B[0m\u001B[37m\u001B[0m \u001B[1m1s\u001B[0m 63ms/step - accuracy: 0.9954 - loss: 0.0325 - val_accuracy: 0.9597 - val_loss: 0.1180 - learning_rate: 0.0010\n",
      "Epoch 29/70\n",
      "\u001B[1m18/18\u001B[0m \u001B[32m━━━━━━━━━━━━━━━━━━━━\u001B[0m\u001B[37m\u001B[0m \u001B[1m1s\u001B[0m 61ms/step - accuracy: 0.9966 - loss: 0.0255 - val_accuracy: 0.9919 - val_loss: 0.0455 - learning_rate: 2.0000e-04\n",
      "Epoch 30/70\n",
      "\u001B[1m18/18\u001B[0m \u001B[32m━━━━━━━━━━━━━━━━━━━━\u001B[0m\u001B[37m\u001B[0m \u001B[1m1s\u001B[0m 61ms/step - accuracy: 1.0000 - loss: 0.0125 - val_accuracy: 1.0000 - val_loss: 0.0218 - learning_rate: 2.0000e-04\n",
      "Epoch 31/70\n",
      "\u001B[1m18/18\u001B[0m \u001B[32m━━━━━━━━━━━━━━━━━━━━\u001B[0m\u001B[37m\u001B[0m \u001B[1m1s\u001B[0m 62ms/step - accuracy: 1.0000 - loss: 0.0095 - val_accuracy: 0.9919 - val_loss: 0.0346 - learning_rate: 2.0000e-04\n",
      "Epoch 32/70\n",
      "\u001B[1m18/18\u001B[0m \u001B[32m━━━━━━━━━━━━━━━━━━━━\u001B[0m\u001B[37m\u001B[0m \u001B[1m1s\u001B[0m 61ms/step - accuracy: 0.9977 - loss: 0.0140 - val_accuracy: 0.9758 - val_loss: 0.0455 - learning_rate: 2.0000e-04\n",
      "Epoch 33/70\n",
      "\u001B[1m18/18\u001B[0m \u001B[32m━━━━━━━━━━━━━━━━━━━━\u001B[0m\u001B[37m\u001B[0m \u001B[1m1s\u001B[0m 63ms/step - accuracy: 0.9946 - loss: 0.0145 - val_accuracy: 0.9919 - val_loss: 0.0288 - learning_rate: 2.0000e-04\n",
      "Epoch 34/70\n",
      "\u001B[1m18/18\u001B[0m \u001B[32m━━━━━━━━━━━━━━━━━━━━\u001B[0m\u001B[37m\u001B[0m \u001B[1m1s\u001B[0m 61ms/step - accuracy: 1.0000 - loss: 0.0087 - val_accuracy: 1.0000 - val_loss: 0.0242 - learning_rate: 4.0000e-05\n",
      "Epoch 35/70\n",
      "\u001B[1m18/18\u001B[0m \u001B[32m━━━━━━━━━━━━━━━━━━━━\u001B[0m\u001B[37m\u001B[0m \u001B[1m1s\u001B[0m 61ms/step - accuracy: 1.0000 - loss: 0.0074 - val_accuracy: 0.9919 - val_loss: 0.0248 - learning_rate: 4.0000e-05\n",
      "\u001B[1m8/8\u001B[0m \u001B[32m━━━━━━━━━━━━━━━━━━━━\u001B[0m\u001B[37m\u001B[0m \u001B[1m0s\u001B[0m 40ms/step\n"
     ]
    },
    {
     "data": {
      "text/plain": [
       "array([[9.44427215e-04, 4.63477150e-03, 3.07910936e-03, 9.91341650e-01],\n",
       "       [4.22051846e-04, 9.99385595e-01, 1.87288088e-10, 1.92299776e-04],\n",
       "       [3.17353370e-05, 2.21923801e-06, 9.99158382e-01, 8.07775243e-04],\n",
       "       [1.54788583e-03, 9.98430550e-01, 6.31627063e-06, 1.52828634e-05],\n",
       "       [3.74128774e-07, 2.77674360e-07, 9.77351487e-01, 2.26478633e-02],\n",
       "       [9.99741018e-01, 2.53549457e-04, 5.39943176e-06, 3.46967397e-08],\n",
       "       [1.23234747e-06, 9.99988079e-01, 8.66503758e-10, 1.07452552e-05],\n",
       "       [9.98825371e-01, 1.17161474e-03, 2.65257540e-06, 4.29283403e-07],\n",
       "       [4.51234449e-03, 9.94784772e-01, 2.12390262e-07, 7.02685036e-04],\n",
       "       [4.11388419e-06, 4.25321935e-03, 2.18531757e-04, 9.95524168e-01],\n",
       "       [6.90035307e-10, 1.68413354e-08, 9.99818623e-01, 1.81431795e-04],\n",
       "       [9.99995112e-01, 4.92226036e-06, 5.74355785e-10, 3.15094750e-09],\n",
       "       [9.98329461e-01, 1.67028781e-03, 2.84933549e-07, 4.87245408e-08],\n",
       "       [9.81687263e-05, 4.44655188e-06, 9.97689843e-01, 2.20759585e-03],\n",
       "       [8.63566675e-05, 3.63948266e-03, 1.45003386e-03, 9.94824171e-01],\n",
       "       [2.81169807e-04, 9.99718845e-01, 1.04312175e-12, 1.13215504e-09],\n",
       "       [9.99617934e-01, 3.82005179e-04, 9.06294397e-12, 1.36893302e-10],\n",
       "       [3.45941116e-05, 9.99965429e-01, 1.24788957e-09, 2.02218531e-09],\n",
       "       [1.15481371e-05, 1.44956706e-04, 4.11604606e-02, 9.58683074e-01],\n",
       "       [6.14520513e-06, 4.07758355e-03, 4.76173684e-03, 9.91154432e-01],\n",
       "       [9.98980820e-01, 1.01742416e-03, 6.71120475e-08, 1.58434375e-06],\n",
       "       [6.09543786e-05, 9.99805748e-01, 5.82816684e-09, 1.33388603e-04],\n",
       "       [8.09710400e-05, 9.99807417e-01, 1.66504266e-09, 1.11729045e-04],\n",
       "       [2.36805220e-09, 1.09791252e-08, 9.99054730e-01, 9.45268665e-04],\n",
       "       [3.25977055e-07, 5.35081426e-07, 9.96725321e-01, 3.27378674e-03],\n",
       "       [5.48771050e-06, 2.70241289e-05, 9.75573897e-01, 2.43935809e-02],\n",
       "       [9.99834895e-01, 1.65058533e-04, 5.21627175e-13, 6.64482219e-11],\n",
       "       [5.76983120e-06, 4.37993695e-05, 1.26273846e-02, 9.87323105e-01],\n",
       "       [9.24467982e-04, 9.99075532e-01, 7.18202164e-11, 8.29811719e-10],\n",
       "       [9.98951793e-01, 1.00563990e-03, 1.51891768e-07, 4.24804348e-05],\n",
       "       [5.63834328e-06, 1.11866705e-02, 4.44955826e-02, 9.44312036e-01],\n",
       "       [5.07681580e-06, 3.35221957e-05, 9.99142051e-01, 8.19302513e-04],\n",
       "       [1.52478155e-04, 9.99847531e-01, 1.35864790e-19, 6.51890532e-15],\n",
       "       [7.97961911e-05, 6.82312995e-03, 4.25471488e-04, 9.92671609e-01],\n",
       "       [1.19203751e-05, 9.99967337e-01, 4.95176433e-09, 2.07044268e-05],\n",
       "       [3.40870138e-05, 2.54013576e-03, 1.54060766e-03, 9.95885193e-01],\n",
       "       [2.40234408e-06, 6.27171630e-06, 9.61921990e-01, 3.80693115e-02],\n",
       "       [6.31830626e-05, 4.18234093e-04, 1.88393649e-02, 9.80679154e-01],\n",
       "       [5.42873181e-07, 1.77970819e-07, 9.99732673e-01, 2.66527437e-04],\n",
       "       [1.00173418e-06, 9.99999046e-01, 6.87936062e-25, 9.28695707e-21],\n",
       "       [1.65510172e-09, 3.46107676e-08, 9.98499036e-01, 1.50092063e-03],\n",
       "       [9.99999762e-01, 2.16227335e-07, 3.23677229e-13, 4.21221678e-13],\n",
       "       [6.14970986e-06, 9.66436812e-04, 1.04536151e-03, 9.97982025e-01],\n",
       "       [1.89653510e-05, 6.71978705e-05, 9.39907014e-01, 6.00068159e-02],\n",
       "       [9.99994040e-01, 2.50521043e-06, 2.95758218e-06, 5.32360957e-07],\n",
       "       [9.99735534e-01, 2.64426111e-04, 6.62564725e-11, 7.19348969e-10],\n",
       "       [5.07766384e-10, 6.03894037e-08, 9.97776091e-01, 2.22381507e-03],\n",
       "       [9.97982502e-01, 2.01750989e-03, 8.63869792e-16, 3.80831271e-13],\n",
       "       [9.99582708e-01, 4.17122763e-04, 1.31788613e-09, 1.43187066e-07],\n",
       "       [9.51753191e-06, 2.56665371e-04, 7.20827142e-03, 9.92525578e-01],\n",
       "       [9.53749812e-04, 1.57655329e-02, 7.00231036e-03, 9.76278424e-01],\n",
       "       [4.03710816e-04, 2.91226897e-03, 3.65978964e-02, 9.60086048e-01],\n",
       "       [7.54543095e-11, 4.15634149e-09, 9.99997377e-01, 2.59145668e-06],\n",
       "       [2.57013380e-05, 9.99973655e-01, 6.96660834e-07, 1.09551046e-09],\n",
       "       [3.36368398e-11, 4.39014575e-10, 9.99368131e-01, 6.31879142e-04],\n",
       "       [2.74182753e-06, 9.99996901e-01, 3.81645160e-09, 3.10009767e-07],\n",
       "       [5.05446747e-04, 9.99480307e-01, 6.29346408e-10, 1.43460111e-05],\n",
       "       [2.26531876e-03, 9.97460723e-01, 4.16016199e-08, 2.73789017e-04],\n",
       "       [1.41191936e-06, 1.42785283e-02, 1.69463502e-03, 9.84025538e-01],\n",
       "       [1.39769289e-08, 2.04597697e-07, 9.98231113e-01, 1.76874117e-03],\n",
       "       [9.99874949e-01, 1.24904414e-04, 6.46744854e-12, 1.15941326e-07],\n",
       "       [3.01512773e-04, 9.99697566e-01, 6.00834243e-11, 9.74752083e-07],\n",
       "       [1.02755046e-02, 9.89589870e-01, 1.33939742e-04, 7.36520121e-07],\n",
       "       [3.98815493e-04, 7.62723039e-06, 9.85760033e-01, 1.38335126e-02],\n",
       "       [2.25913100e-05, 9.99799073e-01, 1.73615524e-06, 1.76686444e-04],\n",
       "       [7.34744435e-06, 6.07281830e-03, 9.22876000e-02, 9.01632249e-01],\n",
       "       [2.79429872e-02, 1.19072944e-01, 1.56217150e-03, 8.51421833e-01],\n",
       "       [1.89035296e-01, 8.10961545e-01, 1.91257257e-07, 2.95310451e-06],\n",
       "       [1.18503708e-03, 9.98814940e-01, 9.67694991e-09, 9.33469213e-09],\n",
       "       [2.61852567e-10, 6.63922739e-09, 9.95638430e-01, 4.36154520e-03],\n",
       "       [7.86633700e-06, 6.12344546e-03, 6.58315490e-04, 9.93210375e-01],\n",
       "       [9.99764264e-01, 1.73544264e-04, 1.67474573e-05, 4.53390458e-05],\n",
       "       [4.32606284e-05, 1.23113525e-04, 1.89456008e-02, 9.80888009e-01],\n",
       "       [9.99996185e-01, 3.81422069e-06, 7.97143879e-11, 3.15343918e-10],\n",
       "       [1.44000398e-04, 1.08666181e-05, 9.97093797e-01, 2.75135366e-03],\n",
       "       [2.10307873e-04, 9.98583913e-01, 6.25733321e-07, 1.20519823e-03],\n",
       "       [1.71058103e-02, 1.40313298e-01, 3.86813795e-03, 8.38712871e-01],\n",
       "       [1.03057601e-01, 1.49563119e-01, 1.38430744e-02, 7.33536243e-01],\n",
       "       [5.00598617e-05, 1.68330688e-03, 1.44878868e-02, 9.83778775e-01],\n",
       "       [9.99988556e-01, 1.13541519e-05, 4.22649720e-08, 6.64005029e-08],\n",
       "       [9.98172879e-01, 1.58445293e-03, 2.04763492e-04, 3.78199438e-05],\n",
       "       [2.61786504e-09, 3.76929080e-07, 9.96351719e-01, 3.64793488e-03],\n",
       "       [3.45117223e-05, 6.77318051e-02, 5.60077466e-02, 8.76225948e-01],\n",
       "       [9.99275625e-01, 7.24386307e-04, 1.93937951e-13, 4.67273512e-11],\n",
       "       [1.39009644e-04, 7.40141841e-04, 2.66387835e-02, 9.72482085e-01],\n",
       "       [1.02322446e-02, 9.89590943e-01, 2.27596338e-05, 1.54116409e-04],\n",
       "       [9.07172762e-06, 2.71844328e-05, 9.97758508e-01, 2.20519979e-03],\n",
       "       [1.26115851e-09, 8.85041302e-08, 9.99956608e-01, 4.33465575e-05],\n",
       "       [3.48664777e-08, 1.36180759e-07, 9.97793317e-01, 2.20653252e-03],\n",
       "       [1.54782698e-04, 1.39988770e-04, 8.94828379e-01, 1.04876906e-01],\n",
       "       [4.60344418e-05, 1.27078878e-04, 7.70620942e-01, 2.29205981e-01],\n",
       "       [1.47928162e-07, 3.92048014e-06, 9.74896014e-01, 2.50999033e-02],\n",
       "       [6.72844704e-04, 9.99314547e-01, 2.15248974e-08, 1.26827881e-05],\n",
       "       [4.41152915e-05, 9.00856412e-06, 9.96762276e-01, 3.18455673e-03],\n",
       "       [9.99513388e-01, 4.86520090e-04, 2.90027313e-09, 1.43808393e-07],\n",
       "       [9.99533892e-01, 4.64576209e-04, 1.35530351e-10, 1.49558764e-06],\n",
       "       [2.84422917e-04, 9.99706686e-01, 2.59345545e-09, 8.87380520e-06],\n",
       "       [1.47814834e-02, 1.53034534e-02, 8.33511502e-02, 8.86563957e-01],\n",
       "       [9.97977078e-01, 1.81947928e-03, 1.85480283e-04, 1.80104234e-05],\n",
       "       [9.99936819e-01, 6.31249713e-05, 1.71857888e-08, 6.96379630e-08],\n",
       "       [2.65897764e-03, 9.96464968e-01, 5.40610356e-09, 8.76031059e-04],\n",
       "       [9.98876989e-01, 1.11482677e-03, 7.98774181e-06, 1.93689488e-07],\n",
       "       [1.91912704e-06, 8.12039332e-07, 9.98443782e-01, 1.55353500e-03],\n",
       "       [3.16711999e-02, 9.13679063e-01, 1.19815631e-04, 5.45299053e-02],\n",
       "       [2.19215890e-05, 3.44178826e-02, 6.84289634e-03, 9.58717346e-01],\n",
       "       [1.95685844e-03, 9.98043060e-01, 5.38212643e-17, 1.92927000e-13],\n",
       "       [1.37824085e-04, 1.58197414e-02, 1.61541952e-03, 9.82427120e-01],\n",
       "       [1.38457719e-04, 9.98733819e-01, 2.84180942e-07, 1.12745247e-03],\n",
       "       [9.99513268e-01, 4.86698264e-04, 5.96917862e-11, 9.55708179e-10],\n",
       "       [1.49769203e-05, 9.99669075e-01, 3.24729228e-07, 3.15727579e-04],\n",
       "       [9.96276259e-01, 3.60359461e-03, 2.63432480e-06, 1.17533855e-04],\n",
       "       [9.50673282e-01, 4.88229990e-02, 7.20038599e-07, 5.02983341e-04],\n",
       "       [3.93204027e-06, 5.47416712e-05, 9.50062394e-01, 4.98789735e-02],\n",
       "       [1.83104348e-04, 9.80083227e-01, 2.90560229e-06, 1.97307654e-02],\n",
       "       [1.16591880e-04, 6.26793876e-03, 1.64786342e-03, 9.91967618e-01],\n",
       "       [2.51880428e-03, 1.19764898e-02, 7.90340960e-01, 1.95163801e-01],\n",
       "       [9.85837340e-01, 8.72008875e-03, 1.16102870e-04, 5.32654300e-03],\n",
       "       [1.33347083e-02, 9.80163395e-01, 8.33956619e-06, 6.49355771e-03],\n",
       "       [1.33071924e-02, 2.29837243e-02, 2.37719491e-02, 9.39937115e-01],\n",
       "       [3.42753920e-04, 6.78106444e-03, 9.29409545e-03, 9.83582139e-01],\n",
       "       [5.26417985e-08, 1.71543746e-07, 9.91639674e-01, 8.36014375e-03],\n",
       "       [1.94036332e-03, 9.97714400e-01, 6.91778581e-08, 3.45181645e-04],\n",
       "       [6.74019793e-06, 9.99993205e-01, 5.97050828e-22, 6.69253512e-18],\n",
       "       [6.37635935e-08, 1.21461801e-06, 9.95210111e-01, 4.78853192e-03]],\n",
       "      dtype=float32)"
      ]
     },
     "execution_count": 41,
     "metadata": {},
     "output_type": "execute_result"
    }
   ],
   "execution_count": 41
  }
 ],
 "metadata": {
  "kernelspec": {
   "display_name": "Python 3",
   "language": "python",
   "name": "python3"
  },
  "language_info": {
   "codemirror_mode": {
    "name": "ipython",
    "version": 2
   },
   "file_extension": ".py",
   "mimetype": "text/x-python",
   "name": "python",
   "nbconvert_exporter": "python",
   "pygments_lexer": "ipython2",
   "version": "2.7.6"
  },
  "colab": {
   "provenance": []
  }
 },
 "nbformat": 4,
 "nbformat_minor": 5
}
