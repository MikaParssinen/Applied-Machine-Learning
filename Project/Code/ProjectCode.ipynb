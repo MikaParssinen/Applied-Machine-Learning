{
 "cells": [
  {
   "cell_type": "markdown",
   "source": [
    "# DVA263 project"
   ],
   "metadata": {
    "id": "Iz1_HZ5_QpML"
   },
   "id": "Iz1_HZ5_QpML"
  },
  {
   "cell_type": "markdown",
   "source": [
    "# Libraries\n",
    "\n",
    "Declaring all libraries in use"
   ],
   "metadata": {
    "id": "glwLHuRHxHOg"
   },
   "id": "glwLHuRHxHOg"
  },
  {
   "cell_type": "code",
   "source": [
    "import autoencoder as ae\n",
    "import cnn as cnn\n",
    "import preprocessing as pre\n",
    "import visualization as viz\n",
    "\n",
    "from tensorflow.keras.callbacks import ReduceLROnPlateau, EarlyStopping"
   ],
   "metadata": {
    "id": "3D3Svn8oxksw",
    "ExecuteTime": {
     "end_time": "2025-01-20T15:30:52.647281Z",
     "start_time": "2025-01-20T15:30:52.636030Z"
    }
   },
   "id": "3D3Svn8oxksw",
   "outputs": [],
   "execution_count": 9
  },
  {
   "cell_type": "markdown",
   "source": [
    "# Load Dataset"
   ],
   "metadata": {
    "id": "fBAFQo5H0FdD"
   },
   "id": "fBAFQo5H0FdD"
  },
  {
   "metadata": {
    "ExecuteTime": {
     "end_time": "2025-01-20T15:30:52.709578Z",
     "start_time": "2025-01-20T15:30:52.697007Z"
    }
   },
   "cell_type": "code",
   "source": [
    "def load(image_size):\n",
    "    train_path = \"../dataset/Project/train/\"\n",
    "    test_path = \"../dataset/Project/test/\"\n",
    "    \n",
    "    X_train, y_train = pre.get_dataset(train_path, image_size)\n",
    "    X_test, y_test = pre.get_dataset(test_path, image_size)\n",
    "    \n",
    "    return (X_train, y_train, X_test, y_test)"
   ],
   "id": "83999e1ee463a4f6",
   "outputs": [],
   "execution_count": 11
  },
  {
   "cell_type": "markdown",
   "source": [
    "# Prepare Data"
   ],
   "metadata": {
    "id": "C7JZMmJc1Y4q"
   },
   "id": "C7JZMmJc1Y4q"
  },
  {
   "cell_type": "code",
   "source": [
    "def prep_ae(train, test):\n",
    "    return ae.preprocess_images(train)\n",
    "\n",
    "def prep_cnn(cnn_train, cnn_test):\n",
    "    \"\"\"Add noise images to train and test set and normalize\"\"\"\n",
    "    g_noisy_train_data = cnn_train.map(pre.add_gaussian_noise)\n",
    "    snp_noisy_train_data = cnn_train.map(pre.add_salt_and_pepper_noise)\n",
    "    combined_train_data = cnn_train.concatenate(g_noisy_train_data).concatenate(snp_noisy_train_data)\n",
    "\n",
    "    percentage_noisy_images = 0.2\n",
    "    total_test_images = len(CNN_test) * 16  # Total images in test data\n",
    "    num_noisy_images = int(total_test_images * percentage_noisy_images)\n",
    "\n",
    "    g_noisy_test_data = cnn_test.take(num_noisy_images).map(pre.add_gaussian_noise)\n",
    "    snp_noisy_test_data = cnn_test.take(num_noisy_images).map(pre.add_salt_and_pepper_noise)\n",
    "    remaining_test_data = cnn_test.skip(num_noisy_images)\n",
    "\n",
    "    combined_test_data = g_noisy_test_data.concatenate(remaining_test_data)\n",
    "    combined_test_data = combined_test_data.concatenate(snp_noisy_test_data)\n",
    "\n",
    "    test_data_norm, train_data_norm = pre.normalize_dataset(combined_train_data, combined_test_data)\n",
    "    return train_data_norm, test_data_norm"
   ],
   "metadata": {
    "id": "C5oxNrJF1dzC",
    "ExecuteTime": {
     "end_time": "2025-01-20T15:30:53.396984Z",
     "start_time": "2025-01-20T15:30:53.384008Z"
    }
   },
   "id": "C5oxNrJF1dzC",
   "outputs": [],
   "execution_count": 13
  },
  {
   "cell_type": "markdown",
   "source": "# Build and Compile Models",
   "metadata": {
    "id": "QxKIKd961t1a"
   },
   "id": "QxKIKd961t1a"
  },
  {
   "cell_type": "code",
   "source": [
    "def build_ae():\n",
    "    model = ae.build_and_compile()\n",
    "    return model\n",
    "def build_cnn():\n",
    "    model = cnn.build_cnn_model()\n",
    "    return model"
   ],
   "metadata": {
    "id": "1IJY7T_a100q",
    "ExecuteTime": {
     "end_time": "2025-01-20T15:30:53.442667Z",
     "start_time": "2025-01-20T15:30:53.430676Z"
    }
   },
   "id": "1IJY7T_a100q",
   "outputs": [],
   "execution_count": 14
  },
  {
   "cell_type": "markdown",
   "source": "#  Train Models",
   "metadata": {
    "id": "h-BLAVMT19xB"
   },
   "id": "h-BLAVMT19xB"
  },
  {
   "cell_type": "code",
   "source": [
    "def train_ae(model, ae_train):\n",
    "    reduce_lr = ReduceLROnPlateau(monitor=\"val_loss\", factor=0.2, patience=3, min_delta=0.0005)\n",
    "    early_stop = EarlyStopping(monitor=\"val_loss\", patience=5, min_delta=0.0002, restore_best_weights=True)\n",
    "    callbacks = [reduce_lr, early_stop]\n",
    "\n",
    "    history = ae.fit_model(ae, ae_train, epochs=30, batch_size=32, callbacks=callbacks)\n",
    "    return history\n",
    "\n",
    "def train_cnn(model,cnn_train, cnn_test):\n",
    "    history = cnn.train_model(model, cnn_train, cnn_test)\n",
    "    return history"
   ],
   "metadata": {
    "id": "HKkxhb442AUZ",
    "ExecuteTime": {
     "end_time": "2025-01-20T15:30:53.488973Z",
     "start_time": "2025-01-20T15:30:53.477513Z"
    }
   },
   "id": "HKkxhb442AUZ",
   "outputs": [],
   "execution_count": 15
  },
  {
   "metadata": {},
   "cell_type": "markdown",
   "source": "# Plotting Training and Validation Figures",
   "id": "2376e6d4ef90910b"
  },
  {
   "metadata": {},
   "cell_type": "code",
   "outputs": [],
   "execution_count": null,
   "source": [
    "def visualize_training_history(ae_history, cnn_history):\n",
    "    viz.plot_metrics(ae_history, \"Autoencoder\", accuracy=False)\n",
    "    viz.plot_metrics(cnn_history, \"CNN\", accuracy=True)"
   ],
   "id": "923bdfb5c2bb4e4f"
  },
  {
   "cell_type": "markdown",
   "source": [
    "# Putting everything together\n",
    "\n",
    "Main section putting each part together and running the classification task"
   ],
   "metadata": {
    "id": "nfCocLzz2ISR"
   },
   "id": "nfCocLzz2ISR"
  },
  {
   "metadata": {},
   "cell_type": "markdown",
   "source": "## Import and preprocess data",
   "id": "686552186746e6f3"
  },
  {
   "metadata": {
    "ExecuteTime": {
     "end_time": "2025-01-20T15:30:53.350568Z",
     "start_time": "2025-01-20T15:30:52.742525Z"
    }
   },
   "cell_type": "code",
   "outputs": [
    {
     "name": "stdout",
     "output_type": "stream",
     "text": [
      "Found 259 files belonging to 4 classes.\n",
      "Found 33 files belonging to 4 classes.\n",
      "(259, 152, 152, 3) (259, 4) (33, 152, 152, 3) (33, 4)\n"
     ]
    }
   ],
   "execution_count": 12,
   "source": [
    "image_size = (152, 152)\n",
    "\n",
    "X_train, y_train, X_test, y_test = load(image_size)"
   ],
   "id": "bda632306a173272"
  },
  {
   "metadata": {},
   "cell_type": "markdown",
   "source": "### Get ",
   "id": "9780d0ae9c3a1a5b"
  },
  {
   "metadata": {},
   "cell_type": "markdown",
   "source": "## Train autoencoder",
   "id": "459173e69fcbf238"
  },
  {
   "metadata": {},
   "cell_type": "markdown",
   "source": "## Calculate threshold for anomaly detection procedure",
   "id": "90757fcd07e381c9"
  },
  {
   "metadata": {},
   "cell_type": "code",
   "outputs": [],
   "execution_count": null,
   "source": "",
   "id": "1678a26202100cee"
  },
  {
   "metadata": {},
   "cell_type": "markdown",
   "source": "## Train CNN model",
   "id": "ebb8fa2179c7f7c2"
  },
  {
   "cell_type": "code",
   "source": [
    "CNN_train, CNN_test = load_cnn()\n",
    "CNN_train, CNN_test = prep_cnn(CNN_train, CNN_test)\n",
    "\n",
    "CNN_model = build_cnn()\n",
    "CNN_history = train_cnn(CNN_model, CNN_train, CNN_test)\n",
    "CNN_model.predict(CNN_test)\n"
   ],
   "metadata": {
    "id": "u08HtNXI2ZPa",
    "ExecuteTime": {
     "end_time": "2025-01-20T15:31:47.765646Z",
     "start_time": "2025-01-20T15:30:53.521911Z"
    }
   },
   "id": "u08HtNXI2ZPa",
   "outputs": [
    {
     "name": "stdout",
     "output_type": "stream",
     "text": [
      "Found 83 files belonging to 4 classes.\n",
      "Found 62 files belonging to 4 classes.\n",
      "Epoch 1/70\n",
      "\u001B[1m18/18\u001B[0m \u001B[32m━━━━━━━━━━━━━━━━━━━━\u001B[0m\u001B[37m\u001B[0m \u001B[1m2s\u001B[0m 69ms/step - accuracy: 0.2561 - loss: 1.3996 - val_accuracy: 0.2742 - val_loss: 1.3818 - learning_rate: 0.0010\n",
      "Epoch 2/70\n",
      "\u001B[1m18/18\u001B[0m \u001B[32m━━━━━━━━━━━━━━━━━━━━\u001B[0m\u001B[37m\u001B[0m \u001B[1m1s\u001B[0m 61ms/step - accuracy: 0.2576 - loss: 1.3824 - val_accuracy: 0.2581 - val_loss: 1.3808 - learning_rate: 0.0010\n",
      "Epoch 3/70\n",
      "\u001B[1m18/18\u001B[0m \u001B[32m━━━━━━━━━━━━━━━━━━━━\u001B[0m\u001B[37m\u001B[0m \u001B[1m1s\u001B[0m 65ms/step - accuracy: 0.2588 - loss: 1.3805 - val_accuracy: 0.3306 - val_loss: 1.3756 - learning_rate: 0.0010\n",
      "Epoch 4/70\n",
      "\u001B[1m18/18\u001B[0m \u001B[32m━━━━━━━━━━━━━━━━━━━━\u001B[0m\u001B[37m\u001B[0m \u001B[1m1s\u001B[0m 64ms/step - accuracy: 0.3565 - loss: 1.3739 - val_accuracy: 0.2742 - val_loss: 1.3767 - learning_rate: 0.0010\n",
      "Epoch 5/70\n",
      "\u001B[1m18/18\u001B[0m \u001B[32m━━━━━━━━━━━━━━━━━━━━\u001B[0m\u001B[37m\u001B[0m \u001B[1m1s\u001B[0m 67ms/step - accuracy: 0.2979 - loss: 1.3696 - val_accuracy: 0.2984 - val_loss: 1.3506 - learning_rate: 0.0010\n",
      "Epoch 6/70\n",
      "\u001B[1m18/18\u001B[0m \u001B[32m━━━━━━━━━━━━━━━━━━━━\u001B[0m\u001B[37m\u001B[0m \u001B[1m1s\u001B[0m 65ms/step - accuracy: 0.4080 - loss: 1.3335 - val_accuracy: 0.3871 - val_loss: 1.2938 - learning_rate: 0.0010\n",
      "Epoch 7/70\n",
      "\u001B[1m18/18\u001B[0m \u001B[32m━━━━━━━━━━━━━━━━━━━━\u001B[0m\u001B[37m\u001B[0m \u001B[1m1s\u001B[0m 58ms/step - accuracy: 0.4135 - loss: 1.2728 - val_accuracy: 0.4194 - val_loss: 1.2849 - learning_rate: 0.0010\n",
      "Epoch 8/70\n",
      "\u001B[1m18/18\u001B[0m \u001B[32m━━━━━━━━━━━━━━━━━━━━\u001B[0m\u001B[37m\u001B[0m \u001B[1m1s\u001B[0m 59ms/step - accuracy: 0.4616 - loss: 1.2769 - val_accuracy: 0.5242 - val_loss: 1.2092 - learning_rate: 0.0010\n",
      "Epoch 9/70\n",
      "\u001B[1m18/18\u001B[0m \u001B[32m━━━━━━━━━━━━━━━━━━━━\u001B[0m\u001B[37m\u001B[0m \u001B[1m1s\u001B[0m 61ms/step - accuracy: 0.5462 - loss: 1.1249 - val_accuracy: 0.6290 - val_loss: 0.9753 - learning_rate: 0.0010\n",
      "Epoch 10/70\n",
      "\u001B[1m18/18\u001B[0m \u001B[32m━━━━━━━━━━━━━━━━━━━━\u001B[0m\u001B[37m\u001B[0m \u001B[1m1s\u001B[0m 64ms/step - accuracy: 0.5962 - loss: 0.9536 - val_accuracy: 0.4435 - val_loss: 1.5199 - learning_rate: 0.0010\n",
      "Epoch 11/70\n",
      "\u001B[1m18/18\u001B[0m \u001B[32m━━━━━━━━━━━━━━━━━━━━\u001B[0m\u001B[37m\u001B[0m \u001B[1m1s\u001B[0m 61ms/step - accuracy: 0.5632 - loss: 1.1690 - val_accuracy: 0.6855 - val_loss: 0.7637 - learning_rate: 0.0010\n",
      "Epoch 12/70\n",
      "\u001B[1m18/18\u001B[0m \u001B[32m━━━━━━━━━━━━━━━━━━━━\u001B[0m\u001B[37m\u001B[0m \u001B[1m1s\u001B[0m 61ms/step - accuracy: 0.7667 - loss: 0.6087 - val_accuracy: 0.7581 - val_loss: 0.6088 - learning_rate: 0.0010\n",
      "Epoch 13/70\n",
      "\u001B[1m18/18\u001B[0m \u001B[32m━━━━━━━━━━━━━━━━━━━━\u001B[0m\u001B[37m\u001B[0m \u001B[1m1s\u001B[0m 63ms/step - accuracy: 0.7949 - loss: 0.4754 - val_accuracy: 0.5887 - val_loss: 0.8432 - learning_rate: 0.0010\n",
      "Epoch 14/70\n",
      "\u001B[1m18/18\u001B[0m \u001B[32m━━━━━━━━━━━━━━━━━━━━\u001B[0m\u001B[37m\u001B[0m \u001B[1m1s\u001B[0m 63ms/step - accuracy: 0.7639 - loss: 0.5623 - val_accuracy: 0.8306 - val_loss: 0.4994 - learning_rate: 0.0010\n",
      "Epoch 15/70\n",
      "\u001B[1m18/18\u001B[0m \u001B[32m━━━━━━━━━━━━━━━━━━━━\u001B[0m\u001B[37m\u001B[0m \u001B[1m1s\u001B[0m 62ms/step - accuracy: 0.9088 - loss: 0.3045 - val_accuracy: 0.8629 - val_loss: 0.3178 - learning_rate: 0.0010\n",
      "Epoch 16/70\n",
      "\u001B[1m18/18\u001B[0m \u001B[32m━━━━━━━━━━━━━━━━━━━━\u001B[0m\u001B[37m\u001B[0m \u001B[1m1s\u001B[0m 60ms/step - accuracy: 0.9302 - loss: 0.2400 - val_accuracy: 0.8629 - val_loss: 0.3666 - learning_rate: 0.0010\n",
      "Epoch 17/70\n",
      "\u001B[1m18/18\u001B[0m \u001B[32m━━━━━━━━━━━━━━━━━━━━\u001B[0m\u001B[37m\u001B[0m \u001B[1m1s\u001B[0m 60ms/step - accuracy: 0.9515 - loss: 0.1838 - val_accuracy: 0.8629 - val_loss: 0.3122 - learning_rate: 0.0010\n",
      "Epoch 18/70\n",
      "\u001B[1m18/18\u001B[0m \u001B[32m━━━━━━━━━━━━━━━━━━━━\u001B[0m\u001B[37m\u001B[0m \u001B[1m1s\u001B[0m 61ms/step - accuracy: 0.9152 - loss: 0.2024 - val_accuracy: 0.9355 - val_loss: 0.2551 - learning_rate: 0.0010\n",
      "Epoch 19/70\n",
      "\u001B[1m18/18\u001B[0m \u001B[32m━━━━━━━━━━━━━━━━━━━━\u001B[0m\u001B[37m\u001B[0m \u001B[1m1s\u001B[0m 66ms/step - accuracy: 0.9546 - loss: 0.1669 - val_accuracy: 0.9274 - val_loss: 0.2225 - learning_rate: 0.0010\n",
      "Epoch 20/70\n",
      "\u001B[1m18/18\u001B[0m \u001B[32m━━━━━━━━━━━━━━━━━━━━\u001B[0m\u001B[37m\u001B[0m \u001B[1m1s\u001B[0m 64ms/step - accuracy: 0.9800 - loss: 0.0854 - val_accuracy: 0.9839 - val_loss: 0.0813 - learning_rate: 0.0010\n",
      "Epoch 21/70\n",
      "\u001B[1m18/18\u001B[0m \u001B[32m━━━━━━━━━━━━━━━━━━━━\u001B[0m\u001B[37m\u001B[0m \u001B[1m1s\u001B[0m 63ms/step - accuracy: 0.9904 - loss: 0.0454 - val_accuracy: 0.9516 - val_loss: 0.1417 - learning_rate: 0.0010\n",
      "Epoch 22/70\n",
      "\u001B[1m18/18\u001B[0m \u001B[32m━━━━━━━━━━━━━━━━━━━━\u001B[0m\u001B[37m\u001B[0m \u001B[1m1s\u001B[0m 60ms/step - accuracy: 0.9835 - loss: 0.0692 - val_accuracy: 0.9113 - val_loss: 0.2002 - learning_rate: 0.0010\n",
      "Epoch 23/70\n",
      "\u001B[1m18/18\u001B[0m \u001B[32m━━━━━━━━━━━━━━━━━━━━\u001B[0m\u001B[37m\u001B[0m \u001B[1m1s\u001B[0m 60ms/step - accuracy: 0.9467 - loss: 0.1195 - val_accuracy: 0.9677 - val_loss: 0.1131 - learning_rate: 0.0010\n",
      "Epoch 24/70\n",
      "\u001B[1m18/18\u001B[0m \u001B[32m━━━━━━━━━━━━━━━━━━━━\u001B[0m\u001B[37m\u001B[0m \u001B[1m1s\u001B[0m 64ms/step - accuracy: 0.9863 - loss: 0.0658 - val_accuracy: 0.9758 - val_loss: 0.0780 - learning_rate: 2.0000e-04\n",
      "Epoch 25/70\n",
      "\u001B[1m18/18\u001B[0m \u001B[32m━━━━━━━━━━━━━━━━━━━━\u001B[0m\u001B[37m\u001B[0m \u001B[1m1s\u001B[0m 63ms/step - accuracy: 0.9978 - loss: 0.0218 - val_accuracy: 0.9919 - val_loss: 0.0446 - learning_rate: 2.0000e-04\n",
      "Epoch 26/70\n",
      "\u001B[1m18/18\u001B[0m \u001B[32m━━━━━━━━━━━━━━━━━━━━\u001B[0m\u001B[37m\u001B[0m \u001B[1m1s\u001B[0m 63ms/step - accuracy: 0.9986 - loss: 0.0208 - val_accuracy: 1.0000 - val_loss: 0.0357 - learning_rate: 2.0000e-04\n",
      "Epoch 27/70\n",
      "\u001B[1m18/18\u001B[0m \u001B[32m━━━━━━━━━━━━━━━━━━━━\u001B[0m\u001B[37m\u001B[0m \u001B[1m1s\u001B[0m 66ms/step - accuracy: 0.9991 - loss: 0.0183 - val_accuracy: 0.9919 - val_loss: 0.0316 - learning_rate: 2.0000e-04\n",
      "Epoch 28/70\n",
      "\u001B[1m18/18\u001B[0m \u001B[32m━━━━━━━━━━━━━━━━━━━━\u001B[0m\u001B[37m\u001B[0m \u001B[1m1s\u001B[0m 63ms/step - accuracy: 0.9991 - loss: 0.0178 - val_accuracy: 1.0000 - val_loss: 0.0353 - learning_rate: 2.0000e-04\n",
      "Epoch 29/70\n",
      "\u001B[1m18/18\u001B[0m \u001B[32m━━━━━━━━━━━━━━━━━━━━\u001B[0m\u001B[37m\u001B[0m \u001B[1m1s\u001B[0m 63ms/step - accuracy: 0.9991 - loss: 0.0143 - val_accuracy: 0.9919 - val_loss: 0.0398 - learning_rate: 2.0000e-04\n",
      "Epoch 30/70\n",
      "\u001B[1m18/18\u001B[0m \u001B[32m━━━━━━━━━━━━━━━━━━━━\u001B[0m\u001B[37m\u001B[0m \u001B[1m1s\u001B[0m 63ms/step - accuracy: 0.9991 - loss: 0.0132 - val_accuracy: 0.9919 - val_loss: 0.0371 - learning_rate: 2.0000e-04\n",
      "Epoch 31/70\n",
      "\u001B[1m18/18\u001B[0m \u001B[32m━━━━━━━━━━━━━━━━━━━━\u001B[0m\u001B[37m\u001B[0m \u001B[1m1s\u001B[0m 66ms/step - accuracy: 0.9983 - loss: 0.0142 - val_accuracy: 1.0000 - val_loss: 0.0309 - learning_rate: 4.0000e-05\n",
      "Epoch 32/70\n",
      "\u001B[1m18/18\u001B[0m \u001B[32m━━━━━━━━━━━━━━━━━━━━\u001B[0m\u001B[37m\u001B[0m \u001B[1m1s\u001B[0m 66ms/step - accuracy: 1.0000 - loss: 0.0118 - val_accuracy: 1.0000 - val_loss: 0.0334 - learning_rate: 4.0000e-05\n",
      "Epoch 33/70\n",
      "\u001B[1m18/18\u001B[0m \u001B[32m━━━━━━━━━━━━━━━━━━━━\u001B[0m\u001B[37m\u001B[0m \u001B[1m1s\u001B[0m 63ms/step - accuracy: 0.9975 - loss: 0.0132 - val_accuracy: 1.0000 - val_loss: 0.0310 - learning_rate: 4.0000e-05\n",
      "Epoch 34/70\n",
      "\u001B[1m18/18\u001B[0m \u001B[32m━━━━━━━━━━━━━━━━━━━━\u001B[0m\u001B[37m\u001B[0m \u001B[1m1s\u001B[0m 61ms/step - accuracy: 0.9970 - loss: 0.0133 - val_accuracy: 0.9758 - val_loss: 0.0572 - learning_rate: 4.0000e-05\n",
      "Epoch 35/70\n",
      "\u001B[1m18/18\u001B[0m \u001B[32m━━━━━━━━━━━━━━━━━━━━\u001B[0m\u001B[37m\u001B[0m \u001B[1m1s\u001B[0m 61ms/step - accuracy: 0.9991 - loss: 0.0118 - val_accuracy: 0.9839 - val_loss: 0.0443 - learning_rate: 8.0000e-06\n",
      "Epoch 36/70\n",
      "\u001B[1m18/18\u001B[0m \u001B[32m━━━━━━━━━━━━━━━━━━━━\u001B[0m\u001B[37m\u001B[0m \u001B[1m1s\u001B[0m 66ms/step - accuracy: 0.9991 - loss: 0.0113 - val_accuracy: 1.0000 - val_loss: 0.0260 - learning_rate: 8.0000e-06\n",
      "Epoch 37/70\n",
      "\u001B[1m18/18\u001B[0m \u001B[32m━━━━━━━━━━━━━━━━━━━━\u001B[0m\u001B[37m\u001B[0m \u001B[1m1s\u001B[0m 63ms/step - accuracy: 0.9991 - loss: 0.0116 - val_accuracy: 0.9758 - val_loss: 0.0470 - learning_rate: 8.0000e-06\n",
      "Epoch 38/70\n",
      "\u001B[1m18/18\u001B[0m \u001B[32m━━━━━━━━━━━━━━━━━━━━\u001B[0m\u001B[37m\u001B[0m \u001B[1m1s\u001B[0m 63ms/step - accuracy: 0.9947 - loss: 0.0175 - val_accuracy: 1.0000 - val_loss: 0.0260 - learning_rate: 8.0000e-06\n",
      "Epoch 39/70\n",
      "\u001B[1m18/18\u001B[0m \u001B[32m━━━━━━━━━━━━━━━━━━━━\u001B[0m\u001B[37m\u001B[0m \u001B[1m1s\u001B[0m 67ms/step - accuracy: 1.0000 - loss: 0.0104 - val_accuracy: 1.0000 - val_loss: 0.0250 - learning_rate: 8.0000e-06\n",
      "Epoch 40/70\n",
      "\u001B[1m18/18\u001B[0m \u001B[32m━━━━━━━━━━━━━━━━━━━━\u001B[0m\u001B[37m\u001B[0m \u001B[1m1s\u001B[0m 73ms/step - accuracy: 1.0000 - loss: 0.0092 - val_accuracy: 0.9919 - val_loss: 0.0387 - learning_rate: 8.0000e-06\n",
      "Epoch 41/70\n",
      "\u001B[1m18/18\u001B[0m \u001B[32m━━━━━━━━━━━━━━━━━━━━\u001B[0m\u001B[37m\u001B[0m \u001B[1m1s\u001B[0m 63ms/step - accuracy: 1.0000 - loss: 0.0112 - val_accuracy: 0.9919 - val_loss: 0.0399 - learning_rate: 8.0000e-06\n",
      "Epoch 42/70\n",
      "\u001B[1m18/18\u001B[0m \u001B[32m━━━━━━━━━━━━━━━━━━━━\u001B[0m\u001B[37m\u001B[0m \u001B[1m1s\u001B[0m 65ms/step - accuracy: 1.0000 - loss: 0.0099 - val_accuracy: 0.9919 - val_loss: 0.0253 - learning_rate: 8.0000e-06\n",
      "Epoch 43/70\n",
      "\u001B[1m18/18\u001B[0m \u001B[32m━━━━━━━━━━━━━━━━━━━━\u001B[0m\u001B[37m\u001B[0m \u001B[1m1s\u001B[0m 65ms/step - accuracy: 0.9975 - loss: 0.0136 - val_accuracy: 0.9919 - val_loss: 0.0410 - learning_rate: 1.6000e-06\n",
      "Epoch 44/70\n",
      "\u001B[1m18/18\u001B[0m \u001B[32m━━━━━━━━━━━━━━━━━━━━\u001B[0m\u001B[37m\u001B[0m \u001B[1m1s\u001B[0m 65ms/step - accuracy: 0.9986 - loss: 0.0108 - val_accuracy: 0.9839 - val_loss: 0.0403 - learning_rate: 1.6000e-06\n",
      "\u001B[1m8/8\u001B[0m \u001B[32m━━━━━━━━━━━━━━━━━━━━\u001B[0m\u001B[37m\u001B[0m \u001B[1m1s\u001B[0m 60ms/step \n"
     ]
    },
    {
     "data": {
      "text/plain": [
       "array([[1.16947573e-04, 9.99880314e-01, 8.35721949e-07, 1.85780482e-06],\n",
       "       [2.90333946e-06, 3.12219519e-04, 8.34677485e-05, 9.99601424e-01],\n",
       "       [3.50878304e-06, 4.64412413e-04, 2.65485444e-03, 9.96877193e-01],\n",
       "       [8.76767840e-03, 9.62520301e-01, 9.71844929e-06, 2.87023727e-02],\n",
       "       [2.08371482e-03, 9.95484710e-01, 9.59275042e-08, 2.43143970e-03],\n",
       "       [9.99671102e-01, 3.28699854e-04, 1.12109055e-09, 2.04330263e-07],\n",
       "       [8.15271586e-03, 9.88074720e-01, 4.18865511e-06, 3.76834557e-03],\n",
       "       [2.26098405e-06, 3.24274413e-04, 4.40233387e-03, 9.95271146e-01],\n",
       "       [9.99662995e-01, 3.14171310e-04, 2.26350949e-05, 2.33105283e-07],\n",
       "       [7.39436132e-07, 5.64315951e-06, 6.30954467e-03, 9.93684053e-01],\n",
       "       [3.42258409e-06, 9.25403088e-04, 3.61197675e-03, 9.95459199e-01],\n",
       "       [4.26421195e-07, 2.79965519e-07, 9.99947429e-01, 5.18193192e-05],\n",
       "       [3.73076986e-11, 1.15824719e-08, 9.99679804e-01, 3.20183812e-04],\n",
       "       [9.97671425e-01, 2.31737876e-03, 9.99423082e-06, 1.19774336e-06],\n",
       "       [6.06562622e-08, 6.79583036e-06, 9.93573010e-01, 6.41998881e-03],\n",
       "       [2.59171095e-04, 9.99279439e-01, 1.65932207e-07, 4.61303891e-04],\n",
       "       [1.60297059e-05, 9.99984026e-01, 2.43062584e-15, 7.16679450e-12],\n",
       "       [4.48476349e-05, 1.23562393e-04, 1.29666273e-02, 9.86864984e-01],\n",
       "       [9.99994755e-01, 5.06208244e-06, 1.62004810e-09, 1.92757753e-07],\n",
       "       [4.29633129e-09, 6.06146031e-08, 9.99335110e-01, 6.64798543e-04],\n",
       "       [5.42622525e-03, 9.78339970e-01, 5.06235119e-06, 1.62286479e-02],\n",
       "       [9.98781741e-01, 1.04065065e-03, 1.45610698e-04, 3.19482533e-05],\n",
       "       [5.46405181e-06, 1.30127021e-03, 6.89646825e-02, 9.29728568e-01],\n",
       "       [1.31834281e-13, 1.64384928e-09, 9.99999642e-01, 3.91436629e-07],\n",
       "       [7.78575284e-08, 4.54398830e-08, 9.99982715e-01, 1.71151241e-05],\n",
       "       [3.16872889e-10, 3.28874350e-08, 9.99675751e-01, 3.24276945e-04],\n",
       "       [1.37199677e-07, 9.73750230e-06, 9.69282150e-01, 3.07079777e-02],\n",
       "       [6.91970985e-04, 3.34499142e-04, 5.75317815e-02, 9.41441715e-01],\n",
       "       [9.98665214e-01, 7.27070845e-04, 4.29210104e-07, 6.07220456e-04],\n",
       "       [2.94317986e-04, 1.40273082e-03, 7.85029144e-04, 9.97517943e-01],\n",
       "       [1.23557766e-05, 7.54347711e-04, 6.98036223e-04, 9.98535275e-01],\n",
       "       [1.52613342e-04, 9.98648942e-01, 3.12117159e-08, 1.19840831e-03],\n",
       "       [5.13488665e-08, 8.68627481e-08, 9.99495864e-01, 5.04012976e-04],\n",
       "       [1.07282221e-11, 1.12927649e-08, 9.99531865e-01, 4.68161830e-04],\n",
       "       [1.29428690e-06, 9.99998689e-01, 5.61623033e-08, 2.33176978e-10],\n",
       "       [9.99507308e-01, 4.54883324e-04, 3.57661906e-06, 3.41903760e-05],\n",
       "       [4.69819406e-06, 5.15608263e-05, 1.42813725e-02, 9.85662401e-01],\n",
       "       [9.99978304e-01, 2.16237549e-05, 1.09212739e-09, 8.75443646e-08],\n",
       "       [9.98108506e-01, 1.75127713e-03, 2.97618442e-07, 1.39878539e-04],\n",
       "       [1.03342201e-04, 9.99776661e-01, 1.17202387e-06, 1.18877433e-04],\n",
       "       [1.97777859e-04, 3.59850470e-03, 1.04157509e-04, 9.96099472e-01],\n",
       "       [9.95821118e-01, 4.17176541e-03, 2.83283939e-08, 7.14740236e-06],\n",
       "       [6.24387621e-06, 9.99748528e-01, 2.30129785e-06, 2.42934824e-04],\n",
       "       [7.47172578e-07, 9.99999166e-01, 3.59077434e-10, 1.16025532e-07],\n",
       "       [9.99956250e-01, 2.39738747e-05, 4.15904955e-09, 1.98308517e-05],\n",
       "       [8.25200086e-09, 1.81732148e-07, 9.70059931e-01, 2.99398191e-02],\n",
       "       [9.99644995e-01, 3.53193784e-04, 2.91676884e-07, 1.59321496e-06],\n",
       "       [4.21907054e-04, 9.11832263e-04, 5.93639165e-03, 9.92729843e-01],\n",
       "       [6.33182812e-11, 1.16613421e-08, 9.99597847e-01, 4.02102480e-04],\n",
       "       [1.21866435e-06, 4.09352225e-07, 9.99091387e-01, 9.07002308e-04],\n",
       "       [1.77301627e-06, 3.46843335e-05, 1.22367181e-02, 9.87726748e-01],\n",
       "       [3.35028017e-06, 3.10760282e-04, 9.96208429e-01, 3.47748166e-03],\n",
       "       [9.99543846e-01, 9.37359164e-06, 4.21693781e-04, 2.50660905e-05],\n",
       "       [4.41670697e-03, 9.95509744e-01, 5.02199364e-05, 2.33786432e-05],\n",
       "       [9.99861479e-01, 1.38372096e-04, 2.43365661e-09, 1.57102448e-07],\n",
       "       [4.28711103e-13, 5.37579314e-10, 9.99669909e-01, 3.30157200e-04],\n",
       "       [1.69195039e-06, 2.96646846e-04, 3.53340409e-04, 9.99348342e-01],\n",
       "       [1.95607026e-05, 9.99980450e-01, 6.06952639e-13, 5.61128610e-09],\n",
       "       [3.42691410e-03, 9.96573091e-01, 8.57840275e-13, 8.60509797e-09],\n",
       "       [1.14186812e-04, 9.99885678e-01, 7.19250508e-08, 1.08923945e-08],\n",
       "       [2.00789327e-06, 2.94210736e-06, 9.72083390e-01, 2.79117376e-02],\n",
       "       [1.75480638e-03, 9.98022914e-01, 4.93009850e-07, 2.21749418e-04],\n",
       "       [9.89273131e-01, 8.81849602e-03, 3.14646741e-06, 1.90517597e-03],\n",
       "       [5.20791691e-05, 7.47346319e-03, 9.68544744e-03, 9.82788980e-01],\n",
       "       [4.69059596e-04, 3.66570748e-05, 9.99038577e-01, 4.55661007e-04],\n",
       "       [2.89861858e-03, 9.92185771e-01, 1.91135442e-07, 4.91553452e-03],\n",
       "       [3.38942385e-07, 5.25202049e-05, 9.94184673e-01, 5.76248812e-03],\n",
       "       [2.48401229e-05, 7.50956475e-04, 1.01743394e-03, 9.98206735e-01],\n",
       "       [1.73273774e-11, 3.63265196e-09, 9.99691963e-01, 3.08058923e-04],\n",
       "       [1.86375109e-04, 2.09008194e-05, 9.78625536e-01, 2.11671591e-02],\n",
       "       [5.62152592e-03, 9.92417812e-01, 1.60629202e-06, 1.95896695e-03],\n",
       "       [9.99854684e-01, 1.42787219e-04, 9.53538901e-08, 2.36521487e-06],\n",
       "       [1.73065718e-02, 1.10355038e-02, 1.07279457e-02, 9.60930049e-01],\n",
       "       [6.30017137e-04, 9.99366224e-01, 3.57960812e-06, 2.36809953e-07],\n",
       "       [2.70048454e-02, 8.42286833e-03, 6.23324746e-03, 9.58339036e-01],\n",
       "       [9.72909331e-01, 2.66979560e-02, 3.03032971e-06, 3.89665598e-04],\n",
       "       [1.56811890e-04, 5.51401339e-02, 9.31630611e-01, 1.30724125e-02],\n",
       "       [1.71785778e-03, 9.96966302e-01, 1.15537376e-03, 1.60499359e-04],\n",
       "       [3.81921600e-05, 9.99961734e-01, 1.15512670e-07, 5.39248468e-09],\n",
       "       [5.37845073e-03, 6.97093129e-01, 3.87810841e-02, 2.58747369e-01],\n",
       "       [6.24276586e-02, 8.04334402e-01, 3.05575028e-04, 1.32932290e-01],\n",
       "       [1.65602453e-02, 9.83258486e-01, 7.05199054e-05, 1.10796209e-04],\n",
       "       [4.00742330e-03, 2.06727218e-02, 8.68992627e-01, 1.06327213e-01],\n",
       "       [5.18809352e-03, 9.45379972e-01, 5.78793464e-04, 4.88531217e-02],\n",
       "       [9.94609952e-01, 4.97452496e-03, 1.15943590e-06, 4.14314651e-04],\n",
       "       [5.38732059e-10, 8.29189275e-07, 9.99109447e-01, 8.89736635e-04],\n",
       "       [9.99341905e-01, 1.74130968e-04, 2.79698867e-07, 4.83655167e-04],\n",
       "       [2.18606496e-04, 1.57283980e-03, 9.97799542e-03, 9.88230586e-01],\n",
       "       [9.99981046e-01, 1.84508681e-05, 3.25414962e-09, 4.52463155e-07],\n",
       "       [3.53828227e-07, 2.68495824e-05, 9.81815517e-01, 1.81573555e-02],\n",
       "       [2.68468782e-02, 9.73152518e-01, 1.27311994e-10, 5.25898770e-07],\n",
       "       [1.75096764e-04, 9.99824941e-01, 5.70051688e-12, 5.29517408e-08],\n",
       "       [2.04488650e-04, 2.93819612e-04, 9.40857351e-01, 5.86443134e-02],\n",
       "       [3.61264629e-10, 3.98346128e-06, 9.99960661e-01, 3.53205542e-05],\n",
       "       [1.51034188e-03, 1.86693470e-03, 3.02730531e-01, 6.93892241e-01],\n",
       "       [2.52783411e-05, 2.73798755e-03, 7.65655481e-04, 9.96471167e-01],\n",
       "       [1.03755796e-03, 9.97822642e-01, 4.11166093e-06, 1.13575929e-03],\n",
       "       [9.99839544e-01, 1.55009475e-04, 1.41511109e-07, 5.32866170e-06],\n",
       "       [9.87011969e-01, 1.29581299e-02, 2.09821337e-05, 8.92571825e-06],\n",
       "       [9.99219060e-01, 7.80230097e-04, 4.72950124e-09, 6.53034817e-07],\n",
       "       [1.95022531e-09, 3.83176939e-07, 9.99016166e-01, 9.83473845e-04],\n",
       "       [2.39105127e-03, 9.77467775e-01, 3.49944798e-06, 2.01377105e-02],\n",
       "       [9.95638192e-01, 3.70803918e-03, 5.91016025e-04, 6.27310146e-05],\n",
       "       [1.73284400e-06, 9.26059947e-05, 6.23940468e-01, 3.75965238e-01],\n",
       "       [1.51165423e-05, 3.69034417e-04, 2.16865279e-02, 9.77929294e-01],\n",
       "       [1.12558781e-04, 9.99857306e-01, 2.07134406e-07, 2.98957893e-05],\n",
       "       [1.43178113e-04, 4.08406649e-03, 6.50347676e-03, 9.89269316e-01],\n",
       "       [8.73871904e-05, 6.49238245e-06, 9.99809802e-01, 9.63637285e-05],\n",
       "       [4.67856851e-04, 3.47085553e-03, 8.12630534e-01, 1.83430687e-01],\n",
       "       [9.98474658e-01, 1.40957371e-03, 2.60508605e-05, 8.96453494e-05],\n",
       "       [9.04602231e-04, 9.97852206e-01, 1.19769429e-04, 1.12341461e-03],\n",
       "       [3.23472195e-05, 9.99967694e-01, 2.26194782e-13, 2.74004264e-10],\n",
       "       [6.90920569e-05, 1.21661816e-02, 1.95843890e-01, 7.91920781e-01],\n",
       "       [4.86653662e-05, 1.07904496e-04, 9.33672208e-03, 9.90506709e-01],\n",
       "       [9.38432477e-03, 7.06970453e-01, 1.78223709e-04, 2.83467054e-01],\n",
       "       [9.93816912e-01, 4.65045124e-03, 1.40515447e-04, 1.39214366e-03],\n",
       "       [2.46463926e-04, 8.75744782e-03, 2.50218194e-02, 9.65974331e-01],\n",
       "       [2.85689894e-04, 1.01249088e-02, 4.52425826e-04, 9.89136934e-01],\n",
       "       [3.52631439e-03, 1.54217542e-03, 8.47747386e-01, 1.47184119e-01],\n",
       "       [7.84368720e-03, 1.94689989e-01, 3.32014431e-04, 7.97134221e-01],\n",
       "       [9.99355614e-01, 6.20787439e-04, 1.47734818e-05, 8.82994755e-06],\n",
       "       [9.97030616e-01, 8.69237410e-04, 1.83495251e-03, 2.65117211e-04],\n",
       "       [1.19890603e-06, 1.45944432e-05, 9.77633536e-01, 2.23506931e-02],\n",
       "       [4.45236810e-06, 5.60668013e-05, 4.09393273e-02, 9.59000230e-01]],\n",
       "      dtype=float32)"
      ]
     },
     "execution_count": 16,
     "metadata": {},
     "output_type": "execute_result"
    }
   ],
   "execution_count": 16
  }
 ],
 "metadata": {
  "kernelspec": {
   "display_name": "Python 3",
   "language": "python",
   "name": "python3"
  },
  "language_info": {
   "codemirror_mode": {
    "name": "ipython",
    "version": 2
   },
   "file_extension": ".py",
   "mimetype": "text/x-python",
   "name": "python",
   "nbconvert_exporter": "python",
   "pygments_lexer": "ipython2",
   "version": "2.7.6"
  },
  "colab": {
   "provenance": []
  }
 },
 "nbformat": 4,
 "nbformat_minor": 5
}
