{
 "cells": [
  {
   "cell_type": "markdown",
   "source": [
    "# DVA263 project"
   ],
   "metadata": {
    "id": "Iz1_HZ5_QpML"
   },
   "id": "Iz1_HZ5_QpML"
  },
  {
   "cell_type": "markdown",
   "source": [
    "# Libraries\n",
    "\n",
    "Declaring all libraries in use"
   ],
   "metadata": {
    "id": "glwLHuRHxHOg"
   },
   "id": "glwLHuRHxHOg"
  },
  {
   "cell_type": "code",
   "source": [
    "import autoencoder as ae\n",
    "\n",
    "import cnn as cnn\n",
    "import preprocessing as pre\n",
    "import visualization as viz\n",
    "import metrics\n",
    "import numpy as np\n",
    "\n",
    "from tensorflow.keras.callbacks import ReduceLROnPlateau, EarlyStopping\n",
    "from tensorflow.keras.models import load_model"
   ],
   "metadata": {
    "id": "3D3Svn8oxksw",
    "ExecuteTime": {
     "end_time": "2025-01-20T18:03:42.990385Z",
     "start_time": "2025-01-20T18:03:26.230816Z"
    }
   },
   "id": "3D3Svn8oxksw",
   "outputs": [],
   "execution_count": 1
  },
  {
   "cell_type": "markdown",
   "source": [
    "# Load Dataset"
   ],
   "metadata": {
    "id": "fBAFQo5H0FdD"
   },
   "id": "fBAFQo5H0FdD"
  },
  {
   "metadata": {
    "ExecuteTime": {
     "end_time": "2025-01-20T18:03:43.022206Z",
     "start_time": "2025-01-20T18:03:42.996158Z"
    }
   },
   "cell_type": "code",
   "source": [
    "def load(image_size):\n",
    "    train_path = \"../dataset/Project/train/\"\n",
    "    test_path = \"../dataset/Project/test/\"\n",
    "    \n",
    "    X_train, y_train = pre.get_dataset(train_path, image_size)\n",
    "    X_test, y_test = pre.get_dataset(test_path, image_size)\n",
    "    \n",
    "    return X_train, y_train, X_test, y_test"
   ],
   "id": "83999e1ee463a4f6",
   "outputs": [],
   "execution_count": 2
  },
  {
   "cell_type": "markdown",
   "source": [
    "# Prepare Data"
   ],
   "metadata": {
    "id": "C7JZMmJc1Y4q"
   },
   "id": "C7JZMmJc1Y4q"
  },
  {
   "cell_type": "code",
   "source": [
    "def prep_ae(X_train, y_train):\n",
    "    return ae.preprocess_images(X_train, y_train)\n",
    "\n",
    "def prep_cnn(X_train, y_train, X_test):\n",
    "    \"\"\"Add noise images to train and test set and normalize\"\"\"\n",
    "    # Apply noise augmentation on train data\n",
    "    g_noisy_train = pre.add_gaussian_noise(X_train)\n",
    "    snp_noisy_train = pre.add_salt_and_pepper_noise(X_train)\n",
    "\n",
    "    # Stack the original and noisy images together\n",
    "    X_train_combined = np.concatenate((X_train, g_noisy_train, snp_noisy_train), axis=0)\n",
    "    y_train_combined = np.concatenate((y_train, y_train, y_train), axis=0)  # Duplicate labels accordingly\n",
    "\n",
    "    # Normalize datasets\n",
    "    X_train_norm = pre.normalize_images(X_train_combined)\n",
    "    X_test_norm = pre.normalize_images(X_test)\n",
    "\n",
    "    return X_train_norm, y_train_combined, X_test_norm"
   ],
   "metadata": {
    "id": "C5oxNrJF1dzC",
    "ExecuteTime": {
     "end_time": "2025-01-20T18:03:43.596843Z",
     "start_time": "2025-01-20T18:03:43.581094Z"
    }
   },
   "id": "C5oxNrJF1dzC",
   "outputs": [],
   "execution_count": 3
  },
  {
   "cell_type": "markdown",
   "source": "# Build and Compile Models",
   "metadata": {
    "id": "QxKIKd961t1a"
   },
   "id": "QxKIKd961t1a"
  },
  {
   "cell_type": "code",
   "source": [
    "def build_ae(image_size):\n",
    "    model = ae.build_and_compile(image_size)\n",
    "    return model\n",
    "def build_cnn():\n",
    "    model = cnn.build_cnn_model()\n",
    "    return model"
   ],
   "metadata": {
    "id": "1IJY7T_a100q",
    "ExecuteTime": {
     "end_time": "2025-01-20T18:03:43.641752Z",
     "start_time": "2025-01-20T18:03:43.620452Z"
    }
   },
   "id": "1IJY7T_a100q",
   "outputs": [],
   "execution_count": 4
  },
  {
   "cell_type": "markdown",
   "source": "#  Train Models",
   "metadata": {
    "id": "h-BLAVMT19xB"
   },
   "id": "h-BLAVMT19xB"
  },
  {
   "cell_type": "code",
   "source": [
    "def train_ae(model, ae_train):\n",
    "    reduce_lr = ReduceLROnPlateau(monitor=\"val_loss\", factor=0.2, patience=3, min_delta=0.0005)\n",
    "    early_stop = EarlyStopping(monitor=\"val_loss\", patience=5, min_delta=0.0002, restore_best_weights=True)\n",
    "    callbacks = [reduce_lr, early_stop]\n",
    "\n",
    "    history = ae.fit_model(model, ae_train, epochs=30, batch_size=32, callbacks=callbacks)\n",
    "    return history\n",
    "\n",
    "def train_cnn(model,cnn_train, cnn_test):\n",
    "    history = cnn.train_model(model, cnn_train, cnn_test)\n",
    "    return history"
   ],
   "metadata": {
    "id": "HKkxhb442AUZ",
    "ExecuteTime": {
     "end_time": "2025-01-20T18:03:43.673471Z",
     "start_time": "2025-01-20T18:03:43.661082Z"
    }
   },
   "id": "HKkxhb442AUZ",
   "outputs": [],
   "execution_count": 5
  },
  {
   "metadata": {},
   "cell_type": "markdown",
   "source": "# Anomaly detection procedure",
   "id": "ea73e7b4cf8ef3f1"
  },
  {
   "metadata": {
    "ExecuteTime": {
     "end_time": "2025-01-20T18:03:43.705183Z",
     "start_time": "2025-01-20T18:03:43.692748Z"
    }
   },
   "cell_type": "code",
   "source": [
    "def calculate_mse_list(input_images, predicted_images):\n",
    "    values = []\n",
    "    count = len(input_images)\n",
    "    \n",
    "    for i in range(count):\n",
    "        temp_mse = metrics.mse(input_images[i], predicted_images[i])\n",
    "        values.append(temp_mse)\n",
    "        \n",
    "    return values\n",
    "        \n",
    "def get_true_anomalies(labels):\n",
    "    labels = np.argmax(labels, axis=1)\n",
    "    y_true = []\n",
    "    count = len(labels)\n",
    "    \n",
    "    for i in range(count):\n",
    "        if labels[i] == 3:\n",
    "            y_true.append(0)\n",
    "        else: \n",
    "            y_true.append(1)\n",
    "    return y_true\n",
    "\n",
    "def detect_anomalies(mse_list, threshold):\n",
    "    y_pred = []\n",
    "    count = len(mse_list)\n",
    "    \n",
    "    for i in range(count):\n",
    "        if mse_list[i] < threshold:\n",
    "            y_pred.append(0)\n",
    "        else:\n",
    "            y_pred.append(1)\n",
    "            \n",
    "    return y_pred"
   ],
   "id": "82edabdee694dd53",
   "outputs": [],
   "execution_count": 6
  },
  {
   "metadata": {},
   "cell_type": "markdown",
   "source": "# Plotting Training and Validation Figures",
   "id": "2376e6d4ef90910b"
  },
  {
   "metadata": {
    "ExecuteTime": {
     "end_time": "2025-01-20T18:03:43.737155Z",
     "start_time": "2025-01-20T18:03:43.725566Z"
    }
   },
   "cell_type": "code",
   "source": [
    "def visualize_training_history(ae_history, cnn_history):\n",
    "    viz.plot_metrics(ae_history, \"Autoencoder\", accuracy=False)\n",
    "    viz.plot_metrics(cnn_history, \"CNN\", accuracy=True)"
   ],
   "id": "923bdfb5c2bb4e4f",
   "outputs": [],
   "execution_count": 7
  },
  {
   "cell_type": "markdown",
   "source": [
    "# Putting everything together\n",
    "\n",
    "Main section putting each part together, doing anomaly detection and running the classification task"
   ],
   "metadata": {
    "id": "nfCocLzz2ISR"
   },
   "id": "nfCocLzz2ISR"
  },
  {
   "metadata": {},
   "cell_type": "markdown",
   "source": [
    "## Import and preprocess data\n",
    "\n",
    "### Load images"
   ],
   "id": "686552186746e6f3"
  },
  {
   "metadata": {
    "ExecuteTime": {
     "end_time": "2025-01-20T18:03:46.152888Z",
     "start_time": "2025-01-20T18:03:43.756390Z"
    }
   },
   "cell_type": "code",
   "source": [
    "image_size = (152, 152)\n",
    "\n",
    "X_train, y_train, X_test, y_test = load(image_size)\n",
    "\n",
    "ae_X_train, ae_y_train = prep_ae(X_train, y_train)\n",
    "X_test = pre.normalize_images(X_test)"
   ],
   "id": "bda632306a173272",
   "outputs": [
    {
     "name": "stdout",
     "output_type": "stream",
     "text": [
      "Found 259 files belonging to 4 classes.\n",
      "Found 33 files belonging to 4 classes.\n"
     ]
    }
   ],
   "execution_count": 8
  },
  {
   "metadata": {},
   "cell_type": "markdown",
   "source": "### Prepare autoencoder training set and threshold set",
   "id": "9780d0ae9c3a1a5b"
  },
  {
   "metadata": {
    "ExecuteTime": {
     "end_time": "2025-01-20T18:03:47.158671Z",
     "start_time": "2025-01-20T18:03:46.461553Z"
    }
   },
   "cell_type": "code",
   "source": "normal_train, normal_test, anomaly_test = ae.get_training_and_threshold_set(ae_X_train, ae_y_train)",
   "id": "a03ff074508a1b48",
   "outputs": [],
   "execution_count": 9
  },
  {
   "metadata": {},
   "cell_type": "markdown",
   "source": "## Build and Train autoencoder",
   "id": "459173e69fcbf238"
  },
  {
   "metadata": {
    "ExecuteTime": {
     "end_time": "2025-01-20T18:03:47.268717Z",
     "start_time": "2025-01-20T18:03:47.245645Z"
    }
   },
   "cell_type": "code",
   "source": [
    "#ae_model = build_ae(image_size)\n",
    "#ae_model.summary()"
   ],
   "id": "1d852849b26b90c3",
   "outputs": [],
   "execution_count": 10
  },
  {
   "metadata": {
    "ExecuteTime": {
     "end_time": "2025-01-20T18:03:54.204453Z",
     "start_time": "2025-01-20T18:03:47.333723Z"
    }
   },
   "cell_type": "code",
   "source": [
    "#ae_history = train_ae(ae_model, normal_train)\n",
    "ae_model = load_model(\"./model.keras\")"
   ],
   "id": "fd569640bbb19c57",
   "outputs": [],
   "execution_count": 11
  },
  {
   "metadata": {},
   "cell_type": "markdown",
   "source": "## Predict on normal and anomalous data to calculate threshold for anomaly detection procedure",
   "id": "90757fcd07e381c9"
  },
  {
   "metadata": {
    "ExecuteTime": {
     "end_time": "2025-01-20T18:04:02.789741Z",
     "start_time": "2025-01-20T18:03:54.286455Z"
    }
   },
   "cell_type": "code",
   "source": [
    "normal_predictions = ae_model.predict(normal_test)\n",
    "anomaly_predictions = ae_model.predict(anomaly_test)\n",
    "\n",
    "print(normal_test.shape)\n",
    "normal_mse = calculate_mse_list(normal_test, normal_predictions)\n",
    "anomaly_mse = calculate_mse_list(anomaly_test, anomaly_predictions)\n",
    "\n",
    "anomaly_threshold = (max(normal_mse) + min(anomaly_mse)) / 2\n",
    "\n",
    "print(anomaly_threshold)"
   ],
   "id": "1678a26202100cee",
   "outputs": [
    {
     "name": "stdout",
     "output_type": "stream",
     "text": [
      "\u001B[1m16/16\u001B[0m \u001B[32m━━━━━━━━━━━━━━━━━━━━\u001B[0m\u001B[37m\u001B[0m \u001B[1m4s\u001B[0m 216ms/step\n",
      "\u001B[1m19/19\u001B[0m \u001B[32m━━━━━━━━━━━━━━━━━━━━\u001B[0m\u001B[37m\u001B[0m \u001B[1m4s\u001B[0m 202ms/step\n",
      "(502, 152, 152, 3)\n",
      "0.0014965984\n"
     ]
    }
   ],
   "execution_count": 12
  },
  {
   "metadata": {},
   "cell_type": "markdown",
   "source": "## Train CNN model",
   "id": "ebb8fa2179c7f7c2"
  },
  {
   "cell_type": "code",
   "source": [
    "# Load dataset\n",
    "X_train, y_train, X_test, y_test = load((152, 152))\n",
    "\n",
    "# Preprocess dataset (add noise + normalize)\n",
    "X_train, y_train, X_test = prep_cnn(X_train, y_train, X_test)\n",
    "\n",
    "print(type(X_train), type(y_train))\n",
    "print(X_train.shape, y_train.shape)\n",
    "print(X_test.shape, y_test.shape)\n",
    "\n",
    "# Build and train the CNN model\n",
    "CNN_model = build_cnn()\n",
    "CNN_history = train_cnn(CNN_model, X_train, y_train)\n",
    "\n",
    "# Predict on test set"
   ],
   "metadata": {
    "id": "u08HtNXI2ZPa",
    "ExecuteTime": {
     "end_time": "2025-01-20T18:04:46.807851Z",
     "start_time": "2025-01-20T18:04:02.887264Z"
    }
   },
   "id": "u08HtNXI2ZPa",
   "outputs": [
    {
     "name": "stdout",
     "output_type": "stream",
     "text": [
      "Found 259 files belonging to 4 classes.\n",
      "Found 33 files belonging to 4 classes.\n",
      "<class 'numpy.ndarray'> <class 'numpy.ndarray'>\n",
      "(777, 152, 152, 3) (777, 4)\n",
      "(33, 152, 152, 3) (33, 4)\n",
      "Epoch 1/70\n",
      "\u001B[1m20/20\u001B[0m \u001B[32m━━━━━━━━━━━━━━━━━━━━\u001B[0m\u001B[37m\u001B[0m \u001B[1m4s\u001B[0m 80ms/step - accuracy: 0.6937 - loss: 0.9225 - val_accuracy: 0.8013 - val_loss: 0.7226 - learning_rate: 0.0010\n",
      "Epoch 2/70\n",
      "\u001B[1m20/20\u001B[0m \u001B[32m━━━━━━━━━━━━━━━━━━━━\u001B[0m\u001B[37m\u001B[0m \u001B[1m1s\u001B[0m 52ms/step - accuracy: 0.8307 - loss: 0.6532 - val_accuracy: 0.8013 - val_loss: 0.7162 - learning_rate: 0.0010\n",
      "Epoch 3/70\n",
      "\u001B[1m20/20\u001B[0m \u001B[32m━━━━━━━━━━━━━━━━━━━━\u001B[0m\u001B[37m\u001B[0m \u001B[1m1s\u001B[0m 51ms/step - accuracy: 0.8094 - loss: 0.6982 - val_accuracy: 0.8013 - val_loss: 0.7546 - learning_rate: 0.0010\n",
      "Epoch 4/70\n",
      "\u001B[1m20/20\u001B[0m \u001B[32m━━━━━━━━━━━━━━━━━━━━\u001B[0m\u001B[37m\u001B[0m \u001B[1m1s\u001B[0m 51ms/step - accuracy: 0.7995 - loss: 0.7269 - val_accuracy: 0.8013 - val_loss: 0.7595 - learning_rate: 0.0010\n",
      "Epoch 5/70\n",
      "\u001B[1m20/20\u001B[0m \u001B[32m━━━━━━━━━━━━━━━━━━━━\u001B[0m\u001B[37m\u001B[0m \u001B[1m1s\u001B[0m 51ms/step - accuracy: 0.8076 - loss: 0.6950 - val_accuracy: 0.8013 - val_loss: 0.7160 - learning_rate: 0.0010\n",
      "Epoch 6/70\n",
      "\u001B[1m20/20\u001B[0m \u001B[32m━━━━━━━━━━━━━━━━━━━━\u001B[0m\u001B[37m\u001B[0m \u001B[1m1s\u001B[0m 50ms/step - accuracy: 0.7832 - loss: 0.7285 - val_accuracy: 0.8013 - val_loss: 0.6737 - learning_rate: 0.0010\n",
      "Epoch 7/70\n",
      "\u001B[1m20/20\u001B[0m \u001B[32m━━━━━━━━━━━━━━━━━━━━\u001B[0m\u001B[37m\u001B[0m \u001B[1m1s\u001B[0m 50ms/step - accuracy: 0.8023 - loss: 0.6179 - val_accuracy: 0.8077 - val_loss: 0.5905 - learning_rate: 0.0010\n",
      "Epoch 8/70\n",
      "\u001B[1m20/20\u001B[0m \u001B[32m━━━━━━━━━━━━━━━━━━━━\u001B[0m\u001B[37m\u001B[0m \u001B[1m1s\u001B[0m 50ms/step - accuracy: 0.8299 - loss: 0.5288 - val_accuracy: 0.8205 - val_loss: 0.5442 - learning_rate: 0.0010\n",
      "Epoch 9/70\n",
      "\u001B[1m20/20\u001B[0m \u001B[32m━━━━━━━━━━━━━━━━━━━━\u001B[0m\u001B[37m\u001B[0m \u001B[1m1s\u001B[0m 51ms/step - accuracy: 0.8590 - loss: 0.4298 - val_accuracy: 0.8590 - val_loss: 0.5125 - learning_rate: 0.0010\n",
      "Epoch 10/70\n",
      "\u001B[1m20/20\u001B[0m \u001B[32m━━━━━━━━━━━━━━━━━━━━\u001B[0m\u001B[37m\u001B[0m \u001B[1m1s\u001B[0m 51ms/step - accuracy: 0.8773 - loss: 0.3480 - val_accuracy: 0.8846 - val_loss: 0.4218 - learning_rate: 0.0010\n",
      "Epoch 11/70\n",
      "\u001B[1m20/20\u001B[0m \u001B[32m━━━━━━━━━━━━━━━━━━━━\u001B[0m\u001B[37m\u001B[0m \u001B[1m1s\u001B[0m 51ms/step - accuracy: 0.9001 - loss: 0.3136 - val_accuracy: 0.8333 - val_loss: 1.0698 - learning_rate: 0.0010\n",
      "Epoch 12/70\n",
      "\u001B[1m20/20\u001B[0m \u001B[32m━━━━━━━━━━━━━━━━━━━━\u001B[0m\u001B[37m\u001B[0m \u001B[1m1s\u001B[0m 52ms/step - accuracy: 0.9180 - loss: 0.3600 - val_accuracy: 0.8526 - val_loss: 0.4654 - learning_rate: 0.0010\n",
      "Epoch 13/70\n",
      "\u001B[1m20/20\u001B[0m \u001B[32m━━━━━━━━━━━━━━━━━━━━\u001B[0m\u001B[37m\u001B[0m \u001B[1m1s\u001B[0m 52ms/step - accuracy: 0.9262 - loss: 0.2516 - val_accuracy: 0.8526 - val_loss: 0.5187 - learning_rate: 0.0010\n",
      "Epoch 14/70\n",
      "\u001B[1m20/20\u001B[0m \u001B[32m━━━━━━━━━━━━━━━━━━━━\u001B[0m\u001B[37m\u001B[0m \u001B[1m1s\u001B[0m 51ms/step - accuracy: 0.9254 - loss: 0.2410 - val_accuracy: 0.8782 - val_loss: 0.3807 - learning_rate: 2.0000e-04\n",
      "Epoch 15/70\n",
      "\u001B[1m20/20\u001B[0m \u001B[32m━━━━━━━━━━━━━━━━━━━━\u001B[0m\u001B[37m\u001B[0m \u001B[1m1s\u001B[0m 50ms/step - accuracy: 0.9453 - loss: 0.1808 - val_accuracy: 0.8910 - val_loss: 0.3321 - learning_rate: 2.0000e-04\n",
      "Epoch 16/70\n",
      "\u001B[1m20/20\u001B[0m \u001B[32m━━━━━━━━━━━━━━━━━━━━\u001B[0m\u001B[37m\u001B[0m \u001B[1m1s\u001B[0m 51ms/step - accuracy: 0.9422 - loss: 0.1628 - val_accuracy: 0.9038 - val_loss: 0.3138 - learning_rate: 2.0000e-04\n",
      "Epoch 17/70\n",
      "\u001B[1m20/20\u001B[0m \u001B[32m━━━━━━━━━━━━━━━━━━━━\u001B[0m\u001B[37m\u001B[0m \u001B[1m1s\u001B[0m 51ms/step - accuracy: 0.9554 - loss: 0.1531 - val_accuracy: 0.9103 - val_loss: 0.3065 - learning_rate: 2.0000e-04\n",
      "Epoch 18/70\n",
      "\u001B[1m20/20\u001B[0m \u001B[32m━━━━━━━━━━━━━━━━━━━━\u001B[0m\u001B[37m\u001B[0m \u001B[1m1s\u001B[0m 52ms/step - accuracy: 0.9510 - loss: 0.1628 - val_accuracy: 0.9167 - val_loss: 0.3022 - learning_rate: 2.0000e-04\n",
      "Epoch 19/70\n",
      "\u001B[1m20/20\u001B[0m \u001B[32m━━━━━━━━━━━━━━━━━━━━\u001B[0m\u001B[37m\u001B[0m \u001B[1m1s\u001B[0m 51ms/step - accuracy: 0.9703 - loss: 0.1279 - val_accuracy: 0.9167 - val_loss: 0.2588 - learning_rate: 2.0000e-04\n",
      "Epoch 20/70\n",
      "\u001B[1m20/20\u001B[0m \u001B[32m━━━━━━━━━━━━━━━━━━━━\u001B[0m\u001B[37m\u001B[0m \u001B[1m1s\u001B[0m 52ms/step - accuracy: 0.9651 - loss: 0.1320 - val_accuracy: 0.9231 - val_loss: 0.2557 - learning_rate: 2.0000e-04\n",
      "Epoch 21/70\n",
      "\u001B[1m20/20\u001B[0m \u001B[32m━━━━━━━━━━━━━━━━━━━━\u001B[0m\u001B[37m\u001B[0m \u001B[1m1s\u001B[0m 51ms/step - accuracy: 0.9608 - loss: 0.1314 - val_accuracy: 0.9167 - val_loss: 0.2814 - learning_rate: 2.0000e-04\n",
      "Epoch 22/70\n",
      "\u001B[1m20/20\u001B[0m \u001B[32m━━━━━━━━━━━━━━━━━━━━\u001B[0m\u001B[37m\u001B[0m \u001B[1m1s\u001B[0m 55ms/step - accuracy: 0.9739 - loss: 0.0956 - val_accuracy: 0.9231 - val_loss: 0.2396 - learning_rate: 2.0000e-04\n",
      "Epoch 23/70\n",
      "\u001B[1m20/20\u001B[0m \u001B[32m━━━━━━━━━━━━━━━━━━━━\u001B[0m\u001B[37m\u001B[0m \u001B[1m1s\u001B[0m 53ms/step - accuracy: 0.9708 - loss: 0.1111 - val_accuracy: 0.9038 - val_loss: 0.3673 - learning_rate: 2.0000e-04\n",
      "Epoch 24/70\n",
      "\u001B[1m20/20\u001B[0m \u001B[32m━━━━━━━━━━━━━━━━━━━━\u001B[0m\u001B[37m\u001B[0m \u001B[1m1s\u001B[0m 52ms/step - accuracy: 0.9571 - loss: 0.1357 - val_accuracy: 0.9167 - val_loss: 0.3032 - learning_rate: 2.0000e-04\n",
      "Epoch 25/70\n",
      "\u001B[1m20/20\u001B[0m \u001B[32m━━━━━━━━━━━━━━━━━━━━\u001B[0m\u001B[37m\u001B[0m \u001B[1m1s\u001B[0m 51ms/step - accuracy: 0.9602 - loss: 0.1237 - val_accuracy: 0.9295 - val_loss: 0.2405 - learning_rate: 2.0000e-04\n",
      "Epoch 26/70\n",
      "\u001B[1m20/20\u001B[0m \u001B[32m━━━━━━━━━━━━━━━━━━━━\u001B[0m\u001B[37m\u001B[0m \u001B[1m1s\u001B[0m 53ms/step - accuracy: 0.9718 - loss: 0.0829 - val_accuracy: 0.9295 - val_loss: 0.2208 - learning_rate: 4.0000e-05\n",
      "Epoch 27/70\n",
      "\u001B[1m20/20\u001B[0m \u001B[32m━━━━━━━━━━━━━━━━━━━━\u001B[0m\u001B[37m\u001B[0m \u001B[1m1s\u001B[0m 52ms/step - accuracy: 0.9802 - loss: 0.0912 - val_accuracy: 0.9359 - val_loss: 0.2238 - learning_rate: 4.0000e-05\n",
      "Epoch 28/70\n",
      "\u001B[1m20/20\u001B[0m \u001B[32m━━━━━━━━━━━━━━━━━━━━\u001B[0m\u001B[37m\u001B[0m \u001B[1m1s\u001B[0m 52ms/step - accuracy: 0.9827 - loss: 0.0733 - val_accuracy: 0.9295 - val_loss: 0.2183 - learning_rate: 4.0000e-05\n",
      "Epoch 29/70\n",
      "\u001B[1m20/20\u001B[0m \u001B[32m━━━━━━━━━━━━━━━━━━━━\u001B[0m\u001B[37m\u001B[0m \u001B[1m1s\u001B[0m 51ms/step - accuracy: 0.9710 - loss: 0.0914 - val_accuracy: 0.9295 - val_loss: 0.2340 - learning_rate: 4.0000e-05\n",
      "Epoch 30/70\n",
      "\u001B[1m20/20\u001B[0m \u001B[32m━━━━━━━━━━━━━━━━━━━━\u001B[0m\u001B[37m\u001B[0m \u001B[1m1s\u001B[0m 51ms/step - accuracy: 0.9753 - loss: 0.0899 - val_accuracy: 0.9359 - val_loss: 0.2186 - learning_rate: 4.0000e-05\n",
      "Epoch 31/70\n",
      "\u001B[1m20/20\u001B[0m \u001B[32m━━━━━━━━━━━━━━━━━━━━\u001B[0m\u001B[37m\u001B[0m \u001B[1m1s\u001B[0m 52ms/step - accuracy: 0.9793 - loss: 0.0824 - val_accuracy: 0.9295 - val_loss: 0.2194 - learning_rate: 4.0000e-05\n",
      "Epoch 32/70\n",
      "\u001B[1m20/20\u001B[0m \u001B[32m━━━━━━━━━━━━━━━━━━━━\u001B[0m\u001B[37m\u001B[0m \u001B[1m1s\u001B[0m 51ms/step - accuracy: 0.9806 - loss: 0.0766 - val_accuracy: 0.9359 - val_loss: 0.2189 - learning_rate: 8.0000e-06\n",
      "Epoch 33/70\n",
      "\u001B[1m20/20\u001B[0m \u001B[32m━━━━━━━━━━━━━━━━━━━━\u001B[0m\u001B[37m\u001B[0m \u001B[1m1s\u001B[0m 51ms/step - accuracy: 0.9860 - loss: 0.0736 - val_accuracy: 0.9295 - val_loss: 0.2204 - learning_rate: 8.0000e-06\n"
     ]
    }
   ],
   "execution_count": 13
  },
  {
   "metadata": {},
   "cell_type": "markdown",
   "source": "",
   "id": "fae1dc5f6bab4339"
  },
  {
   "metadata": {},
   "cell_type": "markdown",
   "source": "# Run the machine learning pipeline",
   "id": "b3cea99d8b0e0ece"
  },
  {
   "metadata": {
    "ExecuteTime": {
     "end_time": "2025-01-20T18:04:47.330983Z",
     "start_time": "2025-01-20T18:04:46.891468Z"
    }
   },
   "cell_type": "code",
   "source": [
    "y_anomaly_true = get_true_anomalies(y_test)\n",
    "image_predictions = ae_model.predict(X_test)\n",
    "\n",
    "mse_list = calculate_mse_list(X_test, image_predictions)\n",
    "y_anomaly_pred = detect_anomalies(mse_list, anomaly_threshold)"
   ],
   "id": "6eca8fc35d514f13",
   "outputs": [
    {
     "name": "stdout",
     "output_type": "stream",
     "text": [
      "\u001B[1m2/2\u001B[0m \u001B[32m━━━━━━━━━━━━━━━━━━━━\u001B[0m\u001B[37m\u001B[0m \u001B[1m0s\u001B[0m 80ms/step\n"
     ]
    }
   ],
   "execution_count": 14
  },
  {
   "metadata": {
    "ExecuteTime": {
     "end_time": "2025-01-20T18:04:47.858118Z",
     "start_time": "2025-01-20T18:04:47.430402Z"
    }
   },
   "cell_type": "code",
   "source": "predictions = CNN_model.predict(X_test)",
   "id": "9aea4ba14e178c75",
   "outputs": [
    {
     "name": "stdout",
     "output_type": "stream",
     "text": [
      "\u001B[1m2/2\u001B[0m \u001B[32m━━━━━━━━━━━━━━━━━━━━\u001B[0m\u001B[37m\u001B[0m \u001B[1m0s\u001B[0m 163ms/step\n"
     ]
    }
   ],
   "execution_count": 15
  },
  {
   "metadata": {
    "ExecuteTime": {
     "end_time": "2025-01-20T18:04:48.696776Z",
     "start_time": "2025-01-20T18:04:47.954063Z"
    }
   },
   "cell_type": "code",
   "source": "viz.plot_metrics(CNN_history, \"CNN\", accuracy=True)",
   "id": "d0e3bce1b6d1a976",
   "outputs": [
    {
     "data": {
      "text/plain": [
       "<Figure size 1200x500 with 2 Axes>"
      ],
      "image/png": "[encoded data removed]"
     },
     "metadata": {},
     "output_type": "display_data"
    }
   ],
   "execution_count": 23
  },
  {
   "metadata": {
    "ExecuteTime": {
     "end_time": "2025-01-20T17:47:07.579909Z",
     "start_time": "2025-01-20T17:35:26.034817Z"
    }
   },
   "cell_type": "code",
   "source": "viz.plot_heatmap(y_test, predictions)",
   "id": "a398be62cb62dcf2",
   "outputs": [
    {
     "data": {
      "text/plain": [
       "<Figure size 1000x800 with 2 Axes>"
      ],
      "image/png": "[encoded data removed]"
     },
     "metadata": {},
     "output_type": "display_data"
    }
   ],
   "execution_count": 24
  }
 ],
 "metadata": {
  "kernelspec": {
   "display_name": "Python 3",
   "language": "python",
   "name": "python3"
  },
  "language_info": {
   "codemirror_mode": {
    "name": "ipython",
    "version": 2
   },
   "file_extension": ".py",
   "mimetype": "text/x-python",
   "name": "python",
   "nbconvert_exporter": "python",
   "pygments_lexer": "ipython2",
   "version": "2.7.6"
  },
  "colab": {
   "provenance": []
  }
 },
 "nbformat": 4,
 "nbformat_minor": 5
}
