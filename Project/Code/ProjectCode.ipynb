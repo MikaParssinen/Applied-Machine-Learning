{
 "cells": [
  {
   "cell_type": "markdown",
   "source": [
    "# DVA263 project"
   ],
   "metadata": {
    "id": "Iz1_HZ5_QpML"
   },
   "id": "Iz1_HZ5_QpML"
  },
  {
   "cell_type": "markdown",
   "source": [
    "# Libraries\n",
    "\n",
    "Declaring all libraries in use"
   ],
   "metadata": {
    "id": "glwLHuRHxHOg"
   },
   "id": "glwLHuRHxHOg"
  },
  {
   "cell_type": "code",
   "source": [
    "from matplotlib import pyplot as plt\n",
    "from tensorflow.keras.models import Sequential\n",
    "from tensorflow.keras.layers import Conv2D, MaxPooling2D, Flatten, Dense, Dropout\n",
    "from tensorflow.keras.utils import to_categorical\n",
    "from tensorflow.keras.optimizers import Adam\n",
    "from tensorflow.keras.regularizers import L2\n",
    "import os\n",
    "import cnn as cnn\n",
    "import preprocessing as pre\n",
    "import visualization as vis\n",
    "import numpy as np\n",
    "import matplotlib.pyplot as plt\n",
    "import tensorflow as tf\n",
    "import seaborn as sns\n",
    "\n"
   ],
   "metadata": {
    "id": "3D3Svn8oxksw",
    "ExecuteTime": {
     "end_time": "2025-01-15T22:55:22.833230Z",
     "start_time": "2025-01-15T22:55:03.597471Z"
    }
   },
   "id": "3D3Svn8oxksw",
   "outputs": [],
   "execution_count": 1
  },
  {
   "cell_type": "markdown",
   "source": [
    "# Load Dataset"
   ],
   "metadata": {
    "id": "fBAFQo5H0FdD"
   },
   "id": "fBAFQo5H0FdD"
  },
  {
   "cell_type": "code",
   "source": [
    "def load_cnn():\n",
    "    \"\"\"Load the datasets for the CNN input\"\"\"\n",
    "    CNN_train = \"../dataset/CNN_Input/train/\"\n",
    "    CNN_test = \"../dataset/CNN_Input/test/\"\n",
    "    CNN_train = pre.import_images(CNN_train, (150,150),batch_size=16, dataset=True)\n",
    "    CNN_test = pre.import_images(CNN_test, (150,150), batch_size=16,  dataset=True)\n",
    "    return CNN_train, CNN_test"
   ],
   "metadata": {
    "id": "P9EcdLxk0MJT",
    "ExecuteTime": {
     "end_time": "2025-01-15T22:55:22.837Z",
     "start_time": "2025-01-15T22:55:22.834212Z"
    }
   },
   "id": "P9EcdLxk0MJT",
   "outputs": [],
   "execution_count": 2
  },
  {
   "cell_type": "markdown",
   "source": [
    "# Prepare Data"
   ],
   "metadata": {
    "id": "C7JZMmJc1Y4q"
   },
   "id": "C7JZMmJc1Y4q"
  },
  {
   "cell_type": "code",
   "source": [
    "def prep_cnn(cnn_train, cnn_test):\n",
    "    \"\"\"Add noise images to train and test set and normalize\"\"\"\n",
    "    g_noisy_train_data = cnn_train.map(pre.add_gaussian_noise)\n",
    "    snp_noisy_train_data = cnn_train.map(pre.add_salt_and_pepper_noise)\n",
    "    combined_train_data = cnn_train.concatenate(g_noisy_train_data).concatenate(snp_noisy_train_data)\n",
    "\n",
    "    percentage_noisy_images = 0.2\n",
    "    total_test_images = len(CNN_test) * 16  # Total images in test data\n",
    "    num_noisy_images = int(total_test_images * percentage_noisy_images)\n",
    "\n",
    "    g_noisy_test_data = cnn_test.take(num_noisy_images).map(pre.add_gaussian_noise)\n",
    "    snp_noisy_test_data = cnn_test.take(num_noisy_images).map(pre.add_salt_and_pepper_noise)\n",
    "    remaining_test_data = cnn_test.skip(num_noisy_images)\n",
    "\n",
    "    combined_test_data = g_noisy_test_data.concatenate(remaining_test_data)\n",
    "    combined_test_data = combined_test_data.concatenate(snp_noisy_test_data)\n",
    "\n",
    "    test_data_norm, train_data_norm = pre.normalize_dataset(combined_train_data, combined_test_data)\n",
    "    return train_data_norm, test_data_norm\n"
   ],
   "metadata": {
    "id": "C5oxNrJF1dzC",
    "ExecuteTime": {
     "end_time": "2025-01-15T22:55:22.841255Z",
     "start_time": "2025-01-15T22:55:22.838016Z"
    }
   },
   "id": "C5oxNrJF1dzC",
   "outputs": [],
   "execution_count": 3
  },
  {
   "cell_type": "markdown",
   "source": "# Build and Compile Model",
   "metadata": {
    "id": "QxKIKd961t1a"
   },
   "id": "QxKIKd961t1a"
  },
  {
   "cell_type": "code",
   "source": [
    "def build_cnn():\n",
    "    model = cnn.build_cnn_model()\n",
    "    return model"
   ],
   "metadata": {
    "id": "1IJY7T_a100q",
    "ExecuteTime": {
     "end_time": "2025-01-15T22:55:22.846084Z",
     "start_time": "2025-01-15T22:55:22.843805Z"
    }
   },
   "id": "1IJY7T_a100q",
   "outputs": [],
   "execution_count": 4
  },
  {
   "cell_type": "markdown",
   "source": "#  Train Model",
   "metadata": {
    "id": "h-BLAVMT19xB"
   },
   "id": "h-BLAVMT19xB"
  },
  {
   "cell_type": "code",
   "source": [
    "def train_cnn(model,cnn_train, cnn_test):\n",
    "    history = cnn.train_model(model, cnn_train, cnn_test)\n",
    "    return history"
   ],
   "metadata": {
    "id": "HKkxhb442AUZ",
    "ExecuteTime": {
     "end_time": "2025-01-15T22:55:22.849791Z",
     "start_time": "2025-01-15T22:55:22.847197Z"
    }
   },
   "id": "HKkxhb442AUZ",
   "outputs": [],
   "execution_count": 5
  },
  {
   "cell_type": "markdown",
   "source": [
    "# Putting everything together\n",
    "\n",
    "Main section putting each part together and running the classification task"
   ],
   "metadata": {
    "id": "nfCocLzz2ISR"
   },
   "id": "nfCocLzz2ISR"
  },
  {
   "cell_type": "code",
   "source": [
    "CNN_train, CNN_test = load_cnn()\n",
    "CNN_train, CNN_test = prep_cnn(CNN_train, CNN_test)\n",
    "CNN_model = build_cnn()\n",
    "CNN_history = train_cnn(CNN_model, CNN_train, CNN_test)\n",
    "CNN_model.predict(CNN_test) # here we will use the output from the autoencoder.\n"
   ],
   "metadata": {
    "id": "u08HtNXI2ZPa",
    "ExecuteTime": {
     "end_time": "2025-01-15T22:57:27.472266Z",
     "start_time": "2025-01-15T22:55:22.851190Z"
    }
   },
   "id": "u08HtNXI2ZPa",
   "outputs": [
    {
     "name": "stdout",
     "output_type": "stream",
     "text": [
      "Found 83 files belonging to 4 classes.\n",
      "Found 62 files belonging to 4 classes.\n",
      "Epoch 1/70\n",
      "\u001B[1m18/18\u001B[0m \u001B[32m━━━━━━━━━━━━━━━━━━━━\u001B[0m\u001B[37m\u001B[0m \u001B[1m4s\u001B[0m 151ms/step - accuracy: 0.2540 - loss: 1.3963 - val_accuracy: 0.3548 - val_loss: 1.3816 - learning_rate: 0.0010\n",
      "Epoch 2/70\n",
      "\u001B[1m18/18\u001B[0m \u001B[32m━━━━━━━━━━━━━━━━━━━━\u001B[0m\u001B[37m\u001B[0m \u001B[1m3s\u001B[0m 145ms/step - accuracy: 0.3692 - loss: 1.3802 - val_accuracy: 0.4597 - val_loss: 1.3768 - learning_rate: 0.0010\n",
      "Epoch 3/70\n",
      "\u001B[1m18/18\u001B[0m \u001B[32m━━━━━━━━━━━━━━━━━━━━\u001B[0m\u001B[37m\u001B[0m \u001B[1m3s\u001B[0m 140ms/step - accuracy: 0.3781 - loss: 1.3740 - val_accuracy: 0.3387 - val_loss: 1.3697 - learning_rate: 0.0010\n",
      "Epoch 4/70\n",
      "\u001B[1m18/18\u001B[0m \u001B[32m━━━━━━━━━━━━━━━━━━━━\u001B[0m\u001B[37m\u001B[0m \u001B[1m2s\u001B[0m 131ms/step - accuracy: 0.3386 - loss: 1.3606 - val_accuracy: 0.3548 - val_loss: 1.3495 - learning_rate: 0.0010\n",
      "Epoch 5/70\n",
      "\u001B[1m18/18\u001B[0m \u001B[32m━━━━━━━━━━━━━━━━━━━━\u001B[0m\u001B[37m\u001B[0m \u001B[1m3s\u001B[0m 165ms/step - accuracy: 0.3556 - loss: 1.3510 - val_accuracy: 0.3790 - val_loss: 1.3119 - learning_rate: 0.0010\n",
      "Epoch 6/70\n",
      "\u001B[1m18/18\u001B[0m \u001B[32m━━━━━━━━━━━━━━━━━━━━\u001B[0m\u001B[37m\u001B[0m \u001B[1m3s\u001B[0m 138ms/step - accuracy: 0.4079 - loss: 1.2825 - val_accuracy: 0.4758 - val_loss: 1.2216 - learning_rate: 0.0010\n",
      "Epoch 7/70\n",
      "\u001B[1m18/18\u001B[0m \u001B[32m━━━━━━━━━━━━━━━━━━━━\u001B[0m\u001B[37m\u001B[0m \u001B[1m3s\u001B[0m 140ms/step - accuracy: 0.4661 - loss: 1.1605 - val_accuracy: 0.5968 - val_loss: 1.0481 - learning_rate: 0.0010\n",
      "Epoch 8/70\n",
      "\u001B[1m18/18\u001B[0m \u001B[32m━━━━━━━━━━━━━━━━━━━━\u001B[0m\u001B[37m\u001B[0m \u001B[1m2s\u001B[0m 130ms/step - accuracy: 0.6020 - loss: 1.0076 - val_accuracy: 0.5565 - val_loss: 1.0528 - learning_rate: 0.0010\n",
      "Epoch 9/70\n",
      "\u001B[1m18/18\u001B[0m \u001B[32m━━━━━━━━━━━━━━━━━━━━\u001B[0m\u001B[37m\u001B[0m \u001B[1m2s\u001B[0m 129ms/step - accuracy: 0.6438 - loss: 0.9741 - val_accuracy: 0.5887 - val_loss: 0.9033 - learning_rate: 0.0010\n",
      "Epoch 10/70\n",
      "\u001B[1m18/18\u001B[0m \u001B[32m━━━━━━━━━━━━━━━━━━━━\u001B[0m\u001B[37m\u001B[0m \u001B[1m3s\u001B[0m 140ms/step - accuracy: 0.6801 - loss: 0.8181 - val_accuracy: 0.6935 - val_loss: 0.7079 - learning_rate: 0.0010\n",
      "Epoch 11/70\n",
      "\u001B[1m18/18\u001B[0m \u001B[32m━━━━━━━━━━━━━━━━━━━━\u001B[0m\u001B[37m\u001B[0m \u001B[1m3s\u001B[0m 156ms/step - accuracy: 0.7516 - loss: 0.6482 - val_accuracy: 0.6855 - val_loss: 0.8121 - learning_rate: 0.0010\n",
      "Epoch 12/70\n",
      "\u001B[1m18/18\u001B[0m \u001B[32m━━━━━━━━━━━━━━━━━━━━\u001B[0m\u001B[37m\u001B[0m \u001B[1m3s\u001B[0m 144ms/step - accuracy: 0.7321 - loss: 0.6988 - val_accuracy: 0.8226 - val_loss: 0.5059 - learning_rate: 0.0010\n",
      "Epoch 13/70\n",
      "\u001B[1m18/18\u001B[0m \u001B[32m━━━━━━━━━━━━━━━━━━━━\u001B[0m\u001B[37m\u001B[0m \u001B[1m3s\u001B[0m 145ms/step - accuracy: 0.8077 - loss: 0.4402 - val_accuracy: 0.7903 - val_loss: 0.4656 - learning_rate: 0.0010\n",
      "Epoch 14/70\n",
      "\u001B[1m18/18\u001B[0m \u001B[32m━━━━━━━━━━━━━━━━━━━━\u001B[0m\u001B[37m\u001B[0m \u001B[1m3s\u001B[0m 148ms/step - accuracy: 0.8428 - loss: 0.3588 - val_accuracy: 0.9194 - val_loss: 0.2395 - learning_rate: 0.0010\n",
      "Epoch 15/70\n",
      "\u001B[1m18/18\u001B[0m \u001B[32m━━━━━━━━━━━━━━━━━━━━\u001B[0m\u001B[37m\u001B[0m \u001B[1m3s\u001B[0m 190ms/step - accuracy: 0.9467 - loss: 0.1715 - val_accuracy: 0.8629 - val_loss: 0.3063 - learning_rate: 0.0010\n",
      "Epoch 16/70\n",
      "\u001B[1m18/18\u001B[0m \u001B[32m━━━━━━━━━━━━━━━━━━━━\u001B[0m\u001B[37m\u001B[0m \u001B[1m4s\u001B[0m 203ms/step - accuracy: 0.9449 - loss: 0.1764 - val_accuracy: 0.9194 - val_loss: 0.2386 - learning_rate: 0.0010\n",
      "Epoch 17/70\n",
      "\u001B[1m18/18\u001B[0m \u001B[32m━━━━━━━━━━━━━━━━━━━━\u001B[0m\u001B[37m\u001B[0m \u001B[1m4s\u001B[0m 198ms/step - accuracy: 0.9103 - loss: 0.2098 - val_accuracy: 0.8710 - val_loss: 0.2636 - learning_rate: 0.0010\n",
      "Epoch 18/70\n",
      "\u001B[1m18/18\u001B[0m \u001B[32m━━━━━━━━━━━━━━━━━━━━\u001B[0m\u001B[37m\u001B[0m \u001B[1m3s\u001B[0m 188ms/step - accuracy: 0.9122 - loss: 0.2237 - val_accuracy: 0.9516 - val_loss: 0.1462 - learning_rate: 0.0010\n",
      "Epoch 19/70\n",
      "\u001B[1m18/18\u001B[0m \u001B[32m━━━━━━━━━━━━━━━━━━━━\u001B[0m\u001B[37m\u001B[0m \u001B[1m3s\u001B[0m 187ms/step - accuracy: 0.9922 - loss: 0.0721 - val_accuracy: 0.8790 - val_loss: 0.2312 - learning_rate: 0.0010\n",
      "Epoch 20/70\n",
      "\u001B[1m18/18\u001B[0m \u001B[32m━━━━━━━━━━━━━━━━━━━━\u001B[0m\u001B[37m\u001B[0m \u001B[1m4s\u001B[0m 203ms/step - accuracy: 0.9369 - loss: 0.1294 - val_accuracy: 0.9677 - val_loss: 0.1187 - learning_rate: 0.0010\n",
      "Epoch 21/70\n",
      "\u001B[1m18/18\u001B[0m \u001B[32m━━━━━━━━━━━━━━━━━━━━\u001B[0m\u001B[37m\u001B[0m \u001B[1m4s\u001B[0m 225ms/step - accuracy: 0.9756 - loss: 0.0722 - val_accuracy: 0.9194 - val_loss: 0.2163 - learning_rate: 0.0010\n",
      "Epoch 22/70\n",
      "\u001B[1m18/18\u001B[0m \u001B[32m━━━━━━━━━━━━━━━━━━━━\u001B[0m\u001B[37m\u001B[0m \u001B[1m4s\u001B[0m 218ms/step - accuracy: 0.9335 - loss: 0.1212 - val_accuracy: 0.9677 - val_loss: 0.0971 - learning_rate: 0.0010\n",
      "Epoch 23/70\n",
      "\u001B[1m18/18\u001B[0m \u001B[32m━━━━━━━━━━━━━━━━━━━━\u001B[0m\u001B[37m\u001B[0m \u001B[1m4s\u001B[0m 223ms/step - accuracy: 0.9942 - loss: 0.0331 - val_accuracy: 0.9758 - val_loss: 0.0659 - learning_rate: 0.0010\n",
      "Epoch 24/70\n",
      "\u001B[1m18/18\u001B[0m \u001B[32m━━━━━━━━━━━━━━━━━━━━\u001B[0m\u001B[37m\u001B[0m \u001B[1m3s\u001B[0m 171ms/step - accuracy: 0.9970 - loss: 0.0302 - val_accuracy: 0.9919 - val_loss: 0.0415 - learning_rate: 0.0010\n",
      "Epoch 25/70\n",
      "\u001B[1m18/18\u001B[0m \u001B[32m━━━━━━━━━━━━━━━━━━━━\u001B[0m\u001B[37m\u001B[0m \u001B[1m3s\u001B[0m 159ms/step - accuracy: 0.9875 - loss: 0.0338 - val_accuracy: 1.0000 - val_loss: 0.0519 - learning_rate: 0.0010\n",
      "Epoch 26/70\n",
      "\u001B[1m18/18\u001B[0m \u001B[32m━━━━━━━━━━━━━━━━━━━━\u001B[0m\u001B[37m\u001B[0m \u001B[1m3s\u001B[0m 164ms/step - accuracy: 0.9842 - loss: 0.0443 - val_accuracy: 0.9758 - val_loss: 0.0576 - learning_rate: 0.0010\n",
      "Epoch 27/70\n",
      "\u001B[1m18/18\u001B[0m \u001B[32m━━━━━━━━━━━━━━━━━━━━\u001B[0m\u001B[37m\u001B[0m \u001B[1m3s\u001B[0m 149ms/step - accuracy: 0.9966 - loss: 0.0318 - val_accuracy: 0.9839 - val_loss: 0.0486 - learning_rate: 0.0010\n",
      "Epoch 28/70\n",
      "\u001B[1m18/18\u001B[0m \u001B[32m━━━━━━━━━━━━━━━━━━━━\u001B[0m\u001B[37m\u001B[0m \u001B[1m3s\u001B[0m 148ms/step - accuracy: 0.9991 - loss: 0.0135 - val_accuracy: 0.9839 - val_loss: 0.0372 - learning_rate: 2.0000e-04\n",
      "Epoch 29/70\n",
      "\u001B[1m18/18\u001B[0m \u001B[32m━━━━━━━━━━━━━━━━━━━━\u001B[0m\u001B[37m\u001B[0m \u001B[1m3s\u001B[0m 156ms/step - accuracy: 0.9972 - loss: 0.0105 - val_accuracy: 0.9919 - val_loss: 0.0295 - learning_rate: 2.0000e-04\n",
      "Epoch 30/70\n",
      "\u001B[1m18/18\u001B[0m \u001B[32m━━━━━━━━━━━━━━━━━━━━\u001B[0m\u001B[37m\u001B[0m \u001B[1m3s\u001B[0m 167ms/step - accuracy: 1.0000 - loss: 0.0085 - val_accuracy: 1.0000 - val_loss: 0.0188 - learning_rate: 2.0000e-04\n",
      "Epoch 31/70\n",
      "\u001B[1m18/18\u001B[0m \u001B[32m━━━━━━━━━━━━━━━━━━━━\u001B[0m\u001B[37m\u001B[0m \u001B[1m4s\u001B[0m 208ms/step - accuracy: 0.9983 - loss: 0.0091 - val_accuracy: 1.0000 - val_loss: 0.0205 - learning_rate: 2.0000e-04\n",
      "Epoch 32/70\n",
      "\u001B[1m18/18\u001B[0m \u001B[32m━━━━━━━━━━━━━━━━━━━━\u001B[0m\u001B[37m\u001B[0m \u001B[1m3s\u001B[0m 151ms/step - accuracy: 0.9996 - loss: 0.0077 - val_accuracy: 0.9919 - val_loss: 0.0210 - learning_rate: 2.0000e-04\n",
      "Epoch 33/70\n",
      "\u001B[1m18/18\u001B[0m \u001B[32m━━━━━━━━━━━━━━━━━━━━\u001B[0m\u001B[37m\u001B[0m \u001B[1m3s\u001B[0m 161ms/step - accuracy: 0.9930 - loss: 0.0233 - val_accuracy: 1.0000 - val_loss: 0.0217 - learning_rate: 2.0000e-04\n",
      "Epoch 34/70\n",
      "\u001B[1m18/18\u001B[0m \u001B[32m━━━━━━━━━━━━━━━━━━━━\u001B[0m\u001B[37m\u001B[0m \u001B[1m3s\u001B[0m 169ms/step - accuracy: 0.9989 - loss: 0.0071 - val_accuracy: 1.0000 - val_loss: 0.0165 - learning_rate: 4.0000e-05\n",
      "Epoch 35/70\n",
      "\u001B[1m18/18\u001B[0m \u001B[32m━━━━━━━━━━━━━━━━━━━━\u001B[0m\u001B[37m\u001B[0m \u001B[1m3s\u001B[0m 146ms/step - accuracy: 0.9972 - loss: 0.0076 - val_accuracy: 1.0000 - val_loss: 0.0192 - learning_rate: 4.0000e-05\n",
      "Epoch 36/70\n",
      "\u001B[1m18/18\u001B[0m \u001B[32m━━━━━━━━━━━━━━━━━━━━\u001B[0m\u001B[37m\u001B[0m \u001B[1m3s\u001B[0m 159ms/step - accuracy: 1.0000 - loss: 0.0069 - val_accuracy: 1.0000 - val_loss: 0.0137 - learning_rate: 4.0000e-05\n",
      "Epoch 37/70\n",
      "\u001B[1m18/18\u001B[0m \u001B[32m━━━━━━━━━━━━━━━━━━━━\u001B[0m\u001B[37m\u001B[0m \u001B[1m3s\u001B[0m 144ms/step - accuracy: 1.0000 - loss: 0.0056 - val_accuracy: 1.0000 - val_loss: 0.0109 - learning_rate: 4.0000e-05\n",
      "Epoch 38/70\n",
      "\u001B[1m18/18\u001B[0m \u001B[32m━━━━━━━━━━━━━━━━━━━━\u001B[0m\u001B[37m\u001B[0m \u001B[1m3s\u001B[0m 142ms/step - accuracy: 0.9994 - loss: 0.0072 - val_accuracy: 1.0000 - val_loss: 0.0150 - learning_rate: 4.0000e-05\n",
      "Epoch 39/70\n",
      "\u001B[1m18/18\u001B[0m \u001B[32m━━━━━━━━━━━━━━━━━━━━\u001B[0m\u001B[37m\u001B[0m \u001B[1m2s\u001B[0m 138ms/step - accuracy: 1.0000 - loss: 0.0067 - val_accuracy: 1.0000 - val_loss: 0.0149 - learning_rate: 4.0000e-05\n",
      "Epoch 40/70\n",
      "\u001B[1m18/18\u001B[0m \u001B[32m━━━━━━━━━━━━━━━━━━━━\u001B[0m\u001B[37m\u001B[0m \u001B[1m3s\u001B[0m 139ms/step - accuracy: 0.9989 - loss: 0.0067 - val_accuracy: 1.0000 - val_loss: 0.0154 - learning_rate: 4.0000e-05\n",
      "Epoch 41/70\n",
      "\u001B[1m18/18\u001B[0m \u001B[32m━━━━━━━━━━━━━━━━━━━━\u001B[0m\u001B[37m\u001B[0m \u001B[1m3s\u001B[0m 142ms/step - accuracy: 0.9991 - loss: 0.0062 - val_accuracy: 0.9919 - val_loss: 0.0219 - learning_rate: 8.0000e-06\n",
      "Epoch 42/70\n",
      "\u001B[1m18/18\u001B[0m \u001B[32m━━━━━━━━━━━━━━━━━━━━\u001B[0m\u001B[37m\u001B[0m \u001B[1m3s\u001B[0m 144ms/step - accuracy: 0.9983 - loss: 0.0071 - val_accuracy: 1.0000 - val_loss: 0.0213 - learning_rate: 8.0000e-06\n",
      "\u001B[1m8/8\u001B[0m \u001B[32m━━━━━━━━━━━━━━━━━━━━\u001B[0m\u001B[37m\u001B[0m \u001B[1m1s\u001B[0m 95ms/step\n"
     ]
    },
    {
     "data": {
      "text/plain": "array([[4.85610826e-06, 2.63648019e-07, 9.56072330e-01, 4.39225733e-02],\n       [2.44411002e-12, 1.44989631e-10, 9.99945521e-01, 5.44608447e-05],\n       [1.38029179e-07, 1.84997226e-08, 9.83583689e-01, 1.64162777e-02],\n       [9.99958813e-01, 2.16068656e-05, 2.12348569e-10, 1.96711735e-05],\n       [1.72418222e-08, 6.64652500e-10, 9.99999046e-01, 9.06875698e-07],\n       [3.46184570e-05, 2.15672549e-06, 8.63600988e-03, 9.91327226e-01],\n       [1.48184539e-04, 9.99839485e-01, 3.81842868e-09, 1.24283833e-05],\n       [7.70107654e-05, 9.99765277e-01, 2.50317214e-07, 1.57408780e-04],\n       [9.99998450e-01, 1.55385499e-06, 1.42676981e-09, 1.00995416e-08],\n       [1.09340840e-06, 4.95249779e-08, 9.96014655e-01, 3.98417795e-03],\n       [9.03423654e-07, 9.99999046e-01, 3.03760350e-09, 6.71848037e-12],\n       [9.99812007e-01, 1.88015838e-04, 1.54452753e-11, 5.82446891e-09],\n       [1.41216930e-07, 2.02068340e-09, 9.99989152e-01, 1.07253745e-05],\n       [2.15314867e-05, 5.41578038e-06, 9.76149976e-01, 2.38230620e-02],\n       [9.99538600e-01, 3.09604045e-04, 1.09998109e-04, 4.18486379e-05],\n       [3.37351485e-05, 5.71206656e-05, 1.52263528e-04, 9.99756932e-01],\n       [4.38977731e-03, 9.95601773e-01, 3.39290818e-11, 8.40625216e-06],\n       [8.07647011e-05, 1.37672090e-04, 1.55502275e-05, 9.99765992e-01],\n       [1.46551674e-05, 9.99713600e-01, 1.09235498e-09, 2.71675410e-04],\n       [9.70849789e-11, 1.24951016e-09, 9.99987364e-01, 1.26709620e-05],\n       [1.21779065e-03, 9.98782158e-01, 5.29237834e-11, 3.62428221e-09],\n       [6.09107337e-06, 6.02915097e-05, 1.56946655e-04, 9.99776661e-01],\n       [4.85647206e-06, 1.25566939e-05, 4.03411279e-04, 9.99579191e-01],\n       [2.39173154e-04, 7.16243994e-06, 1.12714875e-03, 9.98626530e-01],\n       [9.99588907e-01, 4.06858133e-04, 3.12583825e-06, 1.10558221e-06],\n       [9.99712765e-01, 2.16457309e-04, 7.26209493e-08, 7.07156287e-05],\n       [1.60186231e-04, 6.08580493e-08, 9.99692440e-01, 1.47336192e-04],\n       [1.07567257e-06, 1.80244460e-05, 9.97591734e-01, 2.38920655e-03],\n       [3.99545161e-03, 9.77877140e-01, 2.31682748e-07, 1.81271415e-02],\n       [2.75503089e-06, 3.67681764e-06, 3.38000571e-03, 9.96613622e-01],\n       [9.99956548e-01, 4.33781097e-05, 1.56999622e-11, 1.02231986e-07],\n       [1.96433277e-07, 1.15025863e-07, 9.92124796e-01, 7.87494611e-03],\n       [4.29796580e-11, 1.58282373e-10, 9.99998450e-01, 1.56256601e-06],\n       [1.99525282e-04, 9.99800503e-01, 3.20236343e-16, 2.62620112e-12],\n       [5.50135155e-05, 9.99944925e-01, 2.20150698e-09, 6.31020292e-10],\n       [6.12228457e-03, 9.93707478e-01, 1.06064855e-08, 1.70253232e-04],\n       [9.99177992e-01, 8.19407112e-04, 9.49129173e-07, 1.62553124e-06],\n       [9.99939084e-01, 7.65097411e-06, 1.38954652e-08, 5.32125196e-05],\n       [9.99821424e-01, 1.55621645e-04, 2.19671601e-05, 9.71633540e-07],\n       [7.45871375e-06, 7.39860116e-06, 8.22095142e-04, 9.99162972e-01],\n       [3.95395602e-07, 9.99999642e-01, 1.49457537e-18, 2.17812595e-15],\n       [3.81411694e-04, 9.98519540e-01, 5.51456019e-08, 1.09898171e-03],\n       [3.04174046e-05, 5.08129364e-04, 8.79998598e-03, 9.90661561e-01],\n       [2.39068941e-05, 6.35886216e-04, 5.73148252e-04, 9.98767018e-01],\n       [9.99137998e-01, 1.00599464e-05, 7.36618706e-04, 1.15369156e-04],\n       [2.10638067e-08, 5.80126480e-09, 9.99806523e-01, 1.93419983e-04],\n       [2.15377095e-05, 9.32914700e-05, 2.03399593e-03, 9.97851193e-01],\n       [7.04785508e-10, 3.25511035e-10, 9.99939084e-01, 6.08912669e-05],\n       [2.79307994e-03, 9.94172037e-01, 2.36028104e-08, 3.03494046e-03],\n       [1.92797778e-09, 2.64303512e-09, 9.99982059e-01, 1.79655217e-05],\n       [3.20318759e-06, 5.13890154e-05, 6.35031847e-06, 9.99939084e-01],\n       [1.71969456e-04, 2.96074677e-06, 2.31383950e-03, 9.97511268e-01],\n       [4.84096975e-13, 4.94288013e-11, 1.00000000e+00, 2.58001975e-09],\n       [3.57612572e-03, 9.96049643e-01, 3.48006846e-09, 3.74255644e-04],\n       [9.99740958e-01, 1.81479118e-04, 2.34584235e-07, 7.73015927e-05],\n       [9.96911824e-01, 2.21049377e-05, 8.80681910e-06, 3.05724679e-03],\n       [1.29658787e-04, 9.99816060e-01, 7.03128267e-09, 5.42496746e-05],\n       [1.66539121e-02, 9.65649605e-01, 6.82112898e-07, 1.76957306e-02],\n       [4.83721124e-07, 2.01710733e-07, 8.91187985e-04, 9.99108016e-01],\n       [7.81499897e-04, 6.45230757e-05, 9.85853374e-04, 9.98168111e-01],\n       [9.99901891e-01, 9.18195219e-05, 2.88730782e-08, 6.32498768e-06],\n       [5.89414453e-03, 9.93788898e-01, 2.89164768e-06, 3.13976110e-04],\n       [4.48307583e-05, 9.99955237e-01, 4.91371299e-09, 5.42300871e-10],\n       [1.20492727e-02, 9.85200584e-01, 1.52442612e-06, 2.74865422e-03],\n       [6.44946738e-07, 1.74708168e-06, 9.79077876e-01, 2.09198054e-02],\n       [9.99212980e-01, 7.58084818e-04, 2.61082801e-06, 2.62913672e-05],\n       [5.84014106e-06, 9.99994159e-01, 2.76016538e-16, 3.79372979e-14],\n       [9.94741023e-01, 4.86376463e-03, 3.31238029e-04, 6.39677091e-05],\n       [4.95038011e-09, 5.32820330e-08, 9.99962509e-01, 3.74995216e-05],\n       [3.50855594e-03, 9.96273696e-01, 1.60272407e-06, 2.16204513e-04],\n       [1.00749183e-11, 2.19329244e-09, 9.99981225e-01, 1.88454542e-05],\n       [1.61885218e-05, 2.61962879e-04, 3.19650717e-04, 9.99402165e-01],\n       [4.10202367e-04, 4.92394727e-04, 1.83374606e-04, 9.98914003e-01],\n       [2.18517100e-03, 3.06514371e-03, 2.95843289e-04, 9.94453847e-01],\n       [1.86426314e-05, 2.32374350e-06, 2.19683394e-01, 7.80295730e-01],\n       [9.13111705e-07, 9.99998808e-01, 1.97145326e-07, 6.36360409e-10],\n       [4.28631683e-05, 8.90268529e-06, 9.59903240e-01, 4.00450788e-02],\n       [5.98538900e-05, 1.18420314e-06, 9.99933243e-01, 5.71069586e-06],\n       [7.68270635e-04, 9.97221589e-01, 2.42557178e-07, 2.00992264e-03],\n       [9.97983694e-01, 2.01628800e-03, 3.55385971e-10, 3.80124447e-08],\n       [4.00397694e-04, 3.68420615e-06, 9.98641074e-01, 9.54908086e-04],\n       [1.01339594e-02, 7.04756647e-04, 3.18094581e-01, 6.71066701e-01],\n       [2.40675014e-04, 1.73654482e-02, 6.22196756e-02, 9.20174241e-01],\n       [5.79550804e-04, 6.48880086e-04, 7.62937882e-04, 9.98008609e-01],\n       [8.53136406e-09, 2.49685850e-09, 9.99838650e-01, 1.61428179e-04],\n       [9.95028496e-01, 3.02868488e-04, 4.51428117e-03, 1.54355861e-04],\n       [9.96171713e-01, 3.82593018e-03, 1.58607827e-06, 7.58869191e-07],\n       [4.18487378e-09, 7.45354622e-09, 9.99985456e-01, 1.45647700e-05],\n       [9.99789059e-01, 3.71881870e-05, 7.97284429e-07, 1.72947664e-04],\n       [8.41387646e-07, 3.66697100e-06, 9.99278545e-01, 7.16874085e-04],\n       [9.96868253e-01, 1.66557019e-03, 5.33293583e-04, 9.32859664e-04],\n       [8.25662355e-05, 9.12172080e-04, 6.73066126e-03, 9.92274761e-01],\n       [1.92370749e-07, 5.79588217e-08, 9.99957263e-01, 4.25590551e-05],\n       [9.99994755e-01, 4.96201892e-06, 1.71494648e-07, 1.25163169e-07],\n       [3.24963406e-03, 1.32619141e-04, 7.23051280e-02, 9.24312592e-01],\n       [9.98217702e-01, 1.48306310e-03, 3.90616015e-06, 2.95384118e-04],\n       [9.97703552e-01, 7.60668248e-04, 1.10566743e-05, 1.52458181e-03],\n       [6.96785207e-08, 1.01159480e-06, 9.99290884e-01, 7.08107429e-04],\n       [1.51402503e-03, 9.98485923e-01, 9.19354585e-14, 1.52246583e-11],\n       [2.29025679e-03, 9.73015726e-01, 1.40248667e-05, 2.46799663e-02],\n       [9.14176404e-01, 8.57845023e-02, 2.29290054e-05, 1.61757835e-05],\n       [1.86453381e-10, 8.92665852e-09, 9.99999762e-01, 2.79953497e-07],\n       [2.31996000e-06, 3.36616672e-08, 9.99924898e-01, 7.27582883e-05],\n       [9.99959648e-01, 2.71276840e-05, 2.92910363e-09, 1.32358009e-05],\n       [3.67454207e-03, 9.92434025e-01, 1.76035689e-06, 3.88972345e-03],\n       [1.33411994e-03, 9.98320639e-01, 3.73492384e-08, 3.45249166e-04],\n       [9.98714089e-01, 1.27683079e-03, 1.63368796e-07, 8.93487322e-06],\n       [1.17403287e-02, 8.24975312e-01, 1.02864266e-04, 1.63181484e-01],\n       [2.51797657e-03, 5.20480037e-01, 1.58748794e-02, 4.61127132e-01],\n       [5.09066449e-05, 9.99224007e-01, 6.75832155e-07, 7.24496320e-04],\n       [3.23386467e-03, 4.68057441e-03, 5.82695246e-01, 4.09390301e-01],\n       [1.12685375e-04, 4.05069877e-04, 4.83173964e-04, 9.98999059e-01],\n       [3.02781482e-05, 9.99969780e-01, 1.47685648e-11, 3.91249566e-09],\n       [2.27442477e-03, 7.70013034e-03, 1.25035942e-02, 9.77521837e-01],\n       [2.74838858e-05, 1.31827197e-04, 3.85467336e-02, 9.61293995e-01],\n       [6.59273413e-04, 1.59028001e-04, 8.88438463e-01, 1.10743232e-01],\n       [8.63728696e-04, 7.69035220e-02, 1.37107132e-03, 9.20861721e-01],\n       [8.72956356e-04, 9.98305202e-01, 1.59128176e-04, 6.62751438e-04],\n       [3.93122958e-04, 3.46476329e-03, 1.36159927e-01, 8.59982252e-01],\n       [5.28452657e-02, 9.47027564e-01, 7.20912707e-09, 1.27184903e-04],\n       [9.99562979e-01, 4.35362075e-04, 2.13804197e-09, 1.65231404e-06],\n       [3.50410810e-05, 9.99961674e-01, 1.29741968e-08, 3.31884257e-06],\n       [1.38916759e-04, 3.62066130e-05, 9.92977083e-01, 6.84776902e-03],\n       [4.51730390e-04, 3.93625611e-04, 3.86661035e-03, 9.95288014e-01]],\n      dtype=float32)"
     },
     "execution_count": 6,
     "metadata": {},
     "output_type": "execute_result"
    }
   ],
   "execution_count": 6
  }
 ],
 "metadata": {
  "kernelspec": {
   "display_name": "Python 3",
   "language": "python",
   "name": "python3"
  },
  "language_info": {
   "codemirror_mode": {
    "name": "ipython",
    "version": 2
   },
   "file_extension": ".py",
   "mimetype": "text/x-python",
   "name": "python",
   "nbconvert_exporter": "python",
   "pygments_lexer": "ipython2",
   "version": "2.7.6"
  },
  "colab": {
   "provenance": []
  }
 },
 "nbformat": 4,
 "nbformat_minor": 5
}
