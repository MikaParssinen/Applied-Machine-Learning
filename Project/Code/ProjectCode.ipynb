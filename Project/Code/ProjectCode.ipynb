{
 "cells": [
  {
   "cell_type": "markdown",
   "source": [
    "# DVA263 project"
   ],
   "metadata": {
    "id": "Iz1_HZ5_QpML"
   },
   "id": "Iz1_HZ5_QpML"
  },
  {
   "cell_type": "markdown",
   "source": [
    "# Libraries\n",
    "\n",
    "Declaring all libraries in use"
   ],
   "metadata": {
    "id": "glwLHuRHxHOg"
   },
   "id": "glwLHuRHxHOg"
  },
  {
   "cell_type": "code",
   "source": [
    "import autoencoder as ae\n",
    "\n",
    "import cnn as cnn\n",
    "import preprocessing as pre\n",
    "import visualization as viz\n",
    "import metrics\n",
    "import numpy as np\n",
    "\n",
    "from tensorflow.keras.callbacks import ReduceLROnPlateau, EarlyStopping\n",
    "from tensorflow.keras.models import load_model"
   ],
   "metadata": {
    "id": "3D3Svn8oxksw",
    "ExecuteTime": {
     "end_time": "2025-01-20T17:36:57.128440Z",
     "start_time": "2025-01-20T17:36:57.081792Z"
    }
   },
   "id": "3D3Svn8oxksw",
   "outputs": [],
   "execution_count": 34
  },
  {
   "cell_type": "markdown",
   "source": [
    "# Load Dataset"
   ],
   "metadata": {
    "id": "fBAFQo5H0FdD"
   },
   "id": "fBAFQo5H0FdD"
  },
  {
   "metadata": {
    "ExecuteTime": {
     "end_time": "2025-01-20T17:36:57.200799Z",
     "start_time": "2025-01-20T17:36:57.160644Z"
    }
   },
   "cell_type": "code",
   "source": [
    "def load(image_size):\n",
    "    train_path = \"../dataset/Project/train/\"\n",
    "    test_path = \"../dataset/Project/test/\"\n",
    "    \n",
    "    X_train, y_train = pre.get_dataset(train_path, image_size)\n",
    "    X_test, y_test = pre.get_dataset(test_path, image_size)\n",
    "    \n",
    "    return X_train, y_train, X_test, y_test"
   ],
   "id": "83999e1ee463a4f6",
   "outputs": [],
   "execution_count": 35
  },
  {
   "cell_type": "markdown",
   "source": [
    "# Prepare Data"
   ],
   "metadata": {
    "id": "C7JZMmJc1Y4q"
   },
   "id": "C7JZMmJc1Y4q"
  },
  {
   "cell_type": "code",
   "source": [
    "def prep_ae(X_train, y_train):\n",
    "    return ae.preprocess_images(X_train, y_train)\n",
    "\n",
    "def prep_cnn(X_train, y_train, X_test):\n",
    "    \"\"\"Add noise images to train and test set and normalize\"\"\"\n",
    "    # Apply noise augmentation on train data\n",
    "    g_noisy_train = pre.add_gaussian_noise(X_train)\n",
    "    snp_noisy_train = pre.add_salt_and_pepper_noise(X_train)\n",
    "\n",
    "    # Stack the original and noisy images together\n",
    "    X_train_combined = np.concatenate((X_train, g_noisy_train, snp_noisy_train), axis=0)\n",
    "    y_train_combined = np.concatenate((y_train, y_train, y_train), axis=0)  # Duplicate labels accordingly\n",
    "\n",
    "    # Normalize datasets\n",
    "    X_train_norm = pre.normalize_images(X_train_combined)\n",
    "    X_test_norm = pre.normalize_images(X_test)\n",
    "\n",
    "    return X_train_norm, y_train_combined, X_test_norm"
   ],
   "metadata": {
    "id": "C5oxNrJF1dzC",
    "ExecuteTime": {
     "end_time": "2025-01-20T17:36:57.334915Z",
     "start_time": "2025-01-20T17:36:57.305004Z"
    }
   },
   "id": "C5oxNrJF1dzC",
   "outputs": [],
   "execution_count": 36
  },
  {
   "cell_type": "markdown",
   "source": "# Build and Compile Models",
   "metadata": {
    "id": "QxKIKd961t1a"
   },
   "id": "QxKIKd961t1a"
  },
  {
   "cell_type": "code",
   "source": [
    "def build_ae(image_size):\n",
    "    model = ae.build_and_compile(image_size)\n",
    "    return model\n",
    "def build_cnn():\n",
    "    model = cnn.build_cnn_model()\n",
    "    return model"
   ],
   "metadata": {
    "id": "1IJY7T_a100q",
    "ExecuteTime": {
     "end_time": "2025-01-20T17:36:57.541567Z",
     "start_time": "2025-01-20T17:36:57.521778Z"
    }
   },
   "id": "1IJY7T_a100q",
   "outputs": [],
   "execution_count": 37
  },
  {
   "cell_type": "markdown",
   "source": "#  Train Models",
   "metadata": {
    "id": "h-BLAVMT19xB"
   },
   "id": "h-BLAVMT19xB"
  },
  {
   "cell_type": "code",
   "source": [
    "def train_ae(model, ae_train):\n",
    "    reduce_lr = ReduceLROnPlateau(monitor=\"val_loss\", factor=0.2, patience=3, min_delta=0.0005)\n",
    "    early_stop = EarlyStopping(monitor=\"val_loss\", patience=5, min_delta=0.0002, restore_best_weights=True)\n",
    "    callbacks = [reduce_lr, early_stop]\n",
    "\n",
    "    history = ae.fit_model(model, ae_train, epochs=30, batch_size=32, callbacks=callbacks)\n",
    "    return history\n",
    "\n",
    "def train_cnn(model,cnn_train, cnn_test):\n",
    "    history = cnn.train_model(model, cnn_train, cnn_test)\n",
    "    return history"
   ],
   "metadata": {
    "id": "HKkxhb442AUZ",
    "ExecuteTime": {
     "end_time": "2025-01-20T17:36:57.573073Z",
     "start_time": "2025-01-20T17:36:57.551150Z"
    }
   },
   "id": "HKkxhb442AUZ",
   "outputs": [],
   "execution_count": 38
  },
  {
   "metadata": {},
   "cell_type": "markdown",
   "source": "# Anomaly detection procedure",
   "id": "ea73e7b4cf8ef3f1"
  },
  {
   "metadata": {
    "ExecuteTime": {
     "end_time": "2025-01-20T17:36:57.694718Z",
     "start_time": "2025-01-20T17:36:57.667630Z"
    }
   },
   "cell_type": "code",
   "source": [
    "def calculate_mse_list(input_images, predicted_images):\n",
    "    values = []\n",
    "    count = len(input_images)\n",
    "    \n",
    "    for i in range(count):\n",
    "        temp_mse = metrics.mse(input_images[i], predicted_images[i])\n",
    "        values.append(temp_mse)\n",
    "        \n",
    "    return values\n",
    "        \n",
    "def get_true_anomalies(labels):\n",
    "    labels = np.argmax(labels, axis=1)\n",
    "    y_true = []\n",
    "    count = len(labels)\n",
    "    \n",
    "    for i in range(count):\n",
    "        if labels[i] == 3:\n",
    "            y_true.append(0)\n",
    "        else: \n",
    "            y_true.append(1)\n",
    "    return y_true\n",
    "\n",
    "def detect_anomalies(mse_list, threshold):\n",
    "    y_pred = []\n",
    "    count = len(mse_list)\n",
    "    \n",
    "    for i in range(count):\n",
    "        if mse_list[i] < threshold:\n",
    "            y_pred.append(0)\n",
    "        else:\n",
    "            y_pred.append(1)\n",
    "            \n",
    "    return y_pred"
   ],
   "id": "82edabdee694dd53",
   "outputs": [],
   "execution_count": 39
  },
  {
   "metadata": {},
   "cell_type": "markdown",
   "source": "# Plotting Training and Validation Figures",
   "id": "2376e6d4ef90910b"
  },
  {
   "metadata": {
    "ExecuteTime": {
     "end_time": "2025-01-20T17:36:57.809499Z",
     "start_time": "2025-01-20T17:36:57.783240Z"
    }
   },
   "cell_type": "code",
   "source": [
    "def visualize_training_history(ae_history, cnn_history):\n",
    "    viz.plot_metrics(ae_history, \"Autoencoder\", accuracy=False)\n",
    "    viz.plot_metrics(cnn_history, \"CNN\", accuracy=True)"
   ],
   "id": "923bdfb5c2bb4e4f",
   "outputs": [],
   "execution_count": 40
  },
  {
   "cell_type": "markdown",
   "source": [
    "# Putting everything together\n",
    "\n",
    "Main section putting each part together, doing anomaly detection and running the classification task"
   ],
   "metadata": {
    "id": "nfCocLzz2ISR"
   },
   "id": "nfCocLzz2ISR"
  },
  {
   "metadata": {},
   "cell_type": "markdown",
   "source": [
    "## Import and preprocess data\n",
    "\n",
    "### Load images"
   ],
   "id": "686552186746e6f3"
  },
  {
   "metadata": {
    "ExecuteTime": {
     "end_time": "2025-01-20T17:37:02.297680Z",
     "start_time": "2025-01-20T17:36:57.931016Z"
    }
   },
   "cell_type": "code",
   "source": [
    "image_size = (152, 152)\n",
    "\n",
    "X_train, y_train, X_test, y_test = load(image_size)\n",
    "\n",
    "ae_X_train, ae_y_train = prep_ae(X_train, y_train)\n",
    "X_test = pre.normalize_images(X_test)"
   ],
   "id": "bda632306a173272",
   "outputs": [
    {
     "name": "stdout",
     "output_type": "stream",
     "text": [
      "Found 259 files belonging to 4 classes.\n",
      "Found 33 files belonging to 4 classes.\n"
     ]
    }
   ],
   "execution_count": 41
  },
  {
   "metadata": {},
   "cell_type": "markdown",
   "source": "### Prepare autoencoder training set and threshold set",
   "id": "9780d0ae9c3a1a5b"
  },
  {
   "metadata": {
    "ExecuteTime": {
     "end_time": "2025-01-20T17:37:03.047227Z",
     "start_time": "2025-01-20T17:37:02.396951Z"
    }
   },
   "cell_type": "code",
   "source": "normal_train, normal_test, anomaly_test = ae.get_training_and_threshold_set(ae_X_train, ae_y_train)",
   "id": "a03ff074508a1b48",
   "outputs": [
    {
     "name": "stdout",
     "output_type": "stream",
     "text": [
      "[3 2 3 ... 3 2 3]\n"
     ]
    }
   ],
   "execution_count": 42
  },
  {
   "metadata": {},
   "cell_type": "markdown",
   "source": "## Build and Train autoencoder",
   "id": "459173e69fcbf238"
  },
  {
   "metadata": {
    "ExecuteTime": {
     "end_time": "2025-01-20T17:37:03.155165Z",
     "start_time": "2025-01-20T17:37:03.143604Z"
    }
   },
   "cell_type": "code",
   "source": [
    "#ae_model = build_ae(image_size)\n",
    "#ae_model.summary()"
   ],
   "id": "1d852849b26b90c3",
   "outputs": [],
   "execution_count": 43
  },
  {
   "metadata": {
    "ExecuteTime": {
     "end_time": "2025-01-20T17:37:08.741121Z",
     "start_time": "2025-01-20T17:37:03.252483Z"
    }
   },
   "cell_type": "code",
   "source": [
    "#ae_history = train_ae(ae_model, normal_train)\n",
    "ae_model = load_model(\"./model.keras\")"
   ],
   "id": "fd569640bbb19c57",
   "outputs": [],
   "execution_count": 44
  },
  {
   "metadata": {},
   "cell_type": "markdown",
   "source": "## Predict on normal and anomalous data to calculate threshold for anomaly detection procedure",
   "id": "90757fcd07e381c9"
  },
  {
   "metadata": {
    "ExecuteTime": {
     "end_time": "2025-01-20T17:37:37.650898Z",
     "start_time": "2025-01-20T17:37:29.528164Z"
    }
   },
   "cell_type": "code",
   "source": [
    "normal_predictions = ae_model.predict(normal_test)\n",
    "anomaly_predictions = ae_model.predict(anomaly_test)\n",
    "\n",
    "print(normal_test.shape)\n",
    "normal_mse = calculate_mse_list(normal_test, normal_predictions)\n",
    "anomaly_mse = calculate_mse_list(anomaly_test, anomaly_predictions)\n",
    "\n",
    "anomaly_threshold = (max(normal_mse) + min(anomaly_mse)) / 2\n",
    "\n",
    "print(anomaly_threshold)"
   ],
   "id": "1678a26202100cee",
   "outputs": [
    {
     "name": "stdout",
     "output_type": "stream",
     "text": [
      "\u001B[1m16/16\u001B[0m \u001B[32m━━━━━━━━━━━━━━━━━━━━\u001B[0m\u001B[37m\u001B[0m \u001B[1m3s\u001B[0m 207ms/step\n",
      "\u001B[1m19/19\u001B[0m \u001B[32m━━━━━━━━━━━━━━━━━━━━\u001B[0m\u001B[37m\u001B[0m \u001B[1m4s\u001B[0m 207ms/step\n",
      "(502, 152, 152, 3)\n",
      "0.0014573273\n"
     ]
    }
   ],
   "execution_count": 47
  },
  {
   "metadata": {},
   "cell_type": "markdown",
   "source": "## Train CNN model",
   "id": "ebb8fa2179c7f7c2"
  },
  {
   "cell_type": "code",
   "source": [
    "# Load dataset\n",
    "X_train, y_train, X_test, y_test = load((152, 152))\n",
    "\n",
    "# Preprocess dataset (add noise + normalize)\n",
    "X_train, y_train, X_test = prep_cnn(X_train, y_train, X_test)\n",
    "\n",
    "print(type(X_train), type(y_train))\n",
    "print(X_train.shape, y_train.shape)\n",
    "print(X_test.shape, y_test.shape)\n",
    "\n",
    "# Build and train the CNN model\n",
    "CNN_model = build_cnn()\n",
    "CNN_history = train_cnn(CNN_model, X_train, y_train)\n",
    "\n",
    "# Predict on test set"
   ],
   "metadata": {
    "id": "u08HtNXI2ZPa",
    "ExecuteTime": {
     "end_time": "2025-01-20T17:37:17.616950Z",
     "start_time": "2025-01-20T17:37:17.551874Z"
    }
   },
   "id": "u08HtNXI2ZPa",
   "outputs": [
    {
     "ename": "NameError",
     "evalue": "name 'load_cnn' is not defined",
     "output_type": "error",
     "traceback": [
      "\u001B[1;31m---------------------------------------------------------------------------\u001B[0m",
      "\u001B[1;31mNameError\u001B[0m                                 Traceback (most recent call last)",
      "Cell \u001B[1;32mIn[46], line 1\u001B[0m\n\u001B[1;32m----> 1\u001B[0m CNN_train, CNN_test \u001B[38;5;241m=\u001B[39m \u001B[43mload_cnn\u001B[49m()\n\u001B[0;32m      2\u001B[0m CNN_train, CNN_test \u001B[38;5;241m=\u001B[39m prep_cnn(CNN_train, CNN_test)\n\u001B[0;32m      4\u001B[0m CNN_model \u001B[38;5;241m=\u001B[39m build_cnn()\n",
      "\u001B[1;31mNameError\u001B[0m: name 'load_cnn' is not defined"
     ]
    }
   ],
   "execution_count": 46
  },
  {
   "metadata": {},
   "cell_type": "markdown",
   "source": "",
   "id": "fae1dc5f6bab4339"
  },
  {
   "metadata": {},
   "cell_type": "markdown",
   "source": "# Run the machine learning pipeline",
   "id": "b3cea99d8b0e0ece"
  },
  {
   "metadata": {
    "ExecuteTime": {
     "end_time": "2025-01-20T17:41:57.921410Z",
     "start_time": "2025-01-20T17:41:57.098929Z"
    }
   },
   "cell_type": "code",
   "source": [
    "y_anomaly_true = get_true_anomalies(y_test)\n",
    "image_predictions = ae_model.predict(X_test)\n",
    "\n",
    "mse_list = calculate_mse_list(X_test, image_predictions)\n",
    "y_anomaly_pred = detect_anomalies(mse_list, anomaly_threshold)"
   ],
   "id": "6eca8fc35d514f13",
   "outputs": [
    {
     "name": "stdout",
     "output_type": "stream",
     "text": [
      "\u001B[1m2/2\u001B[0m \u001B[32m━━━━━━━━━━━━━━━━━━━━\u001B[0m\u001B[37m\u001B[0m \u001B[1m1s\u001B[0m 156ms/step\n"
     ]
    }
   ],
   "execution_count": 33
  },
  {
   "metadata": {
    "ExecuteTime": {
     "end_time": "2025-01-20T17:47:07.576789Z",
     "start_time": "2025-01-20T17:35:25.753504Z"
    }
   },
   "cell_type": "code",
   "source": "predictions = CNN_model.predict(X_test)",
   "id": "9aea4ba14e178c75",
   "outputs": [
    {
     "name": "stdout",
     "output_type": "stream",
     "text": [
      "\u001B[1m2/2\u001B[0m \u001B[32m━━━━━━━━━━━━━━━━━━━━\u001B[0m\u001B[37m\u001B[0m \u001B[1m0s\u001B[0m 27ms/step\n"
     ]
    }
   ],
   "execution_count": 22
  },
  {
   "metadata": {
    "ExecuteTime": {
     "end_time": "2025-01-20T17:47:07.579395Z",
     "start_time": "2025-01-20T17:35:25.855802Z"
    }
   },
   "cell_type": "code",
   "source": "viz.plot_metrics(CNN_history, \"CNN\", accuracy=True)",
   "id": "d0e3bce1b6d1a976",
   "outputs": [
    {
     "ename": "IndexError",
     "evalue": "list index out of range",
     "output_type": "error",
     "traceback": [
      "\u001B[1;31m---------------------------------------------------------------------------\u001B[0m",
      "\u001B[1;31mIndexError\u001B[0m                                Traceback (most recent call last)",
      "Cell \u001B[1;32mIn[48], line 5\u001B[0m\n\u001B[0;32m      2\u001B[0m image_predictions \u001B[38;5;241m=\u001B[39m ae_model\u001B[38;5;241m.\u001B[39mpredict(X_test)\n\u001B[0;32m      4\u001B[0m mse_list \u001B[38;5;241m=\u001B[39m calculate_mse_list(X_test, image_predictions)\n\u001B[1;32m----> 5\u001B[0m y_anomaly_pred \u001B[38;5;241m=\u001B[39m \u001B[43mdetect_anomalies\u001B[49m\u001B[43m(\u001B[49m\u001B[43mmse_list\u001B[49m\u001B[43m,\u001B[49m\u001B[43m \u001B[49m\u001B[43manomaly_threshold\u001B[49m\u001B[43m)\u001B[49m\n",
      "Cell \u001B[1;32mIn[39], line 28\u001B[0m, in \u001B[0;36mdetect_anomalies\u001B[1;34m(mse_list, threshold)\u001B[0m\n\u001B[0;32m     25\u001B[0m count \u001B[38;5;241m=\u001B[39m \u001B[38;5;28mlen\u001B[39m(X_train)\n\u001B[0;32m     27\u001B[0m \u001B[38;5;28;01mfor\u001B[39;00m i \u001B[38;5;129;01min\u001B[39;00m \u001B[38;5;28mrange\u001B[39m(count):\n\u001B[1;32m---> 28\u001B[0m     \u001B[38;5;28;01mif\u001B[39;00m \u001B[43mmse_list\u001B[49m\u001B[43m[\u001B[49m\u001B[43mi\u001B[49m\u001B[43m]\u001B[49m \u001B[38;5;241m<\u001B[39m threshold:\n\u001B[0;32m     29\u001B[0m         y_pred\u001B[38;5;241m.\u001B[39mappend(\u001B[38;5;241m0\u001B[39m)\n\u001B[0;32m     30\u001B[0m     \u001B[38;5;28;01melse\u001B[39;00m:\n",
      "\u001B[1;31mIndexError\u001B[0m: list index out of range"
     ]
    }
   ],
   "execution_count": 48
  }
 ],
 "metadata": {
  "kernelspec": {
   "display_name": "Python 3",
   "language": "python",
   "name": "python3"
  },
  "language_info": {
   "codemirror_mode": {
    "name": "ipython",
    "version": 2
   },
   "file_extension": ".py",
   "mimetype": "text/x-python",
   "name": "python",
   "nbconvert_exporter": "python",
   "pygments_lexer": "ipython2",
   "version": "2.7.6"
  },
  "colab": {
   "provenance": []
  }
 },
 "nbformat": 4,
 "nbformat_minor": 5
}
