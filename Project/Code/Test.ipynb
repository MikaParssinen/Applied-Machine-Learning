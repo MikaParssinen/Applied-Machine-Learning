{
 "cells": [
  {
   "cell_type": "code",
   "execution_count": 106,
   "id": "initial_id",
   "metadata": {
    "ExecuteTime": {
     "end_time": "2024-12-06T13:51:29.001677Z",
     "start_time": "2024-12-06T13:51:28.998262Z"
    },
    "collapsed": true
   },
   "outputs": [],
   "source": [
    "import os\n",
    "import tensorflow as tf\n"
   ]
  },
  {
   "cell_type": "code",
   "execution_count": 107,
   "id": "c9efe6b1fefce968",
   "metadata": {
    "ExecuteTime": {
     "end_time": "2024-12-06T13:51:29.006880Z",
     "start_time": "2024-12-06T13:51:29.003601Z"
    },
    "collapsed": false
   },
   "outputs": [
    {
     "name": "stdout",
     "output_type": "stream",
     "text": [
      "/Users/mika/Applied-Machine-Learning/Project/dataset/bottle/train/good\n"
     ]
    }
   ],
   "source": [
    "data_dir = os.path.abspath(\"/Users/mika/Applied-Machine-Learning/Project/dataset/bottle/train/good\")\n",
    "print(data_dir)  # Kontrollera att sökvägen är korrekt"
   ]
  },
  {
   "cell_type": "code",
   "execution_count": 108,
   "id": "e8301b89bc3273e9",
   "metadata": {
    "ExecuteTime": {
     "end_time": "2024-12-06T13:51:29.012151Z",
     "start_time": "2024-12-06T13:51:29.008533Z"
    },
    "collapsed": false
   },
   "outputs": [],
   "source": [
    "train_good = [f for f in os.listdir(data_dir) if f.endswith('.png')]"
   ]
  },
  {
   "cell_type": "code",
   "execution_count": 109,
   "id": "81ce8681b485892c",
   "metadata": {
    "ExecuteTime": {
     "end_time": "2024-12-06T13:51:29.069116Z",
     "start_time": "2024-12-06T13:51:29.014049Z"
    },
    "collapsed": false
   },
   "outputs": [
    {
     "name": "stdout",
     "output_type": "stream",
     "text": [
      "Found 209 files belonging to 1 classes.\n",
      "Found 83 files belonging to 4 classes.\n",
      "Class names: ['broken_large', 'broken_small', 'contamination', 'good']\n"
     ]
    }
   ],
   "source": [
    "# Directory paths\n",
    "train_dir = \"/Users/mika/Applied-Machine-Learning/Project/dataset/bottle/train\"\n",
    "test_dir = \"/Users/mika/Applied-Machine-Learning/Project/dataset/bottle/test\" \n",
    "\n",
    "# Load train data\n",
    "train_data = tf.keras.preprocessing.image_dataset_from_directory(\n",
    "    train_dir,\n",
    "    image_size=(150, 150),\n",
    "    batch_size=32,\n",
    "    label_mode='categorical'\n",
    ")\n",
    "\n",
    "# Load test data\n",
    "test_data = tf.keras.preprocessing.image_dataset_from_directory(\n",
    "    test_dir,\n",
    "    image_size=(150, 150),\n",
    "    batch_size=32,\n",
    "    label_mode='categorical'  # Categorical labels for multi-class classification\n",
    ")\n",
    "\n",
    "print(f\"Class names: {test_data.class_names}\")"
   ]
  },
  {
   "cell_type": "code",
   "execution_count": 110,
   "id": "bbe231cd88fd383d",
   "metadata": {
    "ExecuteTime": {
     "end_time": "2024-12-06T13:51:29.097543Z",
     "start_time": "2024-12-06T13:51:29.070103Z"
    },
    "collapsed": false
   },
   "outputs": [],
   "source": [
    "# Normalize the image data\n",
    "def normalize_img(image, label):\n",
    "    return image / 255.0, label\n",
    "\n",
    "train_data = train_data.map(normalize_img)\n",
    "test_data = test_data.map(normalize_img)"
   ]
  },
  {
   "cell_type": "code",
   "execution_count": 111,
   "id": "3334086cc7ec67cf",
   "metadata": {
    "ExecuteTime": {
     "end_time": "2024-12-06T13:51:29.210528Z",
     "start_time": "2024-12-06T13:51:29.099103Z"
    },
    "collapsed": false
   },
   "outputs": [],
   "source": [
    "from tensorflow.keras import layers, models\n",
    "# Build the CNN model for multi-class classification\n",
    "def build_cnn_model():\n",
    "    model = models.Sequential([\n",
    "        layers.InputLayer(shape=(150, 150, 3)),  # Input shape (150x150x3)\n",
    "        \n",
    "        # Convolutional layers with max pooling\n",
    "        layers.Conv2D(32, (3, 3), activation='relu', padding='same', strides=(2, 2)),\n",
    "        layers.MaxPooling2D((2, 2)),\n",
    "        \n",
    "        layers.Conv2D(64, (3, 3), activation='relu', padding='same', strides=(2, 2)),\n",
    "        layers.MaxPooling2D((2, 2)),\n",
    "        \n",
    "        layers.Conv2D(128, (3, 3), activation='relu', padding='same', strides=(2, 2)),\n",
    "        layers.MaxPooling2D((2, 2)),\n",
    "        \n",
    "        # Flatten the output and pass through dense layers\n",
    "        layers.Flatten(),\n",
    "        layers.Dense(128, activation='relu'),\n",
    "        layers.Dense(4, activation='softmax')  # 4 output units, one for each class (good, bad, contaminated, etc.)\n",
    "    ])\n",
    "    \n",
    "    # Compile the model with sparse categorical crossentropy loss\n",
    "    model.compile(optimizer='adam', loss='categorical_crossentropy', metrics=['accuracy'])\n",
    "    \n",
    "    return model\n",
    "\n",
    "# Build the CNN model\n",
    "cnn_model = build_cnn_model()"
   ]
  },
  {
   "cell_type": "code",
   "execution_count": 112,
   "id": "e9530f4550f32361",
   "metadata": {
    "ExecuteTime": {
     "end_time": "2024-12-06T13:51:29.392242Z",
     "start_time": "2024-12-06T13:51:29.211568Z"
    },
    "collapsed": false
   },
   "outputs": [
    {
     "name": "stdout",
     "output_type": "stream",
     "text": [
      "Epoch 1/10\n"
     ]
    },
    {
     "ename": "ValueError",
     "evalue": "Arguments `target` and `output` must have the same shape. Received: target.shape=(None, 1), output.shape=(None, 4)",
     "output_type": "error",
     "traceback": [
      "\u001b[0;31m---------------------------------------------------------------------------\u001b[0m",
      "\u001b[0;31mValueError\u001b[0m                                Traceback (most recent call last)",
      "Cell \u001b[0;32mIn[112], line 1\u001b[0m\n\u001b[0;32m----> 1\u001b[0m \u001b[43mcnn_model\u001b[49m\u001b[38;5;241;43m.\u001b[39;49m\u001b[43mfit\u001b[49m\u001b[43m(\u001b[49m\n\u001b[1;32m      2\u001b[0m \u001b[43m    \u001b[49m\u001b[43mtrain_data\u001b[49m\u001b[43m,\u001b[49m\n\u001b[1;32m      3\u001b[0m \u001b[43m    \u001b[49m\u001b[43mepochs\u001b[49m\u001b[38;5;241;43m=\u001b[39;49m\u001b[38;5;241;43m10\u001b[39;49m\u001b[43m,\u001b[49m\n\u001b[1;32m      4\u001b[0m \u001b[43m    \u001b[49m\u001b[43mvalidation_data\u001b[49m\u001b[38;5;241;43m=\u001b[39;49m\u001b[43mtest_data\u001b[49m\n\u001b[1;32m      5\u001b[0m \u001b[43m)\u001b[49m\n",
      "File \u001b[0;32m/Library/Frameworks/Python.framework/Versions/3.12/lib/python3.12/site-packages/keras/src/utils/traceback_utils.py:122\u001b[0m, in \u001b[0;36mfilter_traceback.<locals>.error_handler\u001b[0;34m(*args, **kwargs)\u001b[0m\n\u001b[1;32m    119\u001b[0m     filtered_tb \u001b[38;5;241m=\u001b[39m _process_traceback_frames(e\u001b[38;5;241m.\u001b[39m__traceback__)\n\u001b[1;32m    120\u001b[0m     \u001b[38;5;66;03m# To get the full stack trace, call:\u001b[39;00m\n\u001b[1;32m    121\u001b[0m     \u001b[38;5;66;03m# `keras.config.disable_traceback_filtering()`\u001b[39;00m\n\u001b[0;32m--> 122\u001b[0m     \u001b[38;5;28;01mraise\u001b[39;00m e\u001b[38;5;241m.\u001b[39mwith_traceback(filtered_tb) \u001b[38;5;28;01mfrom\u001b[39;00m \u001b[38;5;28;01mNone\u001b[39;00m\n\u001b[1;32m    123\u001b[0m \u001b[38;5;28;01mfinally\u001b[39;00m:\n\u001b[1;32m    124\u001b[0m     \u001b[38;5;28;01mdel\u001b[39;00m filtered_tb\n",
      "File \u001b[0;32m/Library/Frameworks/Python.framework/Versions/3.12/lib/python3.12/site-packages/keras/src/backend/tensorflow/nn.py:587\u001b[0m, in \u001b[0;36mcategorical_crossentropy\u001b[0;34m(target, output, from_logits, axis)\u001b[0m\n\u001b[1;32m    585\u001b[0m \u001b[38;5;28;01mfor\u001b[39;00m e1, e2 \u001b[38;5;129;01min\u001b[39;00m \u001b[38;5;28mzip\u001b[39m(target\u001b[38;5;241m.\u001b[39mshape, output\u001b[38;5;241m.\u001b[39mshape):\n\u001b[1;32m    586\u001b[0m     \u001b[38;5;28;01mif\u001b[39;00m e1 \u001b[38;5;129;01mis\u001b[39;00m \u001b[38;5;129;01mnot\u001b[39;00m \u001b[38;5;28;01mNone\u001b[39;00m \u001b[38;5;129;01mand\u001b[39;00m e2 \u001b[38;5;129;01mis\u001b[39;00m \u001b[38;5;129;01mnot\u001b[39;00m \u001b[38;5;28;01mNone\u001b[39;00m \u001b[38;5;129;01mand\u001b[39;00m e1 \u001b[38;5;241m!=\u001b[39m e2:\n\u001b[0;32m--> 587\u001b[0m         \u001b[38;5;28;01mraise\u001b[39;00m \u001b[38;5;167;01mValueError\u001b[39;00m(\n\u001b[1;32m    588\u001b[0m             \u001b[38;5;124m\"\u001b[39m\u001b[38;5;124mArguments `target` and `output` must have the same shape. \u001b[39m\u001b[38;5;124m\"\u001b[39m\n\u001b[1;32m    589\u001b[0m             \u001b[38;5;124m\"\u001b[39m\u001b[38;5;124mReceived: \u001b[39m\u001b[38;5;124m\"\u001b[39m\n\u001b[1;32m    590\u001b[0m             \u001b[38;5;124mf\u001b[39m\u001b[38;5;124m\"\u001b[39m\u001b[38;5;124mtarget.shape=\u001b[39m\u001b[38;5;132;01m{\u001b[39;00mtarget\u001b[38;5;241m.\u001b[39mshape\u001b[38;5;132;01m}\u001b[39;00m\u001b[38;5;124m, output.shape=\u001b[39m\u001b[38;5;132;01m{\u001b[39;00moutput\u001b[38;5;241m.\u001b[39mshape\u001b[38;5;132;01m}\u001b[39;00m\u001b[38;5;124m\"\u001b[39m\n\u001b[1;32m    591\u001b[0m         )\n\u001b[1;32m    593\u001b[0m output, from_logits \u001b[38;5;241m=\u001b[39m _get_logits(\n\u001b[1;32m    594\u001b[0m     output, from_logits, \u001b[38;5;124m\"\u001b[39m\u001b[38;5;124mSoftmax\u001b[39m\u001b[38;5;124m\"\u001b[39m, \u001b[38;5;124m\"\u001b[39m\u001b[38;5;124mcategorical_crossentropy\u001b[39m\u001b[38;5;124m\"\u001b[39m\n\u001b[1;32m    595\u001b[0m )\n\u001b[1;32m    596\u001b[0m \u001b[38;5;28;01mif\u001b[39;00m from_logits:\n",
      "\u001b[0;31mValueError\u001b[0m: Arguments `target` and `output` must have the same shape. Received: target.shape=(None, 1), output.shape=(None, 4)"
     ]
    }
   ],
   "source": [
    "cnn_model.fit(\n",
    "    train_data,\n",
    "    epochs=10,\n",
    "    validation_data=test_data\n",
    ")"
   ]
  },
  {
   "cell_type": "code",
   "execution_count": null,
   "id": "81481a7fe163c492",
   "metadata": {
    "ExecuteTime": {
     "end_time": "2024-12-06T13:51:29.394023Z",
     "start_time": "2024-12-06T13:51:29.393448Z"
    },
    "collapsed": false
   },
   "outputs": [],
   "source": [
    "test_loss, test_accuracy = cnn_model.evaluate(test_data)\n",
    "print(f\"Test Loss: {test_loss}\")\n",
    "print(f\"Test Accuracy: {test_accuracy * 100:.2f}%\")"
   ]
  }
 ],
 "metadata": {
  "kernelspec": {
   "display_name": "Python 3",
   "language": "python",
   "name": "python3"
  },
  "language_info": {
   "codemirror_mode": {
    "name": "ipython",
    "version": 2
   },
   "file_extension": ".py",
   "mimetype": "text/x-python",
   "name": "python",
   "nbconvert_exporter": "python",
   "pygments_lexer": "ipython2",
   "version": "2.7.6"
  }
 },
 "nbformat": 4,
 "nbformat_minor": 5
}
