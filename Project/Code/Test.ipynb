{
 "cells": [
  {
   "cell_type": "code",
   "execution_count": 1,
   "id": "initial_id",
   "metadata": {
    "collapsed": true,
    "ExecuteTime": {
     "end_time": "2025-01-10T12:52:22.680990Z",
     "start_time": "2025-01-10T12:52:18.778455Z"
    }
   },
   "outputs": [],
   "source": [
    "import os\n",
    "import tensorflow as tf\n"
   ]
  },
  {
   "cell_type": "code",
   "execution_count": 2,
   "id": "c9efe6b1fefce968",
   "metadata": {
    "collapsed": false,
    "ExecuteTime": {
     "end_time": "2025-01-10T12:52:24.372711Z",
     "start_time": "2025-01-10T12:52:24.369219Z"
    }
   },
   "outputs": [
    {
     "name": "stdout",
     "output_type": "stream",
     "text": [
      "/Users/mika/Applied-Machine-Learning/Project/dataset/CNN_Input/train/good\n"
     ]
    }
   ],
   "source": [
    "data_dir = os.path.abspath(\"/Users/mika/Applied-Machine-Learning/Project/dataset/CNN_Input/train/good\")\n",
    "print(data_dir)  # Kontrollera att sökvägen är korrekt"
   ]
  },
  {
   "cell_type": "code",
   "execution_count": 3,
   "id": "e8301b89bc3273e9",
   "metadata": {
    "collapsed": false,
    "ExecuteTime": {
     "end_time": "2025-01-10T12:52:26.946613Z",
     "start_time": "2025-01-10T12:52:26.940873Z"
    }
   },
   "outputs": [],
   "source": [
    "train_good = [f for f in os.listdir(data_dir) if f.endswith('.png')]"
   ]
  },
  {
   "cell_type": "code",
   "execution_count": 4,
   "id": "81ce8681b485892c",
   "metadata": {
    "collapsed": false,
    "ExecuteTime": {
     "end_time": "2025-01-10T12:52:31.672836Z",
     "start_time": "2025-01-10T12:52:31.306812Z"
    }
   },
   "outputs": [
    {
     "name": "stdout",
     "output_type": "stream",
     "text": [
      "Found 83 files belonging to 4 classes.\n",
      "Found 83 files belonging to 4 classes.\n",
      "Class names: ['broken_large', 'broken_small', 'contamination', 'good']\n"
     ]
    }
   ],
   "source": [
    "# Directory paths\n",
    "train_dir = \"/Users/mika/Applied-Machine-Learning/Project/dataset/CNN_Input/train\"\n",
    "test_dir = \"/Users/mika/Applied-Machine-Learning/Project/dataset/CNN_Input/test\" \n",
    "\n",
    "# Load train data\n",
    "train_data = tf.keras.preprocessing.image_dataset_from_directory(\n",
    "    train_dir,\n",
    "    image_size=(150, 150),\n",
    "    batch_size=32,\n",
    "    label_mode='categorical'\n",
    ")\n",
    "\n",
    "# Load test data\n",
    "test_data = tf.keras.preprocessing.image_dataset_from_directory(\n",
    "    test_dir,\n",
    "    image_size=(150, 150),\n",
    "    batch_size=32,\n",
    "    label_mode='categorical'  # Categorical labels for multi-class classification\n",
    ")\n",
    "\n",
    "print(f\"Class names: {test_data.class_names}\")"
   ]
  },
  {
   "cell_type": "code",
   "execution_count": 5,
   "id": "bbe231cd88fd383d",
   "metadata": {
    "collapsed": false,
    "ExecuteTime": {
     "end_time": "2025-01-10T12:52:37.720616Z",
     "start_time": "2025-01-10T12:52:37.671779Z"
    }
   },
   "outputs": [],
   "source": [
    "# Normalize the image data\n",
    "def normalize_img(image, label):\n",
    "    return image / 255.0, label\n",
    "\n",
    "train_data = train_data.map(normalize_img)\n",
    "test_data = test_data.map(normalize_img)"
   ]
  },
  {
   "cell_type": "code",
   "execution_count": 6,
   "id": "3334086cc7ec67cf",
   "metadata": {
    "collapsed": false,
    "ExecuteTime": {
     "end_time": "2025-01-10T12:52:40.489351Z",
     "start_time": "2025-01-10T12:52:40.438359Z"
    }
   },
   "outputs": [],
   "source": [
    "from tensorflow.keras import layers, models\n",
    "# Build the CNN model for multi-class classification\n",
    "def build_cnn_model():\n",
    "    model = models.Sequential([\n",
    "        layers.InputLayer(shape=(150, 150, 3)),  # Input shape (150x150x3)\n",
    "        \n",
    "        # Convolutional layers with max pooling\n",
    "        layers.Conv2D(32, (3, 3), activation='relu', padding='same', strides=(2, 2)),\n",
    "        layers.MaxPooling2D((2, 2)),\n",
    "        \n",
    "        layers.Conv2D(64, (3, 3), activation='relu', padding='same', strides=(2, 2)),\n",
    "        layers.MaxPooling2D((2, 2)),\n",
    "        \n",
    "        layers.Conv2D(128, (3, 3), activation='relu', padding='same', strides=(2, 2)),\n",
    "        layers.MaxPooling2D((2, 2)),\n",
    "        \n",
    "        # Flatten the output and pass through dense layers\n",
    "        layers.Flatten(),\n",
    "        layers.Dense(128, activation='relu'),\n",
    "        layers.Dense(4, activation='softmax')  # 4 output units, one for each class (good, bad, contaminated, etc.)\n",
    "    ])\n",
    "    \n",
    "    # Compile the model with sparse categorical crossentropy loss\n",
    "    model.compile(optimizer='adam', loss='categorical_crossentropy', metrics=['accuracy'])\n",
    "    \n",
    "    return model\n",
    "\n",
    "# Build the CNN model\n",
    "cnn_model = build_cnn_model()"
   ]
  },
  {
   "cell_type": "code",
   "execution_count": 7,
   "id": "e9530f4550f32361",
   "metadata": {
    "collapsed": false,
    "ExecuteTime": {
     "end_time": "2025-01-10T12:52:58.162489Z",
     "start_time": "2025-01-10T12:52:47.965845Z"
    }
   },
   "outputs": [
    {
     "name": "stdout",
     "output_type": "stream",
     "text": [
      "Epoch 1/10\n",
      "\u001B[1m3/3\u001B[0m \u001B[32m━━━━━━━━━━━━━━━━━━━━\u001B[0m\u001B[37m\u001B[0m \u001B[1m2s\u001B[0m 387ms/step - accuracy: 0.2377 - loss: 1.4246 - val_accuracy: 0.2530 - val_loss: 1.3786\n",
      "Epoch 2/10\n",
      "\u001B[1m3/3\u001B[0m \u001B[32m━━━━━━━━━━━━━━━━━━━━\u001B[0m\u001B[37m\u001B[0m \u001B[1m1s\u001B[0m 326ms/step - accuracy: 0.2437 - loss: 1.3835 - val_accuracy: 0.2651 - val_loss: 1.3735\n",
      "Epoch 3/10\n",
      "\u001B[1m3/3\u001B[0m \u001B[32m━━━━━━━━━━━━━━━━━━━━\u001B[0m\u001B[37m\u001B[0m \u001B[1m1s\u001B[0m 333ms/step - accuracy: 0.3108 - loss: 1.3769 - val_accuracy: 0.6024 - val_loss: 1.3694\n",
      "Epoch 4/10\n",
      "\u001B[1m3/3\u001B[0m \u001B[32m━━━━━━━━━━━━━━━━━━━━\u001B[0m\u001B[37m\u001B[0m \u001B[1m1s\u001B[0m 349ms/step - accuracy: 0.5776 - loss: 1.3690 - val_accuracy: 0.2892 - val_loss: 1.3648\n",
      "Epoch 5/10\n",
      "\u001B[1m3/3\u001B[0m \u001B[32m━━━━━━━━━━━━━━━━━━━━\u001B[0m\u001B[37m\u001B[0m \u001B[1m1s\u001B[0m 331ms/step - accuracy: 0.3207 - loss: 1.3617 - val_accuracy: 0.2771 - val_loss: 1.3559\n",
      "Epoch 6/10\n",
      "\u001B[1m3/3\u001B[0m \u001B[32m━━━━━━━━━━━━━━━━━━━━\u001B[0m\u001B[37m\u001B[0m \u001B[1m1s\u001B[0m 281ms/step - accuracy: 0.2753 - loss: 1.3568 - val_accuracy: 0.2651 - val_loss: 1.3496\n",
      "Epoch 7/10\n",
      "\u001B[1m3/3\u001B[0m \u001B[32m━━━━━━━━━━━━━━━━━━━━\u001B[0m\u001B[37m\u001B[0m \u001B[1m1s\u001B[0m 289ms/step - accuracy: 0.2927 - loss: 1.3411 - val_accuracy: 0.3735 - val_loss: 1.3348\n",
      "Epoch 8/10\n",
      "\u001B[1m3/3\u001B[0m \u001B[32m━━━━━━━━━━━━━━━━━━━━\u001B[0m\u001B[37m\u001B[0m \u001B[1m1s\u001B[0m 305ms/step - accuracy: 0.4543 - loss: 1.3439 - val_accuracy: 0.5904 - val_loss: 1.3209\n",
      "Epoch 9/10\n",
      "\u001B[1m3/3\u001B[0m \u001B[32m━━━━━━━━━━━━━━━━━━━━\u001B[0m\u001B[37m\u001B[0m \u001B[1m1s\u001B[0m 314ms/step - accuracy: 0.5538 - loss: 1.3194 - val_accuracy: 0.6747 - val_loss: 1.2957\n",
      "Epoch 10/10\n",
      "\u001B[1m3/3\u001B[0m \u001B[32m━━━━━━━━━━━━━━━━━━━━\u001B[0m\u001B[37m\u001B[0m \u001B[1m1s\u001B[0m 308ms/step - accuracy: 0.5719 - loss: 1.3006 - val_accuracy: 0.5060 - val_loss: 1.2688\n"
     ]
    },
    {
     "data": {
      "text/plain": "<keras.src.callbacks.history.History at 0x156283050>"
     },
     "execution_count": 7,
     "metadata": {},
     "output_type": "execute_result"
    }
   ],
   "source": [
    "cnn_model.fit(\n",
    "    train_data,\n",
    "    epochs=10,\n",
    "    validation_data=test_data\n",
    ")"
   ]
  },
  {
   "cell_type": "code",
   "execution_count": 8,
   "id": "81481a7fe163c492",
   "metadata": {
    "collapsed": false,
    "ExecuteTime": {
     "end_time": "2025-01-10T12:53:02.953921Z",
     "start_time": "2025-01-10T12:53:02.540253Z"
    }
   },
   "outputs": [
    {
     "name": "stdout",
     "output_type": "stream",
     "text": [
      "\u001B[1m3/3\u001B[0m \u001B[32m━━━━━━━━━━━━━━━━━━━━\u001B[0m\u001B[37m\u001B[0m \u001B[1m0s\u001B[0m 127ms/step - accuracy: 0.5108 - loss: 1.2652\n",
      "Test Loss: 1.2688190937042236\n",
      "Test Accuracy: 50.60%\n"
     ]
    }
   ],
   "source": [
    "test_loss, test_accuracy = cnn_model.evaluate(test_data)\n",
    "print(f\"Test Loss: {test_loss}\")\n",
    "print(f\"Test Accuracy: {test_accuracy * 100:.2f}%\")"
   ]
  }
 ],
 "metadata": {
  "kernelspec": {
   "display_name": "Python 3",
   "language": "python",
   "name": "python3"
  },
  "language_info": {
   "codemirror_mode": {
    "name": "ipython",
    "version": 2
   },
   "file_extension": ".py",
   "mimetype": "text/x-python",
   "name": "python",
   "nbconvert_exporter": "python",
   "pygments_lexer": "ipython2",
   "version": "2.7.6"
  }
 },
 "nbformat": 4,
 "nbformat_minor": 5
}
