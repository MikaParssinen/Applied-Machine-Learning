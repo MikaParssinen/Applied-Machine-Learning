{
 "cells": [
  {
   "metadata": {
    "ExecuteTime": {
     "end_time": "2024-11-26T08:45:09.294190Z",
     "start_time": "2024-11-26T08:44:46.911656Z"
    }
   },
   "cell_type": "code",
   "source": [
    "from get_samples import split_data\n",
    "import naivebayes\n",
    "\n",
    "X_train, X_test, y_train, y_test = split_data()\n",
    "\n",
    "alpha_complement = naivebayes.grid_search_naive_bayes(X_train, X_test, y_train, y_test, \"complement\")\n",
    "alpha_multinomial = naivebayes.grid_search_naive_bayes(X_train, X_test, y_train, y_test, \"multinomial\")\n",
    "alpha_bernoulli = naivebayes.grid_search_naive_bayes(X_train, X_test, y_train, y_test, \"bernoulli\")\n",
    "\n",
    "print(\"Best alpha found for complement: \", alpha_complement)\n",
    "print(\"Best alpha found for multinomial: \", alpha_multinomial)\n",
    "print(\"Best alpha found for bernoulli: \", alpha_bernoulli)"
   ],
   "id": "313f50c1603207e5",
   "outputs": [
    {
     "name": "stdout",
     "output_type": "stream",
     "text": [
      "Acc =  0.4600438733939204  alpha =  10000000.0\n",
      "Acc =  0.46255092447508617  alpha =  5000000.0\n",
      "Acc =  0.4685051707928549  alpha =  2500000.0\n",
      "Acc =  0.46944531494829206  alpha =  1000000.0\n",
      "Acc =  0.4697586963334378  alpha =  500000.0\n",
      "Acc =  0.4713256032591664  alpha =  250000.0\n",
      "Acc =  0.4744594171106236  alpha =  100000.0\n",
      "Acc =  0.47633970542149795  alpha =  50000.0\n",
      "Acc =  0.47633970542149795  alpha =  25000.0\n",
      "Acc =  0.4766530868066437  alpha =  10000.0\n",
      "Acc =  0.4766530868066437  alpha =  5000.0\n",
      "Acc =  0.4769664681917894  alpha =  2500.0\n",
      "Acc =  0.4769664681917894  alpha =  1000.0\n",
      "Acc =  0.4769664681917894  alpha =  500.0\n",
      "Acc =  0.4769664681917894  alpha =  250.0\n",
      "Acc =  0.4769664681917894  alpha =  10.0\n",
      "Acc =  0.48041366342839237  alpha =  10000000.0\n",
      "Acc =  0.47289251018489503  alpha =  5000000.0\n",
      "Acc =  0.4732058915700407  alpha =  2500000.0\n",
      "Acc =  0.4857411469758696  alpha =  1000000.0\n",
      "Acc =  0.506737699780633  alpha =  500000.0\n",
      "Acc =  0.55531181447822  alpha =  250000.0\n",
      "Acc =  0.6327170166092134  alpha =  100000.0\n",
      "Acc =  0.6709495455969915  alpha =  50000.0\n",
      "Acc =  0.6891256659354434  alpha =  25000.0\n",
      "Acc =  0.6806643685365089  alpha =  10000.0\n",
      "Acc =  0.6675023503603886  alpha =  5000.0\n",
      "Acc =  0.6668755875900971  alpha =  2500.0\n",
      "Acc =  0.6624882481980571  alpha =  1000.0\n",
      "Acc =  0.6593544343465998  alpha =  500.0\n",
      "Acc =  0.6593544343465998  alpha =  250.0\n",
      "Acc =  0.6571607646505797  alpha =  10.0\n",
      "Acc =  0.22124725791287997  alpha =  10000000.0\n",
      "Acc =  0.22124725791287997  alpha =  5000000.0\n",
      "Acc =  0.22124725791287997  alpha =  2500000.0\n",
      "Acc =  0.22124725791287997  alpha =  1000000.0\n",
      "Acc =  0.22124725791287997  alpha =  500000.0\n",
      "Acc =  0.22124725791287997  alpha =  250000.0\n",
      "Acc =  0.22124725791287997  alpha =  100000.0\n",
      "Acc =  0.22124725791287997  alpha =  50000.0\n",
      "Acc =  0.22124725791287997  alpha =  25000.0\n",
      "Acc =  0.22124725791287997  alpha =  10000.0\n",
      "Acc =  0.22124725791287997  alpha =  5000.0\n",
      "Acc =  0.22124725791287997  alpha =  2500.0\n",
      "Acc =  0.22124725791287997  alpha =  1000.0\n",
      "Acc =  0.22124725791287997  alpha =  500.0\n",
      "Acc =  0.22124725791287997  alpha =  250.0\n",
      "Acc =  0.22124725791287997  alpha =  10.0\n",
      "Best alpha found for complement:  2500.0\n",
      "Best alpha found for multinomial:  25000.0\n",
      "Best alpha found for bernoulli:  10000000.0\n"
     ]
    }
   ],
   "execution_count": 1
  }
 ],
 "metadata": {
  "kernelspec": {
   "display_name": "Python 3",
   "language": "python",
   "name": "python3"
  },
  "language_info": {
   "codemirror_mode": {
    "name": "ipython",
    "version": 2
   },
   "file_extension": ".py",
   "mimetype": "text/x-python",
   "name": "python",
   "nbconvert_exporter": "python",
   "pygments_lexer": "ipython2",
   "version": "2.7.6"
  }
 },
 "nbformat": 4,
 "nbformat_minor": 5
}
