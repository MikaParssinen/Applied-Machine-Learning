{
 "cells": [
  {
   "cell_type": "code",
   "id": "initial_id",
   "metadata": {
    "collapsed": true,
    "ExecuteTime": {
     "end_time": "2024-12-02T16:52:18.926745Z",
     "start_time": "2024-12-02T16:52:18.649766Z"
    }
   },
   "source": [
    "import pandas as pd\n",
    "\n",
    "from Functions import split_data\n",
    "from Functions import engineer_features\n",
    "from Functions import accuracy_scorer\n",
    "from Functions import remove_outliers_iqr\n",
    "from Functions import normalize\n",
    "from Functions import run_SVM_classifier\n",
    "\n",
    "\n",
    "from sklearn.model_selection import GridSearchCV"
   ],
   "outputs": [],
   "execution_count": 1
  },
  {
   "cell_type": "code",
   "source": [
    "data = pd.read_csv(\"../FIFA18_players_database/CompleteDataset.csv\", low_memory=False)"
   ],
   "metadata": {
    "collapsed": false,
    "ExecuteTime": {
     "end_time": "2024-12-02T16:52:19.106340Z",
     "start_time": "2024-12-02T16:52:18.927694Z"
    }
   },
   "id": "8c3daef187951644",
   "outputs": [],
   "execution_count": 2
  },
  {
   "cell_type": "code",
   "outputs": [],
   "source": [
    "data = engineer_features(data)\n",
    "data = data.sample(frac=1).reset_index(drop=True)"
   ],
   "metadata": {
    "collapsed": false,
    "ExecuteTime": {
     "end_time": "2024-12-02T16:52:19.511042Z",
     "start_time": "2024-12-02T16:52:19.107234Z"
    }
   },
   "id": "45c87f0dc935ffe8",
   "execution_count": 3
  },
  {
   "cell_type": "code",
   "source": [
    "X_train, X_test, y_train, y_test = split_data(data, 0)"
   ],
   "metadata": {
    "collapsed": false,
    "ExecuteTime": {
     "end_time": "2024-12-02T16:52:19.534908Z",
     "start_time": "2024-12-02T16:52:19.512043Z"
    }
   },
   "id": "98af667586bcbc86",
   "outputs": [],
   "execution_count": 4
  },
  {
   "cell_type": "code",
   "outputs": [],
   "source": [
    "### SVM trained on not normalized data and outliers included, no hyperparameter tuning.\n",
    "y_test_pred, y_train_pred, classifier = run_SVM_classifier(X_train, X_test, y_train, 'linear', 1, True)\n",
    "\n",
    "# Calculate test and train accuracy\n",
    "acc_train = accuracy_scorer(y_train, y_train_pred)\n",
    "acc_test = accuracy_scorer(y_test, y_test_pred)\n",
    "\n",
    "# Print accuracy with 3 decimals\n",
    "print(f\"Accuracy of train: {acc_train:.3f}\")\n",
    "print(f\"Accuracy of test: {acc_test:.3f}\")"
   ],
   "metadata": {
    "collapsed": false,
    "is_executing": true,
    "ExecuteTime": {
     "start_time": "2024-12-02T16:52:19.535863Z"
    }
   },
   "id": "70af332e9b6183d4",
   "execution_count": null
  },
  {
   "cell_type": "code",
   "outputs": [],
   "source": [
    "X_train_minmax = normalize(X_train, \"minmax\", False)\n",
    "X_test_minmax = normalize(X_test, \"minmax\",False)"
   ],
   "metadata": {
    "collapsed": false,
    "is_executing": true
   },
   "id": "7624fbaa62903e49",
   "execution_count": null
  },
  {
   "cell_type": "code",
   "outputs": [],
   "source": [
    "### SVM trained on normalized data but with outliers, no hyperparameter tuning\n",
    "y_test_pred, y_train_pred, classifier = run_SVM_classifier(X_train_minmax, X_test_minmax, y_train, 'linear', 1, True)\n",
    "\n",
    "acc_train = accuracy_scorer(y_train, y_train_pred)\n",
    "acc_test = accuracy_scorer(y_test, y_test_pred)\n",
    "\n",
    "print(f\"Accuracy of train: {acc_train:.3f}\")\n",
    "print(f\"Accuracy of test: {acc_test:.3f}\")"
   ],
   "metadata": {
    "collapsed": false,
    "is_executing": true
   },
   "id": "de23e29282cb9875",
   "execution_count": null
  },
  {
   "cell_type": "code",
   "outputs": [],
   "source": [
    "df_no_outliers = remove_outliers_iqr(data)\n",
    "X_train, X_test, y_train, y_test = split_data(df_no_outliers, 0)\n",
    "X_train_minmax = normalize(X_train, \"minmax\", False)\n",
    "X_test_minmax = normalize(X_test, \"minmax\",False)"
   ],
   "metadata": {
    "collapsed": false,
    "is_executing": true
   },
   "id": "dad339731d9ed361",
   "execution_count": null
  },
  {
   "cell_type": "code",
   "outputs": [],
   "source": [
    "### SVM trained on normalized data with outliers removed. No hyperparameter tuned.\n",
    "y_test_pred, y_train_pred, classifier = run_SVM_classifier(X_train_minmax, X_test_minmax, y_train, 'linear', 1, True)\n",
    "\n",
    "acc_train = accuracy_scorer(y_train, y_train_pred)\n",
    "acc_test = accuracy_scorer(y_test, y_test_pred)\n",
    "\n",
    "print(f\"Accuracy of train: {acc_train:.3f}\")\n",
    "print(f\"Accuracy of test: {acc_test:.3f}\")"
   ],
   "metadata": {
    "collapsed": false,
    "is_executing": true
   },
   "id": "6ddb47f682678fec",
   "execution_count": null
  },
  {
   "cell_type": "code",
   "outputs": [],
   "source": [
    "### SVM trained on un normalized data with outliers removed No hyperparameter tuned\n",
    "y_test_pred, y_train_pred, classifier = run_SVM_classifier(X_train, X_test, y_train, 'linear', 1, True)\n",
    "\n",
    "acc_train = accuracy_scorer(y_train, y_train_pred)\n",
    "acc_test = accuracy_scorer(y_test, y_test_pred)\n",
    "\n",
    "print(f\"Accuracy of train: {acc_train:.3f}\")\n",
    "print(f\"Accuracy of test: {acc_test:.3f}\")"
   ],
   "metadata": {
    "collapsed": false,
    "is_executing": true
   },
   "id": "d6a16b3c3196ac8d",
   "execution_count": null
  },
  {
   "cell_type": "code",
   "source": [
    "param_grid = {\n",
    "    'C': [100],      \n",
    "    'kernel': ['rbf'],     \n",
    "    'gamma': ['auto'],       \n",
    "    'class_weight': [None]  \n",
    "}\n",
    "\n",
    "grid_search = GridSearchCV(estimator=classifier, param_grid=param_grid, scoring='accuracy', cv=2, verbose=1, n_jobs=-1)\n",
    "\n",
    "\n",
    "grid_search.fit(X_test, y_test)\n",
    "\n",
    "print(\"Best Hyperparameters:\", grid_search.best_params_)\n",
    "best_model = grid_search.best_estimator_"
   ],
   "metadata": {
    "collapsed": false,
    "is_executing": true
   },
   "id": "5fca14fafaec744c",
   "outputs": [],
   "execution_count": null
  },
  {
   "metadata": {},
   "cell_type": "markdown",
   "source": [
    "Took too long to run grid search on the train data, so did it on the test data."
   ],
   "id": "1da15b639327104"
  },
  {
   "cell_type": "code",
   "source": [
    "### SVM trained on normalized data with outliers removed. Hyperparameter tuned to the max\n",
    "y_test_pred, y_train_pred, classifier = run_SVM_classifier(X_train_minmax, X_test_minmax, y_train, 'rbf', 100, True)\n",
    "\n",
    "acc_train = accuracy_scorer(y_train, y_train_pred)\n",
    "acc_test = accuracy_scorer(y_test, y_test_pred)\n",
    "\n",
    "print(f\"Accuracy of train: {acc_train:.3f}\")\n",
    "print(f\"Accuracy of test: {acc_test:.3f}\")\n"
   ],
   "metadata": {
    "collapsed": false,
    "is_executing": true
   },
   "id": "b19b989934bf27f5",
   "outputs": [],
   "execution_count": null
  },
  {
   "metadata": {},
   "cell_type": "markdown",
   "source": [
    "Marginal improvement result with RBF, and C=100. but the run time was reduced alot."
   ],
   "id": "3d98a94f4621e71d"
  }
 ],
 "metadata": {
  "kernelspec": {
   "display_name": "Python 3",
   "language": "python",
   "name": "python3"
  },
  "language_info": {
   "codemirror_mode": {
    "name": "ipython",
    "version": 2
   },
   "file_extension": ".py",
   "mimetype": "text/x-python",
   "name": "python",
   "nbconvert_exporter": "python",
   "pygments_lexer": "ipython2",
   "version": "2.7.6"
  }
 },
 "nbformat": 4,
 "nbformat_minor": 5
}
