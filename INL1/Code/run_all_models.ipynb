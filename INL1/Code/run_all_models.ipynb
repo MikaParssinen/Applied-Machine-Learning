{
 "cells": [
  {
   "metadata": {
    "is_executing": true,
    "ExecuteTime": {
     "start_time": "2024-12-02T16:50:36.111830Z"
    }
   },
   "cell_type": "code",
   "source": [
    "import pandas as pd\n",
    "import matplotlib.pyplot as plt\n",
    "import seaborn as sns\n",
    "import Functions\n",
    "from Functions import accuracy_scorer\n",
    "\n",
    "# Read the dataset and extract features and labels we need, remove rows we don't want. Randomize order of the rows.\n",
    "original_df = pd.read_csv(\"../FIFA18_players_database/CompleteDataset.csv\", low_memory=False)\n",
    "original_df = Functions.engineer_features(original_df)\n",
    "original_df = original_df.sample(frac=1).reset_index(drop=True)\n",
    "\n",
    "# Make copies of each dataframe\n",
    "NB_df = original_df.copy()\n",
    "RF_df = original_df.copy()\n",
    "SVM_df = original_df.copy()\n",
    "\n",
    "# Normalize data for models that need normalization\n",
    "SVM_df.iloc[:,:-1] = Functions.normalize(SVM_df.iloc[:,:-1], \"minmax\", False)\n",
    "\n",
    "# Remove outliers for models\n",
    "NB_df = Functions.remove_outliers(NB_df, 1)\n",
    "RF_df = Functions.remove_outliers(RF_df, 1)\n",
    "SVM_df = Functions.remove_outliers_iqr(SVM_df)\n",
    "\n",
    "models = [\"Gaussian Naive Bayes\", \"Random Forest\", \"Support Vector Machine\"]\n",
    "\n",
    "for model in models:\n",
    "    max_acc_test = 0\n",
    "    best_model_acc_train = 0\n",
    "    for i in range(5):\n",
    "        if model == \"Gaussian Naive Bayes\":\n",
    "            X_train, X_test, y_train, y_test = Functions.split_data(NB_df, i)\n",
    "            y_test_pred, y_train_pred = Functions.run_naive_bayes(X_train, X_test, y_train)\n",
    "            acc_test = accuracy_scorer(y_test, y_test_pred)\n",
    "            acc_train = accuracy_scorer(y_train, y_train_pred)\n",
    "        elif model == \"Random Forest\":\n",
    "            X_train, X_test, y_train, y_test = Functions.split_data(RF_df, i)\n",
    "            y_test_pred, y_train_pred = Functions.run_RF(X_train, X_test, y_train, 200, 10, 5,\"sqrt\", 30, False)\n",
    "            acc_test = accuracy_scorer(y_test, y_test_pred)\n",
    "            acc_train = accuracy_scorer(y_train, y_train_pred)\n",
    "        else:\n",
    "            X_train, X_test, y_train, y_test = Functions.split_data(SVM_df, i)\n",
    "            y_test_pred, y_train_pred = Functions.run_SVM_classifier(X_train, X_test, y_train, 'rbf', 100, False)\n",
    "            acc_test = accuracy_scorer(y_test, y_test_pred)\n",
    "            acc_train = accuracy_scorer(y_train, y_train_pred)\n",
    "        if acc_test > max_acc_test:\n",
    "            max_acc_test = acc_test\n",
    "            best_model_acc_train = acc_train\n",
    "    print(f\"Accuracy of best {model} model:\")\n",
    "    print(f\"Test accuracy: {max_acc_test:.4f}\")\n",
    "    print(f\"Train accuracy: {best_model_acc_train:.4f}\")"
   ],
   "id": "a54e4ab2871b2f55",
   "outputs": [
    {
     "name": "stdout",
     "output_type": "stream",
     "text": [
      "Accuracy of best Gaussian Naive Bayes model:\n",
      "Test accuracy: 0.6552\n",
      "Train accuracy: 0.3735\n",
      "Accuracy of best Random Forest model:\n",
      "Test accuracy: 0.7620\n",
      "Train accuracy: 0.5713\n"
     ]
    }
   ],
   "execution_count": null
  }
 ],
 "metadata": {
  "kernelspec": {
   "display_name": "Python 3",
   "language": "python",
   "name": "python3"
  },
  "language_info": {
   "codemirror_mode": {
    "name": "ipython",
    "version": 2
   },
   "file_extension": ".py",
   "mimetype": "text/x-python",
   "name": "python",
   "nbconvert_exporter": "python",
   "pygments_lexer": "ipython2",
   "version": "2.7.6"
  }
 },
 "nbformat": 4,
 "nbformat_minor": 5
}
