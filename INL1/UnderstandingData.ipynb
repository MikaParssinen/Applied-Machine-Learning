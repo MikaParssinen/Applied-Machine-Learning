{
 "cells": [
  {
   "cell_type": "code",
   "execution_count": 1,
   "id": "initial_id",
   "metadata": {
    "collapsed": true,
    "ExecuteTime": {
     "end_time": "2024-11-13T23:50:06.840918Z",
     "start_time": "2024-11-13T23:50:06.073365Z"
    }
   },
   "outputs": [],
   "source": [
    "import pandas as pd\n",
    "import matplotlib.pyplot as plt"
   ]
  },
  {
   "cell_type": "code",
   "outputs": [],
   "source": [
    "df = pd.read_csv(\"./FIFA18_players_database/CompleteDataset.csv\", low_memory=False)"
   ],
   "metadata": {
    "collapsed": false,
    "ExecuteTime": {
     "end_time": "2024-11-13T23:50:07.003246Z",
     "start_time": "2024-11-13T23:50:06.842205Z"
    }
   },
   "id": "b309b5aca587f7ca",
   "execution_count": 2
  },
  {
   "cell_type": "code",
   "outputs": [
    {
     "data": {
      "text/plain": "   Unnamed: 0               Name  Age  \\\n0           0  Cristiano Ronaldo   32   \n1           1           L. Messi   30   \n2           2             Neymar   25   \n3           3          L. Suárez   30   \n5           5     R. Lewandowski   28   \n\n                                             Photo Nationality  \\\n0   https://cdn.sofifa.org/48/18/players/20801.png    Portugal   \n1  https://cdn.sofifa.org/48/18/players/158023.png   Argentina   \n2  https://cdn.sofifa.org/48/18/players/190871.png      Brazil   \n3  https://cdn.sofifa.org/48/18/players/176580.png     Uruguay   \n5  https://cdn.sofifa.org/48/18/players/188545.png      Poland   \n\n                                  Flag  Overall  Potential  \\\n0  https://cdn.sofifa.org/flags/38.png       94         94   \n1  https://cdn.sofifa.org/flags/52.png       93         93   \n2  https://cdn.sofifa.org/flags/54.png       92         94   \n3  https://cdn.sofifa.org/flags/60.png       92         92   \n5  https://cdn.sofifa.org/flags/37.png       91         91   \n\n                  Club                                   Club Logo  ...    RB  \\\n0       Real Madrid CF  https://cdn.sofifa.org/24/18/teams/243.png  ...  61.0   \n1         FC Barcelona  https://cdn.sofifa.org/24/18/teams/241.png  ...  57.0   \n2  Paris Saint-Germain   https://cdn.sofifa.org/24/18/teams/73.png  ...  59.0   \n3         FC Barcelona  https://cdn.sofifa.org/24/18/teams/241.png  ...  64.0   \n5     FC Bayern Munich   https://cdn.sofifa.org/24/18/teams/21.png  ...  58.0   \n\n    RCB   RCM   RDM    RF    RM    RS    RW   RWB    ST  \n0  53.0  82.0  62.0  91.0  89.0  92.0  91.0  66.0  92.0  \n1  45.0  84.0  59.0  92.0  90.0  88.0  91.0  62.0  88.0  \n2  46.0  79.0  59.0  88.0  87.0  84.0  89.0  64.0  84.0  \n3  58.0  80.0  65.0  88.0  85.0  88.0  87.0  68.0  88.0  \n5  57.0  78.0  62.0  87.0  82.0  88.0  84.0  61.0  88.0  \n\n[5 rows x 75 columns]",
      "text/html": "<div>\n<style scoped>\n    .dataframe tbody tr th:only-of-type {\n        vertical-align: middle;\n    }\n\n    .dataframe tbody tr th {\n        vertical-align: top;\n    }\n\n    .dataframe thead th {\n        text-align: right;\n    }\n</style>\n<table border=\"1\" class=\"dataframe\">\n  <thead>\n    <tr style=\"text-align: right;\">\n      <th></th>\n      <th>Unnamed: 0</th>\n      <th>Name</th>\n      <th>Age</th>\n      <th>Photo</th>\n      <th>Nationality</th>\n      <th>Flag</th>\n      <th>Overall</th>\n      <th>Potential</th>\n      <th>Club</th>\n      <th>Club Logo</th>\n      <th>...</th>\n      <th>RB</th>\n      <th>RCB</th>\n      <th>RCM</th>\n      <th>RDM</th>\n      <th>RF</th>\n      <th>RM</th>\n      <th>RS</th>\n      <th>RW</th>\n      <th>RWB</th>\n      <th>ST</th>\n    </tr>\n  </thead>\n  <tbody>\n    <tr>\n      <th>0</th>\n      <td>0</td>\n      <td>Cristiano Ronaldo</td>\n      <td>32</td>\n      <td>https://cdn.sofifa.org/48/18/players/20801.png</td>\n      <td>Portugal</td>\n      <td>https://cdn.sofifa.org/flags/38.png</td>\n      <td>94</td>\n      <td>94</td>\n      <td>Real Madrid CF</td>\n      <td>https://cdn.sofifa.org/24/18/teams/243.png</td>\n      <td>...</td>\n      <td>61.0</td>\n      <td>53.0</td>\n      <td>82.0</td>\n      <td>62.0</td>\n      <td>91.0</td>\n      <td>89.0</td>\n      <td>92.0</td>\n      <td>91.0</td>\n      <td>66.0</td>\n      <td>92.0</td>\n    </tr>\n    <tr>\n      <th>1</th>\n      <td>1</td>\n      <td>L. Messi</td>\n      <td>30</td>\n      <td>https://cdn.sofifa.org/48/18/players/158023.png</td>\n      <td>Argentina</td>\n      <td>https://cdn.sofifa.org/flags/52.png</td>\n      <td>93</td>\n      <td>93</td>\n      <td>FC Barcelona</td>\n      <td>https://cdn.sofifa.org/24/18/teams/241.png</td>\n      <td>...</td>\n      <td>57.0</td>\n      <td>45.0</td>\n      <td>84.0</td>\n      <td>59.0</td>\n      <td>92.0</td>\n      <td>90.0</td>\n      <td>88.0</td>\n      <td>91.0</td>\n      <td>62.0</td>\n      <td>88.0</td>\n    </tr>\n    <tr>\n      <th>2</th>\n      <td>2</td>\n      <td>Neymar</td>\n      <td>25</td>\n      <td>https://cdn.sofifa.org/48/18/players/190871.png</td>\n      <td>Brazil</td>\n      <td>https://cdn.sofifa.org/flags/54.png</td>\n      <td>92</td>\n      <td>94</td>\n      <td>Paris Saint-Germain</td>\n      <td>https://cdn.sofifa.org/24/18/teams/73.png</td>\n      <td>...</td>\n      <td>59.0</td>\n      <td>46.0</td>\n      <td>79.0</td>\n      <td>59.0</td>\n      <td>88.0</td>\n      <td>87.0</td>\n      <td>84.0</td>\n      <td>89.0</td>\n      <td>64.0</td>\n      <td>84.0</td>\n    </tr>\n    <tr>\n      <th>3</th>\n      <td>3</td>\n      <td>L. Suárez</td>\n      <td>30</td>\n      <td>https://cdn.sofifa.org/48/18/players/176580.png</td>\n      <td>Uruguay</td>\n      <td>https://cdn.sofifa.org/flags/60.png</td>\n      <td>92</td>\n      <td>92</td>\n      <td>FC Barcelona</td>\n      <td>https://cdn.sofifa.org/24/18/teams/241.png</td>\n      <td>...</td>\n      <td>64.0</td>\n      <td>58.0</td>\n      <td>80.0</td>\n      <td>65.0</td>\n      <td>88.0</td>\n      <td>85.0</td>\n      <td>88.0</td>\n      <td>87.0</td>\n      <td>68.0</td>\n      <td>88.0</td>\n    </tr>\n    <tr>\n      <th>5</th>\n      <td>5</td>\n      <td>R. Lewandowski</td>\n      <td>28</td>\n      <td>https://cdn.sofifa.org/48/18/players/188545.png</td>\n      <td>Poland</td>\n      <td>https://cdn.sofifa.org/flags/37.png</td>\n      <td>91</td>\n      <td>91</td>\n      <td>FC Bayern Munich</td>\n      <td>https://cdn.sofifa.org/24/18/teams/21.png</td>\n      <td>...</td>\n      <td>58.0</td>\n      <td>57.0</td>\n      <td>78.0</td>\n      <td>62.0</td>\n      <td>87.0</td>\n      <td>82.0</td>\n      <td>88.0</td>\n      <td>84.0</td>\n      <td>61.0</td>\n      <td>88.0</td>\n    </tr>\n  </tbody>\n</table>\n<p>5 rows × 75 columns</p>\n</div>"
     },
     "execution_count": 3,
     "metadata": {},
     "output_type": "execute_result"
    }
   ],
   "source": [
    "#Remove Goalkeeper\n",
    "df['Preferred Positions'] = df['Preferred Positions'].str.strip()\n",
    "df = df[df['Preferred Positions'] != 'GK']\n",
    "df.head()"
   ],
   "metadata": {
    "collapsed": false,
    "ExecuteTime": {
     "end_time": "2024-11-13T23:50:07.034590Z",
     "start_time": "2024-11-13T23:50:07.004009Z"
    }
   },
   "id": "a3e0240f72585700",
   "execution_count": 3
  },
  {
   "cell_type": "code",
   "outputs": [
    {
     "data": {
      "text/plain": "    Acceleration Aggression Agility Balance Ball control Composure Crossing  \\\n0             89         63      89      63           93        95       85   \n1             92         48      90      95           95        96       77   \n2             94         56      96      82           95        92       75   \n3             88         78      86      60           91        83       77   \n5             79         80      78      80           89        87       62   \n..           ...        ...     ...     ...          ...       ...      ...   \n178           88         66      82      77           80        85       70   \n179           73         83      66      66           76        82       86   \n180           39         74      57      38           73        79       62   \n181           88         83      75      83           81        82       85   \n183           75         74      82      74           86        89       65   \n\n    Curve Dribbling Finishing  ... Short passing Shot power Sliding tackle  \\\n0      81        91        94  ...            83         94             23   \n1      89        97        95  ...            88         85             26   \n2      81        96        89  ...            81         80             33   \n3      86        86        94  ...            83         87             38   \n5      77        85        91  ...            83         88             19   \n..    ...       ...       ...  ...           ...        ...            ...   \n178    76        76        86  ...            79         84             39   \n179    80        74        65  ...            78         77             83   \n180    55        62        58  ...            69         80             82   \n181    69        82        58  ...            77         85             77   \n183    65      87+1        66  ...            86         85           71+4   \n\n    Sprint speed Stamina Standing tackle Strength Vision Volleys  \\\n0             91      92              31       80     85      88   \n1             87      73              28       59     90      85   \n2             90      78              24       53     80      83   \n3             77      89              45       80     84      88   \n5             83      79              42       84     78      87   \n..           ...     ...             ...      ...    ...     ...   \n178           86      76              33       64     76      78   \n179           84      79              84       79     72      67   \n180           46      74              85       85     63      49   \n181           87      90              83       85     71    70+1   \n183           77      77              80       92     79      73   \n\n    Preferred Positions  \n0                 ST LW  \n1                    RW  \n2                    LW  \n3                    ST  \n5                    ST  \n..                  ...  \n178                  ST  \n179               CB RB  \n180                  CB  \n181                  RB  \n183              CDM CM  \n\n[160 rows x 30 columns]",
      "text/html": "<div>\n<style scoped>\n    .dataframe tbody tr th:only-of-type {\n        vertical-align: middle;\n    }\n\n    .dataframe tbody tr th {\n        vertical-align: top;\n    }\n\n    .dataframe thead th {\n        text-align: right;\n    }\n</style>\n<table border=\"1\" class=\"dataframe\">\n  <thead>\n    <tr style=\"text-align: right;\">\n      <th></th>\n      <th>Acceleration</th>\n      <th>Aggression</th>\n      <th>Agility</th>\n      <th>Balance</th>\n      <th>Ball control</th>\n      <th>Composure</th>\n      <th>Crossing</th>\n      <th>Curve</th>\n      <th>Dribbling</th>\n      <th>Finishing</th>\n      <th>...</th>\n      <th>Short passing</th>\n      <th>Shot power</th>\n      <th>Sliding tackle</th>\n      <th>Sprint speed</th>\n      <th>Stamina</th>\n      <th>Standing tackle</th>\n      <th>Strength</th>\n      <th>Vision</th>\n      <th>Volleys</th>\n      <th>Preferred Positions</th>\n    </tr>\n  </thead>\n  <tbody>\n    <tr>\n      <th>0</th>\n      <td>89</td>\n      <td>63</td>\n      <td>89</td>\n      <td>63</td>\n      <td>93</td>\n      <td>95</td>\n      <td>85</td>\n      <td>81</td>\n      <td>91</td>\n      <td>94</td>\n      <td>...</td>\n      <td>83</td>\n      <td>94</td>\n      <td>23</td>\n      <td>91</td>\n      <td>92</td>\n      <td>31</td>\n      <td>80</td>\n      <td>85</td>\n      <td>88</td>\n      <td>ST LW</td>\n    </tr>\n    <tr>\n      <th>1</th>\n      <td>92</td>\n      <td>48</td>\n      <td>90</td>\n      <td>95</td>\n      <td>95</td>\n      <td>96</td>\n      <td>77</td>\n      <td>89</td>\n      <td>97</td>\n      <td>95</td>\n      <td>...</td>\n      <td>88</td>\n      <td>85</td>\n      <td>26</td>\n      <td>87</td>\n      <td>73</td>\n      <td>28</td>\n      <td>59</td>\n      <td>90</td>\n      <td>85</td>\n      <td>RW</td>\n    </tr>\n    <tr>\n      <th>2</th>\n      <td>94</td>\n      <td>56</td>\n      <td>96</td>\n      <td>82</td>\n      <td>95</td>\n      <td>92</td>\n      <td>75</td>\n      <td>81</td>\n      <td>96</td>\n      <td>89</td>\n      <td>...</td>\n      <td>81</td>\n      <td>80</td>\n      <td>33</td>\n      <td>90</td>\n      <td>78</td>\n      <td>24</td>\n      <td>53</td>\n      <td>80</td>\n      <td>83</td>\n      <td>LW</td>\n    </tr>\n    <tr>\n      <th>3</th>\n      <td>88</td>\n      <td>78</td>\n      <td>86</td>\n      <td>60</td>\n      <td>91</td>\n      <td>83</td>\n      <td>77</td>\n      <td>86</td>\n      <td>86</td>\n      <td>94</td>\n      <td>...</td>\n      <td>83</td>\n      <td>87</td>\n      <td>38</td>\n      <td>77</td>\n      <td>89</td>\n      <td>45</td>\n      <td>80</td>\n      <td>84</td>\n      <td>88</td>\n      <td>ST</td>\n    </tr>\n    <tr>\n      <th>5</th>\n      <td>79</td>\n      <td>80</td>\n      <td>78</td>\n      <td>80</td>\n      <td>89</td>\n      <td>87</td>\n      <td>62</td>\n      <td>77</td>\n      <td>85</td>\n      <td>91</td>\n      <td>...</td>\n      <td>83</td>\n      <td>88</td>\n      <td>19</td>\n      <td>83</td>\n      <td>79</td>\n      <td>42</td>\n      <td>84</td>\n      <td>78</td>\n      <td>87</td>\n      <td>ST</td>\n    </tr>\n    <tr>\n      <th>...</th>\n      <td>...</td>\n      <td>...</td>\n      <td>...</td>\n      <td>...</td>\n      <td>...</td>\n      <td>...</td>\n      <td>...</td>\n      <td>...</td>\n      <td>...</td>\n      <td>...</td>\n      <td>...</td>\n      <td>...</td>\n      <td>...</td>\n      <td>...</td>\n      <td>...</td>\n      <td>...</td>\n      <td>...</td>\n      <td>...</td>\n      <td>...</td>\n      <td>...</td>\n      <td>...</td>\n    </tr>\n    <tr>\n      <th>178</th>\n      <td>88</td>\n      <td>66</td>\n      <td>82</td>\n      <td>77</td>\n      <td>80</td>\n      <td>85</td>\n      <td>70</td>\n      <td>76</td>\n      <td>76</td>\n      <td>86</td>\n      <td>...</td>\n      <td>79</td>\n      <td>84</td>\n      <td>39</td>\n      <td>86</td>\n      <td>76</td>\n      <td>33</td>\n      <td>64</td>\n      <td>76</td>\n      <td>78</td>\n      <td>ST</td>\n    </tr>\n    <tr>\n      <th>179</th>\n      <td>73</td>\n      <td>83</td>\n      <td>66</td>\n      <td>66</td>\n      <td>76</td>\n      <td>82</td>\n      <td>86</td>\n      <td>80</td>\n      <td>74</td>\n      <td>65</td>\n      <td>...</td>\n      <td>78</td>\n      <td>77</td>\n      <td>83</td>\n      <td>84</td>\n      <td>79</td>\n      <td>84</td>\n      <td>79</td>\n      <td>72</td>\n      <td>67</td>\n      <td>CB RB</td>\n    </tr>\n    <tr>\n      <th>180</th>\n      <td>39</td>\n      <td>74</td>\n      <td>57</td>\n      <td>38</td>\n      <td>73</td>\n      <td>79</td>\n      <td>62</td>\n      <td>55</td>\n      <td>62</td>\n      <td>58</td>\n      <td>...</td>\n      <td>69</td>\n      <td>80</td>\n      <td>82</td>\n      <td>46</td>\n      <td>74</td>\n      <td>85</td>\n      <td>85</td>\n      <td>63</td>\n      <td>49</td>\n      <td>CB</td>\n    </tr>\n    <tr>\n      <th>181</th>\n      <td>88</td>\n      <td>83</td>\n      <td>75</td>\n      <td>83</td>\n      <td>81</td>\n      <td>82</td>\n      <td>85</td>\n      <td>69</td>\n      <td>82</td>\n      <td>58</td>\n      <td>...</td>\n      <td>77</td>\n      <td>85</td>\n      <td>77</td>\n      <td>87</td>\n      <td>90</td>\n      <td>83</td>\n      <td>85</td>\n      <td>71</td>\n      <td>70+1</td>\n      <td>RB</td>\n    </tr>\n    <tr>\n      <th>183</th>\n      <td>75</td>\n      <td>74</td>\n      <td>82</td>\n      <td>74</td>\n      <td>86</td>\n      <td>89</td>\n      <td>65</td>\n      <td>65</td>\n      <td>87+1</td>\n      <td>66</td>\n      <td>...</td>\n      <td>86</td>\n      <td>85</td>\n      <td>71+4</td>\n      <td>77</td>\n      <td>77</td>\n      <td>80</td>\n      <td>92</td>\n      <td>79</td>\n      <td>73</td>\n      <td>CDM CM</td>\n    </tr>\n  </tbody>\n</table>\n<p>160 rows × 30 columns</p>\n</div>"
     },
     "execution_count": 4,
     "metadata": {},
     "output_type": "execute_result"
    }
   ],
   "source": [
    "#Extract what columns we need\n",
    "columns_needed = ['Acceleration', 'Aggression', 'Agility', 'Balance', 'Ball control', 'Composure', 'Crossing', 'Curve', 'Dribbling', 'Finishing','Free kick accuracy','Heading accuracy', 'Interceptions','Jumping', 'Long passing', 'Long shots', 'Marking', 'Penalties',\n",
    "'Positioning', 'Reactions', 'Short passing', 'Shot power',\n",
    "'Sliding tackle', 'Sprint speed', 'Stamina', 'Standing tackle',\n",
    "'Strength', 'Vision', 'Volleys', 'Preferred Positions'] \n",
    "\n",
    "df = df[columns_needed]\n",
    "df.head(160)"
   ],
   "metadata": {
    "collapsed": false,
    "ExecuteTime": {
     "end_time": "2024-11-13T23:50:07.048683Z",
     "start_time": "2024-11-13T23:50:07.036200Z"
    }
   },
   "id": "2558d2548eb322b8",
   "execution_count": 4
  },
  {
   "cell_type": "code",
   "outputs": [
    {
     "data": {
      "text/plain": "np.False_"
     },
     "execution_count": 5,
     "metadata": {},
     "output_type": "execute_result"
    }
   ],
   "source": [
    "df.isnull().values.any() #Checking if we have empty values"
   ],
   "metadata": {
    "collapsed": false,
    "ExecuteTime": {
     "end_time": "2024-11-13T23:50:07.068796Z",
     "start_time": "2024-11-13T23:50:07.049649Z"
    }
   },
   "id": "feb111e51af7198c",
   "execution_count": 5
  },
  {
   "cell_type": "code",
   "outputs": [
    {
     "data": {
      "text/plain": "array(['ST', 'RW', 'LW', 'CDM', 'CB', 'RM', 'CM', 'LM', 'LB', 'CAM', 'RB',\n       'CF', 'RWB', 'LWB'], dtype=object)"
     },
     "execution_count": 6,
     "metadata": {},
     "output_type": "execute_result"
    }
   ],
   "source": [
    "# List of UNIQUE positions\n",
    "p = df['Preferred Positions'].str.split().apply(lambda x: x[0]).unique()\n",
    "p"
   ],
   "metadata": {
    "collapsed": false,
    "ExecuteTime": {
     "end_time": "2024-11-13T23:50:07.082529Z",
     "start_time": "2024-11-13T23:50:07.069756Z"
    }
   },
   "id": "47ba47caa82b504c",
   "execution_count": 6
  },
  {
   "cell_type": "code",
   "outputs": [
    {
     "data": {
      "text/plain": "Empty DataFrame\nColumns: [Acceleration, Aggression, Agility, Balance, Ball control, Composure, Crossing, Curve, Dribbling, Finishing, Free kick accuracy, Heading accuracy, Interceptions, Jumping, Long passing, Long shots, Marking, Penalties, Positioning, Reactions, Short passing, Shot power, Sliding tackle, Sprint speed, Stamina, Standing tackle, Strength, Vision, Volleys, Preferred Positions]\nIndex: []\n\n[0 rows x 30 columns]",
      "text/html": "<div>\n<style scoped>\n    .dataframe tbody tr th:only-of-type {\n        vertical-align: middle;\n    }\n\n    .dataframe tbody tr th {\n        vertical-align: top;\n    }\n\n    .dataframe thead th {\n        text-align: right;\n    }\n</style>\n<table border=\"1\" class=\"dataframe\">\n  <thead>\n    <tr style=\"text-align: right;\">\n      <th></th>\n      <th>Acceleration</th>\n      <th>Aggression</th>\n      <th>Agility</th>\n      <th>Balance</th>\n      <th>Ball control</th>\n      <th>Composure</th>\n      <th>Crossing</th>\n      <th>Curve</th>\n      <th>Dribbling</th>\n      <th>Finishing</th>\n      <th>...</th>\n      <th>Short passing</th>\n      <th>Shot power</th>\n      <th>Sliding tackle</th>\n      <th>Sprint speed</th>\n      <th>Stamina</th>\n      <th>Standing tackle</th>\n      <th>Strength</th>\n      <th>Vision</th>\n      <th>Volleys</th>\n      <th>Preferred Positions</th>\n    </tr>\n  </thead>\n  <tbody>\n  </tbody>\n</table>\n<p>0 rows × 30 columns</p>\n</div>"
     },
     "execution_count": 9,
     "metadata": {},
     "output_type": "execute_result"
    }
   ],
   "source": [
    "df.loc[df['Preferred Positions'] == \"LAM\"]"
   ],
   "metadata": {
    "collapsed": false,
    "ExecuteTime": {
     "end_time": "2024-11-14T09:08:00.832519Z",
     "start_time": "2024-11-14T09:08:00.809972Z"
    }
   },
   "id": "d158519314286ee8",
   "execution_count": 9
  },
  {
   "cell_type": "code",
   "outputs": [],
   "source": [],
   "metadata": {
    "collapsed": false
   },
   "id": "7fa3b86bbc769805"
  }
 ],
 "metadata": {
  "kernelspec": {
   "display_name": "Python 3",
   "language": "python",
   "name": "python3"
  },
  "language_info": {
   "codemirror_mode": {
    "name": "ipython",
    "version": 2
   },
   "file_extension": ".py",
   "mimetype": "text/x-python",
   "name": "python",
   "nbconvert_exporter": "python",
   "pygments_lexer": "ipython2",
   "version": "2.7.6"
  }
 },
 "nbformat": 4,
 "nbformat_minor": 5
}
