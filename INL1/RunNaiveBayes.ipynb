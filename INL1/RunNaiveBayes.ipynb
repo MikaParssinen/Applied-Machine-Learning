{
 "cells": [
  {
   "cell_type": "code",
   "id": "initial_id",
   "metadata": {
    "collapsed": true,
    "ExecuteTime": {
     "end_time": "2024-11-25T18:11:11.814764Z",
     "start_time": "2024-11-25T18:11:07.653311Z"
    }
   },
   "source": [
    "import pandas as pd\n",
    "import numpy as np\n",
    "\n",
    "from get_samples import split_data\n",
    "from sklearn.preprocessing import StandardScaler\n",
    "from sklearn.preprocessing import MinMaxScaler\n",
    "import naivebayes\n",
    "from NormalizeNRemoveOutliers import remove_outliers_iqr\n",
    "\n",
    "X_train, X_test, y_train, y_test = split_data()\n",
    "scaler_minmax = MinMaxScaler()\n",
    "scaler_standard = StandardScaler()\n",
    "X_train_minmax = scaler_minmax.fit_transform(X_train)\n",
    "X_test_minmax = scaler_minmax.fit_transform(X_test)\n",
    "X_train_standard = scaler_standard.fit_transform(X_train)\n",
    "X_test_standard = scaler_standard.fit_transform(X_test)\n",
    "\n",
    "# Run gaussian naive bayes with outliers present\n",
    "print(\"Running naive bayes with outliers present\")\n",
    "y_pred = naivebayes.run_naive_bayes(X_train, X_test, y_train, \"gaussian\")\n",
    "y_pred_minmax = naivebayes.run_naive_bayes(X_train_minmax, X_test_minmax, y_train, \"gaussian\")\n",
    "y_pred_standard = naivebayes.run_naive_bayes(X_train_standard, X_test_standard, y_train, \"gaussian\")\n",
    "acc = naivebayes.accuracy_scorer(y_test, y_pred)\n",
    "acc_minmax = naivebayes.accuracy_scorer(y_test, y_pred_minmax)\n",
    "acc_standard = naivebayes.accuracy_scorer(y_test, y_pred_standard)\n",
    "print(f\"Accuracy Gaussian Naive Bayes: {acc}\")\n",
    "print(f\"Accuracy Gaussian Naive Bayes min max normalized: {acc_minmax}\")\n",
    "print(f\"Accuracy Gaussian Naive Bayes standardized: {acc_standard}\")\n",
    "\n",
    "# Remove outliers\n",
    "train_set = np.concatenate([X_train, y_train[:,None]], axis=1)\n",
    "df = pd.DataFrame(train_set)\n",
    "(X_train, y_train) = remove_outliers_iqr(df, len(X_train[0]))\n",
    "X_train_minmax = scaler_minmax.fit_transform(X_train)\n",
    "X_test_minmax = scaler_minmax.fit_transform(X_test)\n",
    "X_train_standard = scaler_standard.fit_transform(X_train)\n",
    "X_test_standard = scaler_standard.fit_transform(X_test)\n",
    "\n",
    "# Run gaussian naive bayes without outliers\n",
    "print(\"Running naive bayes without outliers\")\n",
    "y_pred = naivebayes.run_naive_bayes(X_train, X_test, y_train, \"gaussian\")\n",
    "y_pred_minmax = naivebayes.run_naive_bayes(X_train_minmax, X_test_minmax, y_train, \"gaussian\")\n",
    "y_pred_standard = naivebayes.run_naive_bayes(X_train_standard, X_test_standard, y_train, \"gaussian\")\n",
    "acc = naivebayes.accuracy_scorer(y_test, y_pred)\n",
    "acc_minmax = naivebayes.accuracy_scorer(y_test, y_pred_minmax)\n",
    "acc_standard = naivebayes.accuracy_scorer(y_test, y_pred_standard)\n",
    "print(f\"Accuracy Gaussian Naive Bayes: {acc}\")\n",
    "print(f\"Accuracy Gaussian Naive Bayes min max normalized: {acc_minmax}\")\n",
    "print(f\"Accuracy Gaussian Naive Bayes standardized: {acc_standard}\")\n",
    "\n",
    "# Run complement naive bayes\n",
    "\n",
    "y_pred = naivebayes.run_naive_bayes(X_train, X_test, y_train, \"complement\")\n",
    "acc = naivebayes.accuracy_scorer(y_test, y_pred)\n",
    "print(f\"Accuracy Complement Naive Bayes: {acc}\")\n",
    "\n",
    "# Run multinomial naive bayes\n",
    "\n",
    "y_pred = naivebayes.run_naive_bayes(X_train, X_test, y_train, \"multinomial\")\n",
    "acc = naivebayes.accuracy_scorer(y_test, y_pred)\n",
    "print(f\"Accuracy Multinomial Naive Bayes: {acc}\")\n",
    "\n",
    "# Run bernoulli naive bayes\n",
    "\n",
    "y_pred = naivebayes.run_naive_bayes(X_train, X_test, y_train, \"bernoulli\")\n",
    "acc = naivebayes.accuracy_scorer(y_test, y_pred)\n",
    "print(f\"Accuracy Bernoulli Naive Bayes: {acc}\")"
   ],
   "outputs": [
    {
     "name": "stdout",
     "output_type": "stream",
     "text": [
      "Running naive bayes with outliers present\n",
      "Accuracy Gaussian Naive Bayes: 0.6286430586023191\n",
      "Accuracy Gaussian Naive Bayes min max normalized: 0.6242557192102789\n",
      "Accuracy Gaussian Naive Bayes standardized: 0.6104669382638671\n",
      "Running naive bayes without outliers\n",
      "Accuracy Gaussian Naive Bayes: 0.6643685365089314\n",
      "Accuracy Gaussian Naive Bayes min max normalized: 0.5841429019116264\n",
      "Accuracy Gaussian Naive Bayes standardized: 0.6251958633657161\n",
      "Accuracy Complement Naive Bayes: 0.5368223127546223\n",
      "Accuracy Multinomial Naive Bayes: 0.6659354434346599\n",
      "Accuracy Bernoulli Naive Bayes: 0.21780006267627702\n"
     ]
    }
   ],
   "execution_count": 2
  },
  {
   "cell_type": "code",
   "source": [],
   "metadata": {
    "collapsed": false,
    "ExecuteTime": {
     "end_time": "2024-11-25T18:11:11.846546Z",
     "start_time": "2024-11-25T18:11:11.841572Z"
    }
   },
   "id": "405d084ca2e60174",
   "outputs": [],
   "execution_count": null
  }
 ],
 "metadata": {
  "kernelspec": {
   "display_name": "Python 3",
   "language": "python",
   "name": "python3"
  },
  "language_info": {
   "codemirror_mode": {
    "name": "ipython",
    "version": 2
   },
   "file_extension": ".py",
   "mimetype": "text/x-python",
   "name": "python",
   "nbconvert_exporter": "python",
   "pygments_lexer": "ipython2",
   "version": "2.7.6"
  }
 },
 "nbformat": 4,
 "nbformat_minor": 5
}
