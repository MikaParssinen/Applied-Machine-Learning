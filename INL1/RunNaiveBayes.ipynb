{
 "cells": [
  {
   "cell_type": "code",
   "id": "initial_id",
   "metadata": {
    "collapsed": true,
    "ExecuteTime": {
     "end_time": "2024-11-27T18:10:48.918621Z",
     "start_time": "2024-11-27T18:10:44.923385Z"
    }
   },
   "source": [
    "import pandas as pd\n",
    "import Functions\n",
    "\n",
    "original_df = pd.read_csv(\"./FIFA18_players_database/CompleteDataset.csv\", low_memory=False)\n",
    "original_df = Functions.engineer_features(original_df)\n",
    "original_df = original_df.sample(frac=1).reset_index(drop=True)\n",
    "X_train, X_test, y_train, y_test = Functions.split_data(original_df, 0)\n",
    "X_train_minmax = Functions.normalize(X_train, \"minmax\")\n",
    "X_test_minmax = Functions.normalize(X_test, \"minmax\")\n",
    "X_train_standard = Functions.normalize(X_train, \"standard\")\n",
    "X_test_standard = Functions.normalize(X_test, \"standard\")\n",
    "\n",
    "print(\"Running models with outliers present: \")\n",
    "\n",
    "# Run gaussian naive bayes\n",
    "y_pred = Functions.run_naive_bayes(X_train, X_test, y_train)\n",
    "y_pred_minmax = Functions.run_naive_bayes(X_train_minmax, X_test_minmax, y_train)\n",
    "y_pred_standard = Functions.run_naive_bayes(X_train_standard, X_test_standard, y_train)\n",
    "acc = Functions.accuracy_scorer(y_test, y_pred)\n",
    "acc_minmax = Functions.accuracy_scorer(y_test, y_pred_minmax)\n",
    "acc_standard = Functions.accuracy_scorer(y_test, y_pred_standard)\n",
    "print(f\"Accuracy Gaussian Naive Bayes: {acc}\")\n",
    "print(f\"Accuracy Gaussian Naive Bayes min max normalized: {acc_minmax}\")\n",
    "print(f\"Accuracy Gaussian Naive Bayes standardized: {acc_standard}\\n\")\n",
    "\n",
    "# Remove outliers\n",
    "outlier_free_df = Functions.remove_outliers(original_df, 1)\n",
    "\n",
    "print(\"Running models without outliers present: \")\n",
    "\n",
    "# Run gaussian naive bayes\n",
    "X_train, X_test, y_train, y_test = Functions.split_data(outlier_free_df, 0)\n",
    "X_train_minmax = Functions.normalize(X_train, \"minmax\")\n",
    "X_test_minmax = Functions.normalize(X_test, \"minmax\")\n",
    "X_train_standard = Functions.normalize(X_train, \"standard\")\n",
    "X_test_standard = Functions.normalize(X_test, \"standard\")\n",
    "y_pred = Functions.run_naive_bayes(X_train, X_test, y_train)\n",
    "y_pred_minmax = Functions.run_naive_bayes(X_train_minmax, X_test_minmax, y_train)\n",
    "y_pred_standard = Functions.run_naive_bayes(X_train_standard, X_test_standard, y_train)\n",
    "acc = Functions.accuracy_scorer(y_test, y_pred)\n",
    "acc_minmax = Functions.accuracy_scorer(y_test, y_pred_minmax)\n",
    "acc_standard = Functions.accuracy_scorer(y_test, y_pred_standard)\n",
    "print(f\"Accuracy Gaussian Naive Bayes: {acc}\")\n",
    "print(f\"Accuracy Gaussian Naive Bayes min max normalized: {acc_minmax}\")\n",
    "print(f\"Accuracy Gaussian Naive Bayes standardized: {acc_standard}\\n\")\n",
    "\n",
    "# Choose best model with cross-validation\n",
    "max_acc = 0\n",
    "for i in range(5):\n",
    "    X_train, X_test, y_train, y_test = Functions.split_data(outlier_free_df, i)\n",
    "    \n",
    "    y_pred = Functions.run_naive_bayes(X_train, X_test, y_train)\n",
    "    acc = Functions.accuracy_scorer(y_test, y_pred)\n",
    "    \n",
    "    print(\"Split\", i + 1, \"accuracy:\", acc)\n",
    "    \n",
    "    if acc > max_acc:\n",
    "        max_acc = acc\n",
    "        \n",
    "print(\"Best accuracy model after cross-validation: \", max_acc)    "
   ],
   "outputs": [
    {
     "name": "stdout",
     "output_type": "stream",
     "text": [
      "Running models with outliers present: \n",
      "Accuracy Gaussian Naive Bayes: 0.6352240676903792\n",
      "Accuracy Gaussian Naive Bayes min max normalized: 0.6305233469131933\n",
      "Accuracy Gaussian Naive Bayes standardized: 0.6214352867439674\n",
      "\n",
      "Running models without outliers present: \n",
      "Accuracy Gaussian Naive Bayes: 0.6557377049180327\n",
      "Accuracy Gaussian Naive Bayes min max normalized: 0.6557377049180327\n",
      "Accuracy Gaussian Naive Bayes standardized: 0.6492796820665673\n",
      "\n",
      "Split 1 accuracy: 0.6557377049180327\n",
      "Split 2 accuracy: 0.6373571783407849\n",
      "Split 3 accuracy: 0.6289120715350224\n",
      "Split 4 accuracy: 0.6313959264778937\n",
      "Split 5 accuracy: 0.6383084577114427\n",
      "Best accuracy model after cross-validation:  0.6557377049180327\n"
     ]
    }
   ],
   "execution_count": 4
  }
 ],
 "metadata": {
  "kernelspec": {
   "display_name": "Python 3",
   "language": "python",
   "name": "python3"
  },
  "language_info": {
   "codemirror_mode": {
    "name": "ipython",
    "version": 2
   },
   "file_extension": ".py",
   "mimetype": "text/x-python",
   "name": "python",
   "nbconvert_exporter": "python",
   "pygments_lexer": "ipython2",
   "version": "2.7.6"
  }
 },
 "nbformat": 4,
 "nbformat_minor": 5
}
