{
 "cells": [
  {
   "cell_type": "code",
   "id": "initial_id",
   "metadata": {
    "collapsed": true,
    "ExecuteTime": {
     "end_time": "2024-11-25T17:02:33.342337Z",
     "start_time": "2024-11-25T17:02:29.403156Z"
    }
   },
   "source": [
    "from get_samples import split_data\n",
    "from sklearn.preprocessing import StandardScaler\n",
    "from sklearn.preprocessing import MinMaxScaler\n",
    "import naivebayes\n",
    "from NormalizeNRemoveOutliers import remove_outliers_iqr\n",
    "\n",
    "X_train, X_test, y_train, y_test = split_data()\n",
    "scaler_minmax = MinMaxScaler()\n",
    "scaler_standard = StandardScaler()\n",
    "X_train_minmax = scaler_minmax.fit_transform(X_train)\n",
    "X_test_minmax = scaler_minmax.fit_transform(X_test)\n",
    "X_train_standard = scaler_standard.fit_transform(X_train)\n",
    "X_test_standard = scaler_standard.fit_transform(X_test)\n",
    "\n",
    "# Run gaussian naive bayes with outliers present\n",
    "print(\"Running naive bayes with outliers present\")\n",
    "y_pred = naivebayes.run_naive_bayes(X_train, X_test, y_train, \"gaussian\")\n",
    "y_pred_minmax = naivebayes.run_naive_bayes(X_train_minmax, X_test_minmax, y_train, \"gaussian\")\n",
    "y_pred_standard = naivebayes.run_naive_bayes(X_train_standard, X_test_standard, y_train, \"gaussian\")\n",
    "acc = naivebayes.accuracy_scorer(y_test, y_pred)\n",
    "acc_minmax = naivebayes.accuracy_scorer(y_test, y_pred_minmax)\n",
    "acc_standard = naivebayes.accuracy_scorer(y_test, y_pred_standard)\n",
    "print(f\"Accuracy Gaussian Naive Bayes: {acc}\")\n",
    "print(f\"Accuracy Gaussian Naive Bayes min max normalized: {acc_minmax}\")\n",
    "print(f\"Accuracy Gaussian Naive Bayes standardized: {acc_standard}\")\n",
    "\n",
    "'''\n",
    "# Remove outliers\n",
    "(X_train, y_train) = remove_outliers_iqr(X_train, y_train)\n",
    "X_train_minmax = scaler_minmax.fit_transform(X_train)\n",
    "X_test_minmax = scaler_minmax.fit_transform(X_test)\n",
    "X_train_standard = scaler_standard.fit_transform(X_train)\n",
    "X_test_standard = scaler_standard.fit_transform(X_test)\n",
    "\n",
    "# Run gaussian naive bayes without outliers\n",
    "print(\"Running naive bayes without outliers\")\n",
    "y_pred = naivebayes.run_naive_bayes(X_train, X_test, y_train, \"gaussian\")\n",
    "y_pred_minmax = naivebayes.run_naive_bayes(X_train_minmax, X_test_minmax, y_train, \"gaussian\")\n",
    "y_pred_standard = naivebayes.run_naive_bayes(X_train_standard, X_test_standard, y_train, \"gaussian\")\n",
    "acc = naivebayes.accuracy_scorer(y_test, y_pred)\n",
    "acc_minmax = naivebayes.accuracy_scorer(y_test, y_pred_minmax)\n",
    "acc_standard = naivebayes.accuracy_scorer(y_test, y_pred_standard)\n",
    "print(f\"Accuracy Gaussian Naive Bayes: {acc}\")\n",
    "print(f\"Accuracy Gaussian Naive Bayes min max normalized: {acc_minmax}\")\n",
    "print(f\"Accuracy Gaussian Naive Bayes standardized: {acc_standard}\")\n",
    "'''\n",
    "\n",
    "# Run complement naive bayes\n",
    "\n",
    "y_pred = naivebayes.run_naive_bayes(X_train, X_test, y_train, \"complement\")\n",
    "acc = naivebayes.accuracy_scorer(y_test, y_pred)\n",
    "print(f\"Accuracy Complement Naive Bayes: {acc}\")\n",
    "\n",
    "# Run multinomial naive bayes\n",
    "\n",
    "y_pred = naivebayes.run_naive_bayes(X_train, X_test, y_train, \"multinomial\")\n",
    "acc = naivebayes.accuracy_scorer(y_test, y_pred)\n",
    "print(f\"Accuracy Multinomial Naive Bayes: {acc}\")\n",
    "\n",
    "# Run bernoulli naive bayes\n",
    "\n",
    "y_pred = naivebayes.run_naive_bayes(X_train, X_test, y_train, \"bernoulli\")\n",
    "acc = naivebayes.accuracy_scorer(y_test, y_pred)\n",
    "print(f\"Accuracy Bernoulli Naive Bayes: {acc}\")"
   ],
   "outputs": [
    {
     "name": "stdout",
     "output_type": "stream",
     "text": [
      "Running naive bayes with outliers present\n",
      "Accuracy Gaussian Naive Bayes: 0.6201817612033845\n",
      "Accuracy Gaussian Naive Bayes min max normalized: 0.6120338451895957\n",
      "Accuracy Gaussian Naive Bayes standardized: 0.603885929175807\n"
     ]
    },
    {
     "ename": "TypeError",
     "evalue": "only integer scalar arrays can be converted to a scalar index",
     "output_type": "error",
     "traceback": [
      "\u001B[1;31m---------------------------------------------------------------------------\u001B[0m",
      "\u001B[1;31mTypeError\u001B[0m                                 Traceback (most recent call last)",
      "Cell \u001B[1;32mIn[1], line 28\u001B[0m\n\u001B[0;32m     25\u001B[0m \u001B[38;5;28mprint\u001B[39m(\u001B[38;5;124mf\u001B[39m\u001B[38;5;124m\"\u001B[39m\u001B[38;5;124mAccuracy Gaussian Naive Bayes standardized: \u001B[39m\u001B[38;5;132;01m{\u001B[39;00macc_standard\u001B[38;5;132;01m}\u001B[39;00m\u001B[38;5;124m\"\u001B[39m)\n\u001B[0;32m     27\u001B[0m \u001B[38;5;66;03m# Remove outliers\u001B[39;00m\n\u001B[1;32m---> 28\u001B[0m (X_train, y_train) \u001B[38;5;241m=\u001B[39m \u001B[43mremove_outliers_iqr\u001B[49m\u001B[43m(\u001B[49m\u001B[43mX_train\u001B[49m\u001B[43m,\u001B[49m\u001B[43m \u001B[49m\u001B[43my_train\u001B[49m\u001B[43m)\u001B[49m\n\u001B[0;32m     29\u001B[0m X_train_minmax \u001B[38;5;241m=\u001B[39m scaler_minmax\u001B[38;5;241m.\u001B[39mfit_transform(X_train)\n\u001B[0;32m     30\u001B[0m X_test_minmax \u001B[38;5;241m=\u001B[39m scaler_minmax\u001B[38;5;241m.\u001B[39mfit_transform(X_test)\n",
      "File \u001B[1;32mC:\\GitHub\\Applied-Machine-Learning\\INL1\\NormalizeNRemoveOutliers.py:9\u001B[0m, in \u001B[0;36mremove_outliers_iqr\u001B[1;34m(train_set, columns)\u001B[0m\n\u001B[0;32m      8\u001B[0m \u001B[38;5;28;01mdef\u001B[39;00m \u001B[38;5;21mremove_outliers_iqr\u001B[39m(train_set, columns):\n\u001B[1;32m----> 9\u001B[0m     \u001B[38;5;28;01mfor\u001B[39;00m i \u001B[38;5;129;01min\u001B[39;00m \u001B[38;5;28;43mrange\u001B[39;49m\u001B[43m(\u001B[49m\u001B[43mcolumns\u001B[49m\u001B[43m)\u001B[49m:\n\u001B[0;32m     10\u001B[0m         Q1 \u001B[38;5;241m=\u001B[39m train_set[i]\u001B[38;5;241m.\u001B[39mquantile(\u001B[38;5;241m0.25\u001B[39m)  \u001B[38;5;66;03m# First quantile\u001B[39;00m\n\u001B[0;32m     11\u001B[0m         Q3 \u001B[38;5;241m=\u001B[39m train_set[i]\u001B[38;5;241m.\u001B[39mquantile(\u001B[38;5;241m0.75\u001B[39m)  \u001B[38;5;66;03m# Third quantile\u001B[39;00m\n",
      "\u001B[1;31mTypeError\u001B[0m: only integer scalar arrays can be converted to a scalar index"
     ]
    }
   ],
   "execution_count": 1
  },
  {
   "cell_type": "code",
   "source": [],
   "metadata": {
    "collapsed": false,
    "ExecuteTime": {
     "end_time": "2024-11-25T17:02:33.414209800Z",
     "start_time": "2024-11-25T16:49:06.930280Z"
    }
   },
   "id": "405d084ca2e60174",
   "outputs": [],
   "execution_count": null
  }
 ],
 "metadata": {
  "kernelspec": {
   "display_name": "Python 3",
   "language": "python",
   "name": "python3"
  },
  "language_info": {
   "codemirror_mode": {
    "name": "ipython",
    "version": 2
   },
   "file_extension": ".py",
   "mimetype": "text/x-python",
   "name": "python",
   "nbconvert_exporter": "python",
   "pygments_lexer": "ipython2",
   "version": "2.7.6"
  }
 },
 "nbformat": 4,
 "nbformat_minor": 5
}
