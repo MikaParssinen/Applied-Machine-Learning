{
 "cells": [
  {
   "cell_type": "code",
   "id": "initial_id",
   "metadata": {
    "collapsed": true,
    "jupyter": {
     "is_executing": true
    },
    "ExecuteTime": {
     "start_time": "2024-11-27T09:46:33.188690Z"
    }
   },
   "source": [
    "import pandas as pd\n",
    "import numpy as np\n",
    "\n",
    "from train_test_split import split_data\n",
    "from sklearn.preprocessing import StandardScaler\n",
    "from sklearn.preprocessing import MinMaxScaler\n",
    "import naivebayes\n",
    "import metrics\n",
    "\n",
    "X_train, X_test, y_train, y_test = split_data()\n",
    "scaler_minmax = MinMaxScaler()\n",
    "scaler_standard = StandardScaler()\n",
    "X_train_minmax = scaler_minmax.fit_transform(X_train)\n",
    "X_test_minmax = scaler_minmax.fit_transform(X_test)\n",
    "X_train_standard = scaler_standard.fit_transform(X_train)\n",
    "X_test_standard = scaler_standard.fit_transform(X_test)\n",
    "\n",
    "print(\"Running model with outliers present: \")\n",
    "\n",
    "# Run gaussian naive bayes\n",
    "y_pred, model = naivebayes.run_naive_bayes(X_train, X_test, y_train)\n",
    "y_pred_minmax, model = naivebayes.run_naive_bayes(X_train_minmax, X_test_minmax, y_train)\n",
    "y_pred_standard, model = naivebayes.run_naive_bayes(X_train_standard, X_test_standard, y_train)\n",
    "acc = metrics.accuracy_scorer(y_test, y_pred)\n",
    "acc_minmax = metrics.accuracy_scorer(y_test, y_pred_minmax)\n",
    "acc_standard = metrics.accuracy_scorer(y_test, y_pred_standard)\n",
    "print(f\"Accuracy Gaussian Naive Bayes: {acc}\")\n",
    "print(f\"Accuracy Gaussian Naive Bayes min max normalized: {acc_minmax}\")\n",
    "print(f\"Accuracy Gaussian Naive Bayes standardized: {acc_standard}\\n\")\n",
    "\n",
    "# Remove outliers\n",
    "train_set = np.concatenate([X_train, y_train[:,None]], axis=1) # Add y_train array as last column of X_train 2d array\n",
    "df = pd.DataFrame(train_set)                                   # Create pandas dataframe of features and labels\n",
    "length = len(train_set[0]) - 1\n",
    "for i in range(length):                                        # For each feature in the set, remove each row that has \n",
    "    df[i] = df[i].astype(int)                                  # at least one feature that is below the 1-percentile or\n",
    "    q_u = df[i].quantile(0.95)                                 # it is above the 99th percentile\n",
    "    q_l = df[i].quantile(0.05)\n",
    "    df = df[df[i] <= q_u]\n",
    "    df = df[df[i] >= q_l]\n",
    "\n",
    "X_train = df.iloc[:, :-1].to_numpy()\n",
    "y_train = df.iloc[:, -1].to_numpy()\n",
    "X_train_minmax = scaler_minmax.fit_transform(X_train)\n",
    "X_test_minmax = scaler_minmax.fit_transform(X_test)\n",
    "X_train_standard = scaler_standard.fit_transform(X_train)\n",
    "X_test_standard = scaler_standard.fit_transform(X_test)\n",
    "\n",
    "print(\"Running model without outliers present: \")\n",
    "\n",
    "# Run gaussian naive bayes\n",
    "y_pred, model = naivebayes.run_naive_bayes(X_train, X_test, y_train)\n",
    "y_pred_minmax, model = naivebayes.run_naive_bayes(X_train_minmax, X_test_minmax, y_train)\n",
    "y_pred_standard, model = naivebayes.run_naive_bayes(X_train_standard, X_test_standard, y_train)\n",
    "acc = metrics.accuracy_scorer(y_test, y_pred)\n",
    "acc_minmax = metrics.accuracy_scorer(y_test, y_pred_minmax)\n",
    "acc_standard = metrics.accuracy_scorer(y_test, y_pred_standard)\n",
    "print(f\"Accuracy Gaussian Naive Bayes: {acc}\")\n",
    "print(f\"Accuracy Gaussian Naive Bayes min max normalized: {acc_minmax}\")\n",
    "print(f\"Accuracy Gaussian Naive Bayes standardized: {acc_standard}\")"
   ],
   "outputs": [],
   "execution_count": null
  }
 ],
 "metadata": {
  "kernelspec": {
   "display_name": "Python 3",
   "language": "python",
   "name": "python3"
  },
  "language_info": {
   "codemirror_mode": {
    "name": "ipython",
    "version": 2
   },
   "file_extension": ".py",
   "mimetype": "text/x-python",
   "name": "python",
   "nbconvert_exporter": "python",
   "pygments_lexer": "ipython2",
   "version": "2.7.6"
  }
 },
 "nbformat": 4,
 "nbformat_minor": 5
}
