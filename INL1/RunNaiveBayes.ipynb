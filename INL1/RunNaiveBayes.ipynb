{
 "cells": [
  {
   "cell_type": "code",
   "id": "initial_id",
   "metadata": {
    "collapsed": true,
    "ExecuteTime": {
     "end_time": "2024-11-17T16:56:46.310607Z",
     "start_time": "2024-11-17T16:56:46.087826Z"
    }
   },
   "source": [
    "from get_samples import split_data\n",
    "from sklearn import metrics\n",
    "import normalize\n",
    "import naivebayes\n",
    "\n",
    "X_train, X_test, y_train, y_test = split_data()\n",
    "\n",
    "\n",
    "not_normalized = (X_train, X_test)\n",
    "mean_normalized = normalize.mean_normalization(not_normalized)\n",
    "min_max_normalized = normalize.min_max_normalization(not_normalized)\n",
    "\n",
    "# Run gaussian naive bayes\n",
    "\n",
    "y_pred_not_normalized = naivebayes.run_gaussian_naive_bayes(not_normalized[0], not_normalized[1], y_train)\n",
    "y_pred_mean_normalized = naivebayes.run_gaussian_naive_bayes(mean_normalized[0], mean_normalized[1], y_train)\n",
    "y_pred_min_max_normalized = naivebayes.run_gaussian_naive_bayes(min_max_normalized[0], min_max_normalized[1], y_train)\n",
    "\n",
    "acc_g_not_normalized = metrics.accuracy_score(y_test, y_pred_not_normalized)\n",
    "acc_g_mean_normalized = metrics.accuracy_score(y_test, y_pred_mean_normalized)\n",
    "acc_g_min_max_normalized = metrics.accuracy_score(y_test, y_pred_min_max_normalized)\n",
    "\n",
    "print(f\"Accuracy Gaussian Naive Bayes not normalized: {acc_g_not_normalized}\")\n",
    "print(f\"Accuracy Gaussian Naive Bayes mean normalized: {acc_g_mean_normalized}\")\n",
    "print(f\"Accuracy Gaussian Naive Bayes min-max normalized: {acc_g_min_max_normalized}\")"
   ],
   "outputs": [
    {
     "name": "stdout",
     "output_type": "stream",
     "text": [
      "Accuracy Gaussian Naive Bayes not normalized: 0.40510062456627344\n",
      "Accuracy Gaussian Naive Bayes mean normalized: 0.40544760582928524\n",
      "Accuracy Gaussian Naive Bayes min-max normalized: 0.40527411519777934\n"
     ]
    }
   ],
   "execution_count": 2
  }
 ],
 "metadata": {
  "kernelspec": {
   "display_name": "Python 3",
   "language": "python",
   "name": "python3"
  },
  "language_info": {
   "codemirror_mode": {
    "name": "ipython",
    "version": 2
   },
   "file_extension": ".py",
   "mimetype": "text/x-python",
   "name": "python",
   "nbconvert_exporter": "python",
   "pygments_lexer": "ipython2",
   "version": "2.7.6"
  }
 },
 "nbformat": 4,
 "nbformat_minor": 5
}
