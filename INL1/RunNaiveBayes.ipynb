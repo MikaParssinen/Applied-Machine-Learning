{
 "cells": [
  {
   "cell_type": "code",
   "id": "initial_id",
   "metadata": {
    "collapsed": true,
    "ExecuteTime": {
     "end_time": "2024-11-17T19:30:15.156314Z",
     "start_time": "2024-11-17T19:30:13.228058Z"
    }
   },
   "source": [
    "from get_samples import split_data\n",
    "from sklearn import metrics\n",
    "import normalize\n",
    "import naivebayes\n",
    "\n",
    "X_train, X_test, y_train, y_test = split_data()\n",
    "\n",
    "not_normalized = (X_train, X_test)\n",
    "mean_normalized = normalize.mean_normalization(not_normalized)\n",
    "min_max_normalized = normalize.min_max_normalization(not_normalized)\n",
    "\n",
    "# Run gaussian naive bayes\n",
    "\n",
    "y_pred_not_normalized = naivebayes.run_naive_bayes(X_train, X_test, y_train, \"gaussian\")\n",
    "y_pred_mean_normalized = naivebayes.run_naive_bayes(mean_normalized[0], mean_normalized[1], y_train, \"gaussian\")\n",
    "y_pred_min_max_normalized = naivebayes.run_naive_bayes(min_max_normalized[0], min_max_normalized[1], y_train, \"gaussian\")\n",
    "\n",
    "acc_g_not_normalized = metrics.accuracy_score(y_test, y_pred_not_normalized)\n",
    "acc_g_mean_normalized = metrics.accuracy_score(y_test, y_pred_mean_normalized)\n",
    "acc_g_min_max_normalized = metrics.accuracy_score(y_test, y_pred_min_max_normalized)\n",
    "\n",
    "print(f\"Accuracy Gaussian Naive Bayes not normalized: {acc_g_not_normalized}\")\n",
    "print(f\"Accuracy Gaussian Naive Bayes mean normalized: {acc_g_mean_normalized}\")\n",
    "print(f\"Accuracy Gaussian Naive Bayes min-max normalized: {acc_g_min_max_normalized}\")\n",
    "\n",
    "# Run complement naive bayes\n",
    "\n",
    "y_pred_not_normalized = naivebayes.run_naive_bayes(not_normalized[0], not_normalized[1], y_train, \"complement\")\n",
    "y_pred_min_max_normalized = naivebayes.run_naive_bayes(min_max_normalized[0], min_max_normalized[1], y_train, \"complement\")\n",
    "\n",
    "acc_g_not_normalized = metrics.accuracy_score(y_test, y_pred_not_normalized)\n",
    "acc_g_min_max_normalized = metrics.accuracy_score(y_test, y_pred_min_max_normalized)\n",
    "\n",
    "print(f\"Accuracy Complement Naive Bayes not normalized: {acc_g_not_normalized}\")\n",
    "print(f\"Accuracy Complement Naive Bayes min-max normalized: {acc_g_min_max_normalized}\")\n",
    "\n",
    "# Run multinomial naive bayes\n",
    "\n",
    "y_pred_not_normalized = naivebayes.run_naive_bayes(not_normalized[0], not_normalized[1], y_train, \"multinomial\")\n",
    "y_pred_min_max_normalized = naivebayes.run_naive_bayes(min_max_normalized[0], min_max_normalized[1], y_train, \"multinomial\")\n",
    "\n",
    "acc_g_not_normalized = metrics.accuracy_score(y_test, y_pred_not_normalized)\n",
    "acc_g_min_max_normalized = metrics.accuracy_score(y_test, y_pred_min_max_normalized)\n",
    "\n",
    "print(f\"Accuracy Multinomial Naive Bayes not normalized: {acc_g_not_normalized}\")\n",
    "print(f\"Accuracy Multinomial Naive Bayes min-max normalized: {acc_g_min_max_normalized}\")\n",
    "\n",
    "# Run bernoulli naive bayes\n",
    "\n",
    "y_pred_not_normalized = naivebayes.run_naive_bayes(not_normalized[0], not_normalized[1], y_train, \"bernoulli\")\n",
    "y_pred_mean_normalized = naivebayes.run_naive_bayes(mean_normalized[0], mean_normalized[1], y_train, \"bernoulli\")\n",
    "y_pred_min_max_normalized = naivebayes.run_naive_bayes(min_max_normalized[0], min_max_normalized[1], y_train, \"bernoulli\")\n",
    "\n",
    "acc_g_not_normalized = metrics.accuracy_score(y_test, y_pred_not_normalized)\n",
    "acc_g_mean_normalized = metrics.accuracy_score(y_test, y_pred_mean_normalized)\n",
    "acc_g_min_max_normalized = metrics.accuracy_score(y_test, y_pred_min_max_normalized)\n",
    "\n",
    "print(f\"Accuracy Bernoulli Naive Bayes not normalized: {acc_g_not_normalized}\")\n",
    "print(f\"Accuracy Bernoulli Naive Bayes mean normalized: {acc_g_mean_normalized}\")\n",
    "print(f\"Accuracy Bernoulli Naive Bayes min-max normalized: {acc_g_min_max_normalized}\")"
   ],
   "outputs": [
    {
     "name": "stdout",
     "output_type": "stream",
     "text": [
      "Accuracy Gaussian Naive Bayes not normalized: 0.39848569826135727\n",
      "Accuracy Gaussian Naive Bayes mean normalized: 0.4003435221536736\n",
      "Accuracy Gaussian Naive Bayes min-max normalized: 0.4099481211441391\n",
      "Accuracy Complement Naive Bayes not normalized: 0.35147924845765566\n",
      "Accuracy Complement Naive Bayes min-max normalized: 0.3407178911946158\n",
      "Accuracy Multinomial Naive Bayes not normalized: 0.40451486259113856\n",
      "Accuracy Multinomial Naive Bayes min-max normalized: 0.34113853056646104\n",
      "Accuracy Bernoulli Naive Bayes not normalized: 0.125350532809871\n",
      "Accuracy Bernoulli Naive Bayes mean normalized: 0.37682277061132924\n",
      "Accuracy Bernoulli Naive Bayes min-max normalized: 0.1255959057767807\n"
     ]
    }
   ],
   "execution_count": 1
  }
 ],
 "metadata": {
  "kernelspec": {
   "display_name": "Python 3",
   "language": "python",
   "name": "python3"
  },
  "language_info": {
   "codemirror_mode": {
    "name": "ipython",
    "version": 2
   },
   "file_extension": ".py",
   "mimetype": "text/x-python",
   "name": "python",
   "nbconvert_exporter": "python",
   "pygments_lexer": "ipython2",
   "version": "2.7.6"
  }
 },
 "nbformat": 4,
 "nbformat_minor": 5
}
