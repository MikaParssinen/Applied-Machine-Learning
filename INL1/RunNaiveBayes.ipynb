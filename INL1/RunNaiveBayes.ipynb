{
 "cells": [
  {
   "cell_type": "code",
   "id": "initial_id",
   "metadata": {
    "collapsed": true,
    "ExecuteTime": {
     "end_time": "2024-11-26T17:19:45.238979Z",
     "start_time": "2024-11-26T17:19:41.001709Z"
    }
   },
   "source": [
    "import pandas as pd\n",
    "import numpy as np\n",
    "\n",
    "from train_test_split import split_data\n",
    "from sklearn.preprocessing import StandardScaler\n",
    "from sklearn.preprocessing import MinMaxScaler\n",
    "import naivebayes\n",
    "\n",
    "X_train, X_test, y_train, y_test = split_data()\n",
    "scaler_minmax = MinMaxScaler()\n",
    "scaler_standard = StandardScaler()\n",
    "X_train_minmax = scaler_minmax.fit_transform(X_train)\n",
    "X_test_minmax = scaler_minmax.fit_transform(X_test)\n",
    "X_train_standard = scaler_standard.fit_transform(X_train)\n",
    "X_test_standard = scaler_standard.fit_transform(X_test)\n",
    "\n",
    "print(\"Running model with outliers present: \")\n",
    "\n",
    "# Run gaussian naive bayes\n",
    "y_pred = naivebayes.run_naive_bayes(X_train, X_test, y_train)\n",
    "y_pred_minmax = naivebayes.run_naive_bayes(X_train_minmax, X_test_minmax, y_train)\n",
    "y_pred_standard = naivebayes.run_naive_bayes(X_train_standard, X_test_standard, y_train)\n",
    "acc = naivebayes.accuracy_scorer(y_test, y_pred)\n",
    "acc_minmax = naivebayes.accuracy_scorer(y_test, y_pred_minmax)\n",
    "acc_standard = naivebayes.accuracy_scorer(y_test, y_pred_standard)\n",
    "print(f\"Accuracy Gaussian Naive Bayes: {acc}\")\n",
    "print(f\"Accuracy Gaussian Naive Bayes min max normalized: {acc_minmax}\")\n",
    "print(f\"Accuracy Gaussian Naive Bayes standardized: {acc_standard}\\n\")\n",
    "\n",
    "# Remove outliers\n",
    "train_set = np.concatenate([X_train, y_train[:,None]], axis=1) # Add y_train array as last column of X_train 2d array\n",
    "df = pd.DataFrame(train_set)                                   # Create pandas dataframe of features and labels\n",
    "length = len(train_set[0]) - 1\n",
    "for i in range(length):                                        # For each feature in the set, remove each row that has \n",
    "    df[i] = df[i].astype(int)                                  # at least one feature that is below the 1-percentile or\n",
    "    q_u = df[i].quantile(0.99)                                 # it is above the 99th percentile\n",
    "    q_l = df[i].quantile(0.01)\n",
    "    df = df[df[i] <= q_u]\n",
    "    df = df[df[i] >= q_l]\n",
    "\n",
    "X_train = df.iloc[:, :-1].to_numpy()\n",
    "y_train = df.iloc[:, -1].to_numpy()\n",
    "X_train_minmax = scaler_minmax.fit_transform(X_train)\n",
    "X_test_minmax = scaler_minmax.fit_transform(X_test)\n",
    "X_train_standard = scaler_standard.fit_transform(X_train)\n",
    "X_test_standard = scaler_standard.fit_transform(X_test)\n",
    "\n",
    "print(\"Running model without outliers present: \")\n",
    "\n",
    "# Run gaussian naive bayes\n",
    "y_pred = naivebayes.run_naive_bayes(X_train, X_test, y_train)\n",
    "y_pred_minmax = naivebayes.run_naive_bayes(X_train_minmax, X_test_minmax, y_train)\n",
    "y_pred_standard = naivebayes.run_naive_bayes(X_train_standard, X_test_standard, y_train)\n",
    "acc = naivebayes.accuracy_scorer(y_test, y_pred)\n",
    "acc_minmax = naivebayes.accuracy_scorer(y_test, y_pred_minmax)\n",
    "acc_standard = naivebayes.accuracy_scorer(y_test, y_pred_standard)\n",
    "print(f\"Accuracy Gaussian Naive Bayes: {acc}\")\n",
    "print(f\"Accuracy Gaussian Naive Bayes min max normalized: {acc_minmax}\")\n",
    "print(f\"Accuracy Gaussian Naive Bayes standardized: {acc_standard}\")"
   ],
   "outputs": [
    {
     "name": "stdout",
     "output_type": "stream",
     "text": [
      "Running model with outliers present: \n",
      "Accuracy Gaussian Naive Bayes: 0.6311501096834848\n",
      "Accuracy Gaussian Naive Bayes min max normalized: 0.6345973049200877\n",
      "Accuracy Gaussian Naive Bayes standardized: 0.6157944218113444\n",
      "\n",
      "Running model without outliers present: \n",
      "Accuracy Gaussian Naive Bayes: 0.6521466624882482\n",
      "Accuracy Gaussian Naive Bayes min max normalized: 0.6458790347853337\n",
      "Accuracy Gaussian Naive Bayes standardized: 0.6302099655280476\n"
     ]
    }
   ],
   "execution_count": 1
  }
 ],
 "metadata": {
  "kernelspec": {
   "display_name": "Python 3",
   "language": "python",
   "name": "python3"
  },
  "language_info": {
   "codemirror_mode": {
    "name": "ipython",
    "version": 2
   },
   "file_extension": ".py",
   "mimetype": "text/x-python",
   "name": "python",
   "nbconvert_exporter": "python",
   "pygments_lexer": "ipython2",
   "version": "2.7.6"
  }
 },
 "nbformat": 4,
 "nbformat_minor": 5
}
