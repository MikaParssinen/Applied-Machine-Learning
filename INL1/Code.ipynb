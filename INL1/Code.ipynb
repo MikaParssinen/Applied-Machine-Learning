{
 "cells": [
  {
   "metadata": {
    "collapsed": true,
    "ExecuteTime": {
     "end_time": "2024-11-13T13:32:36.125049Z",
     "start_time": "2024-11-13T13:32:36.118727Z"
    }
   },
   "cell_type": "code",
   "source": [
    "import pandas as pd\n"
   ],
   "id": "initial_id",
   "outputs": [],
   "execution_count": 3
  },
  {
   "metadata": {
    "ExecuteTime": {
     "end_time": "2024-11-13T13:32:36.443137Z",
     "start_time": "2024-11-13T13:32:36.129702Z"
    }
   },
   "cell_type": "code",
   "source": [
    "df = pd.read_csv(\"./FIFA18_players_database/CompleteDataset.csv\", low_memory=False)\n",
    "cols = [6]\n",
    "cols.extend(range(13, 47))\n",
    "X = df.iloc[:, cols]\n",
    "y = df.iloc[:, 63]\n",
    "\n",
    "df.dropna(inplace=True)\n",
    "df.drop_duplicates(inplace=True)"
   ],
   "id": "762c631cc55f2953",
   "outputs": [],
   "execution_count": 4
  },
  {
   "metadata": {
    "ExecuteTime": {
     "end_time": "2024-11-13T13:32:36.452358Z",
     "start_time": "2024-11-13T13:32:36.445480Z"
    }
   },
   "cell_type": "code",
   "source": [
    "y.head()"
   ],
   "id": "313f50c1603207e5",
   "outputs": [
    {
     "data": {
      "text/plain": "0    ST LW \n1       RW \n2       LW \n3       ST \n4       GK \nName: Preferred Positions, dtype: object"
     },
     "execution_count": 5,
     "metadata": {},
     "output_type": "execute_result"
    }
   ],
   "execution_count": 5
  },
  {
   "metadata": {
    "ExecuteTime": {
     "end_time": "2024-11-13T13:32:36.493067Z",
     "start_time": "2024-11-13T13:32:36.453469Z"
    }
   },
   "cell_type": "code",
   "outputs": [
    {
     "name": "stdout",
     "output_type": "stream",
     "text": [
      "<class 'pandas.core.frame.DataFrame'>\n",
      "Index: 15746 entries, 0 to 17980\n",
      "Data columns (total 75 columns):\n",
      " #   Column               Non-Null Count  Dtype  \n",
      "---  ------               --------------  -----  \n",
      " 0   Unnamed: 0           15746 non-null  int64  \n",
      " 1   Name                 15746 non-null  object \n",
      " 2   Age                  15746 non-null  int64  \n",
      " 3   Photo                15746 non-null  object \n",
      " 4   Nationality          15746 non-null  object \n",
      " 5   Flag                 15746 non-null  object \n",
      " 6   Overall              15746 non-null  int64  \n",
      " 7   Potential            15746 non-null  int64  \n",
      " 8   Club                 15746 non-null  object \n",
      " 9   Club Logo            15746 non-null  object \n",
      " 10  Value                15746 non-null  object \n",
      " 11  Wage                 15746 non-null  object \n",
      " 12  Special              15746 non-null  int64  \n",
      " 13  Acceleration         15746 non-null  object \n",
      " 14  Aggression           15746 non-null  object \n",
      " 15  Agility              15746 non-null  object \n",
      " 16  Balance              15746 non-null  object \n",
      " 17  Ball control         15746 non-null  object \n",
      " 18  Composure            15746 non-null  object \n",
      " 19  Crossing             15746 non-null  object \n",
      " 20  Curve                15746 non-null  object \n",
      " 21  Dribbling            15746 non-null  object \n",
      " 22  Finishing            15746 non-null  object \n",
      " 23  Free kick accuracy   15746 non-null  object \n",
      " 24  GK diving            15746 non-null  object \n",
      " 25  GK handling          15746 non-null  object \n",
      " 26  GK kicking           15746 non-null  object \n",
      " 27  GK positioning       15746 non-null  object \n",
      " 28  GK reflexes          15746 non-null  object \n",
      " 29  Heading accuracy     15746 non-null  object \n",
      " 30  Interceptions        15746 non-null  object \n",
      " 31  Jumping              15746 non-null  object \n",
      " 32  Long passing         15746 non-null  object \n",
      " 33  Long shots           15746 non-null  object \n",
      " 34  Marking              15746 non-null  object \n",
      " 35  Penalties            15746 non-null  object \n",
      " 36  Positioning          15746 non-null  object \n",
      " 37  Reactions            15746 non-null  object \n",
      " 38  Short passing        15746 non-null  object \n",
      " 39  Shot power           15746 non-null  object \n",
      " 40  Sliding tackle       15746 non-null  object \n",
      " 41  Sprint speed         15746 non-null  object \n",
      " 42  Stamina              15746 non-null  object \n",
      " 43  Standing tackle      15746 non-null  object \n",
      " 44  Strength             15746 non-null  object \n",
      " 45  Vision               15746 non-null  object \n",
      " 46  Volleys              15746 non-null  object \n",
      " 47  CAM                  15746 non-null  float64\n",
      " 48  CB                   15746 non-null  float64\n",
      " 49  CDM                  15746 non-null  float64\n",
      " 50  CF                   15746 non-null  float64\n",
      " 51  CM                   15746 non-null  float64\n",
      " 52  ID                   15746 non-null  int64  \n",
      " 53  LAM                  15746 non-null  float64\n",
      " 54  LB                   15746 non-null  float64\n",
      " 55  LCB                  15746 non-null  float64\n",
      " 56  LCM                  15746 non-null  float64\n",
      " 57  LDM                  15746 non-null  float64\n",
      " 58  LF                   15746 non-null  float64\n",
      " 59  LM                   15746 non-null  float64\n",
      " 60  LS                   15746 non-null  float64\n",
      " 61  LW                   15746 non-null  float64\n",
      " 62  LWB                  15746 non-null  float64\n",
      " 63  Preferred Positions  15746 non-null  object \n",
      " 64  RAM                  15746 non-null  float64\n",
      " 65  RB                   15746 non-null  float64\n",
      " 66  RCB                  15746 non-null  float64\n",
      " 67  RCM                  15746 non-null  float64\n",
      " 68  RDM                  15746 non-null  float64\n",
      " 69  RF                   15746 non-null  float64\n",
      " 70  RM                   15746 non-null  float64\n",
      " 71  RS                   15746 non-null  float64\n",
      " 72  RW                   15746 non-null  float64\n",
      " 73  RWB                  15746 non-null  float64\n",
      " 74  ST                   15746 non-null  float64\n",
      "dtypes: float64(26), int64(6), object(43)\n",
      "memory usage: 9.1+ MB\n"
     ]
    }
   ],
   "execution_count": 6,
   "source": [
    "df.info()"
   ],
   "id": "4a148f0ca06a5612"
  },
  {
   "cell_type": "code",
   "outputs": [],
   "source": [
    "df = df.dropna(subset=['Preferred Positions'])"
   ],
   "metadata": {
    "collapsed": false,
    "ExecuteTime": {
     "end_time": "2024-11-13T13:32:36.506251Z",
     "start_time": "2024-11-13T13:32:36.496738Z"
    }
   },
   "id": "de936ebef0b55b24",
   "execution_count": 7
  },
  {
   "cell_type": "code",
   "outputs": [
    {
     "data": {
      "text/plain": "   Unnamed: 0               Name  Age  \\\n0           0  Cristiano Ronaldo   32   \n1           1           L. Messi   30   \n\n                                             Photo Nationality  \\\n0   https://cdn.sofifa.org/48/18/players/20801.png    Portugal   \n1  https://cdn.sofifa.org/48/18/players/158023.png   Argentina   \n\n                                  Flag  Overall  Potential            Club  \\\n0  https://cdn.sofifa.org/flags/38.png       94         94  Real Madrid CF   \n1  https://cdn.sofifa.org/flags/52.png       93         93    FC Barcelona   \n\n                                    Club Logo  ...    RB   RCB   RCM   RDM  \\\n0  https://cdn.sofifa.org/24/18/teams/243.png  ...  61.0  53.0  82.0  62.0   \n1  https://cdn.sofifa.org/24/18/teams/241.png  ...  57.0  45.0  84.0  59.0   \n\n     RF    RM    RS    RW   RWB    ST  \n0  91.0  89.0  92.0  91.0  66.0  92.0  \n1  92.0  90.0  88.0  91.0  62.0  88.0  \n\n[2 rows x 75 columns]",
      "text/html": "<div>\n<style scoped>\n    .dataframe tbody tr th:only-of-type {\n        vertical-align: middle;\n    }\n\n    .dataframe tbody tr th {\n        vertical-align: top;\n    }\n\n    .dataframe thead th {\n        text-align: right;\n    }\n</style>\n<table border=\"1\" class=\"dataframe\">\n  <thead>\n    <tr style=\"text-align: right;\">\n      <th></th>\n      <th>Unnamed: 0</th>\n      <th>Name</th>\n      <th>Age</th>\n      <th>Photo</th>\n      <th>Nationality</th>\n      <th>Flag</th>\n      <th>Overall</th>\n      <th>Potential</th>\n      <th>Club</th>\n      <th>Club Logo</th>\n      <th>...</th>\n      <th>RB</th>\n      <th>RCB</th>\n      <th>RCM</th>\n      <th>RDM</th>\n      <th>RF</th>\n      <th>RM</th>\n      <th>RS</th>\n      <th>RW</th>\n      <th>RWB</th>\n      <th>ST</th>\n    </tr>\n  </thead>\n  <tbody>\n    <tr>\n      <th>0</th>\n      <td>0</td>\n      <td>Cristiano Ronaldo</td>\n      <td>32</td>\n      <td>https://cdn.sofifa.org/48/18/players/20801.png</td>\n      <td>Portugal</td>\n      <td>https://cdn.sofifa.org/flags/38.png</td>\n      <td>94</td>\n      <td>94</td>\n      <td>Real Madrid CF</td>\n      <td>https://cdn.sofifa.org/24/18/teams/243.png</td>\n      <td>...</td>\n      <td>61.0</td>\n      <td>53.0</td>\n      <td>82.0</td>\n      <td>62.0</td>\n      <td>91.0</td>\n      <td>89.0</td>\n      <td>92.0</td>\n      <td>91.0</td>\n      <td>66.0</td>\n      <td>92.0</td>\n    </tr>\n    <tr>\n      <th>1</th>\n      <td>1</td>\n      <td>L. Messi</td>\n      <td>30</td>\n      <td>https://cdn.sofifa.org/48/18/players/158023.png</td>\n      <td>Argentina</td>\n      <td>https://cdn.sofifa.org/flags/52.png</td>\n      <td>93</td>\n      <td>93</td>\n      <td>FC Barcelona</td>\n      <td>https://cdn.sofifa.org/24/18/teams/241.png</td>\n      <td>...</td>\n      <td>57.0</td>\n      <td>45.0</td>\n      <td>84.0</td>\n      <td>59.0</td>\n      <td>92.0</td>\n      <td>90.0</td>\n      <td>88.0</td>\n      <td>91.0</td>\n      <td>62.0</td>\n      <td>88.0</td>\n    </tr>\n  </tbody>\n</table>\n<p>2 rows × 75 columns</p>\n</div>"
     },
     "execution_count": 8,
     "metadata": {},
     "output_type": "execute_result"
    }
   ],
   "source": [
    "df.head(2)"
   ],
   "metadata": {
    "collapsed": false,
    "ExecuteTime": {
     "end_time": "2024-11-13T13:32:36.522756Z",
     "start_time": "2024-11-13T13:32:36.507507Z"
    }
   },
   "id": "7d3b39df674440c4",
   "execution_count": 8
  },
  {
   "cell_type": "code",
   "outputs": [],
   "source": [],
   "metadata": {
    "collapsed": false,
    "ExecuteTime": {
     "end_time": "2024-11-13T13:32:36.526186Z",
     "start_time": "2024-11-13T13:32:36.524009Z"
    }
   },
   "id": "2d78f7e02e36b268",
   "execution_count": 8
  }
 ],
 "metadata": {
  "kernelspec": {
   "display_name": "Python 3",
   "language": "python",
   "name": "python3"
  },
  "language_info": {
   "codemirror_mode": {
    "name": "ipython",
    "version": 2
   },
   "file_extension": ".py",
   "mimetype": "text/x-python",
   "name": "python",
   "nbconvert_exporter": "python",
   "pygments_lexer": "ipython2",
   "version": "2.7.6"
  }
 },
 "nbformat": 4,
 "nbformat_minor": 5
}
