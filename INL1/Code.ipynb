{
 "cells": [
  {
   "metadata": {
    "ExecuteTime": {
     "end_time": "2024-11-16T10:14:38.266949Z",
     "start_time": "2024-11-16T10:14:38.204420Z"
    }
   },
   "cell_type": "code",
   "source": [
    "from get_samples import split_data\n",
    "\n",
    "X_train, X_test, y_train, y_test = split_data()"
   ],
   "id": "313f50c1603207e5",
   "outputs": [],
   "execution_count": 1
  },
  {
   "metadata": {
    "ExecuteTime": {
     "end_time": "2024-11-16T10:14:38.283357Z",
     "start_time": "2024-11-16T10:14:38.268645Z"
    }
   },
   "cell_type": "code",
   "source": [
    "X_train.head()"
   ],
   "id": "b288287f8cb972d7",
   "outputs": [
    {
     "data": {
      "text/plain": "   Acceleration  Aggression  Agility  Balance  Ball control  Composure  \\\n0            44          21       38       22            25         23   \n1            84          49       79       74            77         71   \n2            67          68       72       70            66         72   \n3            57          68       52       57            49         52   \n4            38          39       67       62            23         66   \n\n   Crossing  Curve  Dribbling  Finishing  ...  Reactions  Short passing  \\\n0        15     16         17         16  ...         55             24   \n1        70     60         74         71  ...         70             73   \n2        64     56         62         50  ...         69             68   \n3        49     35         49         25  ...         48             47   \n4        19     15         17         14  ...         70             30   \n\n   Shot power  Sliding tackle  Sprint speed  Stamina  Standing tackle  \\\n0          20              16            49       38               11   \n1          70              42            82       59               41   \n2          68              68            66       70               72   \n3          37              54            63       60               57   \n4          16              13            35       31               19   \n\n   Strength  Vision  Volleys  \n0        73      23       11  \n1        63      53       71  \n2        72      62       53  \n3        69      32       26  \n4        64      69       13  \n\n[5 rows x 29 columns]",
      "text/html": "<div>\n<style scoped>\n    .dataframe tbody tr th:only-of-type {\n        vertical-align: middle;\n    }\n\n    .dataframe tbody tr th {\n        vertical-align: top;\n    }\n\n    .dataframe thead th {\n        text-align: right;\n    }\n</style>\n<table border=\"1\" class=\"dataframe\">\n  <thead>\n    <tr style=\"text-align: right;\">\n      <th></th>\n      <th>Acceleration</th>\n      <th>Aggression</th>\n      <th>Agility</th>\n      <th>Balance</th>\n      <th>Ball control</th>\n      <th>Composure</th>\n      <th>Crossing</th>\n      <th>Curve</th>\n      <th>Dribbling</th>\n      <th>Finishing</th>\n      <th>...</th>\n      <th>Reactions</th>\n      <th>Short passing</th>\n      <th>Shot power</th>\n      <th>Sliding tackle</th>\n      <th>Sprint speed</th>\n      <th>Stamina</th>\n      <th>Standing tackle</th>\n      <th>Strength</th>\n      <th>Vision</th>\n      <th>Volleys</th>\n    </tr>\n  </thead>\n  <tbody>\n    <tr>\n      <th>0</th>\n      <td>44</td>\n      <td>21</td>\n      <td>38</td>\n      <td>22</td>\n      <td>25</td>\n      <td>23</td>\n      <td>15</td>\n      <td>16</td>\n      <td>17</td>\n      <td>16</td>\n      <td>...</td>\n      <td>55</td>\n      <td>24</td>\n      <td>20</td>\n      <td>16</td>\n      <td>49</td>\n      <td>38</td>\n      <td>11</td>\n      <td>73</td>\n      <td>23</td>\n      <td>11</td>\n    </tr>\n    <tr>\n      <th>1</th>\n      <td>84</td>\n      <td>49</td>\n      <td>79</td>\n      <td>74</td>\n      <td>77</td>\n      <td>71</td>\n      <td>70</td>\n      <td>60</td>\n      <td>74</td>\n      <td>71</td>\n      <td>...</td>\n      <td>70</td>\n      <td>73</td>\n      <td>70</td>\n      <td>42</td>\n      <td>82</td>\n      <td>59</td>\n      <td>41</td>\n      <td>63</td>\n      <td>53</td>\n      <td>71</td>\n    </tr>\n    <tr>\n      <th>2</th>\n      <td>67</td>\n      <td>68</td>\n      <td>72</td>\n      <td>70</td>\n      <td>66</td>\n      <td>72</td>\n      <td>64</td>\n      <td>56</td>\n      <td>62</td>\n      <td>50</td>\n      <td>...</td>\n      <td>69</td>\n      <td>68</td>\n      <td>68</td>\n      <td>68</td>\n      <td>66</td>\n      <td>70</td>\n      <td>72</td>\n      <td>72</td>\n      <td>62</td>\n      <td>53</td>\n    </tr>\n    <tr>\n      <th>3</th>\n      <td>57</td>\n      <td>68</td>\n      <td>52</td>\n      <td>57</td>\n      <td>49</td>\n      <td>52</td>\n      <td>49</td>\n      <td>35</td>\n      <td>49</td>\n      <td>25</td>\n      <td>...</td>\n      <td>48</td>\n      <td>47</td>\n      <td>37</td>\n      <td>54</td>\n      <td>63</td>\n      <td>60</td>\n      <td>57</td>\n      <td>69</td>\n      <td>32</td>\n      <td>26</td>\n    </tr>\n    <tr>\n      <th>4</th>\n      <td>38</td>\n      <td>39</td>\n      <td>67</td>\n      <td>62</td>\n      <td>23</td>\n      <td>66</td>\n      <td>19</td>\n      <td>15</td>\n      <td>17</td>\n      <td>14</td>\n      <td>...</td>\n      <td>70</td>\n      <td>30</td>\n      <td>16</td>\n      <td>13</td>\n      <td>35</td>\n      <td>31</td>\n      <td>19</td>\n      <td>64</td>\n      <td>69</td>\n      <td>13</td>\n    </tr>\n  </tbody>\n</table>\n<p>5 rows × 29 columns</p>\n</div>"
     },
     "execution_count": 2,
     "metadata": {},
     "output_type": "execute_result"
    }
   ],
   "execution_count": 2
  },
  {
   "metadata": {
    "ExecuteTime": {
     "end_time": "2024-11-16T10:14:38.289420Z",
     "start_time": "2024-11-16T10:14:38.284318Z"
    }
   },
   "cell_type": "code",
   "source": [
    "X_test.head()"
   ],
   "id": "95738203278a461e",
   "outputs": [
    {
     "data": {
      "text/plain": "0     GK\n1    CAM\n2     RB\n3     CB\n4     GK\nName: Preferred Positions, dtype: object"
     },
     "execution_count": 3,
     "metadata": {},
     "output_type": "execute_result"
    }
   ],
   "execution_count": 3
  },
  {
   "metadata": {
    "ExecuteTime": {
     "end_time": "2024-11-16T10:14:38.303592Z",
     "start_time": "2024-11-16T10:14:38.291423Z"
    }
   },
   "cell_type": "code",
   "source": [
    "y_train.head()"
   ],
   "id": "a4d3bcda000cb332",
   "outputs": [
    {
     "data": {
      "text/plain": "       Acceleration  Aggression  Agility  Balance  Ball control  Composure  \\\n23052            75          61       77       70            63         62   \n23053            49          23       35       46            19         27   \n23054            68          82       61       61            72         73   \n23055            81          45       84       68            72         68   \n23056            67          69       34       54            46         43   \n\n       Crossing  Curve  Dribbling  Finishing  ...  Reactions  Short passing  \\\n23052        68     44         66         48  ...         57             66   \n23053        15     16         19         16  ...         53             25   \n23054        62     57         59         57  ...         81             76   \n23055        60     60         73         56  ...         69             64   \n23056        32     31         35         23  ...         48             54   \n\n       Shot power  Sliding tackle  Sprint speed  Stamina  Standing tackle  \\\n23052          67              45            76       77               50   \n23053          25              19            45       36               16   \n23054          72              74            70       87               70   \n23055          48              23            83       75               24   \n23056          36              59            67       55               63   \n\n       Strength  Vision  Volleys  \n23052        74      61       40  \n23053        57      28       18  \n23054        72      56       44  \n23055        65      49       53  \n23056        76      24       19  \n\n[5 rows x 29 columns]",
      "text/html": "<div>\n<style scoped>\n    .dataframe tbody tr th:only-of-type {\n        vertical-align: middle;\n    }\n\n    .dataframe tbody tr th {\n        vertical-align: top;\n    }\n\n    .dataframe thead th {\n        text-align: right;\n    }\n</style>\n<table border=\"1\" class=\"dataframe\">\n  <thead>\n    <tr style=\"text-align: right;\">\n      <th></th>\n      <th>Acceleration</th>\n      <th>Aggression</th>\n      <th>Agility</th>\n      <th>Balance</th>\n      <th>Ball control</th>\n      <th>Composure</th>\n      <th>Crossing</th>\n      <th>Curve</th>\n      <th>Dribbling</th>\n      <th>Finishing</th>\n      <th>...</th>\n      <th>Reactions</th>\n      <th>Short passing</th>\n      <th>Shot power</th>\n      <th>Sliding tackle</th>\n      <th>Sprint speed</th>\n      <th>Stamina</th>\n      <th>Standing tackle</th>\n      <th>Strength</th>\n      <th>Vision</th>\n      <th>Volleys</th>\n    </tr>\n  </thead>\n  <tbody>\n    <tr>\n      <th>23052</th>\n      <td>75</td>\n      <td>61</td>\n      <td>77</td>\n      <td>70</td>\n      <td>63</td>\n      <td>62</td>\n      <td>68</td>\n      <td>44</td>\n      <td>66</td>\n      <td>48</td>\n      <td>...</td>\n      <td>57</td>\n      <td>66</td>\n      <td>67</td>\n      <td>45</td>\n      <td>76</td>\n      <td>77</td>\n      <td>50</td>\n      <td>74</td>\n      <td>61</td>\n      <td>40</td>\n    </tr>\n    <tr>\n      <th>23053</th>\n      <td>49</td>\n      <td>23</td>\n      <td>35</td>\n      <td>46</td>\n      <td>19</td>\n      <td>27</td>\n      <td>15</td>\n      <td>16</td>\n      <td>19</td>\n      <td>16</td>\n      <td>...</td>\n      <td>53</td>\n      <td>25</td>\n      <td>25</td>\n      <td>19</td>\n      <td>45</td>\n      <td>36</td>\n      <td>16</td>\n      <td>57</td>\n      <td>28</td>\n      <td>18</td>\n    </tr>\n    <tr>\n      <th>23054</th>\n      <td>68</td>\n      <td>82</td>\n      <td>61</td>\n      <td>61</td>\n      <td>72</td>\n      <td>73</td>\n      <td>62</td>\n      <td>57</td>\n      <td>59</td>\n      <td>57</td>\n      <td>...</td>\n      <td>81</td>\n      <td>76</td>\n      <td>72</td>\n      <td>74</td>\n      <td>70</td>\n      <td>87</td>\n      <td>70</td>\n      <td>72</td>\n      <td>56</td>\n      <td>44</td>\n    </tr>\n    <tr>\n      <th>23055</th>\n      <td>81</td>\n      <td>45</td>\n      <td>84</td>\n      <td>68</td>\n      <td>72</td>\n      <td>68</td>\n      <td>60</td>\n      <td>60</td>\n      <td>73</td>\n      <td>56</td>\n      <td>...</td>\n      <td>69</td>\n      <td>64</td>\n      <td>48</td>\n      <td>23</td>\n      <td>83</td>\n      <td>75</td>\n      <td>24</td>\n      <td>65</td>\n      <td>49</td>\n      <td>53</td>\n    </tr>\n    <tr>\n      <th>23056</th>\n      <td>67</td>\n      <td>69</td>\n      <td>34</td>\n      <td>54</td>\n      <td>46</td>\n      <td>43</td>\n      <td>32</td>\n      <td>31</td>\n      <td>35</td>\n      <td>23</td>\n      <td>...</td>\n      <td>48</td>\n      <td>54</td>\n      <td>36</td>\n      <td>59</td>\n      <td>67</td>\n      <td>55</td>\n      <td>63</td>\n      <td>76</td>\n      <td>24</td>\n      <td>19</td>\n    </tr>\n  </tbody>\n</table>\n<p>5 rows × 29 columns</p>\n</div>"
     },
     "execution_count": 4,
     "metadata": {},
     "output_type": "execute_result"
    }
   ],
   "execution_count": 4
  },
  {
   "metadata": {
    "ExecuteTime": {
     "end_time": "2024-11-16T10:14:38.315169Z",
     "start_time": "2024-11-16T10:14:38.306738Z"
    }
   },
   "cell_type": "code",
   "source": [
    "y_test.head()"
   ],
   "id": "1dda6d942f1fcd4b",
   "outputs": [
    {
     "data": {
      "text/plain": "23052     CM\n23053     GK\n23054    CDM\n23055    CAM\n23056     CB\nName: Preferred Positions, dtype: object"
     },
     "execution_count": 5,
     "metadata": {},
     "output_type": "execute_result"
    }
   ],
   "execution_count": 5
  }
 ],
 "metadata": {
  "kernelspec": {
   "display_name": "Python 3",
   "language": "python",
   "name": "python3"
  },
  "language_info": {
   "codemirror_mode": {
    "name": "ipython",
    "version": 2
   },
   "file_extension": ".py",
   "mimetype": "text/x-python",
   "name": "python",
   "nbconvert_exporter": "python",
   "pygments_lexer": "ipython2",
   "version": "2.7.6"
  }
 },
 "nbformat": 4,
 "nbformat_minor": 5
}
