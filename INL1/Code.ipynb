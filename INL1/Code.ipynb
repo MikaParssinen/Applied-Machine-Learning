{
 "cells": [
  {
   "metadata": {
    "ExecuteTime": {
     "end_time": "2024-11-17T15:42:03.012665Z",
     "start_time": "2024-11-17T15:42:02.914137Z"
    }
   },
   "cell_type": "code",
   "source": [
    "from get_samples import split_data\n",
    "\n",
    "X_train, X_test, y_train, y_test = split_data()\n",
    "\n",
    "y_pred = run_gaussian_naive_bayes((X_train, X_test, y_train, y_test))\n",
    "\n",
    "acc = metrics.accuracy_score(y_test, y_pred) * 100\n",
    "\n",
    "print(f\"accuracy = {acc}\")"
   ],
   "id": "313f50c1603207e5",
   "outputs": [
    {
     "name": "stdout",
     "output_type": "stream",
     "text": [
      "accuracy = 40.18043025676614\n"
     ]
    }
   ],
   "execution_count": 7
  }
 ],
 "metadata": {
  "kernelspec": {
   "display_name": "Python 3",
   "language": "python",
   "name": "python3"
  },
  "language_info": {
   "codemirror_mode": {
    "name": "ipython",
    "version": 2
   },
   "file_extension": ".py",
   "mimetype": "text/x-python",
   "name": "python",
   "nbconvert_exporter": "python",
   "pygments_lexer": "ipython2",
   "version": "2.7.6"
  }
 },
 "nbformat": 4,
 "nbformat_minor": 5
}
