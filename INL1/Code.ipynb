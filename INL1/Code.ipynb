{
 "cells": [
  {
   "metadata": {
    "ExecuteTime": {
     "end_time": "2024-11-17T15:42:03.012665Z",
     "start_time": "2024-11-17T15:42:02.914137Z"
    }
   },
   "cell_type": "code",
   "source": [
    "from get_samples import split_data\n",
    "\n",
    "X_train, X_test, y_train, y_test = split_data()"
   ],
   "id": "313f50c1603207e5",
   "outputs": [],
   "execution_count": 1
  },
  {
   "metadata": {
    "ExecuteTime": {
     "end_time": "2024-11-17T14:08:06.806449Z",
     "start_time": "2024-11-17T14:08:06.789497Z"
    }
   },
   "cell_type": "code",
   "source": [
    "X_train.head()"
   ],
   "id": "b288287f8cb972d7",
   "outputs": [
    {
     "data": {
      "text/plain": "   Acceleration  Aggression   Agility   Balance  Ball control  Composure  \\\n0      0.450000    0.615385  0.525424  0.542373      0.625000   0.490196   \n1      0.583333    0.089744  0.593220  0.406780      0.645833   0.372549   \n2      0.616667    0.794872  0.559322  0.508475      0.729167   0.686275   \n3      0.266667    0.128205  0.338983  0.627119      0.062500   0.313725   \n4      0.516667    0.474359  0.372881  0.627119      0.291667   0.352941   \n\n   Crossing     Curve  Dribbling  Finishing  ...  Reactions  Short passing  \\\n0  0.523077  0.478873   0.529412   0.363636  ...   0.418605       0.674419   \n1  0.492308  0.394366   0.529412   0.753247  ...   0.558140       0.395349   \n2  0.846154  0.633803   0.509804   0.467532  ...   0.534884       0.651163   \n3  0.107692  0.239437   0.235294   0.662338  ...   0.325581       0.093023   \n4  0.523077  0.253521   0.254902   0.298701  ...   0.465116       0.441860   \n\n   Shot power  Sliding tackle  Sprint speed   Stamina  Standing tackle  \\\n0    0.431034          0.6875      0.229167  0.294118         0.695122   \n1    0.413793          0.1125      0.583333  0.549020         0.134146   \n2    0.396552          0.8750      0.604167  0.607843         0.804878   \n3    0.293103          0.0500      0.083333  0.196078         0.012195   \n4    0.293103          0.6250      0.250000  0.392157         0.634146   \n\n   Strength    Vision  Volleys  \n0  0.362069  0.625000   0.4500  \n1  0.551724  0.517857   0.5000  \n2  0.482759  0.339286   0.5000  \n3  0.206897  0.196429   0.3750  \n4  0.362069  0.000000   0.2625  \n\n[5 rows x 29 columns]",
      "text/html": "<div>\n<style scoped>\n    .dataframe tbody tr th:only-of-type {\n        vertical-align: middle;\n    }\n\n    .dataframe tbody tr th {\n        vertical-align: top;\n    }\n\n    .dataframe thead th {\n        text-align: right;\n    }\n</style>\n<table border=\"1\" class=\"dataframe\">\n  <thead>\n    <tr style=\"text-align: right;\">\n      <th></th>\n      <th>Acceleration</th>\n      <th>Aggression</th>\n      <th>Agility</th>\n      <th>Balance</th>\n      <th>Ball control</th>\n      <th>Composure</th>\n      <th>Crossing</th>\n      <th>Curve</th>\n      <th>Dribbling</th>\n      <th>Finishing</th>\n      <th>...</th>\n      <th>Reactions</th>\n      <th>Short passing</th>\n      <th>Shot power</th>\n      <th>Sliding tackle</th>\n      <th>Sprint speed</th>\n      <th>Stamina</th>\n      <th>Standing tackle</th>\n      <th>Strength</th>\n      <th>Vision</th>\n      <th>Volleys</th>\n    </tr>\n  </thead>\n  <tbody>\n    <tr>\n      <th>0</th>\n      <td>0.450000</td>\n      <td>0.615385</td>\n      <td>0.525424</td>\n      <td>0.542373</td>\n      <td>0.625000</td>\n      <td>0.490196</td>\n      <td>0.523077</td>\n      <td>0.478873</td>\n      <td>0.529412</td>\n      <td>0.363636</td>\n      <td>...</td>\n      <td>0.418605</td>\n      <td>0.674419</td>\n      <td>0.431034</td>\n      <td>0.6875</td>\n      <td>0.229167</td>\n      <td>0.294118</td>\n      <td>0.695122</td>\n      <td>0.362069</td>\n      <td>0.625000</td>\n      <td>0.4500</td>\n    </tr>\n    <tr>\n      <th>1</th>\n      <td>0.583333</td>\n      <td>0.089744</td>\n      <td>0.593220</td>\n      <td>0.406780</td>\n      <td>0.645833</td>\n      <td>0.372549</td>\n      <td>0.492308</td>\n      <td>0.394366</td>\n      <td>0.529412</td>\n      <td>0.753247</td>\n      <td>...</td>\n      <td>0.558140</td>\n      <td>0.395349</td>\n      <td>0.413793</td>\n      <td>0.1125</td>\n      <td>0.583333</td>\n      <td>0.549020</td>\n      <td>0.134146</td>\n      <td>0.551724</td>\n      <td>0.517857</td>\n      <td>0.5000</td>\n    </tr>\n    <tr>\n      <th>2</th>\n      <td>0.616667</td>\n      <td>0.794872</td>\n      <td>0.559322</td>\n      <td>0.508475</td>\n      <td>0.729167</td>\n      <td>0.686275</td>\n      <td>0.846154</td>\n      <td>0.633803</td>\n      <td>0.509804</td>\n      <td>0.467532</td>\n      <td>...</td>\n      <td>0.534884</td>\n      <td>0.651163</td>\n      <td>0.396552</td>\n      <td>0.8750</td>\n      <td>0.604167</td>\n      <td>0.607843</td>\n      <td>0.804878</td>\n      <td>0.482759</td>\n      <td>0.339286</td>\n      <td>0.5000</td>\n    </tr>\n    <tr>\n      <th>3</th>\n      <td>0.266667</td>\n      <td>0.128205</td>\n      <td>0.338983</td>\n      <td>0.627119</td>\n      <td>0.062500</td>\n      <td>0.313725</td>\n      <td>0.107692</td>\n      <td>0.239437</td>\n      <td>0.235294</td>\n      <td>0.662338</td>\n      <td>...</td>\n      <td>0.325581</td>\n      <td>0.093023</td>\n      <td>0.293103</td>\n      <td>0.0500</td>\n      <td>0.083333</td>\n      <td>0.196078</td>\n      <td>0.012195</td>\n      <td>0.206897</td>\n      <td>0.196429</td>\n      <td>0.3750</td>\n    </tr>\n    <tr>\n      <th>4</th>\n      <td>0.516667</td>\n      <td>0.474359</td>\n      <td>0.372881</td>\n      <td>0.627119</td>\n      <td>0.291667</td>\n      <td>0.352941</td>\n      <td>0.523077</td>\n      <td>0.253521</td>\n      <td>0.254902</td>\n      <td>0.298701</td>\n      <td>...</td>\n      <td>0.465116</td>\n      <td>0.441860</td>\n      <td>0.293103</td>\n      <td>0.6250</td>\n      <td>0.250000</td>\n      <td>0.392157</td>\n      <td>0.634146</td>\n      <td>0.362069</td>\n      <td>0.000000</td>\n      <td>0.2625</td>\n    </tr>\n  </tbody>\n</table>\n<p>5 rows × 29 columns</p>\n</div>"
     },
     "execution_count": 2,
     "metadata": {},
     "output_type": "execute_result"
    }
   ],
   "execution_count": 2
  },
  {
   "metadata": {
    "ExecuteTime": {
     "end_time": "2024-11-17T14:08:06.813911Z",
     "start_time": "2024-11-17T14:08:06.808902Z"
    }
   },
   "cell_type": "code",
   "source": [
    "X_test.head()"
   ],
   "id": "95738203278a461e",
   "outputs": [
    {
     "data": {
      "text/plain": "0    CAM\n1     RM\n2     CB\n3     ST\n4     LB\nName: Preferred Positions, dtype: object"
     },
     "execution_count": 3,
     "metadata": {},
     "output_type": "execute_result"
    }
   ],
   "execution_count": 3
  },
  {
   "metadata": {
    "ExecuteTime": {
     "end_time": "2024-11-17T14:08:06.827451Z",
     "start_time": "2024-11-17T14:08:06.815557Z"
    }
   },
   "cell_type": "code",
   "source": [
    "y_train.head()"
   ],
   "id": "a4d3bcda000cb332",
   "outputs": [
    {
     "data": {
      "text/plain": "       Acceleration  Aggression   Agility   Balance  Ball control  Composure  \\\n16652      0.700000    0.705128  0.796610  0.677966      0.645833   0.784314   \n16653      0.750000    0.538462  0.644068  0.762712      0.395833   0.215686   \n16654      0.566667    0.807692  0.627119  0.423729      0.520833   0.725490   \n16655      0.650000    0.384615  0.627119  0.593220      0.604167   0.529412   \n16656      0.533333    0.371795  0.644068  0.322034      0.520833   0.411765   \n\n       Crossing     Curve  Dribbling  Finishing  ...  Reactions  \\\n16652  0.630769  0.591549   0.666667   0.753247  ...   0.744186   \n16653  0.353846  0.422535   0.431373   0.636364  ...   0.348837   \n16654  0.461538  0.338028   0.294118   0.311688  ...   0.581395   \n16655  0.646154  0.450704   0.607843   0.701299  ...   0.511628   \n16656  0.523077  0.394366   0.549020   0.675325  ...   0.534884   \n\n       Short passing  Shot power  Sliding tackle  Sprint speed   Stamina  \\\n16652       0.558140    0.586207           0.175      0.666667  0.901961   \n16653       0.279070    0.379310           0.225      0.604167  0.333333   \n16654       0.604651    0.413793           0.650      0.104167  0.607843   \n16655       0.488372    0.500000           0.550      0.708333  0.666667   \n16656       0.441860    0.655172           0.075      0.375000  0.470588   \n\n       Standing tackle  Strength    Vision  Volleys  \n16652         0.353659  0.844828  0.571429   0.6750  \n16653         0.182927  0.379310  0.392857   0.4250  \n16654         0.670732  0.706897  0.500000   0.5125  \n16655         0.597561  0.379310  0.321429   0.5500  \n16656         0.109756  0.672414  0.678571   0.5125  \n\n[5 rows x 29 columns]",
      "text/html": "<div>\n<style scoped>\n    .dataframe tbody tr th:only-of-type {\n        vertical-align: middle;\n    }\n\n    .dataframe tbody tr th {\n        vertical-align: top;\n    }\n\n    .dataframe thead th {\n        text-align: right;\n    }\n</style>\n<table border=\"1\" class=\"dataframe\">\n  <thead>\n    <tr style=\"text-align: right;\">\n      <th></th>\n      <th>Acceleration</th>\n      <th>Aggression</th>\n      <th>Agility</th>\n      <th>Balance</th>\n      <th>Ball control</th>\n      <th>Composure</th>\n      <th>Crossing</th>\n      <th>Curve</th>\n      <th>Dribbling</th>\n      <th>Finishing</th>\n      <th>...</th>\n      <th>Reactions</th>\n      <th>Short passing</th>\n      <th>Shot power</th>\n      <th>Sliding tackle</th>\n      <th>Sprint speed</th>\n      <th>Stamina</th>\n      <th>Standing tackle</th>\n      <th>Strength</th>\n      <th>Vision</th>\n      <th>Volleys</th>\n    </tr>\n  </thead>\n  <tbody>\n    <tr>\n      <th>16652</th>\n      <td>0.700000</td>\n      <td>0.705128</td>\n      <td>0.796610</td>\n      <td>0.677966</td>\n      <td>0.645833</td>\n      <td>0.784314</td>\n      <td>0.630769</td>\n      <td>0.591549</td>\n      <td>0.666667</td>\n      <td>0.753247</td>\n      <td>...</td>\n      <td>0.744186</td>\n      <td>0.558140</td>\n      <td>0.586207</td>\n      <td>0.175</td>\n      <td>0.666667</td>\n      <td>0.901961</td>\n      <td>0.353659</td>\n      <td>0.844828</td>\n      <td>0.571429</td>\n      <td>0.6750</td>\n    </tr>\n    <tr>\n      <th>16653</th>\n      <td>0.750000</td>\n      <td>0.538462</td>\n      <td>0.644068</td>\n      <td>0.762712</td>\n      <td>0.395833</td>\n      <td>0.215686</td>\n      <td>0.353846</td>\n      <td>0.422535</td>\n      <td>0.431373</td>\n      <td>0.636364</td>\n      <td>...</td>\n      <td>0.348837</td>\n      <td>0.279070</td>\n      <td>0.379310</td>\n      <td>0.225</td>\n      <td>0.604167</td>\n      <td>0.333333</td>\n      <td>0.182927</td>\n      <td>0.379310</td>\n      <td>0.392857</td>\n      <td>0.4250</td>\n    </tr>\n    <tr>\n      <th>16654</th>\n      <td>0.566667</td>\n      <td>0.807692</td>\n      <td>0.627119</td>\n      <td>0.423729</td>\n      <td>0.520833</td>\n      <td>0.725490</td>\n      <td>0.461538</td>\n      <td>0.338028</td>\n      <td>0.294118</td>\n      <td>0.311688</td>\n      <td>...</td>\n      <td>0.581395</td>\n      <td>0.604651</td>\n      <td>0.413793</td>\n      <td>0.650</td>\n      <td>0.104167</td>\n      <td>0.607843</td>\n      <td>0.670732</td>\n      <td>0.706897</td>\n      <td>0.500000</td>\n      <td>0.5125</td>\n    </tr>\n    <tr>\n      <th>16655</th>\n      <td>0.650000</td>\n      <td>0.384615</td>\n      <td>0.627119</td>\n      <td>0.593220</td>\n      <td>0.604167</td>\n      <td>0.529412</td>\n      <td>0.646154</td>\n      <td>0.450704</td>\n      <td>0.607843</td>\n      <td>0.701299</td>\n      <td>...</td>\n      <td>0.511628</td>\n      <td>0.488372</td>\n      <td>0.500000</td>\n      <td>0.550</td>\n      <td>0.708333</td>\n      <td>0.666667</td>\n      <td>0.597561</td>\n      <td>0.379310</td>\n      <td>0.321429</td>\n      <td>0.5500</td>\n    </tr>\n    <tr>\n      <th>16656</th>\n      <td>0.533333</td>\n      <td>0.371795</td>\n      <td>0.644068</td>\n      <td>0.322034</td>\n      <td>0.520833</td>\n      <td>0.411765</td>\n      <td>0.523077</td>\n      <td>0.394366</td>\n      <td>0.549020</td>\n      <td>0.675325</td>\n      <td>...</td>\n      <td>0.534884</td>\n      <td>0.441860</td>\n      <td>0.655172</td>\n      <td>0.075</td>\n      <td>0.375000</td>\n      <td>0.470588</td>\n      <td>0.109756</td>\n      <td>0.672414</td>\n      <td>0.678571</td>\n      <td>0.5125</td>\n    </tr>\n  </tbody>\n</table>\n<p>5 rows × 29 columns</p>\n</div>"
     },
     "execution_count": 4,
     "metadata": {},
     "output_type": "execute_result"
    }
   ],
   "execution_count": 4
  },
  {
   "metadata": {
    "ExecuteTime": {
     "end_time": "2024-11-17T14:08:06.834911Z",
     "start_time": "2024-11-17T14:08:06.829384Z"
    }
   },
   "cell_type": "code",
   "source": [
    "y_test.head()"
   ],
   "id": "1dda6d942f1fcd4b",
   "outputs": [
    {
     "data": {
      "text/plain": "16652     RM\n16653     RM\n16654    CDM\n16655     LM\n16656     ST\nName: Preferred Positions, dtype: object"
     },
     "execution_count": 5,
     "metadata": {},
     "output_type": "execute_result"
    }
   ],
   "execution_count": 5
  }
 ],
 "metadata": {
  "kernelspec": {
   "display_name": "Python 3",
   "language": "python",
   "name": "python3"
  },
  "language_info": {
   "codemirror_mode": {
    "name": "ipython",
    "version": 2
   },
   "file_extension": ".py",
   "mimetype": "text/x-python",
   "name": "python",
   "nbconvert_exporter": "python",
   "pygments_lexer": "ipython2",
   "version": "2.7.6"
  }
 },
 "nbformat": 4,
 "nbformat_minor": 5
}
