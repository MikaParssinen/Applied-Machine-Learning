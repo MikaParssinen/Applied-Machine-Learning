{
 "cells": [
  {
   "cell_type": "code",
   "id": "initial_id",
   "metadata": {
    "collapsed": true,
    "ExecuteTime": {
     "end_time": "2024-11-12T15:31:49.335013Z",
     "start_time": "2024-11-12T15:31:49.283467Z"
    }
   },
   "source": "import pandas as pd",
   "outputs": [],
   "execution_count": 4
  },
  {
   "metadata": {
    "ExecuteTime": {
     "end_time": "2024-11-12T15:31:49.591148Z",
     "start_time": "2024-11-12T15:31:49.341291Z"
    }
   },
   "cell_type": "code",
   "source": "df = pd.read_csv(\"./FIFA18_players_database/CompleteDataset.csv\", low_memory=False)",
   "id": "762c631cc55f2953",
   "outputs": [],
   "execution_count": 5
  },
  {
   "metadata": {
    "ExecuteTime": {
     "end_time": "2024-11-12T15:31:49.619486Z",
     "start_time": "2024-11-12T15:31:49.592130Z"
    }
   },
   "cell_type": "code",
   "source": "df.head()",
   "id": "313f50c1603207e5",
   "outputs": [
    {
     "data": {
      "text/plain": "   Unnamed: 0               Name  Age  \\\n0           0  Cristiano Ronaldo   32   \n1           1           L. Messi   30   \n2           2             Neymar   25   \n3           3          L. Suárez   30   \n4           4           M. Neuer   31   \n\n                                             Photo Nationality  \\\n0   https://cdn.sofifa.org/48/18/players/20801.png    Portugal   \n1  https://cdn.sofifa.org/48/18/players/158023.png   Argentina   \n2  https://cdn.sofifa.org/48/18/players/190871.png      Brazil   \n3  https://cdn.sofifa.org/48/18/players/176580.png     Uruguay   \n4  https://cdn.sofifa.org/48/18/players/167495.png     Germany   \n\n                                  Flag  Overall  Potential  \\\n0  https://cdn.sofifa.org/flags/38.png       94         94   \n1  https://cdn.sofifa.org/flags/52.png       93         93   \n2  https://cdn.sofifa.org/flags/54.png       92         94   \n3  https://cdn.sofifa.org/flags/60.png       92         92   \n4  https://cdn.sofifa.org/flags/21.png       92         92   \n\n                  Club                                   Club Logo  ...    RB  \\\n0       Real Madrid CF  https://cdn.sofifa.org/24/18/teams/243.png  ...  61.0   \n1         FC Barcelona  https://cdn.sofifa.org/24/18/teams/241.png  ...  57.0   \n2  Paris Saint-Germain   https://cdn.sofifa.org/24/18/teams/73.png  ...  59.0   \n3         FC Barcelona  https://cdn.sofifa.org/24/18/teams/241.png  ...  64.0   \n4     FC Bayern Munich   https://cdn.sofifa.org/24/18/teams/21.png  ...   NaN   \n\n    RCB   RCM   RDM    RF    RM    RS    RW   RWB    ST  \n0  53.0  82.0  62.0  91.0  89.0  92.0  91.0  66.0  92.0  \n1  45.0  84.0  59.0  92.0  90.0  88.0  91.0  62.0  88.0  \n2  46.0  79.0  59.0  88.0  87.0  84.0  89.0  64.0  84.0  \n3  58.0  80.0  65.0  88.0  85.0  88.0  87.0  68.0  88.0  \n4   NaN   NaN   NaN   NaN   NaN   NaN   NaN   NaN   NaN  \n\n[5 rows x 75 columns]",
      "text/html": "<div>\n<style scoped>\n    .dataframe tbody tr th:only-of-type {\n        vertical-align: middle;\n    }\n\n    .dataframe tbody tr th {\n        vertical-align: top;\n    }\n\n    .dataframe thead th {\n        text-align: right;\n    }\n</style>\n<table border=\"1\" class=\"dataframe\">\n  <thead>\n    <tr style=\"text-align: right;\">\n      <th></th>\n      <th>Unnamed: 0</th>\n      <th>Name</th>\n      <th>Age</th>\n      <th>Photo</th>\n      <th>Nationality</th>\n      <th>Flag</th>\n      <th>Overall</th>\n      <th>Potential</th>\n      <th>Club</th>\n      <th>Club Logo</th>\n      <th>...</th>\n      <th>RB</th>\n      <th>RCB</th>\n      <th>RCM</th>\n      <th>RDM</th>\n      <th>RF</th>\n      <th>RM</th>\n      <th>RS</th>\n      <th>RW</th>\n      <th>RWB</th>\n      <th>ST</th>\n    </tr>\n  </thead>\n  <tbody>\n    <tr>\n      <th>0</th>\n      <td>0</td>\n      <td>Cristiano Ronaldo</td>\n      <td>32</td>\n      <td>https://cdn.sofifa.org/48/18/players/20801.png</td>\n      <td>Portugal</td>\n      <td>https://cdn.sofifa.org/flags/38.png</td>\n      <td>94</td>\n      <td>94</td>\n      <td>Real Madrid CF</td>\n      <td>https://cdn.sofifa.org/24/18/teams/243.png</td>\n      <td>...</td>\n      <td>61.0</td>\n      <td>53.0</td>\n      <td>82.0</td>\n      <td>62.0</td>\n      <td>91.0</td>\n      <td>89.0</td>\n      <td>92.0</td>\n      <td>91.0</td>\n      <td>66.0</td>\n      <td>92.0</td>\n    </tr>\n    <tr>\n      <th>1</th>\n      <td>1</td>\n      <td>L. Messi</td>\n      <td>30</td>\n      <td>https://cdn.sofifa.org/48/18/players/158023.png</td>\n      <td>Argentina</td>\n      <td>https://cdn.sofifa.org/flags/52.png</td>\n      <td>93</td>\n      <td>93</td>\n      <td>FC Barcelona</td>\n      <td>https://cdn.sofifa.org/24/18/teams/241.png</td>\n      <td>...</td>\n      <td>57.0</td>\n      <td>45.0</td>\n      <td>84.0</td>\n      <td>59.0</td>\n      <td>92.0</td>\n      <td>90.0</td>\n      <td>88.0</td>\n      <td>91.0</td>\n      <td>62.0</td>\n      <td>88.0</td>\n    </tr>\n    <tr>\n      <th>2</th>\n      <td>2</td>\n      <td>Neymar</td>\n      <td>25</td>\n      <td>https://cdn.sofifa.org/48/18/players/190871.png</td>\n      <td>Brazil</td>\n      <td>https://cdn.sofifa.org/flags/54.png</td>\n      <td>92</td>\n      <td>94</td>\n      <td>Paris Saint-Germain</td>\n      <td>https://cdn.sofifa.org/24/18/teams/73.png</td>\n      <td>...</td>\n      <td>59.0</td>\n      <td>46.0</td>\n      <td>79.0</td>\n      <td>59.0</td>\n      <td>88.0</td>\n      <td>87.0</td>\n      <td>84.0</td>\n      <td>89.0</td>\n      <td>64.0</td>\n      <td>84.0</td>\n    </tr>\n    <tr>\n      <th>3</th>\n      <td>3</td>\n      <td>L. Suárez</td>\n      <td>30</td>\n      <td>https://cdn.sofifa.org/48/18/players/176580.png</td>\n      <td>Uruguay</td>\n      <td>https://cdn.sofifa.org/flags/60.png</td>\n      <td>92</td>\n      <td>92</td>\n      <td>FC Barcelona</td>\n      <td>https://cdn.sofifa.org/24/18/teams/241.png</td>\n      <td>...</td>\n      <td>64.0</td>\n      <td>58.0</td>\n      <td>80.0</td>\n      <td>65.0</td>\n      <td>88.0</td>\n      <td>85.0</td>\n      <td>88.0</td>\n      <td>87.0</td>\n      <td>68.0</td>\n      <td>88.0</td>\n    </tr>\n    <tr>\n      <th>4</th>\n      <td>4</td>\n      <td>M. Neuer</td>\n      <td>31</td>\n      <td>https://cdn.sofifa.org/48/18/players/167495.png</td>\n      <td>Germany</td>\n      <td>https://cdn.sofifa.org/flags/21.png</td>\n      <td>92</td>\n      <td>92</td>\n      <td>FC Bayern Munich</td>\n      <td>https://cdn.sofifa.org/24/18/teams/21.png</td>\n      <td>...</td>\n      <td>NaN</td>\n      <td>NaN</td>\n      <td>NaN</td>\n      <td>NaN</td>\n      <td>NaN</td>\n      <td>NaN</td>\n      <td>NaN</td>\n      <td>NaN</td>\n      <td>NaN</td>\n      <td>NaN</td>\n    </tr>\n  </tbody>\n</table>\n<p>5 rows × 75 columns</p>\n</div>"
     },
     "execution_count": 6,
     "metadata": {},
     "output_type": "execute_result"
    }
   ],
   "execution_count": 6
  },
  {
   "metadata": {
    "ExecuteTime": {
     "end_time": "2024-11-12T15:46:17.574518Z",
     "start_time": "2024-11-12T15:46:17.523214Z"
    }
   },
   "cell_type": "code",
   "outputs": [
    {
     "name": "stdout",
     "output_type": "stream",
     "text": [
      "<class 'pandas.core.frame.DataFrame'>\n",
      "RangeIndex: 17981 entries, 0 to 17980\n",
      "Data columns (total 76 columns):\n",
      " #   Column                Non-Null Count  Dtype  \n",
      "---  ------                --------------  -----  \n",
      " 0   Unnamed: 0            17981 non-null  int64  \n",
      " 1   Name                  17981 non-null  object \n",
      " 2   Age                   17981 non-null  int64  \n",
      " 3   Photo                 17981 non-null  object \n",
      " 4   Nationality           17981 non-null  object \n",
      " 5   Flag                  17981 non-null  object \n",
      " 6   Overall               17981 non-null  int64  \n",
      " 7   Potential             17981 non-null  int64  \n",
      " 8   Club                  17733 non-null  object \n",
      " 9   Club Logo             17981 non-null  object \n",
      " 10  Value                 17981 non-null  object \n",
      " 11  Wage                  17981 non-null  object \n",
      " 12  Special               17981 non-null  int64  \n",
      " 13  Acceleration          17981 non-null  object \n",
      " 14  Aggression            17981 non-null  object \n",
      " 15  Agility               17981 non-null  object \n",
      " 16  Balance               17981 non-null  object \n",
      " 17  Ball control          17981 non-null  object \n",
      " 18  Composure             17981 non-null  object \n",
      " 19  Crossing              17981 non-null  object \n",
      " 20  Curve                 17981 non-null  object \n",
      " 21  Dribbling             17981 non-null  object \n",
      " 22  Finishing             17981 non-null  object \n",
      " 23  Free kick accuracy    17981 non-null  object \n",
      " 24  GK diving             17981 non-null  object \n",
      " 25  GK handling           17981 non-null  object \n",
      " 26  GK kicking            17981 non-null  object \n",
      " 27  GK positioning        17981 non-null  object \n",
      " 28  GK reflexes           17981 non-null  object \n",
      " 29  Heading accuracy      17981 non-null  object \n",
      " 30  Interceptions         17981 non-null  object \n",
      " 31  Jumping               17981 non-null  object \n",
      " 32  Long passing          17981 non-null  object \n",
      " 33  Long shots            17981 non-null  object \n",
      " 34  Marking               17981 non-null  object \n",
      " 35  Penalties             17981 non-null  object \n",
      " 36  Positioning           17981 non-null  object \n",
      " 37  Reactions             17981 non-null  object \n",
      " 38  Short passing         17981 non-null  object \n",
      " 39  Shot power            17981 non-null  object \n",
      " 40  Sliding tackle        17981 non-null  object \n",
      " 41  Sprint speed          17981 non-null  object \n",
      " 42  Stamina               17981 non-null  object \n",
      " 43  Standing tackle       17981 non-null  object \n",
      " 44  Strength              17981 non-null  object \n",
      " 45  Vision                17981 non-null  object \n",
      " 46  Volleys               17981 non-null  object \n",
      " 47  CAM                   15952 non-null  float64\n",
      " 48  CB                    15952 non-null  float64\n",
      " 49  CDM                   15952 non-null  float64\n",
      " 50  CF                    15952 non-null  float64\n",
      " 51  CM                    15952 non-null  float64\n",
      " 52  ID                    17981 non-null  int64  \n",
      " 53  LAM                   15952 non-null  float64\n",
      " 54  LB                    15952 non-null  float64\n",
      " 55  LCB                   15952 non-null  float64\n",
      " 56  LCM                   15952 non-null  float64\n",
      " 57  LDM                   15952 non-null  float64\n",
      " 58  LF                    15952 non-null  float64\n",
      " 59  LM                    15952 non-null  float64\n",
      " 60  LS                    15952 non-null  float64\n",
      " 61  LW                    15952 non-null  float64\n",
      " 62  LWB                   15952 non-null  float64\n",
      " 63  Preferred Positions   17981 non-null  object \n",
      " 64  RAM                   15952 non-null  float64\n",
      " 65  RB                    15952 non-null  float64\n",
      " 66  RCB                   15952 non-null  float64\n",
      " 67  RCM                   15952 non-null  float64\n",
      " 68  RDM                   15952 non-null  float64\n",
      " 69  RF                    15952 non-null  float64\n",
      " 70  RM                    15952 non-null  float64\n",
      " 71  RS                    15952 non-null  float64\n",
      " 72  RW                    15952 non-null  float64\n",
      " 73  RWB                   15952 non-null  float64\n",
      " 74  ST                    15952 non-null  float64\n",
      " 75  sorterade_positioner  17981 non-null  object \n",
      "dtypes: float64(26), int64(6), object(44)\n",
      "memory usage: 10.4+ MB\n"
     ]
    }
   ],
   "execution_count": 14,
   "source": [
    "df.info()"
   ],
   "id": "4a148f0ca06a5612"
  },
  {
   "cell_type": "code",
   "outputs": [],
   "source": [
    "df = df.dropna(subset=['Preferred Positions'])"
   ],
   "metadata": {
    "collapsed": false,
    "ExecuteTime": {
     "end_time": "2024-11-12T15:47:42.889788Z",
     "start_time": "2024-11-12T15:47:42.833302Z"
    }
   },
   "id": "de936ebef0b55b24",
   "execution_count": 15
  }
 ],
 "metadata": {
  "kernelspec": {
   "display_name": "Python 3",
   "language": "python",
   "name": "python3"
  },
  "language_info": {
   "codemirror_mode": {
    "name": "ipython",
    "version": 2
   },
   "file_extension": ".py",
   "mimetype": "text/x-python",
   "name": "python",
   "nbconvert_exporter": "python",
   "pygments_lexer": "ipython2",
   "version": "2.7.6"
  }
 },
 "nbformat": 4,
 "nbformat_minor": 5
}
