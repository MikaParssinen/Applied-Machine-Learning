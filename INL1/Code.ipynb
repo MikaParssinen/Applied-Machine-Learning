{
 "cells": [
  {
   "metadata": {
    "collapsed": true,
    "ExecuteTime": {
     "end_time": "2024-11-13T13:18:38.620371Z",
     "start_time": "2024-11-13T13:18:38.615399Z"
    }
   },
   "cell_type": "code",
   "source": "import pandas as pd",
   "id": "initial_id",
   "outputs": [],
   "execution_count": 147
  },
  {
   "metadata": {
    "ExecuteTime": {
     "end_time": "2024-11-13T13:20:02.196958Z",
     "start_time": "2024-11-13T13:20:02.188741Z"
    }
   },
   "cell_type": "code",
   "source": [
    "df = pd.read_csv(\"./FIFA18_players_database/clean_data.csv\", low_memory=False)\n",
    "df.head()"
   ],
   "id": "313f50c1603207e5",
   "outputs": [
    {
     "data": {
      "text/plain": [
       "10932     ST\n",
       "10931     LW\n",
       "10933    RW \n",
       "10934    LW \n",
       "10935    ST \n",
       "Name: Preferred Positions, dtype: object"
      ]
     },
     "execution_count": 150,
     "metadata": {},
     "output_type": "execute_result"
    }
   ],
   "execution_count": 150
  }
 ],
 "metadata": {
  "kernelspec": {
   "display_name": "Python 3",
   "language": "python",
   "name": "python3"
  },
  "language_info": {
   "codemirror_mode": {
    "name": "ipython",
    "version": 2
   },
   "file_extension": ".py",
   "mimetype": "text/x-python",
   "name": "python",
   "nbconvert_exporter": "python",
   "pygments_lexer": "ipython2",
   "version": "2.7.6"
  }
 },
 "nbformat": 4,
 "nbformat_minor": 5
}
