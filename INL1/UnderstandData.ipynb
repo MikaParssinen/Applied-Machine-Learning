{
 "cells": [
  {
   "cell_type": "code",
   "execution_count": 21,
   "id": "initial_id",
   "metadata": {
    "collapsed": true,
    "ExecuteTime": {
     "end_time": "2024-11-15T14:09:36.540238Z",
     "start_time": "2024-11-15T14:09:36.522632Z"
    }
   },
   "outputs": [],
   "source": [
    "import pandas as pd\n",
    "import re"
   ]
  },
  {
   "cell_type": "code",
   "outputs": [
    {
     "data": {
      "text/plain": "              Name  Overall Acceleration Aggression Agility Balance  \\\n0         N. Gómez       61           71         38      73      67   \n1         P. Diouf       62           75         59      73      65   \n2       W. Cyprien       79           78         78      81      75   \n3         L. Arias       70           76         73      76      86   \n4  F. Bernardeschi       82           84         52      85      79   \n\n  Ball control Composure Crossing Curve  ... Short passing Shot power  \\\n0           65        50       53    46  ...            61         57   \n1           62        64       55    53  ...            59         64   \n2           81        79       74    78  ...            79         82   \n3           69        69       67    67  ...            71         72   \n4           87        83       77    79  ...            80         80   \n\n  Sliding tackle Sprint speed Stamina Standing tackle Strength Vision Volleys  \\\n0             35           64      69              27       42     54      43   \n1             23           80      54              29       64     54      57   \n2             68           79      86              78       79     76      60   \n3             67           74      75              66       54     65      67   \n4             32           84      83              36       63     78      70   \n\n  Preferred Positions  \n0                  RW  \n1                  LM  \n2                 CDM  \n3                  LB  \n4                  RM  \n\n[5 rows x 37 columns]",
      "text/html": "<div>\n<style scoped>\n    .dataframe tbody tr th:only-of-type {\n        vertical-align: middle;\n    }\n\n    .dataframe tbody tr th {\n        vertical-align: top;\n    }\n\n    .dataframe thead th {\n        text-align: right;\n    }\n</style>\n<table border=\"1\" class=\"dataframe\">\n  <thead>\n    <tr style=\"text-align: right;\">\n      <th></th>\n      <th>Name</th>\n      <th>Overall</th>\n      <th>Acceleration</th>\n      <th>Aggression</th>\n      <th>Agility</th>\n      <th>Balance</th>\n      <th>Ball control</th>\n      <th>Composure</th>\n      <th>Crossing</th>\n      <th>Curve</th>\n      <th>...</th>\n      <th>Short passing</th>\n      <th>Shot power</th>\n      <th>Sliding tackle</th>\n      <th>Sprint speed</th>\n      <th>Stamina</th>\n      <th>Standing tackle</th>\n      <th>Strength</th>\n      <th>Vision</th>\n      <th>Volleys</th>\n      <th>Preferred Positions</th>\n    </tr>\n  </thead>\n  <tbody>\n    <tr>\n      <th>0</th>\n      <td>N. Gómez</td>\n      <td>61</td>\n      <td>71</td>\n      <td>38</td>\n      <td>73</td>\n      <td>67</td>\n      <td>65</td>\n      <td>50</td>\n      <td>53</td>\n      <td>46</td>\n      <td>...</td>\n      <td>61</td>\n      <td>57</td>\n      <td>35</td>\n      <td>64</td>\n      <td>69</td>\n      <td>27</td>\n      <td>42</td>\n      <td>54</td>\n      <td>43</td>\n      <td>RW</td>\n    </tr>\n    <tr>\n      <th>1</th>\n      <td>P. Diouf</td>\n      <td>62</td>\n      <td>75</td>\n      <td>59</td>\n      <td>73</td>\n      <td>65</td>\n      <td>62</td>\n      <td>64</td>\n      <td>55</td>\n      <td>53</td>\n      <td>...</td>\n      <td>59</td>\n      <td>64</td>\n      <td>23</td>\n      <td>80</td>\n      <td>54</td>\n      <td>29</td>\n      <td>64</td>\n      <td>54</td>\n      <td>57</td>\n      <td>LM</td>\n    </tr>\n    <tr>\n      <th>2</th>\n      <td>W. Cyprien</td>\n      <td>79</td>\n      <td>78</td>\n      <td>78</td>\n      <td>81</td>\n      <td>75</td>\n      <td>81</td>\n      <td>79</td>\n      <td>74</td>\n      <td>78</td>\n      <td>...</td>\n      <td>79</td>\n      <td>82</td>\n      <td>68</td>\n      <td>79</td>\n      <td>86</td>\n      <td>78</td>\n      <td>79</td>\n      <td>76</td>\n      <td>60</td>\n      <td>CDM</td>\n    </tr>\n    <tr>\n      <th>3</th>\n      <td>L. Arias</td>\n      <td>70</td>\n      <td>76</td>\n      <td>73</td>\n      <td>76</td>\n      <td>86</td>\n      <td>69</td>\n      <td>69</td>\n      <td>67</td>\n      <td>67</td>\n      <td>...</td>\n      <td>71</td>\n      <td>72</td>\n      <td>67</td>\n      <td>74</td>\n      <td>75</td>\n      <td>66</td>\n      <td>54</td>\n      <td>65</td>\n      <td>67</td>\n      <td>LB</td>\n    </tr>\n    <tr>\n      <th>4</th>\n      <td>F. Bernardeschi</td>\n      <td>82</td>\n      <td>84</td>\n      <td>52</td>\n      <td>85</td>\n      <td>79</td>\n      <td>87</td>\n      <td>83</td>\n      <td>77</td>\n      <td>79</td>\n      <td>...</td>\n      <td>80</td>\n      <td>80</td>\n      <td>32</td>\n      <td>84</td>\n      <td>83</td>\n      <td>36</td>\n      <td>63</td>\n      <td>78</td>\n      <td>70</td>\n      <td>RM</td>\n    </tr>\n  </tbody>\n</table>\n<p>5 rows × 37 columns</p>\n</div>"
     },
     "execution_count": 22,
     "metadata": {},
     "output_type": "execute_result"
    }
   ],
   "source": [
    "df = pd.read_csv(\"/Users/mika/Applied-Machine-Learning/INL1/FIFA18_players_database/clean_data.csv\")\n",
    "df.head()"
   ],
   "metadata": {
    "collapsed": false,
    "ExecuteTime": {
     "end_time": "2024-11-15T14:09:36.703095Z",
     "start_time": "2024-11-15T14:09:36.542784Z"
    }
   },
   "id": "e40649702eebec4f",
   "execution_count": 22
  },
  {
   "cell_type": "code",
   "outputs": [
    {
     "data": {
      "text/plain": "   Overall Acceleration Aggression Agility Balance Ball control Composure  \\\n0       61           71         38      73      67           65        50   \n1       62           75         59      73      65           62        64   \n2       79           78         78      81      75           81        79   \n3       70           76         73      76      86           69        69   \n4       82           84         52      85      79           87        83   \n\n  Crossing Curve Dribbling  ... Short passing Shot power Sliding tackle  \\\n0       53    46        62  ...            61         57             35   \n1       55    53        61  ...            59         64             23   \n2       74    78        80  ...            79         82             68   \n3       67    67        68  ...            71         72             67   \n4       77    79        86  ...            80         80             32   \n\n  Sprint speed Stamina Standing tackle Strength Vision Volleys  \\\n0           64      69              27       42     54      43   \n1           80      54              29       64     54      57   \n2           79      86              78       79     76      60   \n3           74      75              66       54     65      67   \n4           84      83              36       63     78      70   \n\n  Preferred Positions  \n0                  RW  \n1                  LM  \n2                 CDM  \n3                  LB  \n4                  RM  \n\n[5 rows x 36 columns]",
      "text/html": "<div>\n<style scoped>\n    .dataframe tbody tr th:only-of-type {\n        vertical-align: middle;\n    }\n\n    .dataframe tbody tr th {\n        vertical-align: top;\n    }\n\n    .dataframe thead th {\n        text-align: right;\n    }\n</style>\n<table border=\"1\" class=\"dataframe\">\n  <thead>\n    <tr style=\"text-align: right;\">\n      <th></th>\n      <th>Overall</th>\n      <th>Acceleration</th>\n      <th>Aggression</th>\n      <th>Agility</th>\n      <th>Balance</th>\n      <th>Ball control</th>\n      <th>Composure</th>\n      <th>Crossing</th>\n      <th>Curve</th>\n      <th>Dribbling</th>\n      <th>...</th>\n      <th>Short passing</th>\n      <th>Shot power</th>\n      <th>Sliding tackle</th>\n      <th>Sprint speed</th>\n      <th>Stamina</th>\n      <th>Standing tackle</th>\n      <th>Strength</th>\n      <th>Vision</th>\n      <th>Volleys</th>\n      <th>Preferred Positions</th>\n    </tr>\n  </thead>\n  <tbody>\n    <tr>\n      <th>0</th>\n      <td>61</td>\n      <td>71</td>\n      <td>38</td>\n      <td>73</td>\n      <td>67</td>\n      <td>65</td>\n      <td>50</td>\n      <td>53</td>\n      <td>46</td>\n      <td>62</td>\n      <td>...</td>\n      <td>61</td>\n      <td>57</td>\n      <td>35</td>\n      <td>64</td>\n      <td>69</td>\n      <td>27</td>\n      <td>42</td>\n      <td>54</td>\n      <td>43</td>\n      <td>RW</td>\n    </tr>\n    <tr>\n      <th>1</th>\n      <td>62</td>\n      <td>75</td>\n      <td>59</td>\n      <td>73</td>\n      <td>65</td>\n      <td>62</td>\n      <td>64</td>\n      <td>55</td>\n      <td>53</td>\n      <td>61</td>\n      <td>...</td>\n      <td>59</td>\n      <td>64</td>\n      <td>23</td>\n      <td>80</td>\n      <td>54</td>\n      <td>29</td>\n      <td>64</td>\n      <td>54</td>\n      <td>57</td>\n      <td>LM</td>\n    </tr>\n    <tr>\n      <th>2</th>\n      <td>79</td>\n      <td>78</td>\n      <td>78</td>\n      <td>81</td>\n      <td>75</td>\n      <td>81</td>\n      <td>79</td>\n      <td>74</td>\n      <td>78</td>\n      <td>80</td>\n      <td>...</td>\n      <td>79</td>\n      <td>82</td>\n      <td>68</td>\n      <td>79</td>\n      <td>86</td>\n      <td>78</td>\n      <td>79</td>\n      <td>76</td>\n      <td>60</td>\n      <td>CDM</td>\n    </tr>\n    <tr>\n      <th>3</th>\n      <td>70</td>\n      <td>76</td>\n      <td>73</td>\n      <td>76</td>\n      <td>86</td>\n      <td>69</td>\n      <td>69</td>\n      <td>67</td>\n      <td>67</td>\n      <td>68</td>\n      <td>...</td>\n      <td>71</td>\n      <td>72</td>\n      <td>67</td>\n      <td>74</td>\n      <td>75</td>\n      <td>66</td>\n      <td>54</td>\n      <td>65</td>\n      <td>67</td>\n      <td>LB</td>\n    </tr>\n    <tr>\n      <th>4</th>\n      <td>82</td>\n      <td>84</td>\n      <td>52</td>\n      <td>85</td>\n      <td>79</td>\n      <td>87</td>\n      <td>83</td>\n      <td>77</td>\n      <td>79</td>\n      <td>86</td>\n      <td>...</td>\n      <td>80</td>\n      <td>80</td>\n      <td>32</td>\n      <td>84</td>\n      <td>83</td>\n      <td>36</td>\n      <td>63</td>\n      <td>78</td>\n      <td>70</td>\n      <td>RM</td>\n    </tr>\n  </tbody>\n</table>\n<p>5 rows × 36 columns</p>\n</div>"
     },
     "execution_count": 23,
     "metadata": {},
     "output_type": "execute_result"
    }
   ],
   "source": [
    "df = df.drop(columns=[col for col in df.columns if col in ['Name']])\n",
    "df.head()"
   ],
   "metadata": {
    "collapsed": false,
    "ExecuteTime": {
     "end_time": "2024-11-15T14:09:36.718669Z",
     "start_time": "2024-11-15T14:09:36.704432Z"
    }
   },
   "id": "bbb76d34a57fc477",
   "execution_count": 23
  },
  {
   "cell_type": "code",
   "outputs": [
    {
     "data": {
      "text/plain": "     Overall Acceleration Aggression Agility Balance Ball control Composure  \\\n333       78           89       66+7      90    90+2           79      74+1   \n430       65           79         42      65      62           64        58   \n460       74           82         67      73    80+6           74        59   \n485       64         64+5         64    60+7    63+5        56+14        56   \n496       80         80+1         59    78+1      78         77+1      75+1   \n\n    Crossing  Curve Dribbling  ... Short passing Shot power Sliding tackle  \\\n333       59   68+4        82  ...            67       77+3             15   \n430       45     49        63  ...            56         64             24   \n460       78     66        66  ...            72         58             70   \n485    61+29  58+21     54+10  ...          60+6         48             67   \n496       76   78+1      77+1  ...            76         83             30   \n\n    Sprint speed Stamina Standing tackle Strength Vision Volleys  \\\n333         89+1    73+3              20     71+3     65    69+4   \n430           77      67              24       67     57      52   \n460           79      79            74+1       53     64      54   \n485        67+12    66+9            65-3       82     30      35   \n496         83+1    82+1              38     79+1   77+1      81   \n\n    Preferred Positions  \n333                 ST   \n430                 ST   \n460                  LB  \n485                  CB  \n496                  RM  \n\n[5 rows x 36 columns]",
      "text/html": "<div>\n<style scoped>\n    .dataframe tbody tr th:only-of-type {\n        vertical-align: middle;\n    }\n\n    .dataframe tbody tr th {\n        vertical-align: top;\n    }\n\n    .dataframe thead th {\n        text-align: right;\n    }\n</style>\n<table border=\"1\" class=\"dataframe\">\n  <thead>\n    <tr style=\"text-align: right;\">\n      <th></th>\n      <th>Overall</th>\n      <th>Acceleration</th>\n      <th>Aggression</th>\n      <th>Agility</th>\n      <th>Balance</th>\n      <th>Ball control</th>\n      <th>Composure</th>\n      <th>Crossing</th>\n      <th>Curve</th>\n      <th>Dribbling</th>\n      <th>...</th>\n      <th>Short passing</th>\n      <th>Shot power</th>\n      <th>Sliding tackle</th>\n      <th>Sprint speed</th>\n      <th>Stamina</th>\n      <th>Standing tackle</th>\n      <th>Strength</th>\n      <th>Vision</th>\n      <th>Volleys</th>\n      <th>Preferred Positions</th>\n    </tr>\n  </thead>\n  <tbody>\n    <tr>\n      <th>333</th>\n      <td>78</td>\n      <td>89</td>\n      <td>66+7</td>\n      <td>90</td>\n      <td>90+2</td>\n      <td>79</td>\n      <td>74+1</td>\n      <td>59</td>\n      <td>68+4</td>\n      <td>82</td>\n      <td>...</td>\n      <td>67</td>\n      <td>77+3</td>\n      <td>15</td>\n      <td>89+1</td>\n      <td>73+3</td>\n      <td>20</td>\n      <td>71+3</td>\n      <td>65</td>\n      <td>69+4</td>\n      <td>ST</td>\n    </tr>\n    <tr>\n      <th>430</th>\n      <td>65</td>\n      <td>79</td>\n      <td>42</td>\n      <td>65</td>\n      <td>62</td>\n      <td>64</td>\n      <td>58</td>\n      <td>45</td>\n      <td>49</td>\n      <td>63</td>\n      <td>...</td>\n      <td>56</td>\n      <td>64</td>\n      <td>24</td>\n      <td>77</td>\n      <td>67</td>\n      <td>24</td>\n      <td>67</td>\n      <td>57</td>\n      <td>52</td>\n      <td>ST</td>\n    </tr>\n    <tr>\n      <th>460</th>\n      <td>74</td>\n      <td>82</td>\n      <td>67</td>\n      <td>73</td>\n      <td>80+6</td>\n      <td>74</td>\n      <td>59</td>\n      <td>78</td>\n      <td>66</td>\n      <td>66</td>\n      <td>...</td>\n      <td>72</td>\n      <td>58</td>\n      <td>70</td>\n      <td>79</td>\n      <td>79</td>\n      <td>74+1</td>\n      <td>53</td>\n      <td>64</td>\n      <td>54</td>\n      <td>LB</td>\n    </tr>\n    <tr>\n      <th>485</th>\n      <td>64</td>\n      <td>64+5</td>\n      <td>64</td>\n      <td>60+7</td>\n      <td>63+5</td>\n      <td>56+14</td>\n      <td>56</td>\n      <td>61+29</td>\n      <td>58+21</td>\n      <td>54+10</td>\n      <td>...</td>\n      <td>60+6</td>\n      <td>48</td>\n      <td>67</td>\n      <td>67+12</td>\n      <td>66+9</td>\n      <td>65-3</td>\n      <td>82</td>\n      <td>30</td>\n      <td>35</td>\n      <td>CB</td>\n    </tr>\n    <tr>\n      <th>496</th>\n      <td>80</td>\n      <td>80+1</td>\n      <td>59</td>\n      <td>78+1</td>\n      <td>78</td>\n      <td>77+1</td>\n      <td>75+1</td>\n      <td>76</td>\n      <td>78+1</td>\n      <td>77+1</td>\n      <td>...</td>\n      <td>76</td>\n      <td>83</td>\n      <td>30</td>\n      <td>83+1</td>\n      <td>82+1</td>\n      <td>38</td>\n      <td>79+1</td>\n      <td>77+1</td>\n      <td>81</td>\n      <td>RM</td>\n    </tr>\n  </tbody>\n</table>\n<p>5 rows × 36 columns</p>\n</div>"
     },
     "execution_count": 24,
     "metadata": {},
     "output_type": "execute_result"
    }
   ],
   "source": [
    "contains_plus_minus = df['Positioning'].str.contains(r'[+-]', na=False)\n",
    "rows_with_plus_minus = df[contains_plus_minus]\n",
    "rows_with_plus_minus.head()"
   ],
   "metadata": {
    "collapsed": false,
    "ExecuteTime": {
     "end_time": "2024-11-15T14:09:36.736526Z",
     "start_time": "2024-11-15T14:09:36.719426Z"
    }
   },
   "id": "13d54b43dd9e217f",
   "execution_count": 24
  },
  {
   "cell_type": "code",
   "outputs": [],
   "source": [
    "def clean_plus_minus(value):\n",
    "    if isinstance(value, str):\n",
    "        return re.sub(r'[+-].*', '',value)\n",
    "    return value\n",
    "\n",
    "df = df.map(clean_plus_minus)"
   ],
   "metadata": {
    "collapsed": false,
    "ExecuteTime": {
     "end_time": "2024-11-15T14:09:37.981159Z",
     "start_time": "2024-11-15T14:09:36.738446Z"
    }
   },
   "id": "5616f1d4e50858df",
   "execution_count": 25
  },
  {
   "cell_type": "code",
   "outputs": [
    {
     "data": {
      "text/plain": "Empty DataFrame\nColumns: [Overall, Acceleration, Aggression, Agility, Balance, Ball control, Composure, Crossing, Curve, Dribbling, Finishing, Free kick accuracy, GK diving, GK handling, GK kicking, GK positioning, GK reflexes, Heading accuracy, Interceptions, Jumping, Long passing, Long shots, Marking, Penalties, Positioning, Reactions, Short passing, Shot power, Sliding tackle, Sprint speed, Stamina, Standing tackle, Strength, Vision, Volleys, Preferred Positions]\nIndex: []\n\n[0 rows x 36 columns]",
      "text/html": "<div>\n<style scoped>\n    .dataframe tbody tr th:only-of-type {\n        vertical-align: middle;\n    }\n\n    .dataframe tbody tr th {\n        vertical-align: top;\n    }\n\n    .dataframe thead th {\n        text-align: right;\n    }\n</style>\n<table border=\"1\" class=\"dataframe\">\n  <thead>\n    <tr style=\"text-align: right;\">\n      <th></th>\n      <th>Overall</th>\n      <th>Acceleration</th>\n      <th>Aggression</th>\n      <th>Agility</th>\n      <th>Balance</th>\n      <th>Ball control</th>\n      <th>Composure</th>\n      <th>Crossing</th>\n      <th>Curve</th>\n      <th>Dribbling</th>\n      <th>...</th>\n      <th>Short passing</th>\n      <th>Shot power</th>\n      <th>Sliding tackle</th>\n      <th>Sprint speed</th>\n      <th>Stamina</th>\n      <th>Standing tackle</th>\n      <th>Strength</th>\n      <th>Vision</th>\n      <th>Volleys</th>\n      <th>Preferred Positions</th>\n    </tr>\n  </thead>\n  <tbody>\n  </tbody>\n</table>\n<p>0 rows × 36 columns</p>\n</div>"
     },
     "execution_count": 26,
     "metadata": {},
     "output_type": "execute_result"
    }
   ],
   "source": [
    "contains_plus_minus = df['Positioning'].str.contains(r'[+-]', na=False)\n",
    "rows_with_plus_minus = df[contains_plus_minus]\n",
    "rows_with_plus_minus.head()"
   ],
   "metadata": {
    "collapsed": false,
    "ExecuteTime": {
     "end_time": "2024-11-15T14:09:38.018332Z",
     "start_time": "2024-11-15T14:09:37.984496Z"
    }
   },
   "id": "5cbcaac1e3b93d30",
   "execution_count": 26
  },
  {
   "cell_type": "markdown",
   "source": [
    "We have now cleaned the data from + and -"
   ],
   "metadata": {
    "collapsed": false
   },
   "id": "8fa534b0b0ab38c4"
  },
  {
   "cell_type": "code",
   "outputs": [],
   "source": [],
   "metadata": {
    "collapsed": false
   },
   "id": "373d944cbce0b93a"
  }
 ],
 "metadata": {
  "kernelspec": {
   "display_name": "Python 3",
   "language": "python",
   "name": "python3"
  },
  "language_info": {
   "codemirror_mode": {
    "name": "ipython",
    "version": 2
   },
   "file_extension": ".py",
   "mimetype": "text/x-python",
   "name": "python",
   "nbconvert_exporter": "python",
   "pygments_lexer": "ipython2",
   "version": "2.7.6"
  }
 },
 "nbformat": 4,
 "nbformat_minor": 5
}
