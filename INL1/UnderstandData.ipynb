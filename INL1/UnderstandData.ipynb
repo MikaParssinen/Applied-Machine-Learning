{
 "cells": [
  {
   "cell_type": "code",
   "execution_count": 35,
   "id": "initial_id",
   "metadata": {
    "collapsed": true,
    "ExecuteTime": {
     "end_time": "2024-11-15T14:14:02.094601Z",
     "start_time": "2024-11-15T14:14:02.088199Z"
    }
   },
   "outputs": [],
   "source": [
    "import matplotlib.pyplot as plt\n",
    "import pandas as pd\n",
    "import re"
   ]
  },
  {
   "cell_type": "code",
   "outputs": [
    {
     "data": {
      "text/plain": "              Name  Overall Acceleration Aggression Agility Balance  \\\n0         N. Gómez       61           71         38      73      67   \n1         P. Diouf       62           75         59      73      65   \n2       W. Cyprien       79           78         78      81      75   \n3         L. Arias       70           76         73      76      86   \n4  F. Bernardeschi       82           84         52      85      79   \n\n  Ball control Composure Crossing Curve  ... Short passing Shot power  \\\n0           65        50       53    46  ...            61         57   \n1           62        64       55    53  ...            59         64   \n2           81        79       74    78  ...            79         82   \n3           69        69       67    67  ...            71         72   \n4           87        83       77    79  ...            80         80   \n\n  Sliding tackle Sprint speed Stamina Standing tackle Strength Vision Volleys  \\\n0             35           64      69              27       42     54      43   \n1             23           80      54              29       64     54      57   \n2             68           79      86              78       79     76      60   \n3             67           74      75              66       54     65      67   \n4             32           84      83              36       63     78      70   \n\n  Preferred Positions  \n0                  RW  \n1                  LM  \n2                 CDM  \n3                  LB  \n4                  RM  \n\n[5 rows x 37 columns]",
      "text/html": "<div>\n<style scoped>\n    .dataframe tbody tr th:only-of-type {\n        vertical-align: middle;\n    }\n\n    .dataframe tbody tr th {\n        vertical-align: top;\n    }\n\n    .dataframe thead th {\n        text-align: right;\n    }\n</style>\n<table border=\"1\" class=\"dataframe\">\n  <thead>\n    <tr style=\"text-align: right;\">\n      <th></th>\n      <th>Name</th>\n      <th>Overall</th>\n      <th>Acceleration</th>\n      <th>Aggression</th>\n      <th>Agility</th>\n      <th>Balance</th>\n      <th>Ball control</th>\n      <th>Composure</th>\n      <th>Crossing</th>\n      <th>Curve</th>\n      <th>...</th>\n      <th>Short passing</th>\n      <th>Shot power</th>\n      <th>Sliding tackle</th>\n      <th>Sprint speed</th>\n      <th>Stamina</th>\n      <th>Standing tackle</th>\n      <th>Strength</th>\n      <th>Vision</th>\n      <th>Volleys</th>\n      <th>Preferred Positions</th>\n    </tr>\n  </thead>\n  <tbody>\n    <tr>\n      <th>0</th>\n      <td>N. Gómez</td>\n      <td>61</td>\n      <td>71</td>\n      <td>38</td>\n      <td>73</td>\n      <td>67</td>\n      <td>65</td>\n      <td>50</td>\n      <td>53</td>\n      <td>46</td>\n      <td>...</td>\n      <td>61</td>\n      <td>57</td>\n      <td>35</td>\n      <td>64</td>\n      <td>69</td>\n      <td>27</td>\n      <td>42</td>\n      <td>54</td>\n      <td>43</td>\n      <td>RW</td>\n    </tr>\n    <tr>\n      <th>1</th>\n      <td>P. Diouf</td>\n      <td>62</td>\n      <td>75</td>\n      <td>59</td>\n      <td>73</td>\n      <td>65</td>\n      <td>62</td>\n      <td>64</td>\n      <td>55</td>\n      <td>53</td>\n      <td>...</td>\n      <td>59</td>\n      <td>64</td>\n      <td>23</td>\n      <td>80</td>\n      <td>54</td>\n      <td>29</td>\n      <td>64</td>\n      <td>54</td>\n      <td>57</td>\n      <td>LM</td>\n    </tr>\n    <tr>\n      <th>2</th>\n      <td>W. Cyprien</td>\n      <td>79</td>\n      <td>78</td>\n      <td>78</td>\n      <td>81</td>\n      <td>75</td>\n      <td>81</td>\n      <td>79</td>\n      <td>74</td>\n      <td>78</td>\n      <td>...</td>\n      <td>79</td>\n      <td>82</td>\n      <td>68</td>\n      <td>79</td>\n      <td>86</td>\n      <td>78</td>\n      <td>79</td>\n      <td>76</td>\n      <td>60</td>\n      <td>CDM</td>\n    </tr>\n    <tr>\n      <th>3</th>\n      <td>L. Arias</td>\n      <td>70</td>\n      <td>76</td>\n      <td>73</td>\n      <td>76</td>\n      <td>86</td>\n      <td>69</td>\n      <td>69</td>\n      <td>67</td>\n      <td>67</td>\n      <td>...</td>\n      <td>71</td>\n      <td>72</td>\n      <td>67</td>\n      <td>74</td>\n      <td>75</td>\n      <td>66</td>\n      <td>54</td>\n      <td>65</td>\n      <td>67</td>\n      <td>LB</td>\n    </tr>\n    <tr>\n      <th>4</th>\n      <td>F. Bernardeschi</td>\n      <td>82</td>\n      <td>84</td>\n      <td>52</td>\n      <td>85</td>\n      <td>79</td>\n      <td>87</td>\n      <td>83</td>\n      <td>77</td>\n      <td>79</td>\n      <td>...</td>\n      <td>80</td>\n      <td>80</td>\n      <td>32</td>\n      <td>84</td>\n      <td>83</td>\n      <td>36</td>\n      <td>63</td>\n      <td>78</td>\n      <td>70</td>\n      <td>RM</td>\n    </tr>\n  </tbody>\n</table>\n<p>5 rows × 37 columns</p>\n</div>"
     },
     "execution_count": 36,
     "metadata": {},
     "output_type": "execute_result"
    }
   ],
   "source": [
    "df = pd.read_csv(\"/Users/mika/Applied-Machine-Learning/INL1/FIFA18_players_database/clean_data.csv\")\n",
    "df.head()"
   ],
   "metadata": {
    "collapsed": false,
    "ExecuteTime": {
     "end_time": "2024-11-15T14:14:02.223866Z",
     "start_time": "2024-11-15T14:14:02.096899Z"
    }
   },
   "id": "e40649702eebec4f",
   "execution_count": 36
  },
  {
   "cell_type": "code",
   "outputs": [
    {
     "data": {
      "text/plain": "   Overall Acceleration Aggression Agility Balance Ball control Composure  \\\n0       61           71         38      73      67           65        50   \n1       62           75         59      73      65           62        64   \n2       79           78         78      81      75           81        79   \n3       70           76         73      76      86           69        69   \n4       82           84         52      85      79           87        83   \n\n  Crossing Curve Dribbling  ... Short passing Shot power Sliding tackle  \\\n0       53    46        62  ...            61         57             35   \n1       55    53        61  ...            59         64             23   \n2       74    78        80  ...            79         82             68   \n3       67    67        68  ...            71         72             67   \n4       77    79        86  ...            80         80             32   \n\n  Sprint speed Stamina Standing tackle Strength Vision Volleys  \\\n0           64      69              27       42     54      43   \n1           80      54              29       64     54      57   \n2           79      86              78       79     76      60   \n3           74      75              66       54     65      67   \n4           84      83              36       63     78      70   \n\n  Preferred Positions  \n0                  RW  \n1                  LM  \n2                 CDM  \n3                  LB  \n4                  RM  \n\n[5 rows x 36 columns]",
      "text/html": "<div>\n<style scoped>\n    .dataframe tbody tr th:only-of-type {\n        vertical-align: middle;\n    }\n\n    .dataframe tbody tr th {\n        vertical-align: top;\n    }\n\n    .dataframe thead th {\n        text-align: right;\n    }\n</style>\n<table border=\"1\" class=\"dataframe\">\n  <thead>\n    <tr style=\"text-align: right;\">\n      <th></th>\n      <th>Overall</th>\n      <th>Acceleration</th>\n      <th>Aggression</th>\n      <th>Agility</th>\n      <th>Balance</th>\n      <th>Ball control</th>\n      <th>Composure</th>\n      <th>Crossing</th>\n      <th>Curve</th>\n      <th>Dribbling</th>\n      <th>...</th>\n      <th>Short passing</th>\n      <th>Shot power</th>\n      <th>Sliding tackle</th>\n      <th>Sprint speed</th>\n      <th>Stamina</th>\n      <th>Standing tackle</th>\n      <th>Strength</th>\n      <th>Vision</th>\n      <th>Volleys</th>\n      <th>Preferred Positions</th>\n    </tr>\n  </thead>\n  <tbody>\n    <tr>\n      <th>0</th>\n      <td>61</td>\n      <td>71</td>\n      <td>38</td>\n      <td>73</td>\n      <td>67</td>\n      <td>65</td>\n      <td>50</td>\n      <td>53</td>\n      <td>46</td>\n      <td>62</td>\n      <td>...</td>\n      <td>61</td>\n      <td>57</td>\n      <td>35</td>\n      <td>64</td>\n      <td>69</td>\n      <td>27</td>\n      <td>42</td>\n      <td>54</td>\n      <td>43</td>\n      <td>RW</td>\n    </tr>\n    <tr>\n      <th>1</th>\n      <td>62</td>\n      <td>75</td>\n      <td>59</td>\n      <td>73</td>\n      <td>65</td>\n      <td>62</td>\n      <td>64</td>\n      <td>55</td>\n      <td>53</td>\n      <td>61</td>\n      <td>...</td>\n      <td>59</td>\n      <td>64</td>\n      <td>23</td>\n      <td>80</td>\n      <td>54</td>\n      <td>29</td>\n      <td>64</td>\n      <td>54</td>\n      <td>57</td>\n      <td>LM</td>\n    </tr>\n    <tr>\n      <th>2</th>\n      <td>79</td>\n      <td>78</td>\n      <td>78</td>\n      <td>81</td>\n      <td>75</td>\n      <td>81</td>\n      <td>79</td>\n      <td>74</td>\n      <td>78</td>\n      <td>80</td>\n      <td>...</td>\n      <td>79</td>\n      <td>82</td>\n      <td>68</td>\n      <td>79</td>\n      <td>86</td>\n      <td>78</td>\n      <td>79</td>\n      <td>76</td>\n      <td>60</td>\n      <td>CDM</td>\n    </tr>\n    <tr>\n      <th>3</th>\n      <td>70</td>\n      <td>76</td>\n      <td>73</td>\n      <td>76</td>\n      <td>86</td>\n      <td>69</td>\n      <td>69</td>\n      <td>67</td>\n      <td>67</td>\n      <td>68</td>\n      <td>...</td>\n      <td>71</td>\n      <td>72</td>\n      <td>67</td>\n      <td>74</td>\n      <td>75</td>\n      <td>66</td>\n      <td>54</td>\n      <td>65</td>\n      <td>67</td>\n      <td>LB</td>\n    </tr>\n    <tr>\n      <th>4</th>\n      <td>82</td>\n      <td>84</td>\n      <td>52</td>\n      <td>85</td>\n      <td>79</td>\n      <td>87</td>\n      <td>83</td>\n      <td>77</td>\n      <td>79</td>\n      <td>86</td>\n      <td>...</td>\n      <td>80</td>\n      <td>80</td>\n      <td>32</td>\n      <td>84</td>\n      <td>83</td>\n      <td>36</td>\n      <td>63</td>\n      <td>78</td>\n      <td>70</td>\n      <td>RM</td>\n    </tr>\n  </tbody>\n</table>\n<p>5 rows × 36 columns</p>\n</div>"
     },
     "execution_count": 37,
     "metadata": {},
     "output_type": "execute_result"
    }
   ],
   "source": [
    "df = df.drop(columns=[col for col in df.columns if col in ['Name']])\n",
    "df.head()"
   ],
   "metadata": {
    "collapsed": false,
    "ExecuteTime": {
     "end_time": "2024-11-15T14:14:02.239441Z",
     "start_time": "2024-11-15T14:14:02.225050Z"
    }
   },
   "id": "bbb76d34a57fc477",
   "execution_count": 37
  },
  {
   "cell_type": "code",
   "outputs": [
    {
     "data": {
      "text/plain": "     Overall Acceleration Aggression Agility Balance Ball control Composure  \\\n333       78           89       66+7      90    90+2           79      74+1   \n430       65           79         42      65      62           64        58   \n460       74           82         67      73    80+6           74        59   \n485       64         64+5         64    60+7    63+5        56+14        56   \n496       80         80+1         59    78+1      78         77+1      75+1   \n\n    Crossing  Curve Dribbling  ... Short passing Shot power Sliding tackle  \\\n333       59   68+4        82  ...            67       77+3             15   \n430       45     49        63  ...            56         64             24   \n460       78     66        66  ...            72         58             70   \n485    61+29  58+21     54+10  ...          60+6         48             67   \n496       76   78+1      77+1  ...            76         83             30   \n\n    Sprint speed Stamina Standing tackle Strength Vision Volleys  \\\n333         89+1    73+3              20     71+3     65    69+4   \n430           77      67              24       67     57      52   \n460           79      79            74+1       53     64      54   \n485        67+12    66+9            65-3       82     30      35   \n496         83+1    82+1              38     79+1   77+1      81   \n\n    Preferred Positions  \n333                 ST   \n430                 ST   \n460                  LB  \n485                  CB  \n496                  RM  \n\n[5 rows x 36 columns]",
      "text/html": "<div>\n<style scoped>\n    .dataframe tbody tr th:only-of-type {\n        vertical-align: middle;\n    }\n\n    .dataframe tbody tr th {\n        vertical-align: top;\n    }\n\n    .dataframe thead th {\n        text-align: right;\n    }\n</style>\n<table border=\"1\" class=\"dataframe\">\n  <thead>\n    <tr style=\"text-align: right;\">\n      <th></th>\n      <th>Overall</th>\n      <th>Acceleration</th>\n      <th>Aggression</th>\n      <th>Agility</th>\n      <th>Balance</th>\n      <th>Ball control</th>\n      <th>Composure</th>\n      <th>Crossing</th>\n      <th>Curve</th>\n      <th>Dribbling</th>\n      <th>...</th>\n      <th>Short passing</th>\n      <th>Shot power</th>\n      <th>Sliding tackle</th>\n      <th>Sprint speed</th>\n      <th>Stamina</th>\n      <th>Standing tackle</th>\n      <th>Strength</th>\n      <th>Vision</th>\n      <th>Volleys</th>\n      <th>Preferred Positions</th>\n    </tr>\n  </thead>\n  <tbody>\n    <tr>\n      <th>333</th>\n      <td>78</td>\n      <td>89</td>\n      <td>66+7</td>\n      <td>90</td>\n      <td>90+2</td>\n      <td>79</td>\n      <td>74+1</td>\n      <td>59</td>\n      <td>68+4</td>\n      <td>82</td>\n      <td>...</td>\n      <td>67</td>\n      <td>77+3</td>\n      <td>15</td>\n      <td>89+1</td>\n      <td>73+3</td>\n      <td>20</td>\n      <td>71+3</td>\n      <td>65</td>\n      <td>69+4</td>\n      <td>ST</td>\n    </tr>\n    <tr>\n      <th>430</th>\n      <td>65</td>\n      <td>79</td>\n      <td>42</td>\n      <td>65</td>\n      <td>62</td>\n      <td>64</td>\n      <td>58</td>\n      <td>45</td>\n      <td>49</td>\n      <td>63</td>\n      <td>...</td>\n      <td>56</td>\n      <td>64</td>\n      <td>24</td>\n      <td>77</td>\n      <td>67</td>\n      <td>24</td>\n      <td>67</td>\n      <td>57</td>\n      <td>52</td>\n      <td>ST</td>\n    </tr>\n    <tr>\n      <th>460</th>\n      <td>74</td>\n      <td>82</td>\n      <td>67</td>\n      <td>73</td>\n      <td>80+6</td>\n      <td>74</td>\n      <td>59</td>\n      <td>78</td>\n      <td>66</td>\n      <td>66</td>\n      <td>...</td>\n      <td>72</td>\n      <td>58</td>\n      <td>70</td>\n      <td>79</td>\n      <td>79</td>\n      <td>74+1</td>\n      <td>53</td>\n      <td>64</td>\n      <td>54</td>\n      <td>LB</td>\n    </tr>\n    <tr>\n      <th>485</th>\n      <td>64</td>\n      <td>64+5</td>\n      <td>64</td>\n      <td>60+7</td>\n      <td>63+5</td>\n      <td>56+14</td>\n      <td>56</td>\n      <td>61+29</td>\n      <td>58+21</td>\n      <td>54+10</td>\n      <td>...</td>\n      <td>60+6</td>\n      <td>48</td>\n      <td>67</td>\n      <td>67+12</td>\n      <td>66+9</td>\n      <td>65-3</td>\n      <td>82</td>\n      <td>30</td>\n      <td>35</td>\n      <td>CB</td>\n    </tr>\n    <tr>\n      <th>496</th>\n      <td>80</td>\n      <td>80+1</td>\n      <td>59</td>\n      <td>78+1</td>\n      <td>78</td>\n      <td>77+1</td>\n      <td>75+1</td>\n      <td>76</td>\n      <td>78+1</td>\n      <td>77+1</td>\n      <td>...</td>\n      <td>76</td>\n      <td>83</td>\n      <td>30</td>\n      <td>83+1</td>\n      <td>82+1</td>\n      <td>38</td>\n      <td>79+1</td>\n      <td>77+1</td>\n      <td>81</td>\n      <td>RM</td>\n    </tr>\n  </tbody>\n</table>\n<p>5 rows × 36 columns</p>\n</div>"
     },
     "execution_count": 38,
     "metadata": {},
     "output_type": "execute_result"
    }
   ],
   "source": [
    "contains_plus_minus = df['Positioning'].str.contains(r'[+-]', na=False)\n",
    "rows_with_plus_minus = df[contains_plus_minus]\n",
    "rows_with_plus_minus.head()"
   ],
   "metadata": {
    "collapsed": false,
    "ExecuteTime": {
     "end_time": "2024-11-15T14:14:02.257418Z",
     "start_time": "2024-11-15T14:14:02.240408Z"
    }
   },
   "id": "13d54b43dd9e217f",
   "execution_count": 38
  },
  {
   "cell_type": "code",
   "outputs": [
    {
     "data": {
      "text/plain": "Overall                  80\nAcceleration           80+1\nAggression               59\nAgility                78+1\nBalance                  78\nBall control           77+1\nComposure              75+1\nCrossing                 76\nCurve                  78+1\nDribbling              77+1\nFinishing              81+1\nFree kick accuracy       74\nGK diving                11\nGK handling              15\nGK kicking               16\nGK positioning           12\nGK reflexes              15\nHeading accuracy       73+1\nInterceptions          37+1\nJumping                74+1\nLong passing           70+1\nLong shots               80\nMarking                  40\nPenalties              65+2\nPositioning            80+3\nReactions              73+1\nShort passing            76\nShot power               83\nSliding tackle           30\nSprint speed           83+1\nStamina                82+1\nStanding tackle          38\nStrength               79+1\nVision                 77+1\nVolleys                  81\nPreferred Positions      RM\nName: 496, dtype: object"
     },
     "execution_count": 39,
     "metadata": {},
     "output_type": "execute_result"
    }
   ],
   "source": [
    "df.loc[496]"
   ],
   "metadata": {
    "collapsed": false,
    "ExecuteTime": {
     "end_time": "2024-11-15T14:14:02.263018Z",
     "start_time": "2024-11-15T14:14:02.258885Z"
    }
   },
   "id": "4a81fd6c722536cc",
   "execution_count": 39
  },
  {
   "cell_type": "code",
   "outputs": [],
   "source": [
    "# Remove every \n",
    "def clean_plus_minus(value):\n",
    "    if isinstance(value, str):\n",
    "        return re.sub(r'[+-].*', '',value)\n",
    "    return value\n",
    "\n",
    "df = df.map(clean_plus_minus)"
   ],
   "metadata": {
    "collapsed": false,
    "ExecuteTime": {
     "end_time": "2024-11-15T14:14:03.028015Z",
     "start_time": "2024-11-15T14:14:02.263998Z"
    }
   },
   "id": "5616f1d4e50858df",
   "execution_count": 40
  },
  {
   "cell_type": "code",
   "outputs": [
    {
     "data": {
      "text/plain": "Empty DataFrame\nColumns: [Overall, Acceleration, Aggression, Agility, Balance, Ball control, Composure, Crossing, Curve, Dribbling, Finishing, Free kick accuracy, GK diving, GK handling, GK kicking, GK positioning, GK reflexes, Heading accuracy, Interceptions, Jumping, Long passing, Long shots, Marking, Penalties, Positioning, Reactions, Short passing, Shot power, Sliding tackle, Sprint speed, Stamina, Standing tackle, Strength, Vision, Volleys, Preferred Positions]\nIndex: []\n\n[0 rows x 36 columns]",
      "text/html": "<div>\n<style scoped>\n    .dataframe tbody tr th:only-of-type {\n        vertical-align: middle;\n    }\n\n    .dataframe tbody tr th {\n        vertical-align: top;\n    }\n\n    .dataframe thead th {\n        text-align: right;\n    }\n</style>\n<table border=\"1\" class=\"dataframe\">\n  <thead>\n    <tr style=\"text-align: right;\">\n      <th></th>\n      <th>Overall</th>\n      <th>Acceleration</th>\n      <th>Aggression</th>\n      <th>Agility</th>\n      <th>Balance</th>\n      <th>Ball control</th>\n      <th>Composure</th>\n      <th>Crossing</th>\n      <th>Curve</th>\n      <th>Dribbling</th>\n      <th>...</th>\n      <th>Short passing</th>\n      <th>Shot power</th>\n      <th>Sliding tackle</th>\n      <th>Sprint speed</th>\n      <th>Stamina</th>\n      <th>Standing tackle</th>\n      <th>Strength</th>\n      <th>Vision</th>\n      <th>Volleys</th>\n      <th>Preferred Positions</th>\n    </tr>\n  </thead>\n  <tbody>\n  </tbody>\n</table>\n<p>0 rows × 36 columns</p>\n</div>"
     },
     "execution_count": 41,
     "metadata": {},
     "output_type": "execute_result"
    }
   ],
   "source": [
    "# Search for + and - in Positioning column\n",
    "contains_plus_minus = df['Positioning'].str.contains(r'[+-]', na=False)\n",
    "rows_with_plus_minus = df[contains_plus_minus]\n",
    "rows_with_plus_minus.head()"
   ],
   "metadata": {
    "collapsed": false,
    "ExecuteTime": {
     "end_time": "2024-11-15T14:14:03.055750Z",
     "start_time": "2024-11-15T14:14:03.029546Z"
    }
   },
   "id": "5cbcaac1e3b93d30",
   "execution_count": 41
  },
  {
   "cell_type": "markdown",
   "source": [
    "We have now cleaned the data from + and -"
   ],
   "metadata": {
    "collapsed": false
   },
   "id": "8fa534b0b0ab38c4"
  },
  {
   "cell_type": "code",
   "outputs": [
    {
     "data": {
      "text/plain": "Overall                80\nAcceleration           80\nAggression             59\nAgility                78\nBalance                78\nBall control           77\nComposure              75\nCrossing               76\nCurve                  78\nDribbling              77\nFinishing              81\nFree kick accuracy     74\nGK diving              11\nGK handling            15\nGK kicking             16\nGK positioning         12\nGK reflexes            15\nHeading accuracy       73\nInterceptions          37\nJumping                74\nLong passing           70\nLong shots             80\nMarking                40\nPenalties              65\nPositioning            80\nReactions              73\nShort passing          76\nShot power             83\nSliding tackle         30\nSprint speed           83\nStamina                82\nStanding tackle        38\nStrength               79\nVision                 77\nVolleys                81\nPreferred Positions    RM\nName: 496, dtype: object"
     },
     "execution_count": 42,
     "metadata": {},
     "output_type": "execute_result"
    }
   ],
   "source": [
    "df.loc[496]"
   ],
   "metadata": {
    "collapsed": false,
    "ExecuteTime": {
     "end_time": "2024-11-15T14:14:03.064797Z",
     "start_time": "2024-11-15T14:14:03.057838Z"
    }
   },
   "id": "12cee8a5a7d92962",
   "execution_count": 42
  },
  {
   "cell_type": "code",
   "outputs": [
    {
     "name": "stdout",
     "output_type": "stream",
     "text": [
      "<class 'pandas.core.frame.DataFrame'>\n",
      "RangeIndex: 28816 entries, 0 to 28815\n",
      "Data columns (total 36 columns):\n",
      " #   Column               Non-Null Count  Dtype \n",
      "---  ------               --------------  ----- \n",
      " 0   Overall              28816 non-null  int64 \n",
      " 1   Acceleration         28816 non-null  object\n",
      " 2   Aggression           28816 non-null  object\n",
      " 3   Agility              28816 non-null  object\n",
      " 4   Balance              28816 non-null  object\n",
      " 5   Ball control         28816 non-null  object\n",
      " 6   Composure            28816 non-null  object\n",
      " 7   Crossing             28816 non-null  object\n",
      " 8   Curve                28816 non-null  object\n",
      " 9   Dribbling            28816 non-null  object\n",
      " 10  Finishing            28816 non-null  object\n",
      " 11  Free kick accuracy   28816 non-null  object\n",
      " 12  GK diving            28816 non-null  object\n",
      " 13  GK handling          28816 non-null  object\n",
      " 14  GK kicking           28816 non-null  object\n",
      " 15  GK positioning       28816 non-null  object\n",
      " 16  GK reflexes          28816 non-null  object\n",
      " 17  Heading accuracy     28816 non-null  object\n",
      " 18  Interceptions        28816 non-null  object\n",
      " 19  Jumping              28816 non-null  object\n",
      " 20  Long passing         28816 non-null  object\n",
      " 21  Long shots           28816 non-null  object\n",
      " 22  Marking              28816 non-null  object\n",
      " 23  Penalties            28816 non-null  object\n",
      " 24  Positioning          28816 non-null  object\n",
      " 25  Reactions            28816 non-null  object\n",
      " 26  Short passing        28816 non-null  object\n",
      " 27  Shot power           28816 non-null  object\n",
      " 28  Sliding tackle       28816 non-null  object\n",
      " 29  Sprint speed         28816 non-null  object\n",
      " 30  Stamina              28816 non-null  object\n",
      " 31  Standing tackle      28816 non-null  object\n",
      " 32  Strength             28816 non-null  object\n",
      " 33  Vision               28816 non-null  object\n",
      " 34  Volleys              28816 non-null  object\n",
      " 35  Preferred Positions  28816 non-null  object\n",
      "dtypes: int64(1), object(35)\n",
      "memory usage: 7.9+ MB\n"
     ]
    }
   ],
   "source": [
    "df.info()"
   ],
   "metadata": {
    "collapsed": false,
    "ExecuteTime": {
     "end_time": "2024-11-15T14:22:06.663261Z",
     "start_time": "2024-11-15T14:22:06.600637Z"
    }
   },
   "id": "61f4a5afad78452d",
   "execution_count": 49
  }
 ],
 "metadata": {
  "kernelspec": {
   "display_name": "Python 3",
   "language": "python",
   "name": "python3"
  },
  "language_info": {
   "codemirror_mode": {
    "name": "ipython",
    "version": 2
   },
   "file_extension": ".py",
   "mimetype": "text/x-python",
   "name": "python",
   "nbconvert_exporter": "python",
   "pygments_lexer": "ipython2",
   "version": "2.7.6"
  }
 },
 "nbformat": 4,
 "nbformat_minor": 5
}
