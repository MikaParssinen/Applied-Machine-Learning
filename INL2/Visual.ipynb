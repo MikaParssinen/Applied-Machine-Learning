{
 "cells": [
  {
   "cell_type": "code",
   "execution_count": 1,
   "id": "initial_id",
   "metadata": {
    "collapsed": true,
    "ExecuteTime": {
     "end_time": "2024-12-13T15:42:04.765187Z",
     "start_time": "2024-12-13T15:42:04.341726Z"
    }
   },
   "outputs": [
    {
     "ename": "ModuleNotFoundError",
     "evalue": "No module named 'Functions'",
     "output_type": "error",
     "traceback": [
      "\u001B[0;31m---------------------------------------------------------------------------\u001B[0m",
      "\u001B[0;31mModuleNotFoundError\u001B[0m                       Traceback (most recent call last)",
      "Cell \u001B[0;32mIn[1], line 10\u001B[0m\n\u001B[1;32m      7\u001B[0m \u001B[38;5;28;01mfrom\u001B[39;00m \u001B[38;5;21;01msklearn\u001B[39;00m\u001B[38;5;21;01m.\u001B[39;00m\u001B[38;5;21;01mdecomposition\u001B[39;00m \u001B[38;5;28;01mimport\u001B[39;00m PCA\n\u001B[1;32m      8\u001B[0m \u001B[38;5;28;01mimport\u001B[39;00m \u001B[38;5;21;01mplotly\u001B[39;00m\u001B[38;5;21;01m.\u001B[39;00m\u001B[38;5;21;01mexpress\u001B[39;00m \u001B[38;5;28;01mas\u001B[39;00m \u001B[38;5;21;01mpx\u001B[39;00m\n\u001B[0;32m---> 10\u001B[0m \u001B[38;5;28;01mfrom\u001B[39;00m \u001B[38;5;21;01mFunctions\u001B[39;00m \u001B[38;5;28;01mimport\u001B[39;00m dunn_index\n\u001B[1;32m     11\u001B[0m \u001B[38;5;28;01mfrom\u001B[39;00m \u001B[38;5;21;01mFunctions\u001B[39;00m \u001B[38;5;28;01mimport\u001B[39;00m standardize\n",
      "\u001B[0;31mModuleNotFoundError\u001B[0m: No module named 'Functions'"
     ]
    }
   ],
   "source": [
    "import pandas as pd\n",
    "\n",
    "from scipy.cluster.hierarchy import linkage, dendrogram, fcluster \n",
    "\n",
    "import matplotlib.pyplot as plt\n",
    "import seaborn as sns\n",
    "from sklearn.decomposition import PCA\n",
    "import plotly.express as px\n",
    "\n",
    "from Functions import dunn_index\n",
    "from Functions import standardize"
   ]
  },
  {
   "cell_type": "code",
   "outputs": [],
   "source": [
    "df = pd.read_csv(\"./Dataset/Clean.csv\")\n",
    "df.head()"
   ],
   "metadata": {
    "collapsed": false
   },
   "id": "e3162694b8d009bb",
   "execution_count": null
  },
  {
   "cell_type": "code",
   "outputs": [],
   "source": [
    "df = standardize(df)\n",
    "df.head()"
   ],
   "metadata": {
    "collapsed": false
   },
   "id": "1f03e2c21bdeffe0",
   "execution_count": null
  },
  {
   "cell_type": "code",
   "outputs": [],
   "source": [
    "# Perform hierarchical clustering\n",
    "linkage_matrix = linkage(df, method='ward', metric='euclidean', optimal_ordering=False)\n",
    "\n",
    "# Plot the dendrogram\n",
    "plt.figure(figsize=(10, 7))\n",
    "dendrogram(linkage_matrix, truncate_mode='lastp', p=6)\n",
    "plt.title('Hierarchical Clustering Dendrogram')\n",
    "plt.xlabel('Cluster Size')\n",
    "plt.ylabel('Distance')\n",
    "plt.show()"
   ],
   "metadata": {
    "collapsed": false
   },
   "id": "e8ba982eee2c2f44",
   "execution_count": null
  },
  {
   "cell_type": "code",
   "outputs": [],
   "source": [
    "# Cut the dendrogram, with distance threshold\n",
    "# threshold_distance = 200000\n",
    "n_clusters = 4\n",
    "clusters = fcluster(linkage_matrix, n_clusters, criterion='maxclust')\n",
    "\n",
    "# Add cluster labels\n",
    "df['Cluster'] = clusters"
   ],
   "metadata": {
    "collapsed": false
   },
   "id": "66345b0b7bdb786d",
   "execution_count": null
  },
  {
   "cell_type": "code",
   "outputs": [],
   "source": [
    "# Check the resulting clusters\n",
    "print(df[['Cluster']].head())\n",
    "print(df['Cluster'].value_counts())\n",
    "cluster_summary = df.groupby('Cluster').mean()\n",
    "\n",
    "print(cluster_summary)"
   ],
   "metadata": {
    "collapsed": false
   },
   "id": "f2abc49c13537884",
   "execution_count": null
  },
  {
   "cell_type": "code",
   "outputs": [],
   "source": [
    "cluster_summary['BALANCE'].plot(kind='bar', title='Average Balance by Cluster', figsize=(10, 6))\n",
    "plt.ylabel('Balance')\n",
    "plt.show()"
   ],
   "metadata": {
    "collapsed": false
   },
   "id": "8458f9188424fd47",
   "execution_count": null
  },
  {
   "cell_type": "code",
   "outputs": [],
   "source": [
    "plt.figure(figsize=(12, 8))\n",
    "sns.heatmap(cluster_summary.T, cmap='coolwarm', annot=True)\n",
    "plt.title('Cluster Feature Averages')\n",
    "plt.show()"
   ],
   "metadata": {
    "collapsed": false
   },
   "id": "a51796ea874624d2",
   "execution_count": null
  },
  {
   "cell_type": "code",
   "outputs": [],
   "source": [
    "dunn = dunn_index(df, clusters)\n",
    "print(f\"Dunn index: {dunn}\")"
   ],
   "metadata": {
    "collapsed": false
   },
   "id": "ea6fb8cae1ee011b",
   "execution_count": null
  },
  {
   "cell_type": "code",
   "outputs": [],
   "source": [
    "pca = PCA(n_components=3)  # Reduce to 2 dimensions for visualization\n",
    "pca_components = pca.fit_transform(df.drop(columns=['Cluster']))  # Exclude 'Cluster' column for PCA\n",
    "pca_df = pd.DataFrame(pca_components, columns=['PC1', 'PC2', 'PC3'])\n",
    "pca_df['Cluster'] = df['Cluster']  # Add the cluster labels"
   ],
   "metadata": {
    "collapsed": false
   },
   "id": "e2c96b259f01dcc3",
   "execution_count": null
  },
  {
   "cell_type": "code",
   "outputs": [],
   "source": [
    "# Step 3: Create a 3D scatter plot\n",
    "fig = plt.figure(figsize=(10, 8))\n",
    "ax = fig.add_subplot(111, projection='3d')\n",
    "scatter = ax.scatter(pca_df['PC1'], pca_df['PC2'], pca_df['PC3'], c=pca_df['Cluster'], cmap='viridis', s=100, alpha=0.7)\n",
    "ax.set_xlabel('Principal Component 1')\n",
    "ax.set_ylabel('Principal Component 2')\n",
    "ax.set_zlabel('Principal Component 3')\n",
    "plt.title('3D PCA of Clusters')\n",
    "plt.legend(*scatter.legend_elements(), title=\"Clusters\")\n",
    "plt.show()"
   ],
   "metadata": {
    "collapsed": false
   },
   "id": "e179f7a8451a038f",
   "execution_count": null
  },
  {
   "cell_type": "code",
   "outputs": [],
   "source": [
    "pca = PCA(n_components=3) \n",
    "pca_components = pca.fit_transform(df.drop(columns=['Cluster']))  # Remove 'Cluster' column for PCA\n",
    "\n",
    "# Create a DataFrame with PCA components and cluster labels\n",
    "pca_df = pd.DataFrame(pca_components, columns=['PC1', 'PC2', 'PC3'])\n",
    "pca_df['Cluster'] = df['Cluster']  # Add the cluster labels\n",
    "\n",
    "# Create the 3D scatter plot\n",
    "fig = px.scatter_3d(pca_df, x='PC1', y='PC2', z='PC3', color='Cluster', title=\"3D PCA of Clusters\",\n",
    "                    labels={'PC1': 'PC 1', 'PC2': 'PC 2', 'PC3': 'PC 3'},\n",
    "                    color_continuous_scale='viridis')\n",
    "fig.update_layout(\n",
    "    width=800,\n",
    "    height=600,  \n",
    "    autosize=True,  \n",
    ")\n",
    "\n",
    "fig.show()"
   ],
   "metadata": {
    "collapsed": false
   },
   "id": "ca06a058ca235ae2",
   "execution_count": null
  }
 ],
 "metadata": {
  "kernelspec": {
   "display_name": "Python 3",
   "language": "python",
   "name": "python3"
  },
  "language_info": {
   "codemirror_mode": {
    "name": "ipython",
    "version": 2
   },
   "file_extension": ".py",
   "mimetype": "text/x-python",
   "name": "python",
   "nbconvert_exporter": "python",
   "pygments_lexer": "ipython2",
   "version": "2.7.6"
  }
 },
 "nbformat": 4,
 "nbformat_minor": 5
}
