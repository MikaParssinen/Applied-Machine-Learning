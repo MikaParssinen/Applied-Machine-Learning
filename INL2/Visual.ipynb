{
 "cells": [
  {
   "cell_type": "code",
   "execution_count": 15,
   "id": "initial_id",
   "metadata": {
    "collapsed": true,
    "ExecuteTime": {
     "end_time": "2024-12-11T12:11:15.010911Z",
     "start_time": "2024-12-11T12:11:14.996533Z"
    }
   },
   "outputs": [],
   "source": [
    "import pandas as pd\n",
    "from Functions import standardize"
   ]
  },
  {
   "cell_type": "code",
   "outputs": [
    {
     "data": {
      "text/plain": "       BALANCE  BALANCE_FREQUENCY  PURCHASES  ONEOFF_PURCHASES  \\\n0    40.900749           0.818182      95.40              0.00   \n1  3202.467416           0.909091       0.00              0.00   \n2  2495.148862           1.000000     773.17            773.17   \n3   817.714335           1.000000      16.00             16.00   \n4  1809.828751           1.000000    1333.28              0.00   \n\n   INSTALLMENTS_PURCHASES  CASH_ADVANCE  PURCHASES_FREQUENCY  \\\n0                   95.40      0.000000             0.166667   \n1                    0.00   6442.945483             0.000000   \n2                    0.00      0.000000             1.000000   \n3                    0.00      0.000000             0.083333   \n4                 1333.28      0.000000             0.666667   \n\n   ONEOFF_PURCHASES_FREQUENCY  PURCHASES_INSTALLMENTS_FREQUENCY  \\\n0                    0.000000                          0.083333   \n1                    0.000000                          0.000000   \n2                    1.000000                          0.000000   \n3                    0.083333                          0.000000   \n4                    0.000000                          0.583333   \n\n   CASH_ADVANCE_FREQUENCY  CASH_ADVANCE_TRX  PURCHASES_TRX  CREDIT_LIMIT  \\\n0                    0.00               0.0            2.0        1000.0   \n1                    0.25               4.0            0.0        7000.0   \n2                    0.00               0.0           12.0        7500.0   \n3                    0.00               0.0            1.0        1200.0   \n4                    0.00               0.0            8.0        1800.0   \n\n      PAYMENTS  MINIMUM_PAYMENTS  PRC_FULL_PAYMENT  \n0   201.802084        139.509787          0.000000  \n1  4103.032597       1072.340217          0.222222  \n2   622.066742        627.284787          0.000000  \n3   678.334763        244.791237          0.000000  \n4  1400.057770       2407.246035          0.000000  ",
      "text/html": "<div>\n<style scoped>\n    .dataframe tbody tr th:only-of-type {\n        vertical-align: middle;\n    }\n\n    .dataframe tbody tr th {\n        vertical-align: top;\n    }\n\n    .dataframe thead th {\n        text-align: right;\n    }\n</style>\n<table border=\"1\" class=\"dataframe\">\n  <thead>\n    <tr style=\"text-align: right;\">\n      <th></th>\n      <th>BALANCE</th>\n      <th>BALANCE_FREQUENCY</th>\n      <th>PURCHASES</th>\n      <th>ONEOFF_PURCHASES</th>\n      <th>INSTALLMENTS_PURCHASES</th>\n      <th>CASH_ADVANCE</th>\n      <th>PURCHASES_FREQUENCY</th>\n      <th>ONEOFF_PURCHASES_FREQUENCY</th>\n      <th>PURCHASES_INSTALLMENTS_FREQUENCY</th>\n      <th>CASH_ADVANCE_FREQUENCY</th>\n      <th>CASH_ADVANCE_TRX</th>\n      <th>PURCHASES_TRX</th>\n      <th>CREDIT_LIMIT</th>\n      <th>PAYMENTS</th>\n      <th>MINIMUM_PAYMENTS</th>\n      <th>PRC_FULL_PAYMENT</th>\n    </tr>\n  </thead>\n  <tbody>\n    <tr>\n      <th>0</th>\n      <td>40.900749</td>\n      <td>0.818182</td>\n      <td>95.40</td>\n      <td>0.00</td>\n      <td>95.40</td>\n      <td>0.000000</td>\n      <td>0.166667</td>\n      <td>0.000000</td>\n      <td>0.083333</td>\n      <td>0.00</td>\n      <td>0.0</td>\n      <td>2.0</td>\n      <td>1000.0</td>\n      <td>201.802084</td>\n      <td>139.509787</td>\n      <td>0.000000</td>\n    </tr>\n    <tr>\n      <th>1</th>\n      <td>3202.467416</td>\n      <td>0.909091</td>\n      <td>0.00</td>\n      <td>0.00</td>\n      <td>0.00</td>\n      <td>6442.945483</td>\n      <td>0.000000</td>\n      <td>0.000000</td>\n      <td>0.000000</td>\n      <td>0.25</td>\n      <td>4.0</td>\n      <td>0.0</td>\n      <td>7000.0</td>\n      <td>4103.032597</td>\n      <td>1072.340217</td>\n      <td>0.222222</td>\n    </tr>\n    <tr>\n      <th>2</th>\n      <td>2495.148862</td>\n      <td>1.000000</td>\n      <td>773.17</td>\n      <td>773.17</td>\n      <td>0.00</td>\n      <td>0.000000</td>\n      <td>1.000000</td>\n      <td>1.000000</td>\n      <td>0.000000</td>\n      <td>0.00</td>\n      <td>0.0</td>\n      <td>12.0</td>\n      <td>7500.0</td>\n      <td>622.066742</td>\n      <td>627.284787</td>\n      <td>0.000000</td>\n    </tr>\n    <tr>\n      <th>3</th>\n      <td>817.714335</td>\n      <td>1.000000</td>\n      <td>16.00</td>\n      <td>16.00</td>\n      <td>0.00</td>\n      <td>0.000000</td>\n      <td>0.083333</td>\n      <td>0.083333</td>\n      <td>0.000000</td>\n      <td>0.00</td>\n      <td>0.0</td>\n      <td>1.0</td>\n      <td>1200.0</td>\n      <td>678.334763</td>\n      <td>244.791237</td>\n      <td>0.000000</td>\n    </tr>\n    <tr>\n      <th>4</th>\n      <td>1809.828751</td>\n      <td>1.000000</td>\n      <td>1333.28</td>\n      <td>0.00</td>\n      <td>1333.28</td>\n      <td>0.000000</td>\n      <td>0.666667</td>\n      <td>0.000000</td>\n      <td>0.583333</td>\n      <td>0.00</td>\n      <td>0.0</td>\n      <td>8.0</td>\n      <td>1800.0</td>\n      <td>1400.057770</td>\n      <td>2407.246035</td>\n      <td>0.000000</td>\n    </tr>\n  </tbody>\n</table>\n</div>"
     },
     "execution_count": 16,
     "metadata": {},
     "output_type": "execute_result"
    }
   ],
   "source": [
    "df = pd.read_csv(\"./Dataset/Clean.csv\")\n",
    "df.head()"
   ],
   "metadata": {
    "collapsed": false,
    "ExecuteTime": {
     "end_time": "2024-12-11T12:11:15.066612Z",
     "start_time": "2024-12-11T12:11:15.012811Z"
    }
   },
   "id": "e3162694b8d009bb",
   "execution_count": 16
  },
  {
   "cell_type": "code",
   "outputs": [
    {
     "data": {
      "text/plain": "    BALANCE  BALANCE_FREQUENCY  PURCHASES  ONEOFF_PURCHASES  \\\n0 -0.744625          -0.370047  -0.429184         -0.359160   \n1  0.764152           0.067679  -0.473208         -0.359160   \n2  0.426602           0.505405  -0.116413          0.099909   \n3 -0.373910           0.505405  -0.465825         -0.349660   \n4  0.099551           0.505405   0.142062         -0.359160   \n\n   INSTALLMENTS_PURCHASES  CASH_ADVANCE  PURCHASES_FREQUENCY  \\\n0               -0.354826     -0.468655            -0.820769   \n1               -0.458839      2.568556            -1.236139   \n2               -0.458839     -0.468655             1.256077   \n3               -0.458839     -0.468655            -1.028455   \n4                0.994815     -0.468655             0.425339   \n\n   ONEOFF_PURCHASES_FREQUENCY  PURCHASES_INSTALLMENTS_FREQUENCY  \\\n0                   -0.686280                         -0.717179   \n1                   -0.686280                         -0.926522   \n2                    2.646651                         -0.926522   \n3                   -0.408536                         -0.926522   \n4                   -0.686280                          0.538882   \n\n   CASH_ADVANCE_FREQUENCY  CASH_ADVANCE_TRX  PURCHASES_TRX  CREDIT_LIMIT  \\\n0               -0.681953         -0.479437      -0.517623     -0.962575   \n1                0.557022          0.099258      -0.597054      0.677204   \n2               -0.681953         -0.479437      -0.120467      0.813852   \n3               -0.681953         -0.479437      -0.557339     -0.907916   \n4               -0.681953         -0.479437      -0.279329     -0.743938   \n\n   PAYMENTS  MINIMUM_PAYMENTS  PRC_FULL_PAYMENT  \n0 -0.543942         -0.305508         -0.537727  \n1  0.796852          0.087689          0.212380  \n2 -0.399503         -0.099906         -0.537727  \n3 -0.380165         -0.261131         -0.537727  \n4 -0.132119          0.650363         -0.537727  ",
      "text/html": "<div>\n<style scoped>\n    .dataframe tbody tr th:only-of-type {\n        vertical-align: middle;\n    }\n\n    .dataframe tbody tr th {\n        vertical-align: top;\n    }\n\n    .dataframe thead th {\n        text-align: right;\n    }\n</style>\n<table border=\"1\" class=\"dataframe\">\n  <thead>\n    <tr style=\"text-align: right;\">\n      <th></th>\n      <th>BALANCE</th>\n      <th>BALANCE_FREQUENCY</th>\n      <th>PURCHASES</th>\n      <th>ONEOFF_PURCHASES</th>\n      <th>INSTALLMENTS_PURCHASES</th>\n      <th>CASH_ADVANCE</th>\n      <th>PURCHASES_FREQUENCY</th>\n      <th>ONEOFF_PURCHASES_FREQUENCY</th>\n      <th>PURCHASES_INSTALLMENTS_FREQUENCY</th>\n      <th>CASH_ADVANCE_FREQUENCY</th>\n      <th>CASH_ADVANCE_TRX</th>\n      <th>PURCHASES_TRX</th>\n      <th>CREDIT_LIMIT</th>\n      <th>PAYMENTS</th>\n      <th>MINIMUM_PAYMENTS</th>\n      <th>PRC_FULL_PAYMENT</th>\n    </tr>\n  </thead>\n  <tbody>\n    <tr>\n      <th>0</th>\n      <td>-0.744625</td>\n      <td>-0.370047</td>\n      <td>-0.429184</td>\n      <td>-0.359160</td>\n      <td>-0.354826</td>\n      <td>-0.468655</td>\n      <td>-0.820769</td>\n      <td>-0.686280</td>\n      <td>-0.717179</td>\n      <td>-0.681953</td>\n      <td>-0.479437</td>\n      <td>-0.517623</td>\n      <td>-0.962575</td>\n      <td>-0.543942</td>\n      <td>-0.305508</td>\n      <td>-0.537727</td>\n    </tr>\n    <tr>\n      <th>1</th>\n      <td>0.764152</td>\n      <td>0.067679</td>\n      <td>-0.473208</td>\n      <td>-0.359160</td>\n      <td>-0.458839</td>\n      <td>2.568556</td>\n      <td>-1.236139</td>\n      <td>-0.686280</td>\n      <td>-0.926522</td>\n      <td>0.557022</td>\n      <td>0.099258</td>\n      <td>-0.597054</td>\n      <td>0.677204</td>\n      <td>0.796852</td>\n      <td>0.087689</td>\n      <td>0.212380</td>\n    </tr>\n    <tr>\n      <th>2</th>\n      <td>0.426602</td>\n      <td>0.505405</td>\n      <td>-0.116413</td>\n      <td>0.099909</td>\n      <td>-0.458839</td>\n      <td>-0.468655</td>\n      <td>1.256077</td>\n      <td>2.646651</td>\n      <td>-0.926522</td>\n      <td>-0.681953</td>\n      <td>-0.479437</td>\n      <td>-0.120467</td>\n      <td>0.813852</td>\n      <td>-0.399503</td>\n      <td>-0.099906</td>\n      <td>-0.537727</td>\n    </tr>\n    <tr>\n      <th>3</th>\n      <td>-0.373910</td>\n      <td>0.505405</td>\n      <td>-0.465825</td>\n      <td>-0.349660</td>\n      <td>-0.458839</td>\n      <td>-0.468655</td>\n      <td>-1.028455</td>\n      <td>-0.408536</td>\n      <td>-0.926522</td>\n      <td>-0.681953</td>\n      <td>-0.479437</td>\n      <td>-0.557339</td>\n      <td>-0.907916</td>\n      <td>-0.380165</td>\n      <td>-0.261131</td>\n      <td>-0.537727</td>\n    </tr>\n    <tr>\n      <th>4</th>\n      <td>0.099551</td>\n      <td>0.505405</td>\n      <td>0.142062</td>\n      <td>-0.359160</td>\n      <td>0.994815</td>\n      <td>-0.468655</td>\n      <td>0.425339</td>\n      <td>-0.686280</td>\n      <td>0.538882</td>\n      <td>-0.681953</td>\n      <td>-0.479437</td>\n      <td>-0.279329</td>\n      <td>-0.743938</td>\n      <td>-0.132119</td>\n      <td>0.650363</td>\n      <td>-0.537727</td>\n    </tr>\n  </tbody>\n</table>\n</div>"
     },
     "execution_count": 17,
     "metadata": {},
     "output_type": "execute_result"
    }
   ],
   "source": [
    "df_standard = standardize(df)\n",
    "df_standard.head()"
   ],
   "metadata": {
    "collapsed": false,
    "ExecuteTime": {
     "end_time": "2024-12-11T12:11:15.080418Z",
     "start_time": "2024-12-11T12:11:15.067419Z"
    }
   },
   "id": "1f03e2c21bdeffe0",
   "execution_count": 17
  }
 ],
 "metadata": {
  "kernelspec": {
   "display_name": "Python 3",
   "language": "python",
   "name": "python3"
  },
  "language_info": {
   "codemirror_mode": {
    "name": "ipython",
    "version": 2
   },
   "file_extension": ".py",
   "mimetype": "text/x-python",
   "name": "python",
   "nbconvert_exporter": "python",
   "pygments_lexer": "ipython2",
   "version": "2.7.6"
  }
 },
 "nbformat": 4,
 "nbformat_minor": 5
}
