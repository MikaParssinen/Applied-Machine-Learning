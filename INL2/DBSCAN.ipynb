{
 "cells": [
  {
   "cell_type": "code",
   "id": "initial_id",
   "metadata": {
    "collapsed": true,
    "ExecuteTime": {
     "end_time": "2024-12-14T14:27:21.980420Z",
     "start_time": "2024-12-14T14:27:21.030787Z"
    }
   },
   "source": [
    "import pandas as pd\n",
    "\n",
    "from sklearn.cluster import DBSCAN\n",
    "import Functions"
   ],
   "outputs": [],
   "execution_count": 2
  },
  {
   "metadata": {
    "ExecuteTime": {
     "end_time": "2024-12-14T14:29:16.737042Z",
     "start_time": "2024-12-14T14:29:16.433011Z"
    }
   },
   "cell_type": "code",
   "source": [
    "# Load data and standardize\n",
    "raw_df = pd.read_csv(\"./Dataset/Clean.csv\")\n",
    "scaled_df = Functions.standardize(raw_df)"
   ],
   "id": "5f57a35b7e04d5ce",
   "outputs": [
    {
     "name": "stdout",
     "output_type": "stream",
     "text": [
      "5\n"
     ]
    }
   ],
   "execution_count": 10
  },
  {
   "metadata": {
    "ExecuteTime": {
     "end_time": "2024-12-14T15:01:18.295224Z",
     "start_time": "2024-12-14T15:01:18.030686Z"
    }
   },
   "cell_type": "code",
   "source": [
    "db = DBSCAN(eps=0.05, min_samples=17).fit(scaled_df)\n",
    "labels = db.labels_\n",
    "number_of_clusters = len(set(labels)) - (1 if -1 in labels else 0)\n",
    "label_counts = pd.Series(labels).value_counts()\n",
    "\n",
    "print(label_counts)"
   ],
   "id": "12dde7e7559e4c5e",
   "outputs": [
    {
     "name": "stdout",
     "output_type": "stream",
     "text": [
      "-1    8636\n",
      "Name: count, dtype: int64\n"
     ]
    }
   ],
   "execution_count": 24
  },
  {
   "metadata": {},
   "cell_type": "code",
   "outputs": [],
   "execution_count": null,
   "source": [
    "# Find silhouette scores for different amount of clusters\n",
    "n_range = [*range(2,13)]\n",
    "silhouette_scores = Functions.generate_silhouette_scores(n_range, scaled_df, \"agglomerative\")"
   ],
   "id": "ac9217bc166d5b09"
  },
  {
   "metadata": {},
   "cell_type": "code",
   "outputs": [],
   "execution_count": null,
   "source": [
    "# Plot showing silhouette scores\n",
    "Functions.bar_plot(n_range, silhouette_scores, \"Number of clusters\", \"Silhouette score\", size=(8,4))"
   ],
   "id": "e27a1a9a53a39279"
  }
 ],
 "metadata": {
  "kernelspec": {
   "display_name": "Python 3",
   "language": "python",
   "name": "python3"
  },
  "language_info": {
   "codemirror_mode": {
    "name": "ipython",
    "version": 2
   },
   "file_extension": ".py",
   "mimetype": "text/x-python",
   "name": "python",
   "nbconvert_exporter": "python",
   "pygments_lexer": "ipython2",
   "version": "2.7.6"
  }
 },
 "nbformat": 4,
 "nbformat_minor": 5
}
